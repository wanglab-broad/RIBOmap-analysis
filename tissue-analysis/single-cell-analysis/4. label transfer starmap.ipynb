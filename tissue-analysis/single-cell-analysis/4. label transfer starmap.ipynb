{
 "cells": [
  {
   "cell_type": "markdown",
   "id": "b810d08e-6205-4329-ac96-d5a4aec820b0",
   "metadata": {},
   "source": [
    "# Label transfer"
   ]
  },
  {
   "cell_type": "markdown",
   "id": "7032af1e-73b7-4e2d-8fe5-962667287606",
   "metadata": {},
   "source": [
    "2022-11-10"
   ]
  },
  {
   "cell_type": "code",
   "execution_count": null,
   "id": "bca29682-497e-4df9-936c-e757449b968d",
   "metadata": {},
   "outputs": [],
   "source": [
    "# Import Packages\n",
    "\n",
    "%load_ext autoreload\n",
    "%autoreload 2\n",
    "\n",
    "import os\n",
    "import warnings \n",
    "warnings.filterwarnings('ignore')\n",
    "import numpy as np\n",
    "import pandas as pd\n",
    "import scanpy as sc\n",
    "import seaborn as sns\n",
    "import anndata as ad\n",
    "import matplotlib.pyplot as plt\n",
    "from matplotlib.colors import ListedColormap\n",
    "from anndata import AnnData\n",
    "from natsort import natsorted\n",
    "from tqdm.notebook import tqdm\n",
    "\n",
    "# Customized packages\n",
    "import starmap.sc_util as su\n",
    "# test()"
   ]
  },
  {
   "cell_type": "markdown",
   "id": "12d300a0-cc6e-4da6-b17b-bece5329ecfa",
   "metadata": {
    "tags": []
   },
   "source": [
    "## Set path"
   ]
  },
  {
   "cell_type": "code",
   "execution_count": null,
   "id": "704fc7dc-4d2a-45b2-b611-27d9a6fbcf13",
   "metadata": {},
   "outputs": [],
   "source": [
    "# Set path\n",
    "base_path = 'Z:/Data/Analyzed/2022-09-05-Hu-Tissue/'\n",
    "\n",
    "input_path = os.path.join(base_path, 'input')\n",
    "\n",
    "out_path = os.path.join(base_path, 'output')\n",
    "if not os.path.exists(out_path):\n",
    "    os.mkdir(out_path)\n",
    "    \n",
    "fig_path = os.path.join(base_path, 'figures')\n",
    "if not os.path.exists(fig_path):\n",
    "    os.mkdir(fig_path)\n",
    "\n",
    "sc.settings.figdir = fig_path"
   ]
  },
  {
   "cell_type": "code",
   "execution_count": null,
   "id": "0874332c-6cf0-4d41-a63e-38d7382a4e3f",
   "metadata": {
    "tags": []
   },
   "outputs": [],
   "source": [
    "# laod combined file\n",
    "cdata = sc.read_h5ad(os.path.join(out_path, '2022-10-23-Brain-combined-3mad-harmony.h5ad'))\n",
    "cdata"
   ]
  },
  {
   "cell_type": "code",
   "execution_count": null,
   "id": "dbf7205b-ea99-4392-814a-2c78d8bccf44",
   "metadata": {},
   "outputs": [],
   "source": [
    "# laod ribomap file\n",
    "rdata = sc.read_h5ad(os.path.join(out_path, '2022-11-13-Brain-RIBOmap-3mad-ct-final.h5ad'))\n",
    "rdata"
   ]
  },
  {
   "cell_type": "code",
   "execution_count": null,
   "id": "146a8ab8-7dab-4150-8096-2d9ca2d2cb86",
   "metadata": {},
   "outputs": [],
   "source": [
    "cdata.obs['protocol'].value_counts()"
   ]
  },
  {
   "cell_type": "markdown",
   "id": "ffa6f4d9-1bb6-4df5-9cf2-e1e5b73a4311",
   "metadata": {},
   "source": [
    "## Copy ribo label"
   ]
  },
  {
   "cell_type": "code",
   "execution_count": null,
   "id": "88614949-356c-4307-97a3-a516949f04c2",
   "metadata": {},
   "outputs": [],
   "source": [
    "cdata.obs['level_1'] = 'NA'\n",
    "cdata.obs['level_2'] = 'NA'\n",
    "cdata.obs['level_3'] = 'NA'\n",
    "\n",
    "cdata.obs.loc[cdata.obs['protocol'] == 'RIBOmap', 'level_1'] = rdata.obs['level_1'].values\n",
    "cdata.obs.loc[cdata.obs['protocol'] == 'RIBOmap', 'level_2'] = rdata.obs['level_2'].values\n",
    "cdata.obs.loc[cdata.obs['protocol'] == 'RIBOmap', 'level_3'] = rdata.obs['level_3'].values"
   ]
  },
  {
   "cell_type": "code",
   "execution_count": null,
   "id": "fde9fab4-d8c6-4c37-aa10-0ad8aa32e7dd",
   "metadata": {},
   "outputs": [],
   "source": [
    "# reclassify starmap cells \n",
    "ref_cells = cdata.obs.loc[cdata.obs['protocol'] == 'RIBOmap', :].index\n",
    "query_cells = cdata.obs.loc[cdata.obs['protocol'] == 'STARmap', :].index\n",
    "\n",
    "ref_cell_loc = cdata[ref_cells, :].obsm['X_umap']\n",
    "query_cell_loc = cdata[query_cells, :].obsm['X_umap']\n",
    "\n",
    "ref_cell_annot = cdata.obs.loc[ref_cells, 'level_3'].values"
   ]
  },
  {
   "cell_type": "code",
   "execution_count": null,
   "id": "c1ae9c5a-6894-4fc5-91b0-29e3a0dcbd7f",
   "metadata": {},
   "outputs": [],
   "source": [
    "from sklearn.neighbors import KNeighborsClassifier\n",
    "neigh = KNeighborsClassifier(n_neighbors=100)\n",
    "neigh.fit(ref_cell_loc, ref_cell_annot)\n",
    "query_cell_predicted = neigh.predict(query_cell_loc)"
   ]
  },
  {
   "cell_type": "code",
   "execution_count": null,
   "id": "d29a5e34-9537-4308-a7d4-fbbf19e84bfe",
   "metadata": {},
   "outputs": [],
   "source": [
    "# update to adata\n",
    "cdata.obs.loc[query_cells, 'level_3'] = query_cell_predicted"
   ]
  },
  {
   "cell_type": "code",
   "execution_count": null,
   "id": "ec5a80fa-ad0b-4587-bd8d-e3309368c532",
   "metadata": {},
   "outputs": [],
   "source": [
    "# Check color legend (old coloring scheme)\n",
    "\n",
    "level_2_order = ['Telencephalon projecting neurons', #0\n",
    "                'Telencephalon interneurons', #1 \n",
    "                'Cholinergic, monoaminergic and peptidergic neurons', #2\n",
    "                'Di/Mesencephalon neurons', #3\n",
    "                'Astrocyte', #4\n",
    "                'Oligodendrocyte', #5\n",
    "                'Oligodendrocytes precursor cell', #6\n",
    "                'Microglia', #7\n",
    "                'Vascular cells', #8\n",
    "                'Astroependymal cells', #9\n",
    "                'Perivascular macrophages', #10   \n",
    "                 'Mix'\n",
    "]\n",
    "\n",
    "level_2_colors = ['#256b00', \n",
    "                  '#ee750a', \n",
    "                  '#f280cf', \n",
    "                  '#f24f4b', \n",
    "                  '#e8e879', \n",
    "                  '#a8e1eb', \n",
    "                  '#667872', \n",
    "                  '#23ccb8', \n",
    "                  '#395ba8', \n",
    "                  '#697491',\n",
    "                  '#8803fc',\n",
    "                  '#ebebeb'\n",
    "                 ]\n",
    "level_2_pl = sns.color_palette(level_2_colors)\n",
    "sns.palplot(level_2_pl, size=3)\n",
    "plt.xticks(range(len(level_2_order)), level_2_order, size=10, rotation=45)\n",
    "plt.tight_layout()\n",
    "# plt.savefig(f'./figures/color_legend_top.png')\n",
    "plt.show()\n",
    "\n",
    "cdata.obs['level_2'] = cdata.obs['level_2'].astype(object)\n",
    "cdata.obs['level_2'] = cdata.obs['level_2'].astype('category')\n",
    "cdata.obs['level_2'] = cdata.obs['level_2'].cat.reorder_categories(level_2_order)"
   ]
  },
  {
   "cell_type": "code",
   "execution_count": null,
   "id": "8c895881-547b-45c5-96d9-bbe004473ce4",
   "metadata": {},
   "outputs": [],
   "source": [
    "fig, ax = plt.subplots(figsize=(7,5))\n",
    "ax = sc.pl.umap(cdata, show=False, color=None, alpha=1, size=(120000 / cdata.n_obs), ax=ax, title='', palette=sns.color_palette(['#fafafa']))\n",
    "sc.pl.umap(cdata[cdata.obs['protocol'] == 'RIBOmap'], color='level_2', frameon=True, ax=ax, legend_loc='right margin', size=(120000 / cdata.n_obs),\n",
    "       title='', show=False, palette=level_2_pl)"
   ]
  },
  {
   "cell_type": "code",
   "execution_count": null,
   "id": "ba3faa57-d0bb-46ee-842f-86f4653e0fb3",
   "metadata": {},
   "outputs": [],
   "source": [
    "fig, ax = plt.subplots(figsize=(7,5))\n",
    "ax = sc.pl.umap(cdata, show=False, color=None, alpha=1, size=(120000 / cdata.n_obs), ax=ax, title='', palette=sns.color_palette(['#fafafa']))\n",
    "sc.pl.umap(cdata[cdata.obs['protocol'] == 'STARmap'], color='level_2', frameon=True, ax=ax, legend_loc='right margin', size=(120000 / cdata.n_obs),\n",
    "       title='', show=False, palette=level_2_pl)"
   ]
  },
  {
   "cell_type": "code",
   "execution_count": null,
   "id": "56fef3b8-6e55-4fb7-b287-c3df01df51bc",
   "metadata": {},
   "outputs": [],
   "source": [
    "# check cluster distribution\n",
    "import matplotlib.patches as mpatches\n",
    "leiden_df = pd.DataFrame(cdata.obs.groupby('level_2')['protocol-replicate'].value_counts().values)\n",
    "leiden_df.columns = ['counts']\n",
    "leiden_df['level_2'] = [i[0] for i in cdata.obs.groupby('level_2')['protocol-replicate'].value_counts().index]\n",
    "leiden_df['protocol-replicate'] = [i[1] for i in cdata.obs.groupby('level_2')['protocol-replicate'].value_counts().index]\n",
    "sum_counts = leiden_df.groupby('level_2')['counts'].sum().to_dict()\n",
    "leiden_df['percentage'] = [leiden_df.loc[i, 'counts'] / sum_counts[leiden_df.loc[i, 'level_2']] * 100 for i in range(leiden_df.shape[0])]\n",
    "\n",
    "s_df = leiden_df.loc[leiden_df['protocol-replicate'] == 'STARmap-rep3', :]\n",
    "s_df['percentage'] = 100\n",
    "r_df = leiden_df.loc[leiden_df['protocol-replicate'] == 'RIBOmap-rep3', :]\n",
    "r_2_df = leiden_df.loc[leiden_df['protocol-replicate'] == 'RIBOmap-rep2', :]\n",
    "r_2_df['percentage'] = r_2_df['percentage'].values + r_df['percentage'].values\n",
    "\n",
    "fig, ax = plt.subplots(figsize=(15, 10))\n",
    "bar1 = sns.barplot(x=\"level_2\",  y=\"percentage\", data=s_df, color='#fcad03')\n",
    "bar2 = sns.barplot(x=\"level_2\", y=\"percentage\", data=r_2_df, color='#03fc35')\n",
    "bar2 = sns.barplot(x=\"level_2\", y=\"percentage\", data=r_df, color='#035efc')\n",
    "\n",
    "# add legend\n",
    "top_bar = mpatches.Patch(color='#fcad03', label='STARmap-rep3')\n",
    "middle_bar = mpatches.Patch(color='#035efc', label='RIBOmap-rep3')\n",
    "bottom_bar = mpatches.Patch(color='#03fc35', label='RIBOmap-rep2')\n",
    "plt.legend(handles=[top_bar, middle_bar, bottom_bar])\n",
    "\n",
    "# show the graph\n",
    "plt.xticks(rotation=45)\n",
    "plt.show()"
   ]
  },
  {
   "cell_type": "code",
   "execution_count": null,
   "id": "f370a9cf-fbce-49fc-9bca-46204097a157",
   "metadata": {},
   "outputs": [],
   "source": [
    "fig, ax = plt.subplots(figsize=(12, 5))\n",
    "sns.barplot(x='level_2', y='percentage', hue='protocol-replicate', data=leiden_df)\n",
    "plt.xticks(rotation=45)\n",
    "plt.show()"
   ]
  },
  {
   "cell_type": "code",
   "execution_count": null,
   "id": "1be94790-e8fc-4afd-9a18-3d2698043e32",
   "metadata": {},
   "outputs": [],
   "source": [
    "current_sample = 'RIBOmap-rep3'\n",
    "\n",
    "fig, ax = plt.subplots(figsize=(15, 20))\n",
    "g = sns.scatterplot(x='column', y='row', hue='level_2', legend=None,\n",
    "                    palette=level_2_pl,\n",
    "                    data=cdata.obs.loc[cdata.obs['protocol-replicate'] == current_sample, :], \n",
    "                    s=10,\n",
    "                    ax=ax)\n",
    "g.set_title(current_sample)\n",
    "g.invert_yaxis()\n",
    "g.axes.xaxis.set_visible(False)\n",
    "g.axes.yaxis.set_visible(False)\n",
    "plt.show()\n",
    "# plt.savefig(os.path.join(fig_path, f'{current_sample}-level2-spatial-map.png'))"
   ]
  },
  {
   "cell_type": "code",
   "execution_count": null,
   "id": "6550e743-e09d-465e-8581-6c653dd2d05c",
   "metadata": {},
   "outputs": [],
   "source": [
    "current_sample = 'RIBOmap-rep2'\n",
    "\n",
    "fig, ax = plt.subplots(figsize=(15, 20))\n",
    "g = sns.scatterplot(x='column', y='row', hue='level_2', legend=None,\n",
    "                    palette=level_2_pl,\n",
    "                    data=cdata.obs.loc[cdata.obs['protocol-replicate'] == current_sample, :], \n",
    "                    s=10,\n",
    "                    ax=ax)\n",
    "g.set_title(current_sample)\n",
    "g.invert_xaxis()\n",
    "g.axes.xaxis.set_visible(False)\n",
    "g.axes.yaxis.set_visible(False)\n",
    "plt.show()\n",
    "# plt.savefig(os.path.join(fig_path, f'{current_sample}-level2-spatial-map.png'))"
   ]
  },
  {
   "cell_type": "code",
   "execution_count": null,
   "id": "527ac069-54b7-4d9b-a951-36cb88f389bf",
   "metadata": {},
   "outputs": [],
   "source": [
    "current_sample = 'STARmap-rep3'\n",
    "\n",
    "fig, ax = plt.subplots(figsize=(15, 20))\n",
    "g = sns.scatterplot(x='column', y='row', hue='level_2', legend=None,\n",
    "                    palette=level_2_pl,\n",
    "                    data=cdata.obs.loc[cdata.obs['protocol-replicate'] == current_sample, :], \n",
    "                    s=10,\n",
    "                    ax=ax)\n",
    "g.set_title(current_sample)\n",
    "g.invert_yaxis()\n",
    "g.axes.xaxis.set_visible(False)\n",
    "g.axes.yaxis.set_visible(False)\n",
    "plt.show()\n",
    "# plt.savefig(os.path.join(fig_path, f'{current_sample}-level2-spatial-map.png'))"
   ]
  },
  {
   "cell_type": "code",
   "execution_count": null,
   "id": "b31bd535-296e-4504-94f5-6676a4cd9188",
   "metadata": {},
   "outputs": [],
   "source": [
    "# backup \n",
    "from datetime import datetime\n",
    "date = datetime.today().strftime('%Y-%m-%d')\n",
    "cdata.write_h5ad(f\"{out_path}/{date}-Brain-combined-3mad-ct-final.h5ad\")"
   ]
  },
  {
   "cell_type": "markdown",
   "id": "b5d15051-c1ad-418d-a069-17ed30faa26b",
   "metadata": {},
   "source": [
    "## Copy region label "
   ]
  },
  {
   "cell_type": "code",
   "execution_count": null,
   "id": "d2167b41-37a4-4ca8-97e0-d823b6e1c6cb",
   "metadata": {},
   "outputs": [],
   "source": [
    "# laod combined file\n",
    "cdata = sc.read_h5ad(os.path.join(out_path, '2022-11-13-Brain-combined-3mad-ct-final.h5ad'))\n",
    "cdata"
   ]
  },
  {
   "cell_type": "code",
   "execution_count": null,
   "id": "cc7fde0f-c5f8-4e28-b862-1093492ffb60",
   "metadata": {},
   "outputs": [],
   "source": [
    "cdata.obs['region'] = 'NA'\n",
    "cdata.obs['region_color'] = 'NA'\n",
    "\n",
    "cdata.obs.loc[cdata.obs['replicate'] == 'rep3', 'region'] = region_df['region'].values\n",
    "cdata.obs.loc[cdata.obs['replicate'] == 'rep3', 'region_color'] = region_df['region_color'].values"
   ]
  },
  {
   "cell_type": "code",
   "execution_count": null,
   "id": "2364d8de-2695-43ca-9c9f-02c826d59083",
   "metadata": {},
   "outputs": [],
   "source": [
    "# load zefang's file\n",
    "region_df = pd.read_csv('Z:/Data/Analyzed/2022-09-05-Hu-Tissue/output/2022-11-11-Brain-combined-3mad-ct-v2_region_label_obs.csv', index_col=0)\n",
    "region_df"
   ]
  },
  {
   "cell_type": "code",
   "execution_count": null,
   "id": "808d46a0-8787-4329-a0ff-8b27f854feeb",
   "metadata": {},
   "outputs": [],
   "source": [
    "# backup \n",
    "from datetime import datetime\n",
    "date = datetime.today().strftime('%Y-%m-%d')\n",
    "cdata.write_h5ad(f\"{out_path}/{date}-Brain-combined-3mad-ct-final.h5ad\")"
   ]
  },
  {
   "cell_type": "code",
   "execution_count": null,
   "id": "4e0c6dd1-2bb2-4b8f-888a-289ed8e074de",
   "metadata": {},
   "outputs": [],
   "source": [
    "sdata = cdata[cdata.obs['protocol-replicate'] == 'RIBOmap-rep2', ]\n",
    "sdata"
   ]
  },
  {
   "cell_type": "code",
   "execution_count": null,
   "id": "ab63d7be-b89e-479e-b520-d6420d47d75b",
   "metadata": {},
   "outputs": [],
   "source": [
    "# reads_per_gene_df = sdata.var.copy()\n",
    "reads_per_gene_df['total_reads_RIBOmap-rep2'] = sdata.layers['raw'].sum(axis=0)\n",
    "reads_per_gene_df"
   ]
  },
  {
   "cell_type": "code",
   "execution_count": null,
   "id": "88007a0f-013c-41a3-8e46-d2e2e75bbda9",
   "metadata": {},
   "outputs": [],
   "source": [
    "reads_per_gene_df = reads_per_gene_df.loc[:, ['total_reads_RIBOmap-rep2', 'total_reads_RIBOmap-rep3', 'total_reads_STARmap-rep3']]"
   ]
  },
  {
   "cell_type": "code",
   "execution_count": null,
   "id": "c88dcddb-d8df-4f0c-b65b-cddc8e602d47",
   "metadata": {},
   "outputs": [],
   "source": [
    "reads_per_gene_df.to_csv(os.path.join(out_path, f'{date}-Brain-combined-gene-total-count.csv'))"
   ]
  },
  {
   "cell_type": "markdown",
   "id": "4535a6e9-57e7-4581-b9e8-3644a863dbfb",
   "metadata": {
    "tags": []
   },
   "source": [
    "## STARmap manual clustering"
   ]
  },
  {
   "cell_type": "code",
   "execution_count": null,
   "id": "8752c6a7-b62c-4310-9669-638db9298a80",
   "metadata": {},
   "outputs": [],
   "source": [
    "# subset \n",
    "sdata = sc.read_h5ad(os.path.join(out_path, '2022-10-23-Brain-STARmap-rep3-3mad-filtered.h5ad'))\n",
    "sdata.obs['protocol-replicate'] = sdata.obs['protocol'].astype(str) + '-' + sdata.obs['replicate'].astype(str)\n",
    "sdata"
   ]
  },
  {
   "cell_type": "code",
   "execution_count": null,
   "id": "f42ca8e0-fb3a-48e6-bbc9-2ba0b78f9d4f",
   "metadata": {},
   "outputs": [],
   "source": [
    "%%time\n",
    "# preprocessing\n",
    "sdata.var['highly_variable'] = sdata.var['max_counts_sample'] > 2\n",
    "sdata.var['highly_variable'].value_counts()\n",
    "\n",
    "sdata.X = sdata.layers['raw'].copy()\n",
    "\n",
    "sc.pp.normalize_total(sdata)\n",
    "sc.pp.log1p(sdata)\n",
    "sdata.raw = sdata\n",
    "sc.pp.scale(sdata)\n",
    "sdata.layers['scaled'] = sdata.X.copy()\n",
    "sc.pp.regress_out(sdata, ['total_counts'])\n",
    "sdata.layers['corrected'] = sdata.X.copy()\n",
    "\n",
    "# Run PCA\n",
    "sdata.X = sdata.layers['corrected'].copy()\n",
    "sc.tl.pca(sdata, svd_solver='full', use_highly_variable=True)\n",
    "\n",
    "# Plot explained variance \n",
    "sc.pl.pca_variance_ratio(sdata, log=False)\n",
    "\n",
    "# Plot PCA\n",
    "sc.pl.pca(sdata, color='protocol-replicate')"
   ]
  },
  {
   "cell_type": "code",
   "execution_count": null,
   "id": "974516a2-8c0a-4140-a859-56a6c564bc51",
   "metadata": {},
   "outputs": [],
   "source": [
    "# Computing the neighborhood graph\n",
    "sc.pp.neighbors(sdata, n_neighbors=50, n_pcs=30, random_state=0)\n",
    "\n",
    "# Plot UMAP with cluster labels \n",
    "min_dist = 0.0001\n",
    "spread = 5\n",
    "sc.tl.umap(sdata, min_dist=min_dist, spread=spread)"
   ]
  },
  {
   "cell_type": "code",
   "execution_count": null,
   "id": "0308727a-584e-4314-9b23-1e20e0437346",
   "metadata": {},
   "outputs": [],
   "source": [
    "%%time\n",
    "# Run leiden cluster\n",
    "cluster_resolution = 3\n",
    "sc.tl.leiden(sdata, resolution = cluster_resolution)\n",
    "sc.pl.umap(sdata, color='leiden')"
   ]
  },
  {
   "cell_type": "code",
   "execution_count": null,
   "id": "24ba6fbc-d4af-469c-84de-329394ef4c75",
   "metadata": {},
   "outputs": [],
   "source": [
    "from datetime import datetime\n",
    "date = datetime.today().strftime('%Y-%m-%d')\n",
    "clustering_out_path = os.path.join(fig_path, f'{date}-clustering-starmap')\n",
    "if not os.path.exists(clustering_out_path):\n",
    "    os.mkdir(clustering_out_path)"
   ]
  },
  {
   "cell_type": "code",
   "execution_count": null,
   "id": "09372903-c4aa-42ed-a6e9-e90ba52af0f4",
   "metadata": {},
   "outputs": [],
   "source": [
    "# Get colormap\n",
    "n_clusters = sdata.obs['leiden'].unique().shape[0]\n",
    "\n",
    "cluster_pl = sns.color_palette(\"husl\", n_clusters)\n",
    "cluster_cmap = ListedColormap(cluster_pl.as_hex())\n",
    "sns.palplot(cluster_pl)"
   ]
  },
  {
   "cell_type": "code",
   "execution_count": null,
   "id": "5f5d2f93-aef3-4263-899a-6faf3afbbd9c",
   "metadata": {},
   "outputs": [],
   "source": [
    "# Plot UMAP with cluster labels w/ new color\n",
    "fig, ax = plt.subplots(figsize=(10, 7))\n",
    "sc.pl.umap(sdata, color='leiden', legend_loc='on data', palette=cluster_pl,\n",
    "           legend_fontsize=10, legend_fontoutline=2, frameon=False, ax=ax)"
   ]
  },
  {
   "cell_type": "code",
   "execution_count": null,
   "id": "8be2626f-fd29-4e90-b6ea-d2f3a79fa05a",
   "metadata": {},
   "outputs": [],
   "source": [
    "# Get markers for each cluster\n",
    "sc.tl.rank_genes_groups(sdata, 'leiden', method='wilcoxon')\n",
    "sc.tl.filter_rank_genes_groups(sdata, min_in_group_fraction=0.15, max_out_group_fraction=0.85)"
   ]
  },
  {
   "cell_type": "code",
   "execution_count": null,
   "id": "23732c1f-155d-4f32-8019-bb86815e0dfc",
   "metadata": {},
   "outputs": [],
   "source": [
    "# Save log\n",
    "with open(f'{clustering_out_path}/log_r_{cluster_resolution}.txt', 'w') as f:\n",
    "    f.write(f\"\"\"\n",
    "Resolution: {cluster_resolution}\n",
    "Number of clusters: {n_clusters}\n",
    "UMAP min_dist: {min_dist}\n",
    "UMAP spread: {spread}\"\"\")\n",
    "    \n",
    "# save results\n",
    "with pd.ExcelWriter(os.path.join(clustering_out_path, f'clustering_markers_r_{cluster_resolution}.xlsx'), mode='w') as writer:  \n",
    "    for current_cell_type in sdata.obs.leiden.cat.categories:\n",
    "        current_df = sc.get.rank_genes_groups_df(sdata, group=current_cell_type, key='rank_genes_groups')\n",
    "        current_df.to_excel(writer, sheet_name=f'{current_cell_type}')\n",
    "        \n",
    "with pd.ExcelWriter(os.path.join(clustering_out_path, f'clustering_markers_r_{cluster_resolution}_filtered.xlsx'), mode='w') as writer:  \n",
    "    for current_cell_type in sdata.obs.leiden.cat.categories:\n",
    "        current_df = sc.get.rank_genes_groups_df(sdata, group=current_cell_type, key='rank_genes_groups_filtered')\n",
    "        current_df.to_excel(writer, sheet_name=f'{current_cell_type}')\n",
    "        \n",
    "# save obs\n",
    "sdata.obs.to_csv(os.path.join(clustering_out_path, f'obs_r_{cluster_resolution}.csv'))"
   ]
  },
  {
   "cell_type": "code",
   "execution_count": null,
   "id": "3beca76e-4ca5-4185-8fad-7b4e3564e91a",
   "metadata": {
    "scrolled": true,
    "tags": []
   },
   "outputs": [],
   "source": [
    "# plot summary plot for each cluster\n",
    "sm_out_path = os.path.join(clustering_out_path, f'r_{cluster_resolution}_summary')\n",
    "if not os.path.exists(sm_out_path):\n",
    "    os.mkdir(sm_out_path)\n",
    "    \n",
    "for i, current_cluster in enumerate(tqdm(sorted(sdata.obs['leiden'].unique()))):\n",
    "    \n",
    "    # get dfs \n",
    "    df1 = sdata.obs.loc[sdata.obs['protocol-replicate'] == 'STARmap-rep3', :]\n",
    "\n",
    "    fig, axs = plt.subplots(nrows=1, ncols=2, figsize=(13, 5))\n",
    "    axs = axs.flatten()\n",
    "\n",
    "\n",
    "    # plot1\n",
    "    g1 = sns.scatterplot(x='column', y='row', color='#1111', \n",
    "                        data=df1, \n",
    "                        s=5,\n",
    "                        ax=axs[0])\n",
    "\n",
    "    g1.set_title('STARmap-rep3')\n",
    "    g1.invert_yaxis()\n",
    "    g1.axes.xaxis.set_visible(False)\n",
    "    g1.axes.yaxis.set_visible(False)\n",
    "\n",
    "\n",
    "    h1 = sns.scatterplot(x='column', y='row', hue='leiden', legend=None,\n",
    "                        palette=cluster_pl,\n",
    "                        data=df1.loc[df1['leiden'] == current_cluster, ], \n",
    "                        s=5,\n",
    "                        ax=axs[0])\n",
    "\n",
    "    # umap1\n",
    "    ax = sc.pl.umap(sdata, show=False, color=None, alpha=1, size=(120000 / sdata.n_obs), ax=axs[1], title='', palette=sns.color_palette(['#fafafa']))\n",
    "    sc.pl.umap(sdata[(sdata.obs[\"leiden\"] == current_cluster) & (sdata.obs['protocol-replicate'] == 'STARmap-rep3')], color='leiden', frameon=False, ax=ax, legend_loc=None, size=(120000 / sdata.n_obs),\n",
    "           title='', show=False, palette=sns.color_palette([sdata.uns['leiden_colors'][int(current_cluster)]]))\n",
    "\n",
    "    plt.savefig(os.path.join(sm_out_path, f'cluster_{current_cluster}.jpeg'))"
   ]
  },
  {
   "cell_type": "code",
   "execution_count": null,
   "id": "1668c39f-06a3-49c1-a04c-cbb234ed3150",
   "metadata": {},
   "outputs": [],
   "source": [
    "current_sample = 'STARmap-rep3'\n",
    "\n",
    "fig, ax = plt.subplots(figsize=(15, 20))\n",
    "g = sns.scatterplot(x='column', y='row', hue='leiden', \n",
    "                    palette=cluster_pl,\n",
    "                    data=sdata.obs.loc[sdata.obs['protocol-replicate'] == current_sample, :], \n",
    "                    s=5,\n",
    "                    ax=ax)\n",
    "g.set_title(current_sample)\n",
    "g.invert_yaxis()\n",
    "g.axes.xaxis.set_visible(False)\n",
    "g.axes.yaxis.set_visible(False)\n",
    "plt.savefig(os.path.join(sm_out_path, f'r_{cluster_resolution}.jpeg'))"
   ]
  },
  {
   "cell_type": "code",
   "execution_count": null,
   "id": "e4c15cd3-5b24-4292-9c94-c5ac4bfd5792",
   "metadata": {},
   "outputs": [],
   "source": [
    "sc.pl.umap(sdata, color='H2-Aa')"
   ]
  },
  {
   "cell_type": "code",
   "execution_count": null,
   "id": "1d001eb0-10e3-4111-9527-5d1d87ed77ac",
   "metadata": {},
   "outputs": [],
   "source": []
  },
  {
   "cell_type": "code",
   "execution_count": null,
   "id": "6b2bf81d-63e1-4b0c-8c48-62651c4a9fad",
   "metadata": {},
   "outputs": [],
   "source": []
  }
 ],
 "metadata": {
  "kernelspec": {
   "display_name": "Python 3 (ipykernel)",
   "language": "python",
   "name": "python3"
  },
  "language_info": {
   "codemirror_mode": {
    "name": "ipython",
    "version": 3
   },
   "file_extension": ".py",
   "mimetype": "text/x-python",
   "name": "python",
   "nbconvert_exporter": "python",
   "pygments_lexer": "ipython3",
   "version": "3.8.12"
  }
 },
 "nbformat": 4,
 "nbformat_minor": 5
}
