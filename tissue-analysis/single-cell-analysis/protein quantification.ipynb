{
 "cells": [
  {
   "cell_type": "markdown",
   "id": "cb6069f1-2889-4ca1-b70e-e577f8205e43",
   "metadata": {},
   "source": [
    "# Protein quantification"
   ]
  },
  {
   "cell_type": "code",
   "execution_count": null,
   "id": "5ac60a48-d389-45a1-8686-ef1434eec61f",
   "metadata": {},
   "outputs": [],
   "source": [
    "# Import packages \n",
    "import sys\n",
    "import numpy as np\n",
    "import pandas as pd\n",
    "import seaborn as sns\n",
    "from natsort import natsorted\n",
    "from scipy.io import loadmat, savemat\n",
    "from skimage.filters import threshold_otsu\n",
    "from skimage.color import label2rgb\n",
    "from tqdm.notebook import tqdm\n",
    "\n",
    "import anndata as ad\n",
    "import scanpy as sc\n",
    "# Customized packages \n",
    "from starmap.sequencing import *"
   ]
  },
  {
   "cell_type": "markdown",
   "id": "f09bf2ce-39c0-453c-b97d-1c7f240e84e8",
   "metadata": {},
   "source": [
    "## Path"
   ]
  },
  {
   "cell_type": "code",
   "execution_count": null,
   "id": "d6065ba7-353f-4704-8249-af1fb98f7b02",
   "metadata": {
    "tags": []
   },
   "outputs": [],
   "source": [
    "# IO path \n",
    "base_path = 'Z:/Data/Analyzed/2022-09-05-Hu-Tissue/'\n",
    "\n",
    "in_path = os.path.join(base_path, 'input')\n",
    "if not os.path.exists(in_path):\n",
    "    os.mkdir(in_path)\n",
    "    \n",
    "out_path = os.path.join(base_path, 'output')\n",
    "if not os.path.exists(out_path):\n",
    "    os.mkdir(out_path)\n",
    "    \n",
    "seg_path = os.path.join(in_path, \"rep3/protein/\")\n",
    "if not os.path.exists(seg_path):\n",
    "    os.mkdir(seg_path)\n",
    "    \n",
    "grid_path = os.path.join(seg_path, 'grid')\n",
    "if not os.path.exists(grid_path):\n",
    "    os.mkdir(grid_path)"
   ]
  },
  {
   "cell_type": "code",
   "execution_count": null,
   "id": "8cbb6916-e748-4d5b-b082-ca1913714b3a",
   "metadata": {},
   "outputs": [],
   "source": [
    "current_sample = 'STAR'"
   ]
  },
  {
   "cell_type": "code",
   "execution_count": null,
   "id": "578e9ad9-d883-4ab9-9a1e-e3d2796fe03d",
   "metadata": {},
   "outputs": [],
   "source": [
    "# load h5ad object with cell locations \n",
    "cdata = sc.read_h5ad(os.path.join(out_path, '2022-11-20-Brain-combined-3mad-ct-final.h5ad'))\n",
    "cdata"
   ]
  },
  {
   "cell_type": "markdown",
   "id": "50a215a2-c6a5-4275-aa26-b2750fe756d4",
   "metadata": {},
   "source": [
    "## Segmentation"
   ]
  },
  {
   "cell_type": "code",
   "execution_count": null,
   "id": "a4029734-48f6-4e5d-9b67-b98302bdd766",
   "metadata": {},
   "outputs": [],
   "source": [
    "# get centroids\n",
    "df = cdata.obs.loc[cdata.obs['protocol-replicate'] == f'{current_sample}map-rep3' , :].copy()\n",
    "df['column_scaled'] = df['column'] * 0.25\n",
    "df['row_scaled'] = df['row'] * 0.25\n",
    "centroids = df.loc[:, ['column_scaled', 'row_scaled']].to_numpy()\n",
    "centroids"
   ]
  },
  {
   "cell_type": "code",
   "execution_count": null,
   "id": "cbc115d1-85bf-4930-bd48-49e2e51a8e2f",
   "metadata": {},
   "outputs": [],
   "source": [
    "# load overlay image \n",
    "overlay = load_nissl_image(os.path.join(seg_path, 'segmentation'), fname=f\"{current_sample}_overlay.tif\")\n",
    "# overlay = load_nissl_image(os.path.join(seg_path,), fname=f\"test.tif\")"
   ]
  },
  {
   "cell_type": "code",
   "execution_count": null,
   "id": "b4c43a46-ce0b-447b-93db-c2410cf8054b",
   "metadata": {},
   "outputs": [],
   "source": [
    "figsize=(overlay.shape[1] / 1000 * 5, overlay.shape[0] / 1000 * 5)"
   ]
  },
  {
   "cell_type": "code",
   "execution_count": null,
   "id": "1be66b21-4192-4992-9819-cd54b5ee0ce0",
   "metadata": {},
   "outputs": [],
   "source": [
    "# Plot dots on segmentation mask\n",
    "plt.figure(figsize=figsize)\n",
    "plt.imshow(overlay, cmap='gray')\n",
    "plt.plot(centroids[:, 0], centroids[:, 1], '.', color='red', markersize=3)\n",
    "plt.axis('off')\n",
    "# plt.show()\n",
    "points_seg_path = os.path.join(seg_path, f\"{current_sample}_centroid.png\")\n",
    "print(f\"Saving points_seg.png\")\n",
    "plt.savefig(points_seg_path)\n",
    "# plt.clf()\n",
    "# plt.close()"
   ]
  },
  {
   "cell_type": "code",
   "execution_count": null,
   "id": "73e93040-c95e-403e-ab2f-8f82f2737eea",
   "metadata": {},
   "outputs": [],
   "source": [
    "%%time\n",
    "# Segmentation\n",
    "\n",
    "print(\"Gaussian & Thresholding\")\n",
    "blurred_overlay_seg = gaussian(overlay.astype(np.float), 2)\n",
    "threhold = 32\n",
    "\n",
    "# manual threshold \n",
    "blurred_overlay_seg = blurred_overlay_seg > threhold\n",
    "\n",
    "# dialation  \n",
    "blurred_overlay_seg = binary_dilation(blurred_overlay_seg, selem=disk(3))\n",
    "\n",
    "print(\"Assigning markers\")\n",
    "centroids = centroids.astype(int)\n",
    "markers = np.zeros(blurred_overlay_seg.shape, dtype=np.uint8)\n",
    "for i in range(centroids.shape[0]):\n",
    "    y, x = centroids[i, :]\n",
    "    if x < blurred_overlay_seg.shape[0] and y < blurred_overlay_seg.shape[1]:\n",
    "        markers[x-1, y-1] = 1\n",
    "markers = ndi.label(markers)[0]\n",
    "\n",
    "print(\"Watershed\")\n",
    "labels = watershed(blurred_overlay_seg, markers, mask=blurred_overlay_seg)\n",
    "labels_line = watershed(blurred_overlay_seg, markers, mask=blurred_overlay_seg, watershed_line=True)\n",
    "\n",
    "print(f\"Labeled {len(np.unique(labels)) - 1} cells\")\n",
    "plt.figure(figsize=(10,20))\n",
    "plt.imshow(label2rgb(labels_line, bg_label=0))\n",
    "\n",
    "print(f\"Saving files to {seg_path}\")\n",
    "tifffile.imsave(os.path.join(seg_path, f\"{current_sample}_labeled_cells_line.tif\"), labels_line.astype(np.uint16))\n",
    "tifffile.imsave(os.path.join(seg_path, f\"{current_sample}_labeled_cells.tif\"), labels.astype(np.uint16))"
   ]
  },
  {
   "cell_type": "code",
   "execution_count": null,
   "id": "c519141c-7199-4b7c-ba8b-c7645de856da",
   "metadata": {},
   "outputs": [],
   "source": [
    "centroids.shape"
   ]
  },
  {
   "cell_type": "markdown",
   "id": "715d8296-fd2a-4ffb-abb4-137cd8608c6f",
   "metadata": {},
   "source": [
    "## Quantification"
   ]
  },
  {
   "cell_type": "code",
   "execution_count": null,
   "id": "230e80dd-e871-42fa-af78-6d151c62f95d",
   "metadata": {},
   "outputs": [],
   "source": [
    "current_sample = 'STAR'\n",
    "current_df = cdata.obs.loc[cdata.obs['protocol-replicate'] == f'{current_sample}map-rep3' , :].copy()\n",
    "centroids = current_df.loc[:, ['column', 'row']].to_numpy()\n",
    "centroids.max(axis=0)"
   ]
  },
  {
   "cell_type": "code",
   "execution_count": null,
   "id": "d9451ca3-1665-43b8-acef-d53cf1e28159",
   "metadata": {},
   "outputs": [],
   "source": [
    "# Load pre-defined cell segmentation \n",
    "labels = load_label_image(os.path.join(seg_path, \"segmentation\"), fname=f'{current_sample}_labeled_cells_org.tif')\n",
    "labels.shape"
   ]
  },
  {
   "cell_type": "code",
   "execution_count": null,
   "id": "54460ae3-3409-4aa3-8a28-bcd2c3d80c38",
   "metadata": {},
   "outputs": [],
   "source": [
    "# load overlay image \n",
    "gfap = load_nissl_image(os.path.join(seg_path, 'raw'), fname=f\"{current_sample}_Gfap.tif\")\n",
    "neun = load_nissl_image(os.path.join(seg_path, 'raw'), fname=f\"{current_sample}_NeuN.tif\")\n",
    "\n",
    "gfap_mask = load_nissl_image(os.path.join(seg_path, 'mask_test'), fname=f\"{current_sample}_Gfap.tif\")\n",
    "neun_mask = load_nissl_image(os.path.join(seg_path, 'mask_test'), fname=f\"{current_sample}_NeuN.tif\")\n",
    "\n",
    "neun.shape"
   ]
  },
  {
   "cell_type": "code",
   "execution_count": null,
   "id": "f35835e5-3784-4c5c-ae90-ab503a7a4dc1",
   "metadata": {},
   "outputs": [],
   "source": [
    "gfap_mask = gfap_mask > 0\n",
    "neun_mask = neun_mask > 0 "
   ]
  },
  {
   "cell_type": "code",
   "execution_count": null,
   "id": "4cb406f5-df89-4c6b-9087-c7cb1f61fe5e",
   "metadata": {},
   "outputs": [],
   "source": [
    "# get reads assignment \n",
    "reads_assignment = labels[centroids[:, 1], centroids[:, 0]]\n",
    "reads_assignment"
   ]
  },
  {
   "cell_type": "code",
   "execution_count": null,
   "id": "99e89542-f8c8-4d0a-a29b-25dd04b28677",
   "metadata": {},
   "outputs": [],
   "source": [
    "%%time\n",
    "        \n",
    "areas = [0, ]\n",
    "neun_intensity = [0, ]\n",
    "gfap_intensity = [0, ]\n",
    "\n",
    "neun_pixel = [0, ]\n",
    "gfap_pixel = [0, ]\n",
    "\n",
    "region_label = [0, ]\n",
    "\n",
    "# Iterate through cells\n",
    "print('Iterate cells...')\n",
    "for i, region in enumerate(tqdm(regionprops(labels))):\n",
    "      # print(region.label)\n",
    "    region_label.append(region.label)\n",
    "    areas.append(region.area)\n",
    "    \n",
    "    # neun intensity\n",
    "    curr_intensity = np.sum(neun[region.coords[:, 0], region.coords[:, 1]])\n",
    "    curr_pixel = np.sum(neun_mask[region.coords[:, 0], region.coords[:, 1]])\n",
    "    \n",
    "    neun_intensity.append(round(curr_intensity, 2))\n",
    "    neun_pixel.append(round(curr_pixel, 2))\n",
    "        \n",
    "    # gfap intensity\n",
    "    curr_intensity = np.sum(gfap[region.coords[:, 0], region.coords[:, 1]])\n",
    "    curr_pixel = np.sum(gfap_mask[region.coords[:, 0], region.coords[:, 1]])\n",
    "    \n",
    "    gfap_intensity.append(round(curr_intensity, 2))\n",
    "    gfap_pixel.append(round(curr_pixel, 2))"
   ]
  },
  {
   "cell_type": "code",
   "execution_count": null,
   "id": "92cbade0-cb85-432a-8a58-c5ff77074e00",
   "metadata": {},
   "outputs": [],
   "source": [
    "neun_intensity = np.array(neun_intensity)\n",
    "neun_pixel = np.array(neun_pixel)\n",
    "gfap_intensity = np.array(gfap_intensity)\n",
    "gfap_pixel = np.array(gfap_pixel)\n",
    "region_label = np.array(region_label)\n",
    "areas = np.array(areas)"
   ]
  },
  {
   "cell_type": "code",
   "execution_count": null,
   "id": "97cd0d6e-7caa-4fa3-bda5-368713a00e75",
   "metadata": {},
   "outputs": [],
   "source": [
    "# find duplicate assignment \n",
    "from collections import Counter\n",
    "dup_assignment = [item for item, count in Counter(reads_assignment).items() if count > 1]\n",
    "\n",
    "for i in dup_assignment:\n",
    "    reads_assignment[reads_assignment == i] = 0"
   ]
  },
  {
   "cell_type": "code",
   "execution_count": null,
   "id": "fca529f4-e2bb-4e56-b4f5-eca75bd1c521",
   "metadata": {},
   "outputs": [],
   "source": [
    "indexes = np.array([np.where(region_label == i)[0][0] for i in reads_assignment])"
   ]
  },
  {
   "cell_type": "code",
   "execution_count": null,
   "id": "34ae4e6a-4687-4940-9705-ff1441095961",
   "metadata": {},
   "outputs": [],
   "source": [
    "current_df['seg_label'] = reads_assignment\n",
    "current_df['area'] = areas[indexes]\n",
    "current_df['Gfap'] = gfap_intensity[indexes]\n",
    "current_df['NeuN'] = neun_intensity[indexes]\n",
    "current_df['Gfap_pixel'] = gfap_pixel[indexes]\n",
    "current_df['NeuN_pixel'] = neun_pixel[indexes]"
   ]
  },
  {
   "cell_type": "code",
   "execution_count": null,
   "id": "a4564a0c-987d-47d7-9f6b-03510e669d19",
   "metadata": {},
   "outputs": [],
   "source": [
    "cdata.obs.loc[cdata.obs['protocol-replicate'] == f'{current_sample}map-rep3' , 'seg_label'] = current_df['seg_label']\n",
    "cdata.obs.loc[cdata.obs['protocol-replicate'] == f'{current_sample}map-rep3' , 'area'] = current_df['area']\n",
    "cdata.obs.loc[cdata.obs['protocol-replicate'] == f'{current_sample}map-rep3' , 'Gfap_intensity'] = current_df['Gfap']\n",
    "cdata.obs.loc[cdata.obs['protocol-replicate'] == f'{current_sample}map-rep3' , 'NeuN_intensity'] = current_df['NeuN']\n",
    "cdata.obs.loc[cdata.obs['protocol-replicate'] == f'{current_sample}map-rep3' , 'Gfap_pixel'] = current_df['Gfap_pixel']\n",
    "cdata.obs.loc[cdata.obs['protocol-replicate'] == f'{current_sample}map-rep3' , 'NeuN_pixel'] = current_df['NeuN_pixel']"
   ]
  },
  {
   "cell_type": "code",
   "execution_count": null,
   "id": "a39f4766-0323-4f91-816e-7ecfb00a6ad4",
   "metadata": {},
   "outputs": [],
   "source": [
    "from datetime import datetime\n",
    "date = datetime.today().strftime('%Y-%m-%d')\n",
    "cdata.write_h5ad(f\"{out_path}/{date}-Brain-combined-3mad-ct-final.h5ad\")"
   ]
  },
  {
   "cell_type": "markdown",
   "id": "71178363-1351-45f2-b486-da155eb949b4",
   "metadata": {},
   "source": [
    "## Grid segmentation"
   ]
  },
  {
   "cell_type": "code",
   "execution_count": null,
   "id": "ad3d6c79-0a31-4ad2-93b4-d62602bcdfcd",
   "metadata": {},
   "outputs": [],
   "source": [
    "from skimage.util import regular_seeds, img_as_ubyte\n",
    "from skimage.segmentation import watershed\n",
    "\n",
    "# Test\n",
    "# img = np.ones((6, 6), dtype=int)\n",
    "# img = img_as_ubyte(img * 255)\n",
    "# seeds = regular_seeds((6, 6), 4)\n",
    "# w1 = watershed(img, seeds, compactness=0.01)\n",
    "# plt.imshow(w1, cmap='Greys')"
   ]
  },
  {
   "cell_type": "markdown",
   "id": "e70c4673-2768-40b2-89c5-7dc1bd603ed9",
   "metadata": {},
   "source": [
    "0.142 micron per pixel"
   ]
  },
  {
   "cell_type": "code",
   "execution_count": null,
   "id": "35aabd5e-3907-4a9f-8700-4180673532ca",
   "metadata": {},
   "outputs": [],
   "source": [
    "grid_interval = 30 # micron\n",
    "\n",
    "read_dim = (labels.shape[0] * 0.142, labels.shape[1] * 0.142)\n",
    "read_area = read_dim[0] * read_dim[1]\n",
    "grid_area = grid_interval**2\n",
    "n_seeds = int(read_area / grid_area)\n",
    "n_seeds"
   ]
  },
  {
   "cell_type": "code",
   "execution_count": null,
   "id": "28e1ba7e-9822-4622-8daa-0c145cc7bc39",
   "metadata": {},
   "outputs": [],
   "source": [
    "scaled_dim = (round(labels.shape[0] * 0.25), round(labels.shape[1] * 0.25))\n",
    "img = np.ones(scaled_dim, dtype=int)\n",
    "img = img_as_ubyte(img * 255)\n",
    "seeds = regular_seeds(scaled_dim, n_seeds)\n",
    "w1 = watershed(img, seeds, compactness=0.01)"
   ]
  },
  {
   "cell_type": "code",
   "execution_count": null,
   "id": "f7c47b5a-9eb5-498d-8cc2-8450bf242cd3",
   "metadata": {},
   "outputs": [],
   "source": [
    "plt.imshow(w1, cmap='Greys')"
   ]
  },
  {
   "cell_type": "code",
   "execution_count": null,
   "id": "98cf521d-7bc3-4d55-b331-186befac19d3",
   "metadata": {},
   "outputs": [],
   "source": [
    "tifffile.imsave(os.path.join(grid_path, f\"{current_sample}_grid_{grid_interval}.tif\"), w1.astype(np.uint16))"
   ]
  },
  {
   "cell_type": "markdown",
   "id": "849063ec-8775-4c00-bf6c-a1bc54b01adc",
   "metadata": {},
   "source": [
    "## Grid quantification"
   ]
  },
  {
   "cell_type": "code",
   "execution_count": null,
   "id": "234a85cd-7dac-4f8c-90ad-8333cbdc3f14",
   "metadata": {},
   "outputs": [],
   "source": [
    "current_sample = 'RIBO'\n",
    "\n",
    "grid_seg = load_label_image(grid_path, fname=f\"{current_sample}_grid_{grid_interval}_org.tif\")"
   ]
  },
  {
   "cell_type": "code",
   "execution_count": null,
   "id": "955b2c63-1d7f-4d43-af4f-004edb0d6d1c",
   "metadata": {},
   "outputs": [],
   "source": [
    "# load overlay image \n",
    "gfap = load_nissl_image(os.path.join(seg_path, 'raw'), fname=f\"{current_sample}_Gfap.tif\")\n",
    "neun = load_nissl_image(os.path.join(seg_path, 'raw'), fname=f\"{current_sample}_NeuN.tif\")\n",
    "\n",
    "gfap_mask = load_nissl_image(os.path.join(seg_path, 'mask_test'), fname=f\"{current_sample}_Gfap.tif\")\n",
    "neun_mask = load_nissl_image(os.path.join(seg_path, 'mask_test'), fname=f\"{current_sample}_NeuN.tif\")\n",
    "\n",
    "neun.shape"
   ]
  },
  {
   "cell_type": "code",
   "execution_count": null,
   "id": "06947620-ff24-4226-a6eb-256b4c3e9d6b",
   "metadata": {},
   "outputs": [],
   "source": [
    "gfap_mask = gfap_mask > 0\n",
    "neun_mask = neun_mask > 0 "
   ]
  },
  {
   "cell_type": "code",
   "execution_count": null,
   "id": "24ce39c2-f516-4ad0-acdb-8a87e72c62a4",
   "metadata": {},
   "outputs": [],
   "source": [
    "# load reads \n",
    "\n",
    "transfer_dict = {'44440': 'Sept1',\n",
    "                '44443': 'Sept11',\n",
    "                '44446': 'Sept4',\n",
    "                '44447': 'Sept7',\n",
    "                '44448': 'Sept8',\n",
    "                '44450': 'Sept9',}\n",
    "\n",
    "\n",
    "temp1 = pd.read_csv(os.path.join(in_path, 'rep3/batch2', f'{current_sample}_remain_reads.csv'), index_col=0)\n",
    "temp1 = temp1.loc[:, ['gene_name', 'column', 'row', 'cell_barcode']]\n",
    "temp2 = pd.read_csv(os.path.join(in_path, 'rep3/batch2', f'{current_sample}_unassigned_reads_adjust_overlap.csv'), index_col=0)\n",
    "temp2 = temp2.loc[:, ['gene_name', 'column', 'row', 'cell_barcode']]\n",
    "\n",
    "total_reads = pd.concat([temp1, temp2])\n",
    "total_reads = total_reads.reset_index(drop=True)\n",
    "total_reads['gene_name'] = total_reads['gene_name'].replace(transfer_dict)\n",
    "total_reads"
   ]
  },
  {
   "cell_type": "code",
   "execution_count": null,
   "id": "09c062a3-acac-4622-9877-3727abe3d139",
   "metadata": {},
   "outputs": [],
   "source": [
    "genes = [i for i in sorted(total_reads['gene_name'].unique())]\n",
    "# genes"
   ]
  },
  {
   "cell_type": "code",
   "execution_count": null,
   "id": "40f6df1f-6643-4ede-a2c4-c7f53f3dc8ad",
   "metadata": {},
   "outputs": [],
   "source": [
    "points = total_reads.loc[:, ['row', 'column']].values.astype(int)\n",
    "reads = total_reads.loc[:, ['gene_name']].values.flatten()"
   ]
  },
  {
   "cell_type": "code",
   "execution_count": null,
   "id": "dce5fc83-5ffd-47df-9522-2954a493dedc",
   "metadata": {},
   "outputs": [],
   "source": [
    "# get reads assignment \n",
    "reads_assignment = grid_seg[points[:, 0], points[:, 1]]\n",
    "reads_assignment"
   ]
  },
  {
   "cell_type": "code",
   "execution_count": null,
   "id": "4167ceef-8928-4626-9358-076b3cfc8c6b",
   "metadata": {},
   "outputs": [],
   "source": [
    "%%time\n",
    "        \n",
    "neun_intensity = []\n",
    "gfap_intensity = []\n",
    "\n",
    "neun_pixel = []\n",
    "gfap_pixel = []\n",
    "\n",
    "total_blocks = grid_seg.max()\n",
    "cell_by_barcode = np.zeros((total_blocks, len(genes)))\n",
    "gene_seq_to_index = {}  # map from sequence to index into matrix\n",
    "\n",
    "for i, k in enumerate(genes):\n",
    "    gene_seq_to_index[k] = i\n",
    "    \n",
    "\n",
    "# Iterate through cells\n",
    "print('Iterate cells...')\n",
    "for i, region in enumerate(tqdm(regionprops(grid_seg))):\n",
    "      # print(region.label)\n",
    "    \n",
    "    # neun intensity\n",
    "    curr_intensity = np.sum(neun[region.coords[:, 0], region.coords[:, 1]])\n",
    "    curr_pixel = np.sum(neun_mask[region.coords[:, 0], region.coords[:, 1]])\n",
    "    \n",
    "    neun_intensity.append(round(curr_intensity, 2))\n",
    "    neun_pixel.append(round(curr_pixel, 2))\n",
    "        \n",
    "    # gfap intensity\n",
    "    curr_intensity = np.sum(gfap[region.coords[:, 0], region.coords[:, 1]])\n",
    "    curr_pixel = np.sum(gfap_mask[region.coords[:, 0], region.coords[:, 1]])\n",
    "    \n",
    "    gfap_intensity.append(round(curr_intensity, 2))\n",
    "    gfap_pixel.append(round(curr_pixel, 2))\n",
    "    \n",
    "    assigned_reads = reads[np.argwhere(reads_assignment == region.label).flatten()]\n",
    "    for j in assigned_reads:\n",
    "        if j in gene_seq_to_index:\n",
    "            cell_by_barcode[i, gene_seq_to_index[j]] += 1"
   ]
  },
  {
   "cell_type": "code",
   "execution_count": null,
   "id": "6b13af62-1ec4-457f-940b-cf3704a11c82",
   "metadata": {},
   "outputs": [],
   "source": [
    "cell_by_barcode.shape"
   ]
  },
  {
   "cell_type": "code",
   "execution_count": null,
   "id": "72f3a26f-3324-42f0-b88d-b44af31badb9",
   "metadata": {},
   "outputs": [],
   "source": [
    "quantification_df = pd.DataFrame(cell_by_barcode, columns=genes)\n",
    "quantification_df['Gfap_intensity'] = gfap_intensity\n",
    "quantification_df['Gfap_pixel'] = gfap_pixel\n",
    "quantification_df['NeuN_intensity'] = neun_intensity\n",
    "quantification_df['NeuN_pixel'] = neun_pixel\n",
    "quantification_df"
   ]
  },
  {
   "cell_type": "code",
   "execution_count": null,
   "id": "66fb6be8-5b42-4448-ac3c-9bd9eaa29f11",
   "metadata": {},
   "outputs": [],
   "source": [
    "from datetime import datetime\n",
    "date = datetime.today().strftime('%Y-%m-%d')\n",
    "quantification_df.to_csv(os.path.join(out_path, f\"{date}-{current_sample}map-grid-quantification.csv\"))"
   ]
  }
 ],
 "metadata": {
  "kernelspec": {
   "display_name": "Python 3 (ipykernel)",
   "language": "python",
   "name": "python3"
  },
  "language_info": {
   "codemirror_mode": {
    "name": "ipython",
    "version": 3
   },
   "file_extension": ".py",
   "mimetype": "text/x-python",
   "name": "python",
   "nbconvert_exporter": "python",
   "pygments_lexer": "ipython3",
   "version": "3.8.12"
  }
 },
 "nbformat": 4,
 "nbformat_minor": 5
}
