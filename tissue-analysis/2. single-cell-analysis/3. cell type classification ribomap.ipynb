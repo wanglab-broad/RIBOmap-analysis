{
 "cells": [
  {
   "cell_type": "markdown",
   "id": "4ac1abf8-efda-4e52-9332-f0a3d3807c91",
   "metadata": {},
   "source": [
    "# 3. Cell type identification of RIBOmap"
   ]
  },
  {
   "cell_type": "markdown",
   "id": "0b3206b9-4a36-410e-bc0b-0de1852b8ddc",
   "metadata": {},
   "source": [
    "2022-10-23"
   ]
  },
  {
   "cell_type": "code",
   "execution_count": null,
   "id": "840068b7-6211-42a3-8e36-99002995c676",
   "metadata": {},
   "outputs": [],
   "source": [
    "# Import Packages\n",
    "\n",
    "%load_ext autoreload\n",
    "%autoreload 2\n",
    "\n",
    "import os\n",
    "import warnings \n",
    "warnings.filterwarnings('ignore')\n",
    "import numpy as np\n",
    "import pandas as pd\n",
    "import scanpy as sc\n",
    "import seaborn as sns\n",
    "import anndata as ad\n",
    "import matplotlib.pyplot as plt\n",
    "from matplotlib.colors import ListedColormap\n",
    "from anndata import AnnData\n",
    "from natsort import natsorted\n",
    "from tqdm.notebook import tqdm\n",
    "\n",
    "# Customized packages\n",
    "import starmap.sc_util as su\n",
    "# test()"
   ]
  },
  {
   "cell_type": "markdown",
   "id": "ccc4df3c-7a35-47d3-ba59-5380adcf0a88",
   "metadata": {
    "tags": []
   },
   "source": [
    "## Set path"
   ]
  },
  {
   "cell_type": "code",
   "execution_count": null,
   "id": "1b7748af-4596-4844-8e0b-fdb030d5329c",
   "metadata": {},
   "outputs": [],
   "source": [
    "# Set path\n",
    "base_path = 'Z:/Data/Analyzed/2022-09-05-Hu-Tissue/'\n",
    "\n",
    "input_path = os.path.join(base_path, 'input')\n",
    "\n",
    "out_path = os.path.join(base_path, 'output')\n",
    "if not os.path.exists(out_path):\n",
    "    os.mkdir(out_path)\n",
    "    \n",
    "fig_path = os.path.join(base_path, 'figures')\n",
    "if not os.path.exists(fig_path):\n",
    "    os.mkdir(fig_path)\n",
    "\n",
    "sc.settings.figdir = fig_path"
   ]
  },
  {
   "cell_type": "code",
   "execution_count": null,
   "id": "6a20689b-2195-4475-a1c8-f78667ae08b0",
   "metadata": {
    "tags": []
   },
   "outputs": [],
   "source": [
    "# laod combined file\n",
    "adata = sc.read_h5ad(os.path.join(out_path, '2022-10-25-Brain-RIBOmap-combined-3mad-harmony.h5ad'))\n",
    "# adata = sc.read_h5ad(os.path.join(out_path, '2022-10-26-Brain-combined-3mad-ct-bk1.h5ad'))\n",
    "adata"
   ]
  },
  {
   "cell_type": "code",
   "execution_count": null,
   "id": "c7cf1289-2f1d-4688-96a2-9be4ce6cee0f",
   "metadata": {},
   "outputs": [],
   "source": [
    "# laod backup file\n",
    "# adata = sc.read_h5ad(os.path.join(out_path, '2022-11-06-Brain-combined-3mad-ct-bk3.h5ad'))\n",
    "adata = sc.read_h5ad(os.path.join(out_path, '2022-11-20-Brain-RIBOmap-3mad-ct-final.h5ad'))\n",
    "adata"
   ]
  },
  {
   "cell_type": "markdown",
   "id": "b6003a16-302a-482b-801d-4b191db2b6c4",
   "metadata": {},
   "source": [
    "## Clustering"
   ]
  },
  {
   "cell_type": "code",
   "execution_count": null,
   "id": "75180c9b-86a6-41a1-ad1b-47697c8ea52a",
   "metadata": {},
   "outputs": [],
   "source": [
    "%%time\n",
    "# Run leiden cluster\n",
    "cluster_resolution = 1.5\n",
    "sc.tl.leiden(adata, resolution = cluster_resolution)"
   ]
  },
  {
   "cell_type": "code",
   "execution_count": null,
   "id": "dd3edd05-e4a4-44db-8907-01d9be78d2bd",
   "metadata": {},
   "outputs": [],
   "source": [
    "# Plot UMAP with cluster labels \n",
    "min_dist = 0.0001\n",
    "spread = 5\n",
    "sc.tl.umap(adata, min_dist=min_dist, spread=spread)\n",
    "sc.pl.umap(adata, color='leiden')"
   ]
  },
  {
   "cell_type": "code",
   "execution_count": null,
   "id": "3716adb7-d633-4a64-b758-efc85364b1cb",
   "metadata": {},
   "outputs": [],
   "source": [
    "# Save log\n",
    "n_clusters = adata.obs['leiden'].unique().shape[0]\n",
    "with open(f'{fig_path}/log_level_2.txt', 'w') as f:\n",
    "    f.write(f\"\"\"Number of neighbor: 50\n",
    "Number of PC: 30\n",
    "Resolution: {cluster_resolution}\n",
    "Min-distance: {min_dist}\n",
    "Spread: {spread}\n",
    "Number of clusters: {n_clusters}\"\"\")\n",
    "\n",
    "# save embeddings\n",
    "np.savetxt(f'{fig_path}/embedding_level_2_umap.csv', adata.obsm['X_umap'], delimiter=\",\")"
   ]
  },
  {
   "cell_type": "code",
   "execution_count": null,
   "id": "2edfe1fd-58ca-47f6-b07f-855c5490edce",
   "metadata": {},
   "outputs": [],
   "source": [
    "# Get colormap\n",
    "cluster_pl = sns.color_palette(\"husl\", n_clusters)\n",
    "cluster_cmap = ListedColormap(cluster_pl.as_hex())\n",
    "sns.palplot(cluster_pl)"
   ]
  },
  {
   "cell_type": "code",
   "execution_count": null,
   "id": "dad1f1e8-4bfc-4b20-8432-c10d183a7fe9",
   "metadata": {},
   "outputs": [],
   "source": [
    "# Plot UMAP with cluster labels w/ new color\n",
    "fig, ax = plt.subplots(figsize=(10, 7))\n",
    "sc.pl.umap(adata, color='leiden', legend_loc='on data', palette=cluster_pl,\n",
    "           legend_fontsize=10, legend_fontoutline=2, frameon=False, ax=ax)"
   ]
  },
  {
   "cell_type": "code",
   "execution_count": null,
   "id": "b67ef4a3-2f06-4075-80c8-e7f338948efe",
   "metadata": {},
   "outputs": [],
   "source": [
    "n_clusters = adata.obs['leiden'].unique().shape[0]\n",
    "\n",
    "# Get markers for each cluster\n",
    "sc.tl.rank_genes_groups(adata, 'leiden', method='wilcoxon')\n",
    "sc.tl.filter_rank_genes_groups(adata, min_in_group_fraction=0.15, max_out_group_fraction=0.85)"
   ]
  },
  {
   "cell_type": "code",
   "execution_count": null,
   "id": "61e2f308-13b1-4243-bc34-e7e31415179d",
   "metadata": {},
   "outputs": [],
   "source": [
    "from datetime import datetime\n",
    "date = datetime.today().strftime('%Y-%m-%d')\n",
    "clustering_out_path = os.path.join(fig_path, f'{date}-clustering')\n",
    "if not os.path.exists(clustering_out_path):\n",
    "    os.mkdir(clustering_out_path)"
   ]
  },
  {
   "cell_type": "code",
   "execution_count": null,
   "id": "54690569-98ec-4d06-82ec-18680242b6a5",
   "metadata": {},
   "outputs": [],
   "source": [
    "# Save log\n",
    "with open(f'{clustering_out_path}/log_r_{cluster_resolution}.txt', 'w') as f:\n",
    "    f.write(f\"\"\"\n",
    "Resolution: {cluster_resolution}\n",
    "Number of clusters: {n_clusters}\n",
    "UMAP min_dist: {min_dist}\n",
    "UMAP spread: {spread}\"\"\")\n",
    "    \n",
    "# save results\n",
    "with pd.ExcelWriter(os.path.join(clustering_out_path, f'clustering_markers_r_{cluster_resolution}.xlsx'), mode='w') as writer:  \n",
    "    for current_cell_type in adata.obs.leiden.cat.categories:\n",
    "        current_df = sc.get.rank_genes_groups_df(adata, group=current_cell_type, key='rank_genes_groups')\n",
    "        current_df.to_excel(writer, sheet_name=f'{current_cell_type}')\n",
    "        \n",
    "with pd.ExcelWriter(os.path.join(clustering_out_path, f'clustering_markers_r_{cluster_resolution}_filtered.xlsx'), mode='w') as writer:  \n",
    "    for current_cell_type in adata.obs.leiden.cat.categories:\n",
    "        current_df = sc.get.rank_genes_groups_df(adata, group=current_cell_type, key='rank_genes_groups_filtered')\n",
    "        current_df.to_excel(writer, sheet_name=f'{current_cell_type}')\n",
    "        \n",
    "# save obs\n",
    "adata.obs.to_csv(os.path.join(clustering_out_path, f'obs_r_{cluster_resolution}.csv'))"
   ]
  },
  {
   "cell_type": "code",
   "execution_count": null,
   "id": "1a7147ff-18e4-4bde-a636-c096ba4d2d45",
   "metadata": {},
   "outputs": [],
   "source": [
    "# check cluster distribution\n",
    "import matplotlib.patches as mpatches\n",
    "leiden_df = pd.DataFrame(adata.obs.groupby('leiden')['protocol-replicate'].value_counts().values)\n",
    "leiden_df.columns = ['counts']\n",
    "leiden_df['leiden'] = [i[0] for i in adata.obs.groupby('leiden')['protocol-replicate'].value_counts().index]\n",
    "leiden_df['protocol-replicate'] = [i[1] for i in adata.obs.groupby('leiden')['protocol-replicate'].value_counts().index]\n",
    "sum_counts = leiden_df.groupby('leiden')['counts'].sum().to_dict()\n",
    "leiden_df['percentage'] = [leiden_df.loc[i, 'counts'] / sum_counts[leiden_df.loc[i, 'leiden']] * 100 for i in range(leiden_df.shape[0])]\n",
    "\n",
    "s_df = leiden_df.loc[leiden_df['protocol-replicate'] == 'RIBOmap-rep1', :]\n",
    "s_df['percentage'] = 100\n",
    "r_df = leiden_df.loc[leiden_df['protocol-replicate'] == 'RIBOmap-rep2', :]\n",
    "\n",
    "fig, ax = plt.subplots(figsize=(15, 10))\n",
    "bar1 = sns.barplot(x=\"leiden\",  y=\"percentage\", data=s_df, color='#fcad03')\n",
    "bar2 = sns.barplot(x=\"leiden\", y=\"percentage\", data=r_df, color='#03fc35')\n",
    "\n",
    "# add legend\n",
    "top_bar = mpatches.Patch(color='#fcad03', label='RIBOmap-rep1')\n",
    "middle_bar = mpatches.Patch(color='#03fc35', label='RIBOmap-rep2')\n",
    "plt.legend(handles=[top_bar, middle_bar])\n",
    "\n",
    "# show the graph\n",
    "plt.show()"
   ]
  },
  {
   "cell_type": "code",
   "execution_count": null,
   "id": "bae83610-cd1b-4baf-b316-7b6c37b3633d",
   "metadata": {},
   "outputs": [],
   "source": [
    "fig, ax = plt.subplots(figsize=(12, 5))\n",
    "sns.barplot(x='leiden', y='percentage', hue='protocol-replicate', data=leiden_df)\n",
    "plt.show()"
   ]
  },
  {
   "cell_type": "code",
   "execution_count": null,
   "id": "523cc081-dbef-463f-8780-9f5b707759c6",
   "metadata": {},
   "outputs": [],
   "source": [
    "plt.subplots(figsize=(10, 5))\n",
    "sns.boxplot(x='leiden', y='total_counts', data=adata.obs)"
   ]
  },
  {
   "cell_type": "code",
   "execution_count": null,
   "id": "b75dc0fc-4021-4ea7-b366-e7b523d73789",
   "metadata": {},
   "outputs": [],
   "source": [
    "test = adata.obs.groupby(['leiden']).median()\n",
    "test['leiden'] = test.index.values\n",
    "plt.subplots(figsize=(10, 5))\n",
    "sns.barplot(x='leiden', y='total_counts', data=test)"
   ]
  },
  {
   "cell_type": "code",
   "execution_count": null,
   "id": "79c47839-8bc8-4d61-b223-515e11c524d7",
   "metadata": {},
   "outputs": [],
   "source": [
    "test = pd.DataFrame(adata.obs['leiden'].value_counts())\n",
    "test.columns = ['count']\n",
    "test['leiden'] = test.index.values\n",
    "plt.subplots(figsize=(10, 5))\n",
    "sns.barplot(x='leiden', y='count', data=test)"
   ]
  },
  {
   "cell_type": "markdown",
   "id": "ab84ef8d-54d7-4ff6-86d3-0dc2d9ba7fc7",
   "metadata": {},
   "source": [
    "### Spatial map"
   ]
  },
  {
   "cell_type": "code",
   "execution_count": null,
   "id": "8404a781-a15c-4f57-9f9f-e5b489e08d53",
   "metadata": {},
   "outputs": [],
   "source": [
    "current_sample = 'RIBOmap-rep2'\n",
    "\n",
    "fig, ax = plt.subplots(figsize=(15, 20))\n",
    "g = sns.scatterplot(x='column', y='row', hue='leiden', \n",
    "                    palette=cluster_pl,\n",
    "                    data=adata.obs.loc[adata.obs['protocol-replicate'] == current_sample, :], \n",
    "                    s=5,\n",
    "                    ax=ax)\n",
    "g.set_title(current_sample)\n",
    "g.invert_yaxis()\n",
    "g.axes.xaxis.set_visible(False)\n",
    "g.axes.yaxis.set_visible(False)"
   ]
  },
  {
   "cell_type": "code",
   "execution_count": null,
   "id": "834d8d38-525a-43d8-a05d-127edd941f6f",
   "metadata": {},
   "outputs": [],
   "source": [
    "current_sample = 'RIBOmap-rep1'\n",
    "\n",
    "fig, ax = plt.subplots(figsize=(15, 20))\n",
    "g = sns.scatterplot(x='column', y='row', hue='leiden', \n",
    "                    palette=cluster_pl,\n",
    "                    data=adata.obs.loc[adata.obs['protocol-replicate'] == current_sample, :], \n",
    "                    s=5,\n",
    "                    ax=ax)\n",
    "g.set_title(current_sample)\n",
    "g.invert_xaxis()\n",
    "g.axes.xaxis.set_visible(False)\n",
    "g.axes.yaxis.set_visible(False)"
   ]
  },
  {
   "cell_type": "code",
   "execution_count": null,
   "id": "727eda1c-e37c-476c-8ebc-04ed8b4dd16a",
   "metadata": {
    "scrolled": true,
    "tags": []
   },
   "outputs": [],
   "source": [
    "# plot summary plot for each cluster\n",
    "\n",
    "for i, current_cluster in enumerate(tqdm(sorted(adata.obs['leiden'].unique()))):\n",
    "    \n",
    "    # get dfs \n",
    "    df1 = adata.obs.loc[adata.obs['protocol-replicate'] == 'RIBOmap-rep1', :]\n",
    "    df2 = adata.obs.loc[adata.obs['protocol-replicate'] == 'RIBOmap-rep2', :]\n",
    "\n",
    "    fig, axs = plt.subplots(nrows=2, ncols=2, figsize=(13, 11))\n",
    "    axs = axs.flatten()\n",
    "\n",
    "\n",
    "    # plot1\n",
    "    g1 = sns.scatterplot(x='column', y='row', color='#1111', \n",
    "                        data=df1, \n",
    "                        s=5,\n",
    "                        ax=axs[0])\n",
    "\n",
    "    g1.set_title('RIBOmap-rep1')\n",
    "    g1.invert_xaxis()\n",
    "    g1.axes.xaxis.set_visible(False)\n",
    "    g1.axes.yaxis.set_visible(False)\n",
    "\n",
    "\n",
    "    h1 = sns.scatterplot(x='column', y='row', hue='leiden', legend=None,\n",
    "                        palette=cluster_pl,\n",
    "                        data=df1.loc[df1['leiden'] == current_cluster, ], \n",
    "                        s=5,\n",
    "                        ax=axs[0])\n",
    "\n",
    "    # plot2\n",
    "    g2 = sns.scatterplot(x='column', y='row', color='#1111', \n",
    "                        data=df2, \n",
    "                        s=5,\n",
    "                        ax=axs[1])\n",
    "\n",
    "    g2.set_title('RIBOmap-rep2')\n",
    "    g2.invert_yaxis()\n",
    "    g2.axes.xaxis.set_visible(False)\n",
    "    g2.axes.yaxis.set_visible(False)\n",
    "\n",
    "    h2 = sns.scatterplot(x='column', y='row', hue='leiden', legend=None,\n",
    "                        palette=cluster_pl,\n",
    "                        data=df2.loc[df2['leiden'] == current_cluster, ], \n",
    "                        s=5,\n",
    "                        ax=axs[1])\n",
    "\n",
    "\n",
    "    # umap1\n",
    "    ax = sc.pl.umap(adata, show=False, color=None, alpha=1, size=(120000 / adata.n_obs), ax=axs[2], title='', palette=sns.color_palette(['#fafafa']))\n",
    "    sc.pl.umap(adata[(adata.obs[\"leiden\"] == current_cluster) & (adata.obs['protocol-replicate'] == 'RIBOmap-rep1')], color='leiden', frameon=False, ax=ax, legend_loc=None, size=(120000 / adata.n_obs),\n",
    "           title='', show=False, palette=sns.color_palette([adata.uns['leiden_colors'][int(current_cluster)]]))\n",
    "\n",
    "    # umap2\n",
    "    ax = sc.pl.umap(adata, show=False, color=None, alpha=1, size=(120000 / adata.n_obs), ax=axs[3], title='', palette=sns.color_palette(['#fafafa']))\n",
    "    sc.pl.umap(adata[(adata.obs[\"leiden\"] == current_cluster) & (adata.obs['protocol-replicate'] == 'RIBOmap-rep2')], color='leiden', frameon=False, ax=ax, legend_loc=None, size=(120000 / adata.n_obs),\n",
    "           title='', show=False, palette=sns.color_palette([adata.uns['leiden_colors'][int(current_cluster)]]))\n",
    "\n",
    "    plt.savefig(os.path.join(clustering_out_path, 'summary', f'cluster_{current_cluster}.jpeg'))"
   ]
  },
  {
   "cell_type": "markdown",
   "id": "4502f57f-883e-4fd5-b352-d0a35b54b468",
   "metadata": {},
   "source": [
    "## Gene spatial map"
   ]
  },
  {
   "cell_type": "code",
   "execution_count": null,
   "id": "a5be704d-6c28-4373-ba69-2ba547a0f8ba",
   "metadata": {
    "tags": []
   },
   "outputs": [],
   "source": [
    "# Gene spatial map\n",
    "# sns.set_style(\"dark\")\n",
    "sns.set(rc={'figure.facecolor':'black', 'axes.facecolor':'black'})\n",
    "\n",
    "current_gene = 'Qk'\n",
    "current_sample = 'RIBOmap-rep2'\n",
    "current_gene_vector = adata.raw[adata.obs['protocol-replicate'] == current_sample, current_gene].X.flatten()\n",
    "\n",
    "# current_gene_vector = adata.obs.loc[adata.obs['protocol-replicate'] == current_sample, 'total_counts']\n",
    "\n",
    "fig, ax = plt.subplots(figsize=(15, 20))\n",
    "g = sns.scatterplot(x='column', y='row', hue=current_gene_vector, \n",
    "                    palette='viridis',\n",
    "                    data=adata.obs.loc[adata.obs['protocol-replicate'] == current_sample, :], \n",
    "                    s=10,\n",
    "                    alpha=.8,\n",
    "                    linewidth=0,\n",
    "                    legend=False,\n",
    "                    ax=ax)\n",
    "g.set_title(f'{current_sample} - {current_gene}', color='w')\n",
    "g.invert_yaxis()\n",
    "g.axes.xaxis.set_visible(False)\n",
    "g.axes.yaxis.set_visible(False)\n",
    "sns.despine(left=True, bottom=True)"
   ]
  },
  {
   "cell_type": "code",
   "execution_count": null,
   "id": "bd3144f7-74c2-4389-aafc-439e56205bda",
   "metadata": {
    "tags": []
   },
   "outputs": [],
   "source": [
    "# Gene spatial map\n",
    "# sns.set_style(\"dark\")\n",
    "sns.set(rc={'figure.facecolor':'black', 'axes.facecolor':'black'})\n",
    "\n",
    "current_gene = 'Qk'\n",
    "current_sample = 'STARmap-rep2'\n",
    "current_gene_vector = adata.raw[adata.obs['protocol-replicate'] == current_sample, current_gene].X.flatten()\n",
    "\n",
    "current_gene_vector = adata.obs.loc[adata.obs['protocol-replicate'] == current_sample, 'total_counts']\n",
    "\n",
    "fig, ax = plt.subplots(figsize=(15, 20))\n",
    "g = sns.scatterplot(x='column', y='row', hue=current_gene_vector, \n",
    "                    palette='viridis',\n",
    "                    data=adata.obs.loc[adata.obs['protocol-replicate'] == current_sample, :], \n",
    "                    s=10,\n",
    "                    alpha=.8,\n",
    "                    linewidth=0,\n",
    "                    legend=False,\n",
    "                    ax=ax)\n",
    "g.set_title(f'{current_sample} - {current_gene}', color='w')\n",
    "g.invert_yaxis()\n",
    "g.axes.xaxis.set_visible(False)\n",
    "g.axes.yaxis.set_visible(False)\n",
    "sns.despine(left=True, bottom=True)"
   ]
  },
  {
   "cell_type": "code",
   "execution_count": null,
   "id": "24fedd58-ab7a-4648-ab7b-a1b01610340d",
   "metadata": {
    "tags": []
   },
   "outputs": [],
   "source": [
    "# Gene spatial map\n",
    "# sns.set_style(\"dark\")\n",
    "sns.set(rc={'figure.facecolor':'black', 'axes.facecolor':'black'})\n",
    "\n",
    "current_gene = 'Qk'\n",
    "current_sample = 'RIBOmap-rep1'\n",
    "current_gene_vector = adata.raw[adata.obs['protocol-replicate'] == current_sample, current_gene].X.flatten()\n",
    "\n",
    "current_gene_vector = adata.obs.loc[adata.obs['protocol-replicate'] == current_sample, 'total_counts']\n",
    "\n",
    "fig, ax = plt.subplots(figsize=(15, 20))\n",
    "g = sns.scatterplot(x='column', y='row', hue=current_gene_vector, \n",
    "                    palette='viridis',\n",
    "                    data=adata.obs.loc[adata.obs['protocol-replicate'] == current_sample, :], \n",
    "                    s=10,\n",
    "                    alpha=.8,\n",
    "                    linewidth=0,\n",
    "                    legend=False,\n",
    "                    ax=ax)\n",
    "g.set_title(f'{current_sample} - {current_gene}', color='w')\n",
    "g.invert_yaxis()\n",
    "g.axes.xaxis.set_visible(False)\n",
    "g.axes.yaxis.set_visible(False)\n",
    "sns.despine(left=True, bottom=True)"
   ]
  },
  {
   "cell_type": "code",
   "execution_count": null,
   "id": "a4907729-8bc9-4393-82f6-abeef8880ed6",
   "metadata": {},
   "outputs": [],
   "source": [
    "# output figures based on zefang's list \n",
    "zf_df = pd.read_csv(os.path.join(base_path, 'other-datasets', 'interest_t1_2.csv'), header=None)\n",
    "zf_df.columns = ['Gene']"
   ]
  },
  {
   "cell_type": "code",
   "execution_count": null,
   "id": "da6c8f49-e48d-4087-acce-69b9a37e58ad",
   "metadata": {},
   "outputs": [],
   "source": [
    "# geen counts > 5000\n",
    "adata.var['total_counts'] = adata.layers['raw'].sum(axis=0)\n",
    "adata.var['RIBOmap_counts'] = adata[adata.obs['protocol'] == 'RIBOmap', :].layers['raw'].sum(axis=0)\n",
    "adata.var['STARmap_counts'] = adata[adata.obs['protocol'] == 'STARmap', :].layers['raw'].sum(axis=0)\n",
    "genes_df = adata.var.loc[(adata.var['RIBOmap_counts'] > 5000) & (adata.var['STARmap_counts'] > 5000), :]"
   ]
  },
  {
   "cell_type": "code",
   "execution_count": null,
   "id": "adffa00c-95fb-412e-abb8-f165661d95df",
   "metadata": {
    "scrolled": true,
    "tags": []
   },
   "outputs": [],
   "source": [
    "sns.set(rc={'figure.facecolor':'black', 'axes.facecolor':'black'})\n",
    "# for current_gene in tqdm(zf_df['Gene']):\n",
    "    \n",
    "for current_gene in tqdm(genes_df.index):\n",
    "    \n",
    "    # get dfs \n",
    "    ribo_df = adata.obs.loc[adata.obs['protocol-replicate'] == 'RIBOmap-rep2', :]\n",
    "    star_df = adata.obs.loc[adata.obs['protocol-replicate'] == 'STARmap-rep2', :]\n",
    "    \n",
    "    ribo_vector = adata.raw[adata.obs['protocol-replicate'] == 'RIBOmap-rep2', current_gene].X.flatten()\n",
    "    star_vector = adata.raw[adata.obs['protocol-replicate'] == 'STARmap-rep2', current_gene].X.flatten()\n",
    "    vmax = max(ribo_vector.max(), star_vector.max())\n",
    "\n",
    "    # construct plots\n",
    "    fig, axs = plt.subplots(nrows=1, ncols=2, figsize=(30, 20))\n",
    "    axs = axs.flatten()\n",
    "\n",
    "    # ribo plot\n",
    "    g1 = sns.scatterplot(x='column', y='row', hue=ribo_vector, \n",
    "                        palette='viridis',\n",
    "                        data=ribo_df, \n",
    "                        s=10,\n",
    "                        alpha=.8,\n",
    "                        linewidth=0,\n",
    "                        legend=False, vmax=vmax,\n",
    "                        ax=axs[0])\n",
    "    g1.set_title(f'RIBOmap-rep2 - {current_gene}', color='w')\n",
    "    g1.invert_yaxis()\n",
    "    g1.axes.xaxis.set_visible(False)\n",
    "    g1.axes.yaxis.set_visible(False)\n",
    "    # sns.despine(left=True, bottom=True)\n",
    "\n",
    "\n",
    "    # star plot\n",
    "    g2 = sns.scatterplot(x='column', y='row', hue=star_vector, \n",
    "                        palette='viridis',\n",
    "                        data=star_df, \n",
    "                        s=10,\n",
    "                        alpha=.8,\n",
    "                        linewidth=0,\n",
    "                        legend=False, vmax=vmax,\n",
    "                        ax=axs[1])\n",
    "    g2.set_title(f'STARmap-rep2 - {current_gene}', color='w')\n",
    "    g2.invert_yaxis()\n",
    "    g2.axes.xaxis.set_visible(False)\n",
    "    g2.axes.yaxis.set_visible(False)\n",
    "\n",
    "    plt.tight_layout()\n",
    "    # plt.show()\n",
    "    plt.savefig(os.path.join(fig_path, 'gene-expression-spatial-map-counts-5000', f'{current_gene}.png'))\n",
    "    plt.clf()\n",
    "    \n",
    "sns.reset_orig()"
   ]
  },
  {
   "cell_type": "code",
   "execution_count": null,
   "id": "643237e0-27cd-439f-a624-aab8fdff1850",
   "metadata": {
    "scrolled": true,
    "tags": []
   },
   "outputs": [],
   "source": [
    "# plot summary plot for each cluster\n",
    "from tqdm.notebook import tqdm\n",
    "\n",
    "for i, current_cluster in enumerate(tqdm(sorted(sdata.obs['leiden'].unique()))):\n",
    "    \n",
    "    # get dfs \n",
    "    df1 = sdata.obs.loc[sdata.obs['protocol-replicate'] == 'RIBOmap-rep1', :]\n",
    "    df2 = sdata.obs.loc[sdata.obs['protocol-replicate'] == 'RIBOmap-rep2', :]\n",
    "    df3 = sdata.obs.loc[sdata.obs['protocol-replicate'] == 'STARmap-rep2', :]\n",
    "\n",
    "    fig, axs = plt.subplots(nrows=2, ncols=3, figsize=(16, 11))\n",
    "    axs = axs.flatten()\n",
    "\n",
    "\n",
    "    # plot1\n",
    "    g1 = sns.scatterplot(x='column', y='row', color='#1111', \n",
    "                        data=df1, \n",
    "                        s=5,\n",
    "                        ax=axs[0])\n",
    "\n",
    "    g1.set_title('RIBOmap-rep1')\n",
    "    g1.invert_xaxis()\n",
    "    g1.axes.xaxis.set_visible(False)\n",
    "    g1.axes.yaxis.set_visible(False)\n",
    "\n",
    "\n",
    "    h1 = sns.scatterplot(x='column', y='row', hue='leiden', legend=None,\n",
    "                        palette=cluster_pl,\n",
    "                        data=df1.loc[df1['leiden'] == current_cluster, ], \n",
    "                        s=5,\n",
    "                        ax=axs[0])\n",
    "\n",
    "    # plot2\n",
    "    g2 = sns.scatterplot(x='column', y='row', color='#1111', \n",
    "                        data=df2, \n",
    "                        s=5,\n",
    "                        ax=axs[1])\n",
    "\n",
    "    g2.set_title('RIBOmap-rep2')\n",
    "    g2.invert_yaxis()\n",
    "    g2.axes.xaxis.set_visible(False)\n",
    "    g2.axes.yaxis.set_visible(False)\n",
    "\n",
    "    h2 = sns.scatterplot(x='column', y='row', hue='leiden', legend=None,\n",
    "                        palette=cluster_pl,\n",
    "                        data=df2.loc[df2['leiden'] == current_cluster, ], \n",
    "                        s=5,\n",
    "                        ax=axs[1])\n",
    "\n",
    "    # plot3\n",
    "    g3 = sns.scatterplot(x='column', y='row', color='#1111', \n",
    "                        data=df3, \n",
    "                        s=5,\n",
    "                        ax=axs[2])\n",
    "\n",
    "    g3.set_title('STARmap-rep2')\n",
    "    g3.invert_yaxis()\n",
    "    g3.axes.xaxis.set_visible(False)\n",
    "    g3.axes.yaxis.set_visible(False)\n",
    "\n",
    "    h3 = sns.scatterplot(x='column', y='row', hue='leiden', legend=None,\n",
    "                        palette=cluster_pl,\n",
    "                        data=df3.loc[df3['leiden'] == current_cluster, ], \n",
    "                        s=5,\n",
    "                        ax=axs[2])\n",
    "\n",
    "    # umap1\n",
    "    ax = sc.pl.umap(sdata, show=False, color=None, alpha=1, size=(120000 / sdata.n_obs), ax=axs[3], title='', palette=sns.color_palette(['#fafafa']))\n",
    "    sc.pl.umap(sdata[(sdata.obs[\"leiden\"] == current_cluster) & (sdata.obs['protocol-replicate'] == 'RIBOmap-rep1')], color='leiden', frameon=False, ax=ax, legend_loc=None, size=(120000 / sdata.n_obs),\n",
    "           title='', show=False, palette=sns.color_palette([sdata.uns['leiden_colors'][int(current_cluster)]]))\n",
    "\n",
    "    # umap2\n",
    "    ax = sc.pl.umap(sdata, show=False, color=None, alpha=1, size=(120000 / sdata.n_obs), ax=axs[4], title='', palette=sns.color_palette(['#fafafa']))\n",
    "    sc.pl.umap(sdata[(sdata.obs[\"leiden\"] == current_cluster) & (sdata.obs['protocol-replicate'] == 'RIBOmap-rep2')], color='leiden', frameon=False, ax=ax, legend_loc=None, size=(120000 / sdata.n_obs),\n",
    "           title='', show=False, palette=sns.color_palette([sdata.uns['leiden_colors'][int(current_cluster)]]))\n",
    "\n",
    "    # umap3\n",
    "    ax = sc.pl.umap(sdata, show=False, color=None, alpha=1, size=(120000 / sdata.n_obs), ax=axs[5], title='', palette=sns.color_palette(['#fafafa']))\n",
    "    sc.pl.umap(sdata[(sdata.obs[\"leiden\"] == current_cluster) & (sdata.obs['protocol-replicate'] == 'STARmap-rep2')], color='leiden', frameon=False, ax=ax, legend_loc=None, size=(120000 / sdata.n_obs),\n",
    "           title='', show=False, palette=sns.color_palette([sdata.uns['leiden_colors'][int(current_cluster)]]))\n",
    "\n",
    "    plt.show()\n",
    "    # plt.savefig(os.path.join(fig_path, 'r_2.2_summary', f'cluster_{current_cluster}.jpeg'))"
   ]
  },
  {
   "cell_type": "markdown",
   "id": "981d438b-30e2-44f3-af98-04a382620ec9",
   "metadata": {},
   "source": [
    "## Level 2 clustering"
   ]
  },
  {
   "cell_type": "markdown",
   "id": "e272234e-ff78-4222-bfdd-d3547999b050",
   "metadata": {
    "tags": []
   },
   "source": [
    "### assign label"
   ]
  },
  {
   "cell_type": "code",
   "execution_count": null,
   "id": "96132435-2f26-4380-ba98-c90b23123d2c",
   "metadata": {
    "scrolled": true,
    "tags": []
   },
   "outputs": [],
   "source": [
    "# Print markers \n",
    "markers = []\n",
    "temp = pd.DataFrame(adata.uns['rank_genes_groups_filtered']['names']).head(15)\n",
    "for i in range(temp.shape[1]):\n",
    "    curr_col = temp.iloc[:, i].to_list()\n",
    "    markers = markers + curr_col\n",
    "    # print(i, curr_col)\n",
    "    print(i)\n",
    "    for j in curr_col:\n",
    "        print(j, end=' ')\n",
    "    print('')\n",
    "    \n",
    "sc.pl.dotplot(adata, ['Slc17a7', 'Gad1', 'Gad2', 'Plp1', 'Gfap', 'Ctss', 'Bsg', 'Vtn'], 'leiden', dendrogram=False, standard_scale='group')"
   ]
  },
  {
   "cell_type": "code",
   "execution_count": null,
   "id": "a697041d-745b-4f42-a9ff-4be0b8057f1b",
   "metadata": {},
   "outputs": [],
   "source": [
    "# create backup for leiden label\n",
    "adata.obs['orig_leiden'] = adata.obs['leiden'].values\n",
    "\n",
    "adata.obs['level_1'] = adata.obs['leiden'].values\n",
    "adata.obs['level_2'] = adata.obs['leiden'].values\n",
    "adata.obs['level_3'] = adata.obs['leiden'].values"
   ]
  },
  {
   "cell_type": "code",
   "execution_count": null,
   "id": "3e5feeb7-ebc3-40a1-a738-7131fa943bb0",
   "metadata": {},
   "outputs": [],
   "source": [
    "# Change cluster label to cell type label\n",
    "transfer_dict_l1 = {}\n",
    "transfer_dict_l2 = {}\n",
    "transfer_dict_l3 = {}\n",
    "\n",
    "# Level_1\n",
    "level_1_list = [\n",
    "    'Neuronal cell', #0\n",
    "    'Neuronal cell', #1\n",
    "    'Neuronal cell', #2\n",
    "    'Glia', #3\n",
    "    'Glia', #4\n",
    "    'Glia', #5\n",
    "    'Glia', #6\n",
    "    'Glia', #7\n",
    "    'Neuronal cell', #8\n",
    "    'Neuronal cell', #9\n",
    "    'Neuronal cell', #10\n",
    "    'Glia', #11\n",
    "    'Glia', #12\n",
    "    'Neuronal cell', #13\n",
    "    'Neuronal cell', #14\n",
    "    'Glia', #15\n",
    "    'Glia', #16\n",
    "    'Neuronal cell', #17\n",
    "    'Glia', #18\n",
    "    'Glia', #19\n",
    "    'Neuronal cell', #20\n",
    "    'Neuronal cell', #21\n",
    "    'Glia', #22\n",
    "]\n",
    "\n",
    "\n",
    "# Level_2\n",
    "level_2_list = ['Telencephalon projecting neurons', #0\n",
    "                'Telencephalon projecting neurons', #1 \n",
    "                'Cholinergic, monoaminergic and peptidergic neurons', #2\n",
    "                'Oligodendrocyte', #3\n",
    "                'Astrocyte', #4\n",
    "                'Oligodendrocyte', #5\n",
    "                'Vascular cells', #6\n",
    "                'Astrocyte', #7\n",
    "                'Di/Mesencephalon neurons', #8 \n",
    "                'Telencephalon projecting neurons', #9\n",
    "                'Telencephalon interneurons', #10\n",
    "                'Vascular cells', #11\n",
    "                'Microglia', #12\n",
    "                'Telencephalon projecting neurons', #13 \n",
    "                'Telencephalon projecting neurons', #14\n",
    "                'Oligodendrocytes precursor cell', #15\n",
    "                'Astroependymal cells', #16\n",
    "                'Cholinergic, monoaminergic and peptidergic neurons', #17\n",
    "                'Astroependymal cells', #18 \n",
    "                'Perivascular macrophages', #19\n",
    "                'Telencephalon projecting neurons', #20 \n",
    "                'Telencephalon projecting neurons', #21\n",
    "                'Perivascular macrophages', #22         \n",
    "]\n",
    "\n",
    "# Level_3\n",
    "level_3_list = ['NA', #0\n",
    "                'NA', #1 \n",
    "                'NA', #2\n",
    "                'Oligo1', #3\n",
    "                'NA', #4\n",
    "                'Oligo2', #5\n",
    "                'NA', #6\n",
    "                'NA', #7\n",
    "                'NA', #8 \n",
    "                'NA', #9\n",
    "                'NA', #10\n",
    "                'NA', #11\n",
    "                'Micro', #12\n",
    "                'NA', #13 \n",
    "                'NA', #14\n",
    "                'OPC', #15\n",
    "                'EPEN', #16\n",
    "                'NA', #17\n",
    "                'CHOR', #18 \n",
    "                'PVM1', #19\n",
    "                'NA', #20 \n",
    "                'NA', #21\n",
    "                'PVM2', #22              \n",
    "]\n",
    "\n",
    "\n",
    "# construct transfer dict\n",
    "for i in sorted(adata.obs['leiden'].unique()):\n",
    "    transfer_dict_l1[i] = level_1_list[int(i)]\n",
    "    transfer_dict_l2[i] = level_2_list[int(i)]\n",
    "    transfer_dict_l3[i] = level_3_list[int(i)]"
   ]
  },
  {
   "cell_type": "code",
   "execution_count": null,
   "id": "636c2aec-f6c0-4bdc-8ade-2d377bb00daf",
   "metadata": {},
   "outputs": [],
   "source": [
    "# Assign cell type to sdata\n",
    "adata.obs = adata.obs.replace({'level_1': transfer_dict_l1})\n",
    "adata.obs = adata.obs.replace({'level_2': transfer_dict_l2})\n",
    "adata.obs = adata.obs.replace({'level_3': transfer_dict_l3})"
   ]
  },
  {
   "cell_type": "markdown",
   "id": "58353947-c247-4b17-ad2e-ecec8753c8ac",
   "metadata": {
    "tags": []
   },
   "source": [
    "### classify mix cells"
   ]
  },
  {
   "cell_type": "code",
   "execution_count": null,
   "id": "0875e5f2-24f6-447e-b5cf-5f20452aae36",
   "metadata": {
    "scrolled": true,
    "tags": []
   },
   "outputs": [],
   "source": [
    "# calculate the distance between each cell and its leiden cluster center\n",
    "adata.obs['distance2centroid_leiden'] = 9999\n",
    "\n",
    "# find centroid of each leiden cluster\n",
    "from sklearn.neighbors import NearestCentroid\n",
    "from scipy.spatial.distance import cdist\n",
    "clf = NearestCentroid(shrink_threshold=None)\n",
    "clf.fit(adata.obsm['X_umap'], adata.obs.leiden)\n",
    "\n",
    "# plot cluster center\n",
    "fig, ax = plt.subplots(figsize=(10,7))\n",
    "sc.pl.umap(adata, color='leiden', ax=ax, show=False, legend_loc='on data')\n",
    "ax.scatter(clf.centroids_[:, 0], clf.centroids_[:, 1], s=10, c='r')\n",
    "plt.show()\n",
    "\n",
    "for i, current_label in enumerate(sorted(adata.obs['leiden'].cat.categories)):\n",
    "    current_centroid = clf.centroids_[i, :].reshape([1,2])\n",
    "    \n",
    "    # check centroid location \n",
    "    # fig, ax = plt.subplots(figsize=(10,7))\n",
    "    # sc.pl.umap(adata, color='leiden', ax=ax, show=False, legend_loc='on data', title=f'cluster-{current_label}')\n",
    "    # ax.scatter(current_centroid[:, 0], current_centroid[:, 1], s=10, c='r')\n",
    "    # plt.show()\n",
    "\n",
    "    # calculate distance \n",
    "    dm = cdist(adata[adata.obs['leiden'] == current_label, :].obsm['X_umap'], current_centroid)\n",
    "    adata.obs.loc[adata.obs['leiden'] == current_label, 'distance2centroid_leiden'] = dm\n",
    "\n",
    "    # plot distance distribution\n",
    "    fig, ax = plt.subplots(figsize=(5,3))\n",
    "    sns.histplot(dm)\n",
    "    plt.title(f'cluster-{current_label}')\n",
    "    plt.show()\n",
    "    \n",
    "    # visualize distance calculation \n",
    "    fig, axs = plt.subplots(figsize=(20,7), nrows=1, ncols=2)\n",
    "    sns.scatterplot(adata.obsm['X_umap'][:, 0], adata.obsm['X_umap'][:, 1], color='#1111', s=1, ax=axs[0])\n",
    "    sns.scatterplot(adata[adata.obs['leiden'] == current_label, :].obsm['X_umap'][:, 0], adata[adata.obs['leiden'] == current_label, :].obsm['X_umap'][:, 1], s=1, legend=None, ax=axs[0])\n",
    "    axs[0].scatter(current_centroid[:, 0], current_centroid[:, 1], s=10, c='r')\n",
    "\n",
    "    sns.scatterplot(adata.obsm['X_umap'][:, 0], adata.obsm['X_umap'][:, 1], color='#1111', s=1, ax=axs[1])\n",
    "    sns.scatterplot(adata[adata.obs['leiden'] == current_label, :].obsm['X_umap'][:, 0], adata[adata.obs['leiden'] == current_label, :].obsm['X_umap'][:, 1], \n",
    "                    hue=adata.obs.loc[adata.obs['leiden'] == current_label, 'distance2centroid_leiden'], palette='viridis', s=1, legend=None, ax=axs[1])\n",
    "    axs[1].scatter(current_centroid[:, 0], current_centroid[:, 1], s=10, c='r')\n",
    "    plt.show()\n",
    "\n",
    "    "
   ]
  },
  {
   "cell_type": "code",
   "execution_count": null,
   "id": "1da15776-77b7-4a10-8ad6-17bf8fc82e70",
   "metadata": {
    "scrolled": true,
    "tags": []
   },
   "outputs": [],
   "source": [
    "# classify mix cells \n",
    "manual_threshold = [\n",
    "    10, # 0\n",
    "    7, # 1\n",
    "    7, # 10\n",
    "    6, # 11\n",
    "    6, # 12\n",
    "    4, # 13\n",
    "    4, # 14\n",
    "    5, # 15\n",
    "    4, # 16\n",
    "    5, # 17\n",
    "    5, # 18\n",
    "    5, # 19\n",
    "    10, # 2\n",
    "    3, # 20\n",
    "    5, # 21\n",
    "    4, # 22\n",
    "    7, # 3\n",
    "    9.3, # 4?\n",
    "    10, # 5\n",
    "    7, # 6\n",
    "    6, # 7\n",
    "    6, # 8\n",
    "    10, # 9\n",
    "]\n",
    "adata.obs['is_mix'] = 'False'\n",
    "\n",
    "# plot overall distance distribution\n",
    "sns.distplot(adata.obs['distance2centroid_leiden'])\n",
    "\n",
    "for i, current_label in enumerate(sorted(adata.obs['leiden'].cat.categories)):\n",
    "    current_centroid = clf.centroids_[i, :].reshape([1,2])\n",
    "    \n",
    "    # plot distance distribution of current cluster\n",
    "    fig, ax = plt.subplots(figsize=(5,3))\n",
    "    sns.histplot(adata.obs.loc[adata.obs['leiden'] == current_label, 'distance2centroid_leiden'])\n",
    "    ax.axvline(x=manual_threshold[i], c='r')\n",
    "    plt.title(f'cluster-{current_label}')\n",
    "    plt.show()\n",
    "    \n",
    "    adata.obs.loc[(adata.obs['leiden'] == current_label) & (adata.obs['distance2centroid_leiden'] > manual_threshold[i]), 'is_mix'] = 'True'\n",
    "    adata.obs['is_mix'] = adata.obs['is_mix'].astype('category')\n",
    "    \n",
    "    fig, axs = plt.subplots(figsize=(20,7), nrows=1, ncols=2)\n",
    "    sns.scatterplot(adata.obsm['X_umap'][:, 0], adata.obsm['X_umap'][:, 1], color='#1111', s=1, ax=axs[0])\n",
    "    sns.scatterplot(adata[adata.obs['leiden'] == current_label, :].obsm['X_umap'][:, 0], adata[adata.obs['leiden'] == current_label, :].obsm['X_umap'][:, 1], s=1, legend=None, ax=axs[0])\n",
    "    axs[0].scatter(current_centroid[0, 0], current_centroid[0, 1], s=10, c='r')\n",
    "\n",
    "    sns.scatterplot(adata.obsm['X_umap'][:, 0], adata.obsm['X_umap'][:, 1], color='#1111', s=1, ax=axs[1])\n",
    "    sns.scatterplot(adata[adata.obs['leiden'] == current_label, :].obsm['X_umap'][:, 0], adata[adata.obs['leiden'] == current_label, :].obsm['X_umap'][:, 1], \n",
    "                    hue=adata.obs.loc[adata.obs['leiden'] == current_label, 'is_mix'], palette='Set1', s=1, legend=None, ax=axs[1])\n",
    "    axs[1].scatter(current_centroid[0, 0], current_centroid[0, 1], s=10, c='r')\n",
    "\n"
   ]
  },
  {
   "cell_type": "code",
   "execution_count": null,
   "id": "85fcca68-3788-4a3c-9055-25f569879339",
   "metadata": {},
   "outputs": [],
   "source": [
    "adata.obs['is_mix'].value_counts()"
   ]
  },
  {
   "cell_type": "code",
   "execution_count": null,
   "id": "3cd94f32-e72d-465c-9e1a-6e47d0be05ee",
   "metadata": {},
   "outputs": [],
   "source": [
    "adata.obs['level_1'] = adata.obs['level_1'].astype(object)\n",
    "adata.obs['level_2'] = adata.obs['level_2'].astype(object)\n",
    "adata.obs['level_3'] = adata.obs['level_3'].astype(object)\n",
    "\n",
    "adata.obs.loc[adata.obs['is_mix'] == 'True', 'level_1'] = 'Mix'\n",
    "adata.obs.loc[adata.obs['is_mix'] == 'True', 'level_2'] = 'Mix'\n",
    "adata.obs.loc[adata.obs['is_mix'] == 'True', 'level_3'] = 'Mix'"
   ]
  },
  {
   "cell_type": "markdown",
   "id": "059566b5-ec44-4e48-9049-f7b67445fe13",
   "metadata": {},
   "source": [
    "### assign category"
   ]
  },
  {
   "cell_type": "code",
   "execution_count": null,
   "id": "e68038df-0e7b-439a-8935-3e6f97992362",
   "metadata": {},
   "outputs": [],
   "source": [
    "# Sort category\n",
    "level_1_order = ['Neuronal cell', 'Glia', 'Mix']\n",
    "level_2_order = ['Telencephalon projecting neurons', #0\n",
    "                'Telencephalon interneurons', #1 \n",
    "                'Cholinergic, monoaminergic and peptidergic neurons', #2\n",
    "                'Di/Mesencephalon neurons', #3\n",
    "                'Astrocyte', #4\n",
    "                'Oligodendrocyte', #5\n",
    "                'Oligodendrocytes precursor cell', #6\n",
    "                'Microglia', #7\n",
    "                'Vascular cells', #8\n",
    "                'Astroependymal cells', #9\n",
    "                'Perivascular macrophages', #10   \n",
    "                 'Mix'\n",
    "]\n",
    "\n",
    "adata.obs['level_1'] = adata.obs['level_1'].astype('category')\n",
    "adata.obs['level_1'].cat.reorder_categories(level_1_order, inplace=True)\n",
    "\n",
    "adata.obs['level_2'] = adata.obs['level_2'].astype('category')\n",
    "adata.obs['level_2'].cat.reorder_categories(level_2_order, inplace=True)"
   ]
  },
  {
   "cell_type": "code",
   "execution_count": null,
   "id": "3120cd9b-e724-4e5e-99ce-40df44bfb111",
   "metadata": {},
   "outputs": [],
   "source": [
    "# Check color legend\n",
    "level_1_pl = sns.color_palette(['#e8486d', '#4873e8', '#ebebeb'])\n",
    "sns.palplot(level_1_pl, size=3)\n",
    "plt.xticks(range(len(level_1_order)), level_1_order, size=10, rotation=45)\n",
    "plt.tight_layout()\n",
    "# plt.savefig(f'./figures/color_legend_top.png')\n",
    "plt.show()"
   ]
  },
  {
   "cell_type": "code",
   "execution_count": null,
   "id": "c660e17c-b8e4-4022-ba75-489dcef6e0a8",
   "metadata": {},
   "outputs": [],
   "source": [
    "# Check color legend (old coloring scheme)\n",
    "level_2_colors = ['#256b00', \n",
    "                  '#ee750a', \n",
    "                  '#f280cf', \n",
    "                  '#f24f4b', \n",
    "                  '#e8e879', \n",
    "                  '#a8e1eb', \n",
    "                  '#667872', \n",
    "                  '#23ccb8', \n",
    "                  '#395ba8', \n",
    "                  '#697491',\n",
    "                  '#8803fc',\n",
    "                  '#ebebeb'\n",
    "                 ]\n",
    "level_2_pl = sns.color_palette(level_2_colors)\n",
    "sns.palplot(level_2_pl, size=3)\n",
    "plt.xticks(range(len(level_2_order)), level_2_order, size=10, rotation=45)\n",
    "plt.tight_layout()\n",
    "# plt.savefig(f'./figures/color_legend_top.png')\n",
    "plt.show()\n",
    "\n",
    "adata.obs['level_2'] = adata.obs['level_2'].cat.reorder_categories(level_2_order)"
   ]
  },
  {
   "cell_type": "code",
   "execution_count": null,
   "id": "c430f2ca-6d14-462c-8c1b-cbff9cbb6e4f",
   "metadata": {},
   "outputs": [],
   "source": [
    "# Save plots\n",
    "# Plot UMAP with cluster labels w/ new color\n",
    "sc.pl.umap(adata, color='level_1', legend_loc='right margin',\n",
    "           legend_fontsize=12, legend_fontoutline=2, frameon=False, \n",
    "           title=f'Level 1', palette=level_1_pl, save=False)\n",
    "\n",
    "fig, ax = plt.subplots(figsize=(10,10))\n",
    "sc.pl.umap(adata, color='level_1', legend_loc='on data',\n",
    "           legend_fontsize=8, legend_fontoutline=1, frameon=False, ax=ax,\n",
    "           title=f'Level 1', palette=level_1_pl, save=False)"
   ]
  },
  {
   "cell_type": "code",
   "execution_count": null,
   "id": "cea6608a-9053-499f-ac28-33f4bbf3e094",
   "metadata": {},
   "outputs": [],
   "source": [
    "# Save plots\n",
    "# Plot UMAP with cluster labels w/ new color\n",
    "sc.pl.umap(adata, color='level_2', legend_loc='right margin',\n",
    "           legend_fontsize=12, legend_fontoutline=2, frameon=False, \n",
    "           title=f'Level 2', palette=level_2_pl, save='_level_2.pdf')\n",
    "\n",
    "fig, ax = plt.subplots(figsize=(10,10))\n",
    "sc.pl.umap(adata, color='level_2', legend_loc='on data',\n",
    "           legend_fontsize=5, legend_fontoutline=1, frameon=False, ax=ax,\n",
    "           title=f'Level 2', palette=level_2_pl, save=False)"
   ]
  },
  {
   "cell_type": "code",
   "execution_count": null,
   "id": "40514a03-8a48-4239-aa6f-e945b1090e07",
   "metadata": {},
   "outputs": [],
   "source": [
    "current_sample = 'RIBOmap-rep2'\n",
    "\n",
    "fig, ax = plt.subplots(figsize=(15, 20))\n",
    "g = sns.scatterplot(x='column', y='row', hue='level_2', legend=None,\n",
    "                    palette=level_2_pl,\n",
    "                    data=adata.obs.loc[adata.obs['protocol-replicate'] == current_sample, :], \n",
    "                    s=10,\n",
    "                    ax=ax)\n",
    "g.set_title(current_sample)\n",
    "g.invert_yaxis()\n",
    "g.axes.xaxis.set_visible(False)\n",
    "g.axes.yaxis.set_visible(False)\n",
    "plt.savefig(os.path.join(fig_path, f'{current_sample}-level2-spatial-map.png'))"
   ]
  },
  {
   "cell_type": "code",
   "execution_count": null,
   "id": "1c62dd47-0f8a-4808-bc08-f33122100529",
   "metadata": {},
   "outputs": [],
   "source": [
    "current_sample = 'RIBOmap-rep1'\n",
    "\n",
    "fig, ax = plt.subplots(figsize=(15, 20))\n",
    "g = sns.scatterplot(x='column', y='row', hue='level_2', legend=None,\n",
    "                    palette=level_2_pl,\n",
    "                    data=adata.obs.loc[adata.obs['protocol-replicate'] == current_sample, :], \n",
    "                    s=10,\n",
    "                    ax=ax)\n",
    "g.set_title(current_sample)\n",
    "g.invert_xaxis()\n",
    "g.axes.xaxis.set_visible(False)\n",
    "g.axes.yaxis.set_visible(False)\n",
    "plt.savefig(os.path.join(fig_path, f'{current_sample}-level2-spatial-map.png'))"
   ]
  },
  {
   "cell_type": "code",
   "execution_count": null,
   "id": "6dde1f58-7ae9-4f81-a6a1-ab82828f4862",
   "metadata": {},
   "outputs": [],
   "source": [
    "del adata.uns['rank_genes_groups_filtered']"
   ]
  },
  {
   "cell_type": "code",
   "execution_count": null,
   "id": "2ec23e1e-8702-402f-906e-aa1458a731fe",
   "metadata": {},
   "outputs": [],
   "source": [
    "# backup \n",
    "adata.write_h5ad(f\"{out_path}/{date}-Brain-combined-3mad-ct-bk1.h5ad\")"
   ]
  },
  {
   "cell_type": "code",
   "execution_count": null,
   "id": "28c8ce16-a629-4156-b3b7-244dc52a45f7",
   "metadata": {},
   "outputs": [],
   "source": [
    "level_2_order"
   ]
  },
  {
   "cell_type": "markdown",
   "id": "cefb1a7a-f630-43bc-8234-f7fb29e2860c",
   "metadata": {},
   "source": [
    "## Level 3 clustering"
   ]
  },
  {
   "cell_type": "code",
   "execution_count": null,
   "id": "77163e66-fea0-4b7b-ac37-2c72e71ad032",
   "metadata": {},
   "outputs": [],
   "source": [
    "# Subset\n",
    "sub_id = 'Microglia'\n",
    "curr_cells = adata.obs['level_2'] == sub_id\n",
    "sdata = adata[curr_cells, :].copy()\n",
    "sdata"
   ]
  },
  {
   "cell_type": "code",
   "execution_count": null,
   "id": "a831bb06-6608-49e0-b955-3ed366d113a0",
   "metadata": {},
   "outputs": [],
   "source": [
    "%%time\n",
    "# redo pp (test)\n",
    "sdata.X = sdata.layers['raw'].copy()\n",
    "del sdata.layers['scaled']\n",
    "del sdata.layers['corrected']\n",
    "\n",
    "sc.pp.normalize_total(sdata)\n",
    "sc.pp.log1p(sdata)\n",
    "sdata.raw = sdata\n",
    "sc.pp.scale(sdata)\n",
    "sdata.layers['scaled'] = sdata.X.copy()\n",
    "sc.pp.regress_out(sdata, ['total_counts'])\n",
    "sdata.layers['corrected'] = sdata.X.copy()\n",
    "\n",
    "# Run PCA\n",
    "sdata.X = sdata.layers['corrected'].copy()\n",
    "sc.tl.pca(sdata, svd_solver='full', use_highly_variable=True)\n",
    "\n",
    "# Plot explained variance \n",
    "sc.pl.pca_variance_ratio(sdata, log=False)\n",
    "\n",
    "# Plot PCA\n",
    "sc.pl.pca(sdata, color='protocol-replicate')\n",
    "\n",
    "import scanpy.external as sce\n",
    "sce.pp.harmony_integrate(sdata, 'protocol-replicate')"
   ]
  },
  {
   "cell_type": "code",
   "execution_count": null,
   "id": "643efbb4-f751-4030-843f-86c9804fd310",
   "metadata": {},
   "outputs": [],
   "source": [
    "# Embedding parameters\n",
    "emb_dict = {\n",
    "    'Di/Mesencephalon neurons': {'n_neighbors': 50, 'n_pcs': 30, 'min_dist': .1, 'cluster_resolution': .4},\n",
    "    'Telencephalon projecting neurons': {'n_neighbors': 50, 'n_pcs': 30, 'min_dist': .1, 'cluster_resolution': .7},\n",
    "    'Oligodendrocyte': {'n_neighbors': 50, 'n_pcs': 10, 'min_dist': .1, 'cluster_resolution': .2},\n",
    "    'Astrocyte': {'n_neighbors': 50, 'n_pcs': 30, 'min_dist': .1, 'cluster_resolution': .5},\n",
    "    'Vascular cells': {'n_neighbors': 50, 'n_pcs': 30, 'min_dist': .1, 'cluster_resolution': .6},\n",
    "     'Telencephalon interneurons': {'n_neighbors': 50, 'n_pcs': 30, 'min_dist': .1, 'cluster_resolution': .6},\n",
    "    'Cholinergic, monoaminergic and peptidergic neurons': {'n_neighbors': 50, 'n_pcs': 30, 'min_dist': .1, 'cluster_resolution': .5},\n",
    "    'Microglia': {'n_neighbors': 20, 'n_pcs': 5, 'min_dist': .1, 'cluster_resolution': .5},\n",
    "}\n",
    "\n",
    "save_embedding = True"
   ]
  },
  {
   "cell_type": "code",
   "execution_count": null,
   "id": "4916fec1-bfdc-440a-b61f-91d1020f159e",
   "metadata": {},
   "outputs": [],
   "source": [
    "if sub_id == 'Di/Mesencephalon neurons':\n",
    "    sub_level_fig_path = os.path.join(clustering_out_path, \"Di_Mesencephalon neurons\")\n",
    "    if not os.path.exists(sub_level_fig_path):\n",
    "        os.mkdir(sub_level_fig_path)\n",
    "else:\n",
    "    sub_level_fig_path = os.path.join(clustering_out_path, sub_id)\n",
    "    if not os.path.exists(sub_level_fig_path):\n",
    "        os.mkdir(sub_level_fig_path)"
   ]
  },
  {
   "cell_type": "markdown",
   "id": "f424e8bf-f3b1-402a-97a8-a4380a99fd96",
   "metadata": {},
   "source": [
    "### clustering"
   ]
  },
  {
   "cell_type": "code",
   "execution_count": null,
   "id": "dfb81647-aeb3-4fe4-bd40-16d1d7f0548c",
   "metadata": {},
   "outputs": [],
   "source": [
    "# replace regular pca with integrated pca \n",
    "sdata.obsm['X_pca'] = sdata.obsm['X_pca_harmony'].copy()\n",
    "sc.pl.pca_variance_ratio(sdata, log=False)\n",
    "sc.pl.pca(sdata, color='protocol-replicate')"
   ]
  },
  {
   "cell_type": "code",
   "execution_count": null,
   "id": "da1c5d1a-46cf-4003-b740-7efbdc9918dd",
   "metadata": {},
   "outputs": [],
   "source": [
    "%%time\n",
    "# Computing the neighborhood graph\n",
    "n_neighbors = emb_dict[sub_id]['n_neighbors']\n",
    "n_pcs = emb_dict[sub_id]['n_pcs']\n",
    "min_dist = emb_dict[sub_id]['min_dist']\n",
    "\n",
    "sc.pp.neighbors(sdata, n_neighbors=n_neighbors, n_pcs=n_pcs, random_state=0)\n",
    "\n",
    "# Run UMAP\n",
    "min_dist = 0.001\n",
    "spread = 3\n",
    "sc.tl.umap(sdata, min_dist=min_dist, spread=spread)"
   ]
  },
  {
   "cell_type": "code",
   "execution_count": null,
   "id": "593c8a78-edfa-41cd-858a-c3f0b28f9e48",
   "metadata": {},
   "outputs": [],
   "source": [
    "%%time\n",
    "# Run leiden cluster\n",
    "cluster_resolution = emb_dict[sub_id]['cluster_resolution']\n",
    "sc.tl.leiden(sdata, resolution = cluster_resolution)\n",
    "\n",
    "# Plot UMAP with cluster labels \n",
    "sc.pl.umap(sdata, color='leiden')\n",
    "n_clusters = sdata.obs['leiden'].unique().shape[0]\n",
    "\n",
    "if save_embedding:\n",
    "    # Save log\n",
    "    with open(f'{sub_level_fig_path}/log_{sub_id}.txt', 'w') as f:\n",
    "        f.write(f\"\"\"Number of neighbor: {n_neighbors}\n",
    "    Number of PC: {n_pcs}\n",
    "    Resolution: {cluster_resolution}\n",
    "    Min-distance: {min_dist}\n",
    "    Number of clusters: {n_clusters}\"\"\")\n",
    "\n",
    "    # save embeddings\n",
    "    np.savetxt(f'{sub_level_fig_path}/embedding_{sub_id}_umap.csv', sdata.obsm['X_umap'], delimiter=\",\")"
   ]
  },
  {
   "cell_type": "code",
   "execution_count": null,
   "id": "98343080-aa1b-4e1c-8217-aeab940fd6ad",
   "metadata": {},
   "outputs": [],
   "source": [
    "# Get colormap\n",
    "cluster_pl = sns.color_palette(\"hls\", n_clusters)\n",
    "cluster_cmap = ListedColormap(cluster_pl.as_hex())\n",
    "sns.palplot(cluster_pl)"
   ]
  },
  {
   "cell_type": "code",
   "execution_count": null,
   "id": "94795ec4-b96a-422d-9843-d0671f1176cb",
   "metadata": {},
   "outputs": [],
   "source": [
    "sc.pl.umap(sdata, color='Tmem119')"
   ]
  },
  {
   "cell_type": "code",
   "execution_count": null,
   "id": "baf8ffd3-cf51-439c-b9f4-63e502d3c1cf",
   "metadata": {
    "tags": []
   },
   "outputs": [],
   "source": [
    "# Plot UMAP with cluster labels w/ new color\n",
    "fig, ax = plt.subplots(figsize=(10,7))\n",
    "sc.pl.umap(sdata, color='leiden', legend_loc='on data',\n",
    "           legend_fontsize=12, legend_fontoutline=2, frameon=False, \n",
    "           title='Sub level clustering (leiden)', palette=cluster_pl, save=False, ax=ax)"
   ]
  },
  {
   "cell_type": "code",
   "execution_count": null,
   "id": "e667ced8-4a7f-4450-a325-a628ba2e06c5",
   "metadata": {
    "tags": []
   },
   "outputs": [],
   "source": [
    "# move label to level 2 and check\n",
    "adata.obs['level_3_temp'] = 'NA'\n",
    "adata.obs.loc[adata.obs['level_2'] == sub_id, 'level_3_temp'] = sdata.obs.leiden.values\n",
    "adata.obs['level_3_temp'] = adata.obs['level_3_temp'].astype('category')\n",
    "temp_order = sdata.obs.leiden.cat.categories.to_list()\n",
    "temp_order.append('NA')\n",
    "adata.obs['level_3_temp'] = adata.obs['level_3_temp'].cat.reorder_categories(temp_order)\n",
    "temp_pl = sns.color_palette(sdata.uns['leiden_colors'] + ['#ebebeb'])"
   ]
  },
  {
   "cell_type": "code",
   "execution_count": null,
   "id": "9fd42723-f9ce-459e-9eeb-2aba401e77bb",
   "metadata": {
    "tags": []
   },
   "outputs": [],
   "source": [
    "# Plot UMAP with all cell embedding\n",
    "fig, ax = plt.subplots(figsize=(10,7))\n",
    "sc.pl.umap(adata, color='level_3_temp', legend_loc='on data',\n",
    "           legend_fontsize=12, legend_fontoutline=2, frameon=False, \n",
    "           title='Sub level clustering (leiden)', palette=temp_pl, save=False, ax=ax)"
   ]
  },
  {
   "cell_type": "code",
   "execution_count": null,
   "id": "8e6f3b36-7c63-478b-af00-43e68178af66",
   "metadata": {},
   "outputs": [],
   "source": [
    "# Add log layer\n",
    "# sdata.layers['log_raw'] = np.log1p(sdata.layers['raw'])\n",
    "# sc.pp.normalize_total(sdata, layer='log_raw')\n",
    "# sc.tl.rank_genes_groups(sdata, 'leiden', method='wilcoxon', layer='log_raw', pts=True, use_raw=False, n_genes=adata.shape[1])\n",
    "\n",
    "# Find gene markers for each cluster\n",
    "sc.tl.rank_genes_groups(sdata, 'leiden', method='wilcoxon', pts=True, use_raw=True, n_genes=adata.shape[1])\n",
    "\n",
    "# Filter markers\n",
    "sc.tl.filter_rank_genes_groups(sdata, min_fold_change=.1, min_in_group_fraction=0.2, max_out_group_fraction=0.8)"
   ]
  },
  {
   "cell_type": "code",
   "execution_count": null,
   "id": "5da9b4c6-b4f9-41bc-8fa4-02309645d772",
   "metadata": {},
   "outputs": [],
   "source": [
    "current_cell_type = '2'\n",
    "\n",
    "current_df = sc.get.rank_genes_groups_df(sdata, group=current_cell_type, key='rank_genes_groups')\n",
    "current_df.head(10)"
   ]
  },
  {
   "cell_type": "code",
   "execution_count": null,
   "id": "821f622e-138b-4ee8-bb12-8f0162f47470",
   "metadata": {},
   "outputs": [],
   "source": [
    "# Dot plot logfoldchanges\n",
    "sc.pl.rank_genes_groups_dotplot(sdata, key='rank_genes_groups', n_genes=5, values_to_plot='logfoldchanges', min_logfoldchange=1, vmax=5, vmin=-5, cmap='bwr', dendrogram=False)"
   ]
  },
  {
   "cell_type": "code",
   "execution_count": null,
   "id": "d66583e8-40d4-43dc-8a87-97d7d043eedd",
   "metadata": {},
   "outputs": [],
   "source": [
    "# Dot plot mean expression (##)\n",
    "sc.pl.rank_genes_groups_dotplot(sdata, key='rank_genes_groups_filtered', n_genes=5, dendrogram=False)"
   ]
  },
  {
   "cell_type": "code",
   "execution_count": null,
   "id": "22423d70-8c94-4647-9133-133d8d960bf4",
   "metadata": {},
   "outputs": [],
   "source": [
    "# Print markers \n",
    "markers = []\n",
    "temp = pd.DataFrame(sdata.uns['rank_genes_groups_filtered']['names']).head(15)\n",
    "for i in range(temp.shape[1]):\n",
    "    curr_col = temp.iloc[:, i].to_list()\n",
    "    markers = markers + curr_col\n",
    "    # print(i, curr_col)\n",
    "    print(i)\n",
    "    for j in curr_col:\n",
    "        print(j, end=' ')\n",
    "    print('')"
   ]
  },
  {
   "cell_type": "code",
   "execution_count": null,
   "id": "c1c84e11-3b36-436b-ba64-d1f9808da95b",
   "metadata": {
    "tags": []
   },
   "outputs": [],
   "source": [
    "# # gene_list = ['Slc17a7', 'Gad1', 'Gad2', 'Sst', 'Pvalb', 'Npy', 'Vip', 'Pcp4', 'Cux2', 'Kif5a', 'Slc32a1', 'Nrgn', 'Sncg', 'Rorb', 'Tmsb4x']\n",
    "# # gene_list = ['Aqp4', 'Gfap', 'Plp1', 'Mbp', 'Mobp', 'Slc1a3', 'Pdgfra', 'Bsg', 'Vtn', 'Vim']\n",
    "# gene_list = ['Pvalb', 'Sst', 'Vip', 'Npy']\n",
    "\n",
    "# fig, axs = plt.subplots(nrows=3, ncols=5, figsize=(25, 12))\n",
    "# axs = axs.flatten()\n",
    "# for i, gene in enumerate(gene_list):\n",
    "#     ax = sc.pl.umap(sdata, color=gene, title=gene, ax=axs[i], show=False)\n",
    "    \n",
    "# plt.show()"
   ]
  },
  {
   "cell_type": "code",
   "execution_count": null,
   "id": "c4daf40f-56c2-4f69-aa2d-d90470bab160",
   "metadata": {},
   "outputs": [],
   "source": [
    "current_sample = 'RIBOmap-rep2'\n",
    "\n",
    "fig, ax = plt.subplots(figsize=(15, 20))\n",
    "g = sns.scatterplot(x='column', y='row', color='#ebebeb', \n",
    "                    data=adata.obs.loc[adata.obs['protocol-replicate'] == current_sample, :], \n",
    "                    s=5,\n",
    "                    ax=ax)\n",
    "\n",
    "g = sns.scatterplot(x='column', y='row', hue='leiden', \n",
    "                    palette=cluster_pl,\n",
    "                    data=sdata.obs.loc[sdata.obs['protocol-replicate'] == current_sample, :], \n",
    "                    s=5,\n",
    "                    ax=ax)\n",
    "\n",
    "g.set_title(current_sample)\n",
    "g.invert_yaxis()\n",
    "g.axes.xaxis.set_visible(False)\n",
    "g.axes.yaxis.set_visible(False)"
   ]
  },
  {
   "cell_type": "code",
   "execution_count": null,
   "id": "9c709dab-7706-49d9-9a5d-7335afaf2cc3",
   "metadata": {},
   "outputs": [],
   "source": [
    "current_sample = 'RIBOmap-rep1'\n",
    "\n",
    "fig, ax = plt.subplots(figsize=(15, 20))\n",
    "g = sns.scatterplot(x='column', y='row', color='#ebebeb', \n",
    "                    data=adata.obs.loc[adata.obs['protocol-replicate'] == current_sample, :], \n",
    "                    s=5,\n",
    "                    ax=ax)\n",
    "\n",
    "g = sns.scatterplot(x='column', y='row', hue='leiden', \n",
    "                    palette=cluster_pl,\n",
    "                    data=sdata.obs.loc[sdata.obs['protocol-replicate'] == current_sample, :], \n",
    "                    s=5,\n",
    "                    ax=ax)\n",
    "\n",
    "g.set_title(current_sample)\n",
    "g.invert_xaxis()\n",
    "g.axes.xaxis.set_visible(False)\n",
    "g.axes.yaxis.set_visible(False)"
   ]
  },
  {
   "cell_type": "code",
   "execution_count": null,
   "id": "0536fda5-d7e8-43cf-9628-bd3bea1b02a6",
   "metadata": {
    "scrolled": true,
    "tags": []
   },
   "outputs": [],
   "source": [
    "# plot summary plot for each cluster\n",
    "sub_level_sum_path = os.path.join(sub_level_fig_path, f'r_{cluster_resolution}_summary_repp')\n",
    "if not os.path.exists(sub_level_sum_path):\n",
    "    os.mkdir(sub_level_sum_path)\n",
    "\n",
    "for i, current_cluster in enumerate(tqdm(sorted(sdata.obs['leiden'].unique()))):\n",
    "    \n",
    "    # get dfs \n",
    "    df1 = sdata.obs.loc[sdata.obs['protocol-replicate'] == 'RIBOmap-rep1', :]\n",
    "    df2 = sdata.obs.loc[sdata.obs['protocol-replicate'] == 'RIBOmap-rep2', :]\n",
    "\n",
    "    fig, axs = plt.subplots(nrows=3, ncols=2, figsize=(12, 16))\n",
    "    axs = axs.flatten()\n",
    "\n",
    "\n",
    "    # plot1\n",
    "    g1 = sns.scatterplot(x='column', y='row', color='#1111', \n",
    "                        data=adata.obs.loc[adata.obs['protocol-replicate'] == 'RIBOmap-rep1', :], \n",
    "                        s=5,\n",
    "                        ax=axs[0])\n",
    "\n",
    "    g1.set_title('RIBOmap-rep1')\n",
    "    g1.invert_xaxis()\n",
    "    g1.axes.xaxis.set_visible(False)\n",
    "    g1.axes.yaxis.set_visible(False)\n",
    "\n",
    "\n",
    "    h1 = sns.scatterplot(x='column', y='row', hue='leiden', legend=None,\n",
    "                        palette=cluster_pl,\n",
    "                        data=df1.loc[df1['leiden'] == current_cluster, ], \n",
    "                        s=7,\n",
    "                        ax=axs[0])\n",
    "\n",
    "    # plot2\n",
    "    g2 = sns.scatterplot(x='column', y='row', color='#1111', \n",
    "                        data=adata.obs.loc[adata.obs['protocol-replicate'] == 'RIBOmap-rep2', :], \n",
    "                        s=5,\n",
    "                        ax=axs[1])\n",
    "\n",
    "    g2.set_title('RIBOmap-rep2')\n",
    "    g2.invert_yaxis()\n",
    "    g2.axes.xaxis.set_visible(False)\n",
    "    g2.axes.yaxis.set_visible(False)\n",
    "\n",
    "    h2 = sns.scatterplot(x='column', y='row', hue='leiden', legend=None,\n",
    "                        palette=cluster_pl,\n",
    "                        data=df2.loc[df2['leiden'] == current_cluster, ], \n",
    "                        s=7,\n",
    "                        ax=axs[1])\n",
    "\n",
    "\n",
    "    size_factor = 200000\n",
    "    # umap1\n",
    "    ax = sc.pl.umap(sdata, show=False, color=None, alpha=1, size=(size_factor / sdata.n_obs), ax=axs[2], title='', palette=sns.color_palette(['#fafafa']))\n",
    "    sc.pl.umap(sdata[(sdata.obs[\"leiden\"] == current_cluster) & (sdata.obs['protocol-replicate'] == 'RIBOmap-rep1')], color='leiden', frameon=False, ax=ax, legend_loc=None, size=(size_factor / sdata.n_obs),\n",
    "           title='', show=False, palette=sns.color_palette([sdata.uns['leiden_colors'][int(current_cluster)]]))\n",
    "\n",
    "    # umap2\n",
    "    ax = sc.pl.umap(sdata, show=False, color=None, alpha=1, size=(size_factor / sdata.n_obs), ax=axs[3], title='', palette=sns.color_palette(['#fafafa']))\n",
    "    sc.pl.umap(sdata[(sdata.obs[\"leiden\"] == current_cluster) & (sdata.obs['protocol-replicate'] == 'RIBOmap-rep2')], color='leiden', frameon=False, ax=ax, legend_loc=None, size=(size_factor / sdata.n_obs),\n",
    "           title='', show=False, palette=sns.color_palette([sdata.uns['leiden_colors'][int(current_cluster)]]))\n",
    "\n",
    "    # umap3\n",
    "    ax = sc.pl.umap(adata, show=False, color=None, alpha=1, size=(size_factor / adata.n_obs), ax=axs[4], title='', palette=sns.color_palette(['#fafafa']))\n",
    "    sc.pl.umap(adata[(adata.obs[\"level_3_temp\"] == current_cluster) & (adata.obs['protocol-replicate'] == 'RIBOmap-rep1')], color='level_3_temp', frameon=False, ax=ax, legend_loc=None, size=(size_factor / adata.n_obs),\n",
    "           title='', show=False, palette=sns.color_palette([adata.uns['level_3_temp_colors'][int(current_cluster)]]))\n",
    "\n",
    "    # umap4\n",
    "    ax = sc.pl.umap(adata, show=False, color=None, alpha=1, size=(size_factor / adata.n_obs), ax=axs[5], title='', palette=sns.color_palette(['#fafafa']))\n",
    "    sc.pl.umap(adata[(adata.obs[\"level_3_temp\"] == current_cluster) & (adata.obs['protocol-replicate'] == 'RIBOmap-rep2')], color='level_3_temp', frameon=False, ax=ax, legend_loc=None, size=(size_factor / adata.n_obs),\n",
    "           title='', show=False, palette=sns.color_palette([adata.uns['level_3_temp_colors'][int(current_cluster)]]))\n",
    "    \n",
    "    plt.savefig(os.path.join(sub_level_sum_path, f'cluster_{current_cluster}.jpeg'))"
   ]
  },
  {
   "cell_type": "markdown",
   "id": "fee87c4b-87e0-437d-a57b-78a3daa28872",
   "metadata": {},
   "source": [
    "### assign label"
   ]
  },
  {
   "cell_type": "code",
   "execution_count": null,
   "id": "011597d0-1a41-4304-9e8c-f3d032d78f2d",
   "metadata": {},
   "outputs": [],
   "source": [
    "# Plot UMAP with cluster labels w/ new color\n",
    "fig, ax = plt.subplots(figsize=(10,7))\n",
    "sc.pl.umap(sdata, color='leiden', legend_loc='on data',\n",
    "           legend_fontsize=12, legend_fontoutline=2, frameon=False, \n",
    "           title=f'Level 3 {sub_id}', palette=cluster_pl, save=False, ax=ax)"
   ]
  },
  {
   "cell_type": "code",
   "execution_count": null,
   "id": "257a39a1-9a90-40f8-8bca-a77d8008e4f3",
   "metadata": {
    "tags": []
   },
   "outputs": [],
   "source": [
    "# Print markers \n",
    "markers = []\n",
    "temp = pd.DataFrame(sdata.uns['rank_genes_groups_filtered']['names']).head(15)\n",
    "for i in range(temp.shape[1]):\n",
    "    curr_col = temp.iloc[:, i].to_list()\n",
    "    markers = markers + curr_col\n",
    "    # print(i, curr_col)\n",
    "    print(i)\n",
    "    for j in curr_col:\n",
    "        print(j, end=' ')\n",
    "    print('')"
   ]
  },
  {
   "cell_type": "code",
   "execution_count": null,
   "id": "967cdd9b-9a25-42fd-acea-c652e23ca9d9",
   "metadata": {},
   "outputs": [],
   "source": [
    "current_cell_type = '6'\n",
    "\n",
    "current_df = sc.get.rank_genes_groups_df(sdata, group=current_cell_type, key='rank_genes_groups')\n",
    "current_df.head(10)"
   ]
  },
  {
   "cell_type": "code",
   "execution_count": null,
   "id": "15305104-fbc1-40e6-92ed-6e25ea44a20d",
   "metadata": {},
   "outputs": [],
   "source": [
    "# Change cluster label to cell type label\n",
    "transfer_dict = {}\n",
    "\n",
    "# Astrocyte\n",
    "if sub_id == 'Astrocyte':\n",
    "    level_3_list = ['Astro1', #0\n",
    "                    'Astro2', #1\n",
    "                    'Astro3', #2\n",
    "                    'Astro4', #3\n",
    "                   ]\n",
    "\n",
    "# Vascular cells\n",
    "if sub_id == 'Vascular cells':\n",
    "    level_3_list = ['Peri/VEC1', #0\n",
    "                    'Peri/VEC2', #1\n",
    "                    'VLMC', #2\n",
    "                    'VSMC', #3\n",
    "                   ]\n",
    "\n",
    "# Telencephalon interneurons\n",
    "if sub_id == 'Telencephalon interneurons':\n",
    "    level_3_list = ['Inh Sst', #0\n",
    "                    'Inh Pvalb 1', #1\n",
    "                    'Inh Pvalb 2', #2\n",
    "                   ]\n",
    "    \n",
    "# Cholinergic, monoaminergic and peptidergic neurons\n",
    "if sub_id == 'Cholinergic, monoaminergic and peptidergic neurons':\n",
    "    level_3_list = ['TECHO 1', #0\n",
    "                    'TECHO 1', #1\n",
    "                    'TECHO 2', #2\n",
    "                    'DECHO', #3\n",
    "                    'HYPEP', #4\n",
    "                   ]\n",
    "\n",
    "# Di/Mesencephalon neurons\n",
    "if sub_id == 'Di/Mesencephalon neurons':\n",
    "    level_3_list = ['DEGLU 1', #0\n",
    "                    'DEGLU 2', #1\n",
    "                   ]\n",
    "    \n",
    "# Excitatory neuron\n",
    "if sub_id == 'Telencephalon projecting neurons':\n",
    "    level_3_list = ['TEGLU 1', #0\n",
    "                    'TEGLU 1', #1\n",
    "                    'TEGLU 1', #2\n",
    "                    'MSN', #3\n",
    "                    'DGGRC', #4\n",
    "                    'TEGLU 2', #5\n",
    "                    'TEGLU 1', #6\n",
    "                    'TEGLU 3', #7\n",
    "                   ]\n",
    "\n",
    "for i in sorted(sdata.obs['leiden'].unique()):\n",
    "    transfer_dict[i] = level_3_list[int(i)]"
   ]
  },
  {
   "cell_type": "code",
   "execution_count": null,
   "id": "612e955b-2b80-4df3-8f66-453fda57defc",
   "metadata": {},
   "outputs": [],
   "source": [
    "# Print markers \n",
    "markers = []\n",
    "temp = pd.DataFrame(sdata.uns['rank_genes_groups']['names']).head(10)\n",
    "for i in range(temp.shape[1]):\n",
    "    curr_col = temp.iloc[:, i].to_list()\n",
    "    markers = markers + curr_col\n",
    "    # print(i, curr_col)\n",
    "    print(f\"{i} - {level_3_list[i]}\")\n",
    "    for j in curr_col:\n",
    "        print(j, end=',')\n",
    "    print('')"
   ]
  },
  {
   "cell_type": "code",
   "execution_count": null,
   "id": "2a6d34e0-edc7-4018-bb51-75a0b60a17a4",
   "metadata": {},
   "outputs": [],
   "source": [
    "# Assign cell type to sdata\n",
    "sdata.obs['level_3'] = sdata.obs['leiden'].values\n",
    "sdata.obs = sdata.obs.replace({'level_3': transfer_dict})\n",
    "\n",
    "# Sort category\n",
    "level_3_order = natsorted(list(set(level_3_list)))\n",
    "sdata.obs['level_3'] = sdata.obs['level_3'].astype('category')\n",
    "sdata.obs['level_3'].cat.reorder_categories(level_3_order, inplace=True)"
   ]
  },
  {
   "cell_type": "code",
   "execution_count": null,
   "id": "4a0ae207-f22c-47c6-84f0-e050224a380b",
   "metadata": {},
   "outputs": [],
   "source": [
    "# Check color legend\n",
    "level_3_pl = sns.color_palette(\"hls\", len(level_3_order))\n",
    "sns.palplot(level_3_pl, size=3)\n",
    "plt.xticks(range(len(level_3_order)), level_3_order, size=10, rotation=45)\n",
    "plt.tight_layout()\n",
    "# plt.savefig(f'./figures/color_legend_top.png')\n",
    "plt.show()"
   ]
  },
  {
   "cell_type": "code",
   "execution_count": null,
   "id": "1883dfd0-dbac-4d84-a8d6-4123fcb9f1f8",
   "metadata": {},
   "outputs": [],
   "source": [
    "# Save plots\n",
    "# Plot UMAP with cluster labels w/ new color\n",
    "sc.pl.umap(sdata, color='level_3', legend_loc='right margin',\n",
    "           legend_fontsize=12, legend_fontoutline=2, frameon=False, \n",
    "           title=f'Level 3 {sub_id}', palette=level_3_pl, save=False)"
   ]
  },
  {
   "cell_type": "code",
   "execution_count": null,
   "id": "fd50f213-93eb-4556-b59e-563869423206",
   "metadata": {},
   "outputs": [],
   "source": [
    "current_sample = 'RIBOmap-rep2'\n",
    "\n",
    "fig, ax = plt.subplots(figsize=(15, 20))\n",
    "g = sns.scatterplot(x='column', y='row', color='#ebebeb', \n",
    "                    data=adata.obs.loc[adata.obs['protocol-replicate'] == current_sample, :], \n",
    "                    s=10,\n",
    "                    ax=ax)\n",
    "\n",
    "g = sns.scatterplot(x='column', y='row', hue='level_3', \n",
    "                    palette=level_3_pl,\n",
    "                    data=sdata.obs.loc[sdata.obs['protocol-replicate'] == current_sample, :], \n",
    "                    s=10,\n",
    "                    ax=ax)\n",
    "\n",
    "g.set_title(current_sample)\n",
    "g.invert_yaxis()\n",
    "g.axes.xaxis.set_visible(False)\n",
    "g.axes.yaxis.set_visible(False)"
   ]
  },
  {
   "cell_type": "code",
   "execution_count": null,
   "id": "20ddec72-3716-4d3d-84d4-b372abcf4728",
   "metadata": {},
   "outputs": [],
   "source": [
    "current_sample = 'RIBOmap-rep1'\n",
    "\n",
    "fig, ax = plt.subplots(figsize=(15, 20))\n",
    "g = sns.scatterplot(x='column', y='row', color='#ebebeb', \n",
    "                    data=adata.obs.loc[adata.obs['protocol-replicate'] == current_sample, :], \n",
    "                    s=10,\n",
    "                    ax=ax)\n",
    "\n",
    "g = sns.scatterplot(x='column', y='row', hue='level_3', \n",
    "                    palette=level_3_pl,\n",
    "                    data=sdata.obs.loc[sdata.obs['protocol-replicate'] == current_sample, :], \n",
    "                    s=10,\n",
    "                    ax=ax)\n",
    "\n",
    "g.set_title(current_sample)\n",
    "g.invert_xaxis()\n",
    "g.axes.xaxis.set_visible(False)\n",
    "g.axes.yaxis.set_visible(False)"
   ]
  },
  {
   "cell_type": "code",
   "execution_count": null,
   "id": "e6014d73-dfd7-4493-94ba-fd767ee28186",
   "metadata": {},
   "outputs": [],
   "source": [
    "# Find gene markers for each cluster\n",
    "sc.tl.rank_genes_groups(sdata, 'level_3', method='wilcoxon', pts=True, use_raw=True, n_genes=adata.shape[1])\n",
    "\n",
    "# Filter markers\n",
    "sc.tl.filter_rank_genes_groups(sdata, min_fold_change=.1, min_in_group_fraction=0.2, max_out_group_fraction=0.8)"
   ]
  },
  {
   "cell_type": "code",
   "execution_count": null,
   "id": "9717f62e-d77f-4c68-9ae8-5b383fb27739",
   "metadata": {},
   "outputs": [],
   "source": [
    "# Plot z-score heatmap\n",
    "sc.pl.rank_genes_groups_dotplot(sdata, n_genes=5, groupby='level_3', min_logfoldchange=1, use_raw=False, swap_axes=True, \n",
    "                                vmin=-1, vmax=1, cmap='bwr', dendrogram=False, save=False)"
   ]
  },
  {
   "cell_type": "code",
   "execution_count": null,
   "id": "d10021f8-4c50-45e3-b214-e98e4ac2bde5",
   "metadata": {},
   "outputs": [],
   "source": [
    "# sc.pl.umap(sdata, color=['Dcn', 'Bsg', 'Flt1', 'Myl9'])\n",
    "# sc.pl.umap(sdata, color=['Gfap', 'Calm1', 'Shank1', 'Mbp'])\n",
    "# sc.pl.umap(sdata, color=['Gad1', 'Sst', 'Pvalb', 'Npy', 'Vip'])\n",
    "# sc.pl.umap(sdata, color=['Scg2', 'Dlk1', 'Gabbr1', 'Cplx2', 'Camkv'])\n",
    "sc.pl.umap(sdata, color=['Scg2', 'Dlk1', 'Gabbr1', 'Cplx2', 'Camkv'])"
   ]
  },
  {
   "cell_type": "markdown",
   "id": "19d28664-6143-4012-9b53-e7a95c2f0428",
   "metadata": {
    "tags": []
   },
   "source": [
    "### update adata"
   ]
  },
  {
   "cell_type": "code",
   "execution_count": null,
   "id": "3cb49f77-fd89-482c-92e6-1969425cc836",
   "metadata": {},
   "outputs": [],
   "source": [
    "# Map to original obj\n",
    "adata.obs['level_3'] = adata.obs['level_3'].astype(object)\n",
    "adata.obs.loc[sdata.obs.index, 'level_3'] = sdata.obs['level_3'].values\n",
    "adata.obs['level_3'].unique()"
   ]
  },
  {
   "cell_type": "code",
   "execution_count": null,
   "id": "581724be-6064-487a-af4a-9d372f1bd28f",
   "metadata": {},
   "outputs": [],
   "source": [
    "# backup obs\n",
    "adata.obs.to_csv(f\"{out_path}/{date}-Brain-combined-3mad-ct-bk1.csv\")"
   ]
  },
  {
   "cell_type": "code",
   "execution_count": null,
   "id": "2be1cf16-fc3d-4862-bfa2-da3ffbdb440d",
   "metadata": {},
   "outputs": [],
   "source": [
    "# backup \n",
    "adata.write_h5ad(f\"{out_path}/{date}-Brain-combined-3mad-ct-bk1.h5ad\")"
   ]
  },
  {
   "cell_type": "markdown",
   "id": "7ce00483-5fba-4471-be25-6ed80a415e8d",
   "metadata": {
    "tags": []
   },
   "source": [
    "## TEGLU clustering"
   ]
  },
  {
   "cell_type": "code",
   "execution_count": null,
   "id": "52688cee-1c6f-4f07-8b0f-0a1cf1ea8b2c",
   "metadata": {},
   "outputs": [],
   "source": [
    "# Subset\n",
    "sub_id = 'Telencephalon projecting neurons'\n",
    "curr_cells = adata.obs['level_2'] == sub_id\n",
    "sdata = adata[curr_cells, :].copy()\n",
    "sdata"
   ]
  },
  {
   "cell_type": "code",
   "execution_count": null,
   "id": "79729973-a9d4-406b-9467-4687bfa604b3",
   "metadata": {},
   "outputs": [],
   "source": [
    "%%time\n",
    "# redo pp (test)\n",
    "sdata.X = sdata.layers['raw'].copy()\n",
    "del sdata.layers['scaled']\n",
    "del sdata.layers['corrected']\n",
    "\n",
    "sc.pp.normalize_total(sdata)\n",
    "sc.pp.log1p(sdata)\n",
    "sdata.raw = sdata\n",
    "sc.pp.scale(sdata)\n",
    "sdata.layers['scaled'] = sdata.X.copy()\n",
    "sc.pp.regress_out(sdata, ['total_counts'])\n",
    "sdata.layers['corrected'] = sdata.X.copy()\n",
    "\n",
    "# Run PCA\n",
    "sdata.X = sdata.layers['corrected'].copy()\n",
    "sc.tl.pca(sdata, svd_solver='full', use_highly_variable=True)\n",
    "\n",
    "# Plot explained variance \n",
    "sc.pl.pca_variance_ratio(sdata, log=False)\n",
    "\n",
    "# Plot PCA\n",
    "sc.pl.pca(sdata, color='protocol-replicate')\n",
    "\n",
    "import scanpy.external as sce\n",
    "sce.pp.harmony_integrate(sdata, 'protocol-replicate')"
   ]
  },
  {
   "cell_type": "code",
   "execution_count": null,
   "id": "9b5f700a-1bba-44ba-b719-23927bd8a5ab",
   "metadata": {},
   "outputs": [],
   "source": [
    "# Embedding parameters\n",
    "emb_dict = {\n",
    "    'Di/Mesencephalon neurons': {'n_neighbors': 50, 'n_pcs': 30, 'min_dist': .1, 'cluster_resolution': .4},\n",
    "    'Telencephalon projecting neurons': {'n_neighbors': 50, 'n_pcs': 30, 'min_dist': .1, 'cluster_resolution': .7},\n",
    "    'Oligodendrocyte': {'n_neighbors': 50, 'n_pcs': 10, 'min_dist': .1, 'cluster_resolution': .2},\n",
    "    'Astrocyte': {'n_neighbors': 50, 'n_pcs': 30, 'min_dist': .1, 'cluster_resolution': .5},\n",
    "    'Vascular cells': {'n_neighbors': 50, 'n_pcs': 30, 'min_dist': .1, 'cluster_resolution': .6},\n",
    "    'Telencephalon interneurons': {'n_neighbors': 50, 'n_pcs': 30, 'min_dist': .1, 'cluster_resolution': .63},\n",
    "    'Cholinergic, monoaminergic and peptidergic neurons': {'n_neighbors': 50, 'n_pcs': 30, 'min_dist': .1, 'cluster_resolution': .5},\n",
    "}\n",
    "\n",
    "save_embedding = True"
   ]
  },
  {
   "cell_type": "code",
   "execution_count": null,
   "id": "484e06c0-d881-48e7-86cd-7ef9b7c75440",
   "metadata": {},
   "outputs": [],
   "source": [
    "if sub_id == 'Di/Mesencephalon neurons':\n",
    "    sub_level_fig_path = os.path.join(clustering_out_path, \"Di_Mesencephalon neurons\")\n",
    "    if not os.path.exists(sub_level_fig_path):\n",
    "        os.mkdir(sub_level_fig_path)\n",
    "else:\n",
    "    sub_level_fig_path = os.path.join(clustering_out_path, sub_id)\n",
    "    if not os.path.exists(sub_level_fig_path):\n",
    "        os.mkdir(sub_level_fig_path)"
   ]
  },
  {
   "cell_type": "markdown",
   "id": "5de0144f-3be3-4cba-9ffc-22f1659e349c",
   "metadata": {},
   "source": [
    "### clustering"
   ]
  },
  {
   "cell_type": "code",
   "execution_count": null,
   "id": "c9ba9c8c-7060-4285-97d9-5547e2361f6c",
   "metadata": {},
   "outputs": [],
   "source": [
    "# replace regular pca with integrated pca \n",
    "sdata.obsm['X_pca'] = sdata.obsm['X_pca_harmony'].copy()\n",
    "sc.pl.pca_variance_ratio(sdata, log=False)\n",
    "sc.pl.pca(sdata, color='protocol-replicate')"
   ]
  },
  {
   "cell_type": "code",
   "execution_count": null,
   "id": "b19af7de-23d7-4df4-a4b2-59c9837b3905",
   "metadata": {},
   "outputs": [],
   "source": [
    "%%time\n",
    "# Computing the neighborhood graph\n",
    "n_neighbors = emb_dict[sub_id]['n_neighbors']\n",
    "n_pcs = emb_dict[sub_id]['n_pcs']\n",
    "min_dist = emb_dict[sub_id]['min_dist']\n",
    "\n",
    "sc.pp.neighbors(sdata, n_neighbors=n_neighbors, n_pcs=n_pcs, random_state=0)\n",
    "\n",
    "# Run UMAP\n",
    "min_dist = 0.001\n",
    "spread = 3\n",
    "sc.tl.umap(sdata, min_dist=min_dist, spread=spread)"
   ]
  },
  {
   "cell_type": "code",
   "execution_count": null,
   "id": "52f99d2e-a8c8-4d57-bc7c-82422c104128",
   "metadata": {},
   "outputs": [],
   "source": [
    "%%time\n",
    "# Run leiden cluster\n",
    "cluster_resolution = emb_dict[sub_id]['cluster_resolution']\n",
    "sc.tl.leiden(sdata, resolution = cluster_resolution)\n",
    "\n",
    "# Plot UMAP with cluster labels \n",
    "sc.pl.umap(sdata, color='leiden')\n",
    "n_clusters = sdata.obs['leiden'].unique().shape[0]\n",
    "\n",
    "if save_embedding:\n",
    "    # Save log\n",
    "    with open(f'{sub_level_fig_path}/log_{sub_id}.txt', 'w') as f:\n",
    "        f.write(f\"\"\"Number of neighbor: {n_neighbors}\n",
    "    Number of PC: {n_pcs}\n",
    "    Resolution: {cluster_resolution}\n",
    "    Min-distance: {min_dist}\n",
    "    Number of clusters: {n_clusters}\"\"\")\n",
    "\n",
    "    # save embeddings\n",
    "    np.savetxt(f'{sub_level_fig_path}/embedding_{sub_id}_umap.csv', sdata.obsm['X_umap'], delimiter=\",\")"
   ]
  },
  {
   "cell_type": "code",
   "execution_count": null,
   "id": "d73ce70f-0730-4c87-9bc9-b9479c5d8b29",
   "metadata": {},
   "outputs": [],
   "source": [
    "# Get colormap\n",
    "cluster_pl = sns.color_palette(\"hls\", n_clusters)\n",
    "cluster_cmap = ListedColormap(cluster_pl.as_hex())\n",
    "sns.palplot(cluster_pl)"
   ]
  },
  {
   "cell_type": "code",
   "execution_count": null,
   "id": "fe44cf59-4f46-41f4-bf85-a6d97dfe6084",
   "metadata": {
    "tags": []
   },
   "outputs": [],
   "source": [
    "# Plot UMAP with cluster labels w/ new color\n",
    "fig, ax = plt.subplots(figsize=(10,7))\n",
    "sc.pl.umap(sdata, color='leiden', legend_loc='on data',\n",
    "           legend_fontsize=12, legend_fontoutline=2, frameon=False, \n",
    "           title='Sub level clustering (leiden)', palette=cluster_pl, save=False, ax=ax)"
   ]
  },
  {
   "cell_type": "code",
   "execution_count": null,
   "id": "b581d540-02cb-4620-8749-42b3f1584ea2",
   "metadata": {
    "tags": []
   },
   "outputs": [],
   "source": [
    "# move label to level 2 and check\n",
    "adata.obs['level_3_temp'] = 'NA'\n",
    "adata.obs.loc[adata.obs['level_2'] == sub_id, 'level_3_temp'] = sdata.obs.leiden.values\n",
    "adata.obs['level_3_temp'] = adata.obs['level_3_temp'].astype('category')\n",
    "temp_order = sdata.obs.leiden.cat.categories.to_list()\n",
    "temp_order.append('NA')\n",
    "adata.obs['level_3_temp'] = adata.obs['level_3_temp'].cat.reorder_categories(temp_order)\n",
    "temp_pl = sns.color_palette(sdata.uns['leiden_colors'] + ['#ebebeb'])"
   ]
  },
  {
   "cell_type": "code",
   "execution_count": null,
   "id": "1e382acb-56b2-4b55-b0d9-d8a14c6f216a",
   "metadata": {
    "tags": []
   },
   "outputs": [],
   "source": [
    "# Plot UMAP with all cell embedding\n",
    "fig, ax = plt.subplots(figsize=(10,7))\n",
    "sc.pl.umap(adata, color='level_3_temp', legend_loc='on data',\n",
    "           legend_fontsize=12, legend_fontoutline=2, frameon=False, \n",
    "           title='Sub level clustering (leiden)', palette=temp_pl, save=False, ax=ax)"
   ]
  },
  {
   "cell_type": "markdown",
   "id": "125de7bf-8586-40e4-abbf-b8f8131f0af9",
   "metadata": {},
   "source": [
    "### assign label"
   ]
  },
  {
   "cell_type": "code",
   "execution_count": null,
   "id": "6c0fbea6-9f35-40ce-8a72-b02dea1e2222",
   "metadata": {},
   "outputs": [],
   "source": [
    "# Plot UMAP with cluster labels w/ new color\n",
    "fig, ax = plt.subplots(figsize=(10,7))\n",
    "sc.pl.umap(sdata, color='leiden', legend_loc='on data',\n",
    "           legend_fontsize=12, legend_fontoutline=2, frameon=False, \n",
    "           title=f'Level 3 {sub_id}', palette=cluster_pl, save=False, ax=ax)"
   ]
  },
  {
   "cell_type": "code",
   "execution_count": null,
   "id": "348ecf39-3f85-425f-a89e-bbb7c7c03793",
   "metadata": {},
   "outputs": [],
   "source": [
    "# Change cluster label to cell type label\n",
    "transfer_dict = {}\n",
    "\n",
    "# Excitatory neuron\n",
    "if sub_id == 'Telencephalon projecting neurons':\n",
    "    level_3_list = ['TEGLU 1', #0\n",
    "                    'TEGLU 1', #1\n",
    "                    'TEGLU 1', #2\n",
    "                    'MSN', #3\n",
    "                    'DGGRC', #4\n",
    "                    'TEGLU 2', #5\n",
    "                    'TEGLU 1', #6\n",
    "                    'TEGLU 3', #7\n",
    "                   ]\n",
    "\n",
    "for i in sorted(sdata.obs['leiden'].unique()):\n",
    "    transfer_dict[i] = level_3_list[int(i)]"
   ]
  },
  {
   "cell_type": "code",
   "execution_count": null,
   "id": "db4f073e-a3a3-4c35-91d3-d833aeafdfbb",
   "metadata": {},
   "outputs": [],
   "source": [
    "# Assign cell type to sdata\n",
    "sdata.obs['level_3'] = sdata.obs['leiden'].values\n",
    "sdata.obs = sdata.obs.replace({'level_3': transfer_dict})\n",
    "\n",
    "# Sort category\n",
    "level_3_order = natsorted(list(set(level_3_list)))\n",
    "sdata.obs['level_3'] = sdata.obs['level_3'].astype('category')\n",
    "sdata.obs['level_3'].cat.reorder_categories(level_3_order, inplace=True)"
   ]
  },
  {
   "cell_type": "code",
   "execution_count": null,
   "id": "b65ebaa0-86f2-4506-8a8e-955823e18b3b",
   "metadata": {},
   "outputs": [],
   "source": [
    "# Check color legend\n",
    "level_3_pl = sns.color_palette(\"hls\", len(level_3_order))\n",
    "sns.palplot(level_3_pl, size=3)\n",
    "plt.xticks(range(len(level_3_order)), level_3_order, size=10, rotation=45)\n",
    "plt.tight_layout()\n",
    "# plt.savefig(f'./figures/color_legend_top.png')\n",
    "plt.show()"
   ]
  },
  {
   "cell_type": "code",
   "execution_count": null,
   "id": "c1dd9b4f-00c1-417f-b886-b53d7bd217aa",
   "metadata": {},
   "outputs": [],
   "source": [
    "# Save plots\n",
    "# Plot UMAP with cluster labels w/ new color\n",
    "sc.pl.umap(sdata, color='level_3', legend_loc='right margin',\n",
    "           legend_fontsize=12, legend_fontoutline=2, frameon=False, \n",
    "           title=f'Level 3 {sub_id}', palette=level_3_pl, save=False)"
   ]
  },
  {
   "cell_type": "code",
   "execution_count": null,
   "id": "5db40792-f0e8-4a4f-a7ee-ad9f375b2d75",
   "metadata": {},
   "outputs": [],
   "source": [
    "current_sample = 'RIBOmap-rep2'\n",
    "\n",
    "fig, ax = plt.subplots(figsize=(15, 20))\n",
    "g = sns.scatterplot(x='column', y='row', color='#ebebeb', \n",
    "                    data=adata.obs.loc[adata.obs['protocol-replicate'] == current_sample, :], \n",
    "                    s=10,\n",
    "                    ax=ax)\n",
    "\n",
    "g = sns.scatterplot(x='column', y='row', hue='level_3', \n",
    "                    palette=level_3_pl,\n",
    "                    data=sdata.obs.loc[sdata.obs['protocol-replicate'] == current_sample, :], \n",
    "                    s=10,\n",
    "                    ax=ax)\n",
    "\n",
    "g.set_title(current_sample)\n",
    "g.invert_yaxis()\n",
    "g.axes.xaxis.set_visible(False)\n",
    "g.axes.yaxis.set_visible(False)"
   ]
  },
  {
   "cell_type": "code",
   "execution_count": null,
   "id": "19075342-c917-47a2-96ba-0f5721e7f5cd",
   "metadata": {},
   "outputs": [],
   "source": [
    "current_sample = 'RIBOmap-rep1'\n",
    "\n",
    "fig, ax = plt.subplots(figsize=(15, 20))\n",
    "g = sns.scatterplot(x='column', y='row', color='#ebebeb', \n",
    "                    data=adata.obs.loc[adata.obs['protocol-replicate'] == current_sample, :], \n",
    "                    s=10,\n",
    "                    ax=ax)\n",
    "\n",
    "g = sns.scatterplot(x='column', y='row', hue='level_3', \n",
    "                    palette=level_3_pl,\n",
    "                    data=sdata.obs.loc[sdata.obs['protocol-replicate'] == current_sample, :], \n",
    "                    s=10,\n",
    "                    ax=ax)\n",
    "\n",
    "g.set_title(current_sample)\n",
    "g.invert_xaxis()\n",
    "g.axes.xaxis.set_visible(False)\n",
    "g.axes.yaxis.set_visible(False)"
   ]
  },
  {
   "cell_type": "markdown",
   "id": "51a34cb4-f8e5-43bf-9b74-d915b89c98a7",
   "metadata": {
    "tags": []
   },
   "source": [
    "### update adata"
   ]
  },
  {
   "cell_type": "code",
   "execution_count": null,
   "id": "68320013-8944-4b4b-903a-030c7231b21a",
   "metadata": {},
   "outputs": [],
   "source": [
    "# Map to original obj\n",
    "adata.obs['level_3'] = adata.obs['level_3'].astype(object)\n",
    "adata.obs.loc[sdata.obs.index, 'level_3'] = sdata.obs['level_3'].values\n",
    "adata.obs['level_3'].unique()"
   ]
  },
  {
   "cell_type": "code",
   "execution_count": null,
   "id": "8f2e8f07-f542-4faa-94a9-9036f71ada11",
   "metadata": {},
   "outputs": [],
   "source": [
    "adata.obs['level_3'].unique().shape"
   ]
  },
  {
   "cell_type": "markdown",
   "id": "9187aa01-a453-4680-94eb-9ff7aaa3e556",
   "metadata": {
    "tags": []
   },
   "source": [
    "### classify mix cells"
   ]
  },
  {
   "cell_type": "code",
   "execution_count": null,
   "id": "2c67a371-f1a2-4a76-988a-ae113c8a4c21",
   "metadata": {
    "scrolled": true,
    "tags": []
   },
   "outputs": [],
   "source": [
    "# calculate the distance between each cell and its leiden cluster center\n",
    "sdata.obs['distance2centroid_leiden_teglu'] = 9999\n",
    "\n",
    "# find centroid of each leiden cluster\n",
    "from sklearn.neighbors import NearestCentroid\n",
    "from scipy.spatial.distance import cdist\n",
    "clf = NearestCentroid(shrink_threshold=None)\n",
    "clf.fit(sdata.obsm['X_umap'], sdata.obs.level_3)\n",
    "\n",
    "# plot cluster center\n",
    "fig, ax = plt.subplots(figsize=(10,7))\n",
    "sc.pl.umap(sdata, color='level_3', ax=ax, show=False, legend_loc='on data')\n",
    "ax.scatter(clf.centroids_[:, 0], clf.centroids_[:, 1], s=10, c='r')\n",
    "plt.show()\n",
    "\n",
    "for i, current_label in enumerate(sorted(sdata.obs['level_3'].cat.categories)):\n",
    "    current_centroid = clf.centroids_[i, :].reshape([1,2])\n",
    "    \n",
    "    # check centroid location \n",
    "    # fig, ax = plt.subplots(figsize=(10,7))\n",
    "    # sc.pl.umap(adata, color='leiden', ax=ax, show=False, legend_loc='on data', title=f'cluster-{current_label}')\n",
    "    # ax.scatter(current_centroid[:, 0], current_centroid[:, 1], s=10, c='r')\n",
    "    # plt.show()\n",
    "\n",
    "    # calculate distance \n",
    "    dm = cdist(sdata[sdata.obs['level_3'] == current_label, :].obsm['X_umap'], current_centroid)\n",
    "    sdata.obs.loc[sdata.obs['level_3'] == current_label, 'distance2centroid_leiden_teglu'] = dm\n",
    "\n",
    "    # plot distance distribution\n",
    "    fig, ax = plt.subplots(figsize=(5,3))\n",
    "    sns.histplot(dm)\n",
    "    plt.title(f'cluster-{current_label}')\n",
    "    plt.show()\n",
    "    \n",
    "    # visualize distance calculation \n",
    "    fig, axs = plt.subplots(figsize=(20,7), nrows=1, ncols=2)\n",
    "    sns.scatterplot(sdata.obsm['X_umap'][:, 0], sdata.obsm['X_umap'][:, 1], color='#1111', s=1, ax=axs[0])\n",
    "    sns.scatterplot(sdata[sdata.obs['level_3'] == current_label, :].obsm['X_umap'][:, 0], sdata[sdata.obs['level_3'] == current_label, :].obsm['X_umap'][:, 1], s=1, legend=None, ax=axs[0])\n",
    "    axs[0].scatter(current_centroid[:, 0], current_centroid[:, 1], s=10, c='r')\n",
    "\n",
    "    sns.scatterplot(sdata.obsm['X_umap'][:, 0], sdata.obsm['X_umap'][:, 1], color='#1111', s=1, ax=axs[1])\n",
    "    sns.scatterplot(sdata[sdata.obs['level_3'] == current_label, :].obsm['X_umap'][:, 0], sdata[sdata.obs['level_3'] == current_label, :].obsm['X_umap'][:, 1], \n",
    "                    hue=sdata.obs.loc[sdata.obs['level_3'] == current_label, 'distance2centroid_leiden_teglu'], palette='viridis', s=1, legend=None, ax=axs[1])\n",
    "    axs[1].scatter(current_centroid[:, 0], current_centroid[:, 1], s=10, c='r')\n",
    "    plt.show()\n",
    "\n",
    "    "
   ]
  },
  {
   "cell_type": "code",
   "execution_count": null,
   "id": "0537b806-9ab5-4738-ac1f-7a2b6978efb4",
   "metadata": {
    "scrolled": true,
    "tags": []
   },
   "outputs": [],
   "source": [
    "# classify mix cells\n",
    "\n",
    "# leiden\n",
    "# manual_threshold = [\n",
    "#     6, # 0\n",
    "#     6, # 1\n",
    "#     6.5, # 2\n",
    "#     4, # 3\n",
    "#     3, # 4\n",
    "#     3, # 5\n",
    "#     2, # 6\n",
    "#     2, # 7\n",
    "# ]\n",
    "\n",
    "manual_threshold = [\n",
    "    2.4, # DGGRC\n",
    "    4, # MSN\n",
    "    10, # TEGLU1\n",
    "    2.5, # TEGLU2\n",
    "    2, # TEGLU3\n",
    "]\n",
    "\n",
    "sdata.obs['is_mix_teglu'] = 'False'\n",
    "\n",
    "# plot overall distance distribution\n",
    "sns.distplot(sdata.obs['distance2centroid_leiden_teglu'])\n",
    "\n",
    "for i, current_label in enumerate(sorted(sdata.obs['level_3'].cat.categories)):\n",
    "    current_centroid = clf.centroids_[i, :].reshape([1,2])\n",
    "    \n",
    "    # plot distance distribution of current cluster\n",
    "    fig, ax = plt.subplots(figsize=(5,3))\n",
    "    sns.histplot(sdata.obs.loc[sdata.obs['level_3'] == current_label, 'distance2centroid_leiden_teglu'])\n",
    "    ax.axvline(x=manual_threshold[i], c='r')\n",
    "    plt.title(f'cluster-{current_label}')\n",
    "    plt.show()\n",
    "    \n",
    "    sdata.obs.loc[(sdata.obs['level_3'] == current_label) & (sdata.obs['distance2centroid_leiden_teglu'] > manual_threshold[i]), 'is_mix_teglu'] = 'True'\n",
    "    sdata.obs['is_mix_teglu'] = sdata.obs['is_mix_teglu'].astype('category')\n",
    "    \n",
    "    fig, axs = plt.subplots(figsize=(20,7), nrows=1, ncols=2)\n",
    "    sns.scatterplot(sdata.obsm['X_umap'][:, 0], sdata.obsm['X_umap'][:, 1], color='#1111', s=1, ax=axs[0])\n",
    "    sns.scatterplot(sdata[sdata.obs['level_3'] == current_label, :].obsm['X_umap'][:, 0], sdata[sdata.obs['level_3'] == current_label, :].obsm['X_umap'][:, 1], s=1, legend=None, ax=axs[0])\n",
    "    axs[0].scatter(current_centroid[0, 0], current_centroid[0, 1], s=10, c='r')\n",
    "\n",
    "    sns.scatterplot(sdata.obsm['X_umap'][:, 0], sdata.obsm['X_umap'][:, 1], color='#1111', s=1, ax=axs[1])\n",
    "    sns.scatterplot(sdata[sdata.obs['level_3'] == current_label, :].obsm['X_umap'][:, 0], sdata[sdata.obs['level_3'] == current_label, :].obsm['X_umap'][:, 1], \n",
    "                    hue=sdata.obs.loc[sdata.obs['level_3'] == current_label, 'is_mix_teglu'], palette='Set1', s=1, legend=None, ax=axs[1])\n",
    "    axs[1].scatter(current_centroid[0, 0], current_centroid[0, 1], s=10, c='r')\n",
    "\n"
   ]
  },
  {
   "cell_type": "code",
   "execution_count": null,
   "id": "18af8f60-bc57-45da-a7ac-715b2a1d1411",
   "metadata": {},
   "outputs": [],
   "source": [
    "sdata.obs['is_mix_teglu'].value_counts()"
   ]
  },
  {
   "cell_type": "code",
   "execution_count": null,
   "id": "814e653e-21ed-404a-bdcc-6cf7bda62136",
   "metadata": {},
   "outputs": [],
   "source": [
    "# reclassify mix cells \n",
    "ref_cells = sdata.obs.loc[sdata.obs['is_mix_teglu'] == 'False', :].index\n",
    "mix_cells = sdata.obs.loc[sdata.obs['is_mix_teglu'] == 'True', :].index\n",
    "\n",
    "ref_cell_loc = sdata[ref_cells, :].obsm['X_umap']\n",
    "mix_cell_loc = sdata[mix_cells, :].obsm['X_umap']\n",
    "\n",
    "ref_cell_annot = sdata.obs.loc[ref_cells, 'level_3'].values\n",
    "mix_cell_orig = sdata.obs.loc[mix_cells, 'level_3'].values"
   ]
  },
  {
   "cell_type": "code",
   "execution_count": null,
   "id": "3ba38e09-4e59-4d76-a2ba-4ebc96bb40f3",
   "metadata": {},
   "outputs": [],
   "source": [
    "from sklearn.neighbors import KNeighborsClassifier\n",
    "neigh = KNeighborsClassifier(n_neighbors=20)\n",
    "neigh.fit(ref_cell_loc, ref_cell_annot)\n",
    "mix_cell_predicted = neigh.predict(mix_cell_loc)"
   ]
  },
  {
   "cell_type": "code",
   "execution_count": null,
   "id": "e3d0ee41-12f3-49a3-9fcf-dda781e5874b",
   "metadata": {},
   "outputs": [],
   "source": [
    "fig, ax = plt.subplots(figsize=(10,10))\n",
    "a = pd.crosstab(mix_cell_predicted, mix_cell_orig)\n",
    "sns.heatmap(a, annot=True, fmt='d', ax=ax)\n",
    "plt.xlabel('predicted-label')\n",
    "plt.ylabel('leiden-label')\n",
    "plt.show()"
   ]
  },
  {
   "cell_type": "code",
   "execution_count": null,
   "id": "a44f4e2f-127f-414b-af6f-1292501207be",
   "metadata": {},
   "outputs": [],
   "source": [
    "# update to adata\n",
    "adata.obs.loc[mix_cells, 'level_3'] = mix_cell_predicted"
   ]
  },
  {
   "cell_type": "code",
   "execution_count": null,
   "id": "319b21e6-cf55-4432-987e-c9fb73732f01",
   "metadata": {},
   "outputs": [],
   "source": [
    "# backup obs\n",
    "adata.obs.to_csv(f\"{out_path}/{date}-Brain-combined-3mad-ct-bk1.csv\")"
   ]
  },
  {
   "cell_type": "code",
   "execution_count": null,
   "id": "d0cdedb9-94c1-4ad0-b613-7f957bf34cda",
   "metadata": {},
   "outputs": [],
   "source": [
    "# backup \n",
    "adata.write_h5ad(f\"{out_path}/{date}-Brain-combined-3mad-ct-bk1.h5ad\")"
   ]
  },
  {
   "cell_type": "code",
   "execution_count": null,
   "id": "246a11f7-76f8-49c5-8d2f-249e6037e920",
   "metadata": {},
   "outputs": [],
   "source": [
    "# Save plots\n",
    "# Plot UMAP with cluster labels w/ new color\n",
    "sc.pl.umap(sdata, color='level_3', legend_loc='right margin',\n",
    "           legend_fontsize=12, legend_fontoutline=2, frameon=False, \n",
    "           title=f'Level 3 {sub_id}', palette=level_3_pl, save=False)"
   ]
  },
  {
   "cell_type": "code",
   "execution_count": null,
   "id": "d579589a-911f-4238-a668-75b911b7af26",
   "metadata": {},
   "outputs": [],
   "source": [
    "sdata.obs.loc[mix_cells, 'level_3'] = mix_cell_predicted\n",
    "\n",
    "current_sample = 'RIBOmap-rep1'\n",
    "\n",
    "fig, ax = plt.subplots(figsize=(15, 20))\n",
    "g = sns.scatterplot(x='column', y='row', color='#ebebeb', \n",
    "                    data=adata.obs.loc[adata.obs['protocol-replicate'] == current_sample, :], \n",
    "                    s=10,\n",
    "                    ax=ax)\n",
    "\n",
    "g = sns.scatterplot(x='column', y='row', hue='level_3', \n",
    "                    palette=level_3_pl,\n",
    "                    data=sdata.obs.loc[sdata.obs['protocol-replicate'] == current_sample, :], \n",
    "                    s=10,\n",
    "                    ax=ax)\n",
    "\n",
    "g.set_title(current_sample)\n",
    "g.invert_xaxis()\n",
    "g.axes.xaxis.set_visible(False)\n",
    "g.axes.yaxis.set_visible(False)"
   ]
  },
  {
   "cell_type": "code",
   "execution_count": null,
   "id": "5e933a18-0f7b-4eab-815b-d8256d017126",
   "metadata": {},
   "outputs": [],
   "source": [
    "# sns.scatterplot('umap_x', 'umap_y', data=sdata.obs)\n",
    "# sns.scatterplot('umap_x', 'umap_y', data=sdata.obs.loc[sdata.obs['orig_index'] == '19530', :])"
   ]
  },
  {
   "cell_type": "code",
   "execution_count": null,
   "id": "9bd7e055-c651-48bb-b5ca-13efec5c1087",
   "metadata": {},
   "outputs": [],
   "source": [
    "# sdata.obs['umap_x'] = sdata.obsm['X_umap'][:, 0]\n",
    "# sdata.obs['umap_y'] = sdata.obsm['X_umap'][:, 1]\n",
    "\n",
    "# sdata.obs.loc[sdata.obs['orig_index'] == '19072', :]"
   ]
  },
  {
   "cell_type": "code",
   "execution_count": null,
   "id": "632cf93a-7c5f-4601-9227-a871fac5c8af",
   "metadata": {},
   "outputs": [],
   "source": [
    "# import plotly.express as px\n",
    "# fig = px.scatter(sdata.obs.loc[sdata.obs['protocol-replicate'] == 'RIBOmap-rep2', :], x=\"column\", y=\"row\", color=\"level_3\",\n",
    "#                 hover_data=['orig_index'])\n",
    "# fig.update_layout(\n",
    "#     autosize=False,\n",
    "#     width=1500,\n",
    "#     height=1500,)\n",
    "\n",
    "# fig.show()"
   ]
  },
  {
   "cell_type": "markdown",
   "id": "5f4e1c77-9916-48bd-9e56-a776501083dd",
   "metadata": {},
   "source": [
    "## Level 4 clustering (TEGLU)"
   ]
  },
  {
   "cell_type": "markdown",
   "id": "233e62e2-13cd-433d-bca2-1f68cfc065fe",
   "metadata": {},
   "source": [
    "TEGLU1, TEGLU2, MSN, TEGLU CA3"
   ]
  },
  {
   "cell_type": "code",
   "execution_count": null,
   "id": "6d0d404b-cbc1-4c10-9a34-7dcd696af168",
   "metadata": {},
   "outputs": [],
   "source": [
    "# Subset\n",
    "sub_id = 'TEGLU 1'\n",
    "curr_cells = adata.obs['level_3'] == sub_id\n",
    "sdata = adata[curr_cells, :].copy()\n",
    "sdata"
   ]
  },
  {
   "cell_type": "code",
   "execution_count": null,
   "id": "1457b0e0-2a8e-4b5f-8753-e7e22fa6f62e",
   "metadata": {},
   "outputs": [],
   "source": [
    "%%time\n",
    "# redo pp (test)\n",
    "sdata.X = sdata.layers['raw'].copy()\n",
    "del sdata.layers['scaled']\n",
    "del sdata.layers['corrected']\n",
    "\n",
    "sc.pp.normalize_total(sdata)\n",
    "sc.pp.log1p(sdata)\n",
    "sdata.raw = sdata\n",
    "sc.pp.scale(sdata)\n",
    "sdata.layers['scaled'] = sdata.X.copy()\n",
    "sc.pp.regress_out(sdata, ['total_counts'])\n",
    "sdata.layers['corrected'] = sdata.X.copy()\n",
    "\n",
    "# Run PCA\n",
    "sdata.X = sdata.layers['corrected'].copy()\n",
    "sc.tl.pca(sdata, svd_solver='full', use_highly_variable=True)\n",
    "\n",
    "# Plot explained variance \n",
    "sc.pl.pca_variance_ratio(sdata, log=False)\n",
    "\n",
    "# Plot PCA\n",
    "sc.pl.pca(sdata, color='protocol-replicate')\n",
    "\n",
    "import scanpy.external as sce\n",
    "sce.pp.harmony_integrate(sdata, 'protocol-replicate')"
   ]
  },
  {
   "cell_type": "code",
   "execution_count": null,
   "id": "a408a212-4023-4d91-88e2-806b4b847b07",
   "metadata": {},
   "outputs": [],
   "source": [
    "# Embedding parameters\n",
    "emb_dict = {\n",
    "    'TEGLU 1': {'n_neighbors': 20, 'n_pcs': 30, 'min_dist': .1, 'cluster_resolution': 1.1},\n",
    "    'TEGLU 2': {'n_neighbors': 50, 'n_pcs': 30, 'min_dist': .1, 'cluster_resolution': .3},\n",
    "    'MSN': {'n_neighbors': 50, 'n_pcs': 10, 'min_dist': .1, 'cluster_resolution': .3},\n",
    "    'TEGLU CA3': {'n_neighbors': 50, 'n_pcs': 15, 'min_dist': .1, 'cluster_resolution': .4},\n",
    "}\n",
    "\n",
    "save_embedding = True"
   ]
  },
  {
   "cell_type": "code",
   "execution_count": null,
   "id": "94a37fa0-f03d-4c0e-9c33-c01f1fa5423a",
   "metadata": {},
   "outputs": [],
   "source": [
    "if sub_id == 'Di/Mesencephalon neurons':\n",
    "    sub_level_fig_path = os.path.join(clustering_out_path, \"Di_Mesencephalon neurons\")\n",
    "    if not os.path.exists(sub_level_fig_path):\n",
    "        os.mkdir(sub_level_fig_path)\n",
    "else:\n",
    "    sub_level_fig_path = os.path.join(clustering_out_path, sub_id)\n",
    "    if not os.path.exists(sub_level_fig_path):\n",
    "        os.mkdir(sub_level_fig_path)"
   ]
  },
  {
   "cell_type": "markdown",
   "id": "917044b8-9ac4-43b6-941f-4587f510798d",
   "metadata": {},
   "source": [
    "### clustering"
   ]
  },
  {
   "cell_type": "code",
   "execution_count": null,
   "id": "3d4efbe1-4d07-4be1-9e4c-a5b3cc42a0ab",
   "metadata": {},
   "outputs": [],
   "source": [
    "# replace regular pca with integrated pca \n",
    "sdata.obsm['X_pca'] = sdata.obsm['X_pca_harmony'].copy()\n",
    "sc.pl.pca_variance_ratio(sdata, log=False)\n",
    "sc.pl.pca(sdata, color='protocol-replicate')"
   ]
  },
  {
   "cell_type": "code",
   "execution_count": null,
   "id": "32f991c6-8338-42d5-ae9f-d9e5eedefbd3",
   "metadata": {},
   "outputs": [],
   "source": [
    "%%time\n",
    "# Computing the neighborhood graph\n",
    "n_neighbors = emb_dict[sub_id]['n_neighbors']\n",
    "n_pcs = emb_dict[sub_id]['n_pcs']\n",
    "min_dist = emb_dict[sub_id]['min_dist']\n",
    "\n",
    "sc.pp.neighbors(sdata, n_neighbors=n_neighbors, n_pcs=n_pcs, random_state=0)\n",
    "\n",
    "# Run UMAP\n",
    "min_dist = 0.001\n",
    "spread = 3\n",
    "sc.tl.umap(sdata, min_dist=min_dist, spread=spread)"
   ]
  },
  {
   "cell_type": "code",
   "execution_count": null,
   "id": "3a16586f-e1bf-4873-968e-fd9849b98f84",
   "metadata": {},
   "outputs": [],
   "source": [
    "%%time\n",
    "# Run leiden cluster\n",
    "cluster_resolution = emb_dict[sub_id]['cluster_resolution']\n",
    "sc.tl.leiden(sdata, resolution = cluster_resolution)\n",
    "\n",
    "# Plot UMAP with cluster labels \n",
    "sc.pl.umap(sdata, color='leiden')\n",
    "n_clusters = sdata.obs['leiden'].unique().shape[0]\n",
    "\n",
    "if save_embedding:\n",
    "    # Save log\n",
    "    with open(f'{sub_level_fig_path}/log_{sub_id}.txt', 'w') as f:\n",
    "        f.write(f\"\"\"Number of neighbor: {n_neighbors}\n",
    "    Number of PC: {n_pcs}\n",
    "    Resolution: {cluster_resolution}\n",
    "    Min-distance: {min_dist}\n",
    "    Number of clusters: {n_clusters}\"\"\")\n",
    "\n",
    "    # save embeddings\n",
    "    np.savetxt(f'{sub_level_fig_path}/embedding_{sub_id}_umap.csv', sdata.obsm['X_umap'], delimiter=\",\")"
   ]
  },
  {
   "cell_type": "code",
   "execution_count": null,
   "id": "ad8e7256-1860-42f1-8757-5feef21d2652",
   "metadata": {},
   "outputs": [],
   "source": [
    "# Get colormap\n",
    "cluster_pl = sns.color_palette(\"hls\", n_clusters)\n",
    "cluster_cmap = ListedColormap(cluster_pl.as_hex())\n",
    "sns.palplot(cluster_pl)"
   ]
  },
  {
   "cell_type": "code",
   "execution_count": null,
   "id": "b587156c-e666-45a5-8f27-248ed83f0995",
   "metadata": {
    "tags": []
   },
   "outputs": [],
   "source": [
    "# Plot UMAP with cluster labels w/ new color\n",
    "fig, ax = plt.subplots(figsize=(10,7))\n",
    "sc.pl.umap(sdata, color='leiden', legend_loc='on data',\n",
    "           legend_fontsize=12, legend_fontoutline=2, frameon=False, \n",
    "           title='Sub level clustering (leiden)', palette=cluster_pl, save=False, ax=ax)"
   ]
  },
  {
   "cell_type": "code",
   "execution_count": null,
   "id": "7356dee1-bcab-4701-8a28-ffca892b8937",
   "metadata": {
    "tags": []
   },
   "outputs": [],
   "source": [
    "# move label to level 2 and check\n",
    "adata.obs['level_3_temp'] = 'NA'\n",
    "adata.obs.loc[adata.obs['level_3'] == sub_id, 'level_3_temp'] = sdata.obs.leiden.values\n",
    "adata.obs['level_3_temp'] = adata.obs['level_3_temp'].astype('category')\n",
    "temp_order = sdata.obs.leiden.cat.categories.to_list()\n",
    "temp_order.append('NA')\n",
    "adata.obs['level_3_temp'] = adata.obs['level_3_temp'].cat.reorder_categories(temp_order)\n",
    "temp_pl = sns.color_palette(sdata.uns['leiden_colors'] + ['#ebebeb'])"
   ]
  },
  {
   "cell_type": "code",
   "execution_count": null,
   "id": "8f032f2b-ed5e-49b7-b9b0-8c94f823ee6b",
   "metadata": {
    "tags": []
   },
   "outputs": [],
   "source": [
    "# Plot UMAP with all cell embedding\n",
    "fig, ax = plt.subplots(figsize=(10,7))\n",
    "sc.pl.umap(adata, color='level_3_temp', legend_loc='on data',\n",
    "           legend_fontsize=12, legend_fontoutline=2, frameon=False, \n",
    "           title='Sub level clustering (leiden)', palette=temp_pl, save=False, ax=ax)"
   ]
  },
  {
   "cell_type": "code",
   "execution_count": null,
   "id": "092d0043-84e4-47fc-b84a-42ec4396e188",
   "metadata": {},
   "outputs": [],
   "source": [
    "# Add log layer\n",
    "# sdata.layers['log_raw'] = np.log1p(sdata.layers['raw'])\n",
    "# sc.pp.normalize_total(sdata, layer='log_raw')\n",
    "# sc.tl.rank_genes_groups(sdata, 'leiden', method='wilcoxon', layer='log_raw', pts=True, use_raw=False, n_genes=adata.shape[1])\n",
    "\n",
    "# Find gene markers for each cluster\n",
    "sc.tl.rank_genes_groups(sdata, 'leiden', method='wilcoxon', pts=True, use_raw=True, n_genes=adata.shape[1])\n",
    "\n",
    "# Filter markers\n",
    "sc.tl.filter_rank_genes_groups(sdata, min_fold_change=.1, min_in_group_fraction=0.2, max_out_group_fraction=0.8)"
   ]
  },
  {
   "cell_type": "code",
   "execution_count": null,
   "id": "f4361c6b-edfc-450a-aaba-dff537421166",
   "metadata": {},
   "outputs": [],
   "source": [
    "current_cell_type = '8'\n",
    "\n",
    "current_df = sc.get.rank_genes_groups_df(sdata, group=current_cell_type, key='rank_genes_groups')\n",
    "current_df.head(10)"
   ]
  },
  {
   "cell_type": "code",
   "execution_count": null,
   "id": "c4278186-44a0-45fa-a21c-324a3ca807e3",
   "metadata": {},
   "outputs": [],
   "source": [
    "# Dot plot logfoldchanges\n",
    "sc.pl.rank_genes_groups_dotplot(sdata, key='rank_genes_groups', n_genes=5, values_to_plot='logfoldchanges', min_logfoldchange=1, vmax=5, vmin=-5, cmap='bwr', dendrogram=False)"
   ]
  },
  {
   "cell_type": "code",
   "execution_count": null,
   "id": "21161a08-9c1a-4e2f-882a-bc060a643fde",
   "metadata": {},
   "outputs": [],
   "source": [
    "# Dot plot mean expression (##)\n",
    "sc.pl.rank_genes_groups_dotplot(sdata, key='rank_genes_groups_filtered', n_genes=5, dendrogram=False)"
   ]
  },
  {
   "cell_type": "code",
   "execution_count": null,
   "id": "0dadb4e7-a9fb-47ee-834c-436873c0735b",
   "metadata": {},
   "outputs": [],
   "source": [
    "# Print markers \n",
    "markers = []\n",
    "temp = pd.DataFrame(sdata.uns['rank_genes_groups_filtered']['names']).head(15)\n",
    "for i in range(temp.shape[1]):\n",
    "    curr_col = temp.iloc[:, i].to_list()\n",
    "    markers = markers + curr_col\n",
    "    # print(i, curr_col)\n",
    "    print(i)\n",
    "    for j in curr_col:\n",
    "        print(j, end=' ')\n",
    "    print('')"
   ]
  },
  {
   "cell_type": "code",
   "execution_count": null,
   "id": "f77ec05f-c423-48f5-bfad-946d71306d8a",
   "metadata": {
    "tags": []
   },
   "outputs": [],
   "source": [
    "# # gene_list = ['Slc17a7', 'Gad1', 'Gad2', 'Sst', 'Pvalb', 'Npy', 'Vip', 'Pcp4', 'Cux2', 'Kif5a', 'Slc32a1', 'Nrgn', 'Sncg', 'Rorb', 'Tmsb4x']\n",
    "# # gene_list = ['Aqp4', 'Gfap', 'Plp1', 'Mbp', 'Mobp', 'Slc1a3', 'Pdgfra', 'Bsg', 'Vtn', 'Vim']\n",
    "# gene_list = ['Pvalb', 'Sst', 'Vip', 'Npy']\n",
    "\n",
    "# fig, axs = plt.subplots(nrows=3, ncols=5, figsize=(25, 12))\n",
    "# axs = axs.flatten()\n",
    "# for i, gene in enumerate(gene_list):\n",
    "#     ax = sc.pl.umap(sdata, color=gene, title=gene, ax=axs[i], show=False)\n",
    "    \n",
    "# plt.show()"
   ]
  },
  {
   "cell_type": "code",
   "execution_count": null,
   "id": "18bfa950-e47c-4e6a-88ce-d2d34882521b",
   "metadata": {},
   "outputs": [],
   "source": [
    "current_sample = 'RIBOmap-rep2'\n",
    "\n",
    "fig, ax = plt.subplots(figsize=(15, 20))\n",
    "g = sns.scatterplot(x='column', y='row', color='#ebebeb', \n",
    "                    data=adata.obs.loc[adata.obs['protocol-replicate'] == current_sample, :], \n",
    "                    s=5,\n",
    "                    ax=ax)\n",
    "\n",
    "g = sns.scatterplot(x='column', y='row', hue='leiden', \n",
    "                    palette=cluster_pl,\n",
    "                    data=sdata.obs.loc[sdata.obs['protocol-replicate'] == current_sample, :], \n",
    "                    s=5,\n",
    "                    ax=ax)\n",
    "\n",
    "g.set_title(current_sample)\n",
    "g.invert_yaxis()\n",
    "g.axes.xaxis.set_visible(False)\n",
    "g.axes.yaxis.set_visible(False)"
   ]
  },
  {
   "cell_type": "code",
   "execution_count": null,
   "id": "38b38e7d-3146-4ad6-9c4c-72a9c5b52706",
   "metadata": {},
   "outputs": [],
   "source": [
    "current_sample = 'RIBOmap-rep1'\n",
    "\n",
    "fig, ax = plt.subplots(figsize=(15, 20))\n",
    "g = sns.scatterplot(x='column', y='row', color='#ebebeb', \n",
    "                    data=adata.obs.loc[adata.obs['protocol-replicate'] == current_sample, :], \n",
    "                    s=5,\n",
    "                    ax=ax)\n",
    "\n",
    "g = sns.scatterplot(x='column', y='row', hue='leiden', \n",
    "                    palette=cluster_pl,\n",
    "                    data=sdata.obs.loc[sdata.obs['protocol-replicate'] == current_sample, :], \n",
    "                    s=5,\n",
    "                    ax=ax)\n",
    "\n",
    "g.set_title(current_sample)\n",
    "g.invert_xaxis()\n",
    "g.axes.xaxis.set_visible(False)\n",
    "g.axes.yaxis.set_visible(False)"
   ]
  },
  {
   "cell_type": "code",
   "execution_count": null,
   "id": "60a50c85-ebf2-4d70-af63-36e890c1a9f9",
   "metadata": {
    "scrolled": true,
    "tags": []
   },
   "outputs": [],
   "source": [
    "# plot summary plot for each cluster\n",
    "sub_level_sum_path = os.path.join(sub_level_fig_path, f'r_{cluster_resolution}_summary_repp')\n",
    "if not os.path.exists(sub_level_sum_path):\n",
    "    os.mkdir(sub_level_sum_path)\n",
    "\n",
    "for i, current_cluster in enumerate(tqdm(sorted(sdata.obs['leiden'].unique()))):\n",
    "    \n",
    "    # get dfs \n",
    "    df1 = sdata.obs.loc[sdata.obs['protocol-replicate'] == 'RIBOmap-rep1', :]\n",
    "    df2 = sdata.obs.loc[sdata.obs['protocol-replicate'] == 'RIBOmap-rep2', :]\n",
    "\n",
    "    fig, axs = plt.subplots(nrows=3, ncols=2, figsize=(12, 16))\n",
    "    axs = axs.flatten()\n",
    "\n",
    "\n",
    "    # plot1\n",
    "    g1 = sns.scatterplot(x='column', y='row', color='#1111', \n",
    "                        data=adata.obs.loc[adata.obs['protocol-replicate'] == 'RIBOmap-rep1', :], \n",
    "                        s=5,\n",
    "                        ax=axs[0])\n",
    "\n",
    "    g1.set_title('RIBOmap-rep1')\n",
    "    g1.invert_xaxis()\n",
    "    g1.axes.xaxis.set_visible(False)\n",
    "    g1.axes.yaxis.set_visible(False)\n",
    "\n",
    "\n",
    "    h1 = sns.scatterplot(x='column', y='row', hue='leiden', legend=None,\n",
    "                        palette=cluster_pl,\n",
    "                        data=df1.loc[df1['leiden'] == current_cluster, ], \n",
    "                        s=7,\n",
    "                        ax=axs[0])\n",
    "\n",
    "    # plot2\n",
    "    g2 = sns.scatterplot(x='column', y='row', color='#1111', \n",
    "                        data=adata.obs.loc[adata.obs['protocol-replicate'] == 'RIBOmap-rep2', :], \n",
    "                        s=5,\n",
    "                        ax=axs[1])\n",
    "\n",
    "    g2.set_title('RIBOmap-rep2')\n",
    "    g2.invert_yaxis()\n",
    "    g2.axes.xaxis.set_visible(False)\n",
    "    g2.axes.yaxis.set_visible(False)\n",
    "\n",
    "    h2 = sns.scatterplot(x='column', y='row', hue='leiden', legend=None,\n",
    "                        palette=cluster_pl,\n",
    "                        data=df2.loc[df2['leiden'] == current_cluster, ], \n",
    "                        s=7,\n",
    "                        ax=axs[1])\n",
    "\n",
    "\n",
    "    size_factor = 200000\n",
    "    # umap1\n",
    "    ax = sc.pl.umap(sdata, show=False, color=None, alpha=1, size=(size_factor / sdata.n_obs), ax=axs[2], title='', palette=sns.color_palette(['#fafafa']))\n",
    "    sc.pl.umap(sdata[(sdata.obs[\"leiden\"] == current_cluster) & (sdata.obs['protocol-replicate'] == 'RIBOmap-rep1')], color='leiden', frameon=False, ax=ax, legend_loc=None, size=(size_factor / sdata.n_obs),\n",
    "           title='', show=False, palette=sns.color_palette([sdata.uns['leiden_colors'][int(current_cluster)]]))\n",
    "\n",
    "    # umap2\n",
    "    ax = sc.pl.umap(sdata, show=False, color=None, alpha=1, size=(size_factor / sdata.n_obs), ax=axs[3], title='', palette=sns.color_palette(['#fafafa']))\n",
    "    sc.pl.umap(sdata[(sdata.obs[\"leiden\"] == current_cluster) & (sdata.obs['protocol-replicate'] == 'RIBOmap-rep2')], color='leiden', frameon=False, ax=ax, legend_loc=None, size=(size_factor / sdata.n_obs),\n",
    "           title='', show=False, palette=sns.color_palette([sdata.uns['leiden_colors'][int(current_cluster)]]))\n",
    "\n",
    "    # umap3\n",
    "    ax = sc.pl.umap(adata, show=False, color=None, alpha=1, size=(size_factor / adata.n_obs), ax=axs[4], title='', palette=sns.color_palette(['#fafafa']))\n",
    "    sc.pl.umap(adata[(adata.obs[\"level_3_temp\"] == current_cluster) & (adata.obs['protocol-replicate'] == 'RIBOmap-rep1')], color='level_3_temp', frameon=False, ax=ax, legend_loc=None, size=(size_factor / adata.n_obs),\n",
    "           title='', show=False, palette=sns.color_palette([adata.uns['level_3_temp_colors'][int(current_cluster)]]))\n",
    "\n",
    "    # umap4\n",
    "    ax = sc.pl.umap(adata, show=False, color=None, alpha=1, size=(size_factor / adata.n_obs), ax=axs[5], title='', palette=sns.color_palette(['#fafafa']))\n",
    "    sc.pl.umap(adata[(adata.obs[\"level_3_temp\"] == current_cluster) & (adata.obs['protocol-replicate'] == 'RIBOmap-rep2')], color='level_3_temp', frameon=False, ax=ax, legend_loc=None, size=(size_factor / adata.n_obs),\n",
    "           title='', show=False, palette=sns.color_palette([adata.uns['level_3_temp_colors'][int(current_cluster)]]))\n",
    "    \n",
    "    plt.savefig(os.path.join(sub_level_sum_path, f'cluster_{current_cluster}.jpeg'))"
   ]
  },
  {
   "cell_type": "markdown",
   "id": "1e71c5b7-233b-4979-87d0-a5992b1abf80",
   "metadata": {},
   "source": [
    "### assign label"
   ]
  },
  {
   "cell_type": "code",
   "execution_count": null,
   "id": "9e9d50d3-d800-4e91-987c-1ac3fc76a9bc",
   "metadata": {},
   "outputs": [],
   "source": [
    "# Plot UMAP with cluster labels w/ new color\n",
    "fig, ax = plt.subplots(figsize=(10,7))\n",
    "sc.pl.umap(sdata, color='leiden', legend_loc='on data',\n",
    "           legend_fontsize=12, legend_fontoutline=2, frameon=False, \n",
    "           title=f'Level 3 {sub_id}', palette=cluster_pl, save=False, ax=ax)"
   ]
  },
  {
   "cell_type": "code",
   "execution_count": null,
   "id": "f6ba7875-59b2-41d8-9342-228f06a0e6e4",
   "metadata": {
    "tags": []
   },
   "outputs": [],
   "source": [
    "# Print markers \n",
    "markers = []\n",
    "temp = pd.DataFrame(sdata.uns['rank_genes_groups_filtered']['names']).head(15)\n",
    "for i in range(temp.shape[1]):\n",
    "    curr_col = temp.iloc[:, i].to_list()\n",
    "    markers = markers + curr_col\n",
    "    # print(i, curr_col)\n",
    "    print(i)\n",
    "    for j in curr_col:\n",
    "        print(j, end=' ')\n",
    "    print('')"
   ]
  },
  {
   "cell_type": "code",
   "execution_count": null,
   "id": "eb6dc4a7-0cba-4907-9df6-f759e9b9ea0e",
   "metadata": {},
   "outputs": [],
   "source": [
    "current_cell_type = '6'\n",
    "\n",
    "current_df = sc.get.rank_genes_groups_df(sdata, group=current_cell_type, key='rank_genes_groups')\n",
    "current_df.head(10)"
   ]
  },
  {
   "cell_type": "code",
   "execution_count": null,
   "id": "e66b090b-42d2-45fc-9648-ab33a36bdece",
   "metadata": {},
   "outputs": [],
   "source": [
    "# Change cluster label to cell type label\n",
    "transfer_dict = {}\n",
    "\n",
    "# TEGLU 1\n",
    "if sub_id == 'TEGLU 1':\n",
    "    level_3_list = ['TEGLU L6a', #0\n",
    "                    'TEGLU L2/3', #1\n",
    "                    'TEGLU L5', #2\n",
    "                    'TEGLU L1/2/3', #3\n",
    "                    'TEGLU L2/3', #4\n",
    "                    'TEGLU PIR', #5\n",
    "                    'TEGLU L6', #6\n",
    "                    'TEGLU Mix', #7\n",
    "                    'TEGLU Unknown', #8\n",
    "                   ]\n",
    "\n",
    "# TEGLU 2\n",
    "if sub_id == 'TEGLU 2':\n",
    "    level_3_list = ['TEGLU CA1', #0\n",
    "                    'TEGLU CA3', #1\n",
    "                   ]\n",
    "    \n",
    "# TEGLU CA3\n",
    "if sub_id == 'TEGLU CA3':\n",
    "    level_3_list = ['TEGLU CA3', #0\n",
    "                    'TEGLU CA2', #1\n",
    "                    'TEGLU CA3', #1\n",
    "                   ]\n",
    "    \n",
    "for i in sorted(sdata.obs['leiden'].unique()):\n",
    "    transfer_dict[i] = level_3_list[int(i)]"
   ]
  },
  {
   "cell_type": "code",
   "execution_count": null,
   "id": "a196c6b2-4521-4af9-985b-874dcd1dff42",
   "metadata": {},
   "outputs": [],
   "source": [
    "# Print markers \n",
    "markers = []\n",
    "temp = pd.DataFrame(sdata.uns['rank_genes_groups']['names']).head(10)\n",
    "for i in range(temp.shape[1]):\n",
    "    curr_col = temp.iloc[:, i].to_list()\n",
    "    markers = markers + curr_col\n",
    "    # print(i, curr_col)\n",
    "    print(f\"{i} - {level_3_list[i]}\")\n",
    "    for j in curr_col:\n",
    "        print(j, end=',')\n",
    "    print('')"
   ]
  },
  {
   "cell_type": "code",
   "execution_count": null,
   "id": "a4141fc5-4ae1-4c37-adc3-8aa2b550c6a9",
   "metadata": {},
   "outputs": [],
   "source": [
    "# Assign cell type to sdata\n",
    "sdata.obs['level_3'] = sdata.obs['leiden'].values\n",
    "sdata.obs = sdata.obs.replace({'level_3': transfer_dict})\n",
    "\n",
    "# Sort category\n",
    "level_3_order = natsorted(list(set(level_3_list)))\n",
    "sdata.obs['level_3'] = sdata.obs['level_3'].astype('category')\n",
    "sdata.obs['level_3'].cat.reorder_categories(level_3_order, inplace=True)"
   ]
  },
  {
   "cell_type": "code",
   "execution_count": null,
   "id": "7b611cd4-2929-4239-99ea-1a74f07be789",
   "metadata": {},
   "outputs": [],
   "source": [
    "# Check color legend\n",
    "level_3_pl = sns.color_palette(\"hls\", len(level_3_order))\n",
    "sns.palplot(level_3_pl, size=3)\n",
    "plt.xticks(range(len(level_3_order)), level_3_order, size=10, rotation=45)\n",
    "plt.tight_layout()\n",
    "# plt.savefig(f'./figures/color_legend_top.png')\n",
    "plt.show()"
   ]
  },
  {
   "cell_type": "code",
   "execution_count": null,
   "id": "59a8f3b6-4288-4f56-821e-70f2def86022",
   "metadata": {},
   "outputs": [],
   "source": [
    "# Save plots\n",
    "# Plot UMAP with cluster labels w/ new color\n",
    "sc.pl.umap(sdata, color='level_3', legend_loc='right margin',\n",
    "           legend_fontsize=12, legend_fontoutline=2, frameon=False, \n",
    "           title=f'Level 3 {sub_id}', palette=level_3_pl, save=False)"
   ]
  },
  {
   "cell_type": "code",
   "execution_count": null,
   "id": "eccb906b-3fc9-4d06-b52e-aa1522ac63a5",
   "metadata": {},
   "outputs": [],
   "source": [
    "current_sample = 'RIBOmap-rep2'\n",
    "\n",
    "fig, ax = plt.subplots(figsize=(15, 20))\n",
    "g = sns.scatterplot(x='column', y='row', color='#ebebeb', \n",
    "                    data=adata.obs.loc[adata.obs['protocol-replicate'] == current_sample, :], \n",
    "                    s=10,\n",
    "                    ax=ax)\n",
    "\n",
    "g = sns.scatterplot(x='column', y='row', hue='level_3', \n",
    "                    palette=level_3_pl,\n",
    "                    data=sdata.obs.loc[sdata.obs['protocol-replicate'] == current_sample, :], \n",
    "                    s=10,\n",
    "                    ax=ax)\n",
    "\n",
    "g.set_title(current_sample)\n",
    "g.invert_yaxis()\n",
    "g.axes.xaxis.set_visible(False)\n",
    "g.axes.yaxis.set_visible(False)"
   ]
  },
  {
   "cell_type": "code",
   "execution_count": null,
   "id": "7d91b382-4770-4546-9325-c0ddd2ae0b9d",
   "metadata": {},
   "outputs": [],
   "source": [
    "current_sample = 'RIBOmap-rep1'\n",
    "\n",
    "fig, ax = plt.subplots(figsize=(15, 20))\n",
    "g = sns.scatterplot(x='column', y='row', color='#ebebeb', \n",
    "                    data=adata.obs.loc[adata.obs['protocol-replicate'] == current_sample, :], \n",
    "                    s=10,\n",
    "                    ax=ax)\n",
    "\n",
    "g = sns.scatterplot(x='column', y='row', hue='level_3', \n",
    "                    palette=level_3_pl,\n",
    "                    data=sdata.obs.loc[sdata.obs['protocol-replicate'] == current_sample, :], \n",
    "                    s=10,\n",
    "                    ax=ax)\n",
    "\n",
    "g.set_title(current_sample)\n",
    "g.invert_xaxis()\n",
    "g.axes.xaxis.set_visible(False)\n",
    "g.axes.yaxis.set_visible(False)"
   ]
  },
  {
   "cell_type": "code",
   "execution_count": null,
   "id": "5434b1af-1cd5-4c2b-9aa1-0b0a78c7dabc",
   "metadata": {},
   "outputs": [],
   "source": [
    "# Find gene markers for each cluster\n",
    "sc.tl.rank_genes_groups(sdata, 'level_3', method='wilcoxon', pts=True, use_raw=True, n_genes=adata.shape[1])\n",
    "\n",
    "# Filter markers\n",
    "sc.tl.filter_rank_genes_groups(sdata, min_fold_change=.1, min_in_group_fraction=0.2, max_out_group_fraction=0.8)"
   ]
  },
  {
   "cell_type": "code",
   "execution_count": null,
   "id": "fc475cda-9e04-4879-b520-1a35979a9bc3",
   "metadata": {},
   "outputs": [],
   "source": [
    "# Plot z-score heatmap\n",
    "sc.pl.rank_genes_groups_dotplot(sdata, n_genes=5, groupby='level_3', min_logfoldchange=1, use_raw=False, swap_axes=True, \n",
    "                                vmin=-1, vmax=1, cmap='bwr', dendrogram=False, save=False)"
   ]
  },
  {
   "cell_type": "code",
   "execution_count": null,
   "id": "79f4c1ea-6a5f-450a-bdcf-b1570db2594f",
   "metadata": {},
   "outputs": [],
   "source": [
    "# sc.pl.umap(sdata, color=['Dcn', 'Bsg', 'Flt1', 'Myl9'])\n",
    "# sc.pl.umap(sdata, color=['Gfap', 'Calm1', 'Shank1', 'Mbp'])\n",
    "# sc.pl.umap(sdata, color=['Gad1', 'Sst', 'Pvalb', 'Npy', 'Vip'])\n",
    "# sc.pl.umap(sdata, color=['Scg2', 'Dlk1', 'Gabbr1', 'Cplx2', 'Camkv'])\n",
    "sc.pl.umap(sdata, color=['Scg2', 'Dlk1', 'Gabbr1', 'Cplx2', 'Camkv'])"
   ]
  },
  {
   "cell_type": "markdown",
   "id": "ddd429ae-c394-4f83-9ff3-46f426e7fc36",
   "metadata": {
    "tags": []
   },
   "source": [
    "### update adata"
   ]
  },
  {
   "cell_type": "code",
   "execution_count": null,
   "id": "0d88e863-ba01-4ac5-aec0-b72b73a3ac61",
   "metadata": {},
   "outputs": [],
   "source": [
    "# Map to original obj\n",
    "adata.obs['level_3'] = adata.obs['level_3'].astype(object)\n",
    "adata.obs.loc[sdata.obs.index, 'level_3'] = sdata.obs['level_3'].values\n",
    "adata.obs['level_3'].unique()"
   ]
  },
  {
   "cell_type": "code",
   "execution_count": null,
   "id": "942ab453-f88c-4e10-9589-ec610fbd95f2",
   "metadata": {},
   "outputs": [],
   "source": [
    "adata.obs['level_3'].unique().shape"
   ]
  },
  {
   "cell_type": "code",
   "execution_count": null,
   "id": "30f8ead5-6652-4dc6-acbd-2ee3f689925e",
   "metadata": {},
   "outputs": [],
   "source": [
    "# backup obs\n",
    "adata.obs.to_csv(f\"{out_path}/{date}-Brain-combined-3mad-ct-bk2.csv\")"
   ]
  },
  {
   "cell_type": "code",
   "execution_count": null,
   "id": "7ee05255-80df-4c7b-bc79-d6aa249373db",
   "metadata": {},
   "outputs": [],
   "source": [
    "# backup \n",
    "adata.write_h5ad(f\"{out_path}/{date}-Brain-combined-3mad-ct-bk3.h5ad\")"
   ]
  },
  {
   "cell_type": "code",
   "execution_count": null,
   "id": "7654b718-b6fa-4837-b0ab-306fac986353",
   "metadata": {},
   "outputs": [],
   "source": [
    "sc.pl.umap(adata, color='level_3')"
   ]
  },
  {
   "cell_type": "code",
   "execution_count": null,
   "id": "c59025b8-6d0c-4a94-9ac9-d991b27e9fd0",
   "metadata": {},
   "outputs": [],
   "source": [
    "adata.obs['level_3'].unique().shape"
   ]
  },
  {
   "cell_type": "code",
   "execution_count": null,
   "id": "55d7340f-631f-4fc5-a519-81f703ce6e23",
   "metadata": {},
   "outputs": [],
   "source": [
    "adata.obs['level_3'].unique()"
   ]
  },
  {
   "cell_type": "markdown",
   "id": "944a7e8d-ad8d-4e08-9539-b0493aea6b8f",
   "metadata": {},
   "source": [
    "## Reclassify mix cells"
   ]
  },
  {
   "cell_type": "code",
   "execution_count": null,
   "id": "1a088253-d44e-44dc-853e-f309cdde147c",
   "metadata": {},
   "outputs": [],
   "source": [
    "adata.obs.loc[adata.obs['level_1'] == 'Mix', :].shape"
   ]
  },
  {
   "cell_type": "code",
   "execution_count": null,
   "id": "b4b3dfe8-b07c-4227-b961-ef8dbb48dff8",
   "metadata": {},
   "outputs": [],
   "source": [
    "adata.obs.loc[adata.obs['level_2'] == 'Mix', :].shape"
   ]
  },
  {
   "cell_type": "code",
   "execution_count": null,
   "id": "6d1c4539-1a04-43b3-a78a-7332599afbe4",
   "metadata": {},
   "outputs": [],
   "source": [
    "adata.obs.loc[adata.obs['level_3'] == 'Mix', :].shape"
   ]
  },
  {
   "cell_type": "code",
   "execution_count": null,
   "id": "fc996c6f-dcad-48f4-98d6-bdb8ea78531e",
   "metadata": {},
   "outputs": [],
   "source": [
    "# reclassify mix cells \n",
    "ref_cells = adata.obs.loc[adata.obs['level_1'] != 'Mix', :].index\n",
    "mix_cells = adata.obs.loc[adata.obs['level_1'] == 'Mix', :].index\n",
    "\n",
    "ref_cell_loc = adata[ref_cells, :].obsm['X_umap']\n",
    "mix_cell_loc = adata[mix_cells, :].obsm['X_umap']"
   ]
  },
  {
   "cell_type": "code",
   "execution_count": null,
   "id": "517dc6c5-528b-4a96-b7d1-f16a834839b1",
   "metadata": {},
   "outputs": [],
   "source": [
    "current_level = 'level_3'\n",
    "ref_cell_annot = adata.obs.loc[ref_cells, current_level].values\n",
    "mix_cell_orig = adata.obs.loc[mix_cells, current_level].values"
   ]
  },
  {
   "cell_type": "code",
   "execution_count": null,
   "id": "11d97375-78c2-46f8-9235-eff20fc1dd4b",
   "metadata": {},
   "outputs": [],
   "source": [
    "from sklearn.neighbors import KNeighborsClassifier\n",
    "neigh = KNeighborsClassifier(n_neighbors=50)\n",
    "neigh.fit(ref_cell_loc, ref_cell_annot)\n",
    "mix_cell_predicted = neigh.predict(mix_cell_loc)"
   ]
  },
  {
   "cell_type": "code",
   "execution_count": null,
   "id": "7e2f8311-8eb1-4ffd-9b3a-862294de525f",
   "metadata": {},
   "outputs": [],
   "source": [
    "fig, ax = plt.subplots(figsize=(10,10))\n",
    "a = pd.crosstab(mix_cell_predicted, mix_cell_orig)\n",
    "sns.heatmap(a, annot=True, fmt='d', ax=ax)\n",
    "plt.xlabel('original-label')\n",
    "plt.ylabel('predicted-label')\n",
    "plt.show()"
   ]
  },
  {
   "cell_type": "code",
   "execution_count": null,
   "id": "4771d528-1217-4010-98f1-5a8e455ad960",
   "metadata": {},
   "outputs": [],
   "source": [
    "# update to adata\n",
    "adata.obs.loc[mix_cells, 'level_3_predicted'] = mix_cell_predicted"
   ]
  },
  {
   "cell_type": "code",
   "execution_count": null,
   "id": "45541772-1ec0-4e40-94cb-162f207bd4fa",
   "metadata": {},
   "outputs": [],
   "source": [
    "sc.pl.umap(adata, color='level_3_predicted')"
   ]
  },
  {
   "cell_type": "code",
   "execution_count": null,
   "id": "ea62d16a-9e5e-428f-9b44-6534ab42fbb7",
   "metadata": {},
   "outputs": [],
   "source": [
    "sc.pl.umap(adata, color='Sst')"
   ]
  },
  {
   "cell_type": "code",
   "execution_count": null,
   "id": "5b398d46-a339-4ed6-9a16-c3c4d706a6ff",
   "metadata": {},
   "outputs": [],
   "source": [
    "sc.pl.umap(adata, color='level_3')"
   ]
  },
  {
   "cell_type": "code",
   "execution_count": null,
   "id": "e170fc95-3092-479c-8c1b-75964ea57cda",
   "metadata": {},
   "outputs": [],
   "source": [
    "# backup obs\n",
    "adata.obs.to_csv(f\"{out_path}/{date}-Brain-combined-3mad-ct-v1.csv\")"
   ]
  },
  {
   "cell_type": "code",
   "execution_count": null,
   "id": "d08c513a-b7be-447e-89da-2f1220e10754",
   "metadata": {},
   "outputs": [],
   "source": [
    "# backup \n",
    "adata.write_h5ad(f\"{out_path}/{date}-Brain-combined-3mad-ct-v1.h5ad\")"
   ]
  },
  {
   "cell_type": "markdown",
   "id": "7507991c-196b-4dd9-9c04-ea0815c8f079",
   "metadata": {},
   "source": [
    "## Generate files for cell type verification"
   ]
  },
  {
   "cell_type": "code",
   "execution_count": null,
   "id": "264857b1-7d22-46ee-a58d-58a076a9ae13",
   "metadata": {},
   "outputs": [],
   "source": [
    "# generate files for the current level of annotations \n",
    "current_level = 'level_3'\n",
    "n_clusters = adata.obs[current_level].unique().shape[0]\n",
    "\n",
    "# Get markers for each cluster\n",
    "sc.tl.rank_genes_groups(adata, current_level, method='wilcoxon', pts=True)\n",
    "sc.tl.filter_rank_genes_groups(adata, min_in_group_fraction=0.15, max_out_group_fraction=0.85)"
   ]
  },
  {
   "cell_type": "code",
   "execution_count": null,
   "id": "d4106bed-60d6-4564-9b0a-9a810fa93acf",
   "metadata": {},
   "outputs": [],
   "source": [
    "# generate folders \n",
    "from datetime import datetime\n",
    "date = datetime.today().strftime('%Y-%m-%d')\n",
    "clustering_out_path = os.path.join(fig_path, f'{date}-clustering')\n",
    "if not os.path.exists(clustering_out_path):\n",
    "    os.mkdir(clustering_out_path)\n",
    "    \n",
    "level_out_path = os.path.join(clustering_out_path, current_level)\n",
    "if not os.path.exists(level_out_path):\n",
    "    os.mkdir(level_out_path)"
   ]
  },
  {
   "cell_type": "code",
   "execution_count": null,
   "id": "65f5c1b4-192b-469c-85fc-c92889873956",
   "metadata": {},
   "outputs": [],
   "source": [
    "# current_cell_type = 'Astrocyte'\n",
    "\n",
    "# current_df = sc.get.rank_genes_groups_df(adata, group=current_cell_type, key='rank_genes_groups_filtered')\n",
    "# current_df.head(10)"
   ]
  },
  {
   "cell_type": "code",
   "execution_count": null,
   "id": "7a979444-da52-45fb-88dc-1c0c23172192",
   "metadata": {},
   "outputs": [],
   "source": [
    "# gene_markers_summary \n",
    "cell_types = []\n",
    "markers = []\n",
    "temp = pd.DataFrame(adata.uns['rank_genes_groups_filtered']['names']).head(20)\n",
    "for i in range(temp.shape[1]):\n",
    "# for i in range(2):\n",
    "    curr_col = temp.iloc[:, i].to_list()\n",
    "    \n",
    "    curr_col = np.array(curr_col)\n",
    "    curr_col = [j for j in curr_col if j != 'nan']\n",
    "    current_type = adata.obs[current_level].cat.categories.to_list()[i]\n",
    "    \n",
    "    cell_types.append(current_type)\n",
    "    markers.append(curr_col)\n",
    "\n",
    "gene_markers_summary_filtered = pd.DataFrame({'cell type': cell_types, 'markers': markers})\n",
    "gene_markers_summary_filtered = gene_markers_summary_filtered.loc[gene_markers_summary_filtered['cell type'] != 'Mix', :]"
   ]
  },
  {
   "cell_type": "code",
   "execution_count": null,
   "id": "b810584d-e212-4740-bf35-3ad36f437520",
   "metadata": {},
   "outputs": [],
   "source": [
    "# gene_markers_summary\n",
    "cell_types = []\n",
    "markers = []\n",
    "temp = pd.DataFrame(adata.uns['rank_genes_groups']['names']).head(20)\n",
    "for i in range(temp.shape[1]):\n",
    "# for i in range(2):\n",
    "    curr_col = temp.iloc[:, i].to_list()\n",
    "    \n",
    "    curr_col = np.array(curr_col)\n",
    "    curr_col = [j for j in curr_col if j != 'nan']\n",
    "    current_type = adata.obs[current_level].cat.categories.to_list()[i]\n",
    "    \n",
    "    cell_types.append(current_type)\n",
    "    markers.append(curr_col)\n",
    "\n",
    "gene_markers_summary = pd.DataFrame({'cell type': cell_types, 'markers': markers})\n",
    "gene_markers_summary = gene_markers_summary.loc[gene_markers_summary['cell type'] != 'Mix', :]"
   ]
  },
  {
   "cell_type": "code",
   "execution_count": null,
   "id": "905c2df2-e961-4313-b4b8-61557551f9cb",
   "metadata": {},
   "outputs": [],
   "source": [
    "# save gene markers \n",
    "gene_markers_summary.to_csv(os.path.join(level_out_path, f'gene_markers_summary.csv'))\n",
    "gene_markers_summary_filtered.to_csv(os.path.join(level_out_path, f'gene_markers_summary_filtered.csv'))\n",
    "\n",
    "with pd.ExcelWriter(os.path.join(level_out_path, f'gene_markers_{current_level}.xlsx'), mode='w') as writer:  \n",
    "    for current_cell_type in adata.obs[current_level].cat.categories:\n",
    "        current_df = sc.get.rank_genes_groups_df(adata, group=current_cell_type, key='rank_genes_groups')\n",
    "        \n",
    "        if '/' in current_cell_type:\n",
    "            current_cell_type = current_cell_type.replace('/', '_')\n",
    "            current_df.to_excel(writer, sheet_name=f'{current_cell_type}')\n",
    "        else:\n",
    "            current_df.to_excel(writer, sheet_name=f'{current_cell_type}')\n",
    "        \n",
    "with pd.ExcelWriter(os.path.join(level_out_path, f'gene_markers_{current_level}_filtered.xlsx'), mode='w') as writer:  \n",
    "    for current_cell_type in adata.obs[current_level].cat.categories:\n",
    "        current_df = sc.get.rank_genes_groups_df(adata, group=current_cell_type, key='rank_genes_groups_filtered')\n",
    "        \n",
    "        if '/' in current_cell_type:\n",
    "            current_cell_type = current_cell_type.replace('/', '_')\n",
    "            current_df.to_excel(writer, sheet_name=f'{current_cell_type}')\n",
    "        else:\n",
    "            current_df.to_excel(writer, sheet_name=f'{current_cell_type}')\n",
    "        \n",
    "# save obs\n",
    "adata.obs.to_csv(os.path.join(level_out_path, f'obs_backup.csv'))"
   ]
  },
  {
   "cell_type": "code",
   "execution_count": null,
   "id": "28717a18-e2b0-4782-9821-f56c9849cd0a",
   "metadata": {},
   "outputs": [],
   "source": [
    "# Dot plot logfoldchanges\n",
    "sc.settings.figdir = level_out_path\n",
    "\n",
    "sc.pl.rank_genes_groups_dotplot(adata, key='rank_genes_groups', n_genes=10, min_logfoldchange=1, dendrogram=False, save=f'{current_level}_expr.pdf')\n",
    "sc.pl.rank_genes_groups_dotplot(adata, key='rank_genes_groups_filtered', n_genes=10, min_logfoldchange=1, dendrogram=False, save=f'{current_level}_expr_filtered.pdf')"
   ]
  },
  {
   "cell_type": "code",
   "execution_count": null,
   "id": "6eb144d0-99cf-418e-843c-8155c5968733",
   "metadata": {
    "scrolled": true,
    "tags": []
   },
   "outputs": [],
   "source": [
    "# generate spatial maps \n",
    "\n",
    "current_sm_path = os.path.join(level_out_path, 'spatial-maps')\n",
    "if not os.path.exists(current_sm_path):\n",
    "    os.mkdir(current_sm_path)\n",
    "\n",
    "for i, current_cluster in enumerate(tqdm(sorted(adata.obs[current_level].unique()))):\n",
    "    \n",
    "    # get dfs \n",
    "    df1 = adata.obs.loc[adata.obs['protocol-replicate'] == 'RIBOmap-rep1', :]\n",
    "    df2 = adata.obs.loc[adata.obs['protocol-replicate'] == 'RIBOmap-rep2', :]\n",
    "\n",
    "    fig, axs = plt.subplots(nrows=1, ncols=2, figsize=(40, 20))\n",
    "    axs = axs.flatten()\n",
    "\n",
    "\n",
    "    # plot1\n",
    "    g1 = sns.scatterplot(x='column', y='row', color='#1111', \n",
    "                        data=adata.obs.loc[adata.obs['protocol-replicate'] == 'RIBOmap-rep1', :], \n",
    "                        s=10,\n",
    "                        ax=axs[0])\n",
    "\n",
    "    g1.set_title('RIBOmap-rep1')\n",
    "    g1.invert_xaxis()\n",
    "    g1.axes.xaxis.set_visible(False)\n",
    "    g1.axes.yaxis.set_visible(False)\n",
    "\n",
    "\n",
    "    h1 = sns.scatterplot(x='column', y='row', legend=None, # hue=current_level,\n",
    "                        color='#d93321',\n",
    "                        data=df1.loc[df1[current_level] == current_cluster, ], \n",
    "                        s=10,\n",
    "                        ax=axs[0])\n",
    "\n",
    "    # plot2\n",
    "    g2 = sns.scatterplot(x='column', y='row', color='#1111', \n",
    "                        data=adata.obs.loc[adata.obs['protocol-replicate'] == 'RIBOmap-rep2', :], \n",
    "                        s=10,\n",
    "                        ax=axs[1])\n",
    "\n",
    "    g2.set_title('RIBOmap-rep2')\n",
    "    g2.invert_yaxis()\n",
    "    g2.axes.xaxis.set_visible(False)\n",
    "    g2.axes.yaxis.set_visible(False)\n",
    "\n",
    "    h2 = sns.scatterplot(x='column', y='row', legend=None, # hue=current_level, \n",
    "                        color='#d93321',\n",
    "                        data=df2.loc[df2[current_level] == current_cluster, ], \n",
    "                        s=10,\n",
    "                        ax=axs[1])\n",
    "\n",
    "    plt.tight_layout()\n",
    "    if '/' in current_cluster:\n",
    "        current_cluster = current_cluster.replace('/', '_')\n",
    "        plt.savefig(os.path.join(current_sm_path, f'cluster_{current_cluster}.jpeg'))\n",
    "    else:\n",
    "        plt.savefig(os.path.join(current_sm_path, f'cluster_{current_cluster}.jpeg'))\n",
    "    "
   ]
  },
  {
   "cell_type": "markdown",
   "id": "669a985e-6a51-486e-b192-9aa1aad45511",
   "metadata": {},
   "source": [
    "## modify labels"
   ]
  },
  {
   "cell_type": "code",
   "execution_count": null,
   "id": "b1ef8087-e243-4364-902c-af7152be6a3c",
   "metadata": {},
   "outputs": [],
   "source": [
    "# laod adata\n",
    "# adata = sc.read_h5ad(os.path.join(out_path, '2022-11-14-Brain-combined-3mad-ct-final.h5ad'))\n",
    "adata = sc.read_h5ad(os.path.join(out_path, '2022-11-13-Brain-RIBOmap-3mad-ct-final.h5ad'))\n",
    "adata"
   ]
  },
  {
   "cell_type": "code",
   "execution_count": null,
   "id": "7887b84b-98ad-4563-aa17-792466a92b20",
   "metadata": {},
   "outputs": [],
   "source": [
    "for i in adata.obs['level_3'].cat.categories:\n",
    "    print(i)"
   ]
  },
  {
   "cell_type": "code",
   "execution_count": null,
   "id": "26d726c1-3377-4a2e-a8b0-3a8b19d59feb",
   "metadata": {},
   "outputs": [],
   "source": [
    "# adata.obs = adata.obs.drop(columns=['level_3_temp', 'level_3_predicted'])\n",
    "adata.obs.level_3 = adata.obs.level_3.astype(object)\n",
    "\n",
    "# # change TEGLU Unknown to TEGLU mix\n",
    "# adata.obs.loc[adata.obs['level_3'] == 'TEGLU Unknown', 'level_3'] = 'TEGLU Mix'\n",
    "\n",
    "# # change TEGLU L5 to TEGLU L4/5\n",
    "# adata.obs.loc[adata.obs['level_3'] == 'TEGLU L5', 'level_3'] = 'TEGLU L4/5'\n",
    "\n",
    "# # change TEGLU 3 to TEGLU COA\n",
    "# adata.obs.loc[adata.obs['level_3'] == 'TEGLU 3', 'level_3'] = 'TEGLU COA'\n",
    "\n",
    "# change TEGLU 2/3 to TEGLU 2/3/4\n",
    "adata.obs.loc[adata.obs['level_3'] == 'TEGLU L2/3', 'level_3'] = 'TEGLU L2/3/4'\n",
    "\n",
    "# change TEGLU 1/2/3 to TEGLU 2/3\n",
    "adata.obs.loc[adata.obs['level_3'] == 'TEGLU L1/2/3', 'level_3'] = 'TEGLU L2/3'\n",
    "\n",
    "# change TEGLU 4/5 to TEGLU 5\n",
    "adata.obs.loc[adata.obs['level_3'] == 'TEGLU L4/5', 'level_3'] = 'TEGLU L5'\n",
    "\n",
    "adata.obs.level_3 = adata.obs.level_3.astype('category')"
   ]
  },
  {
   "cell_type": "code",
   "execution_count": null,
   "id": "e8f986e8-d436-4aaf-9912-a8876d88dc82",
   "metadata": {},
   "outputs": [],
   "source": [
    "del adata.uns['rank_genes_groups_filtered']"
   ]
  },
  {
   "cell_type": "code",
   "execution_count": null,
   "id": "1649b42b-276f-41ee-924b-c19058902f6c",
   "metadata": {},
   "outputs": [],
   "source": [
    "from datetime import datetime\n",
    "date = datetime.today().strftime('%Y-%m-%d')\n",
    "adata.write_h5ad(f\"{out_path}/{date}-Brain-RIBOmap-3mad-ct-final.h5ad\")"
   ]
  },
  {
   "cell_type": "markdown",
   "id": "670de066-5847-4477-92fb-518482f511d6",
   "metadata": {},
   "source": [
    "## Test"
   ]
  },
  {
   "cell_type": "code",
   "execution_count": null,
   "id": "d5563ba5-3f05-453e-a869-0679d14b3138",
   "metadata": {},
   "outputs": [],
   "source": [
    "# Sort category\n",
    "level_1_order = ['Neuronal cell', 'Glia', 'Mix']\n",
    "level_2_order = ['Telencephalon projecting neurons', #0\n",
    "                'Telencephalon interneurons', #1 \n",
    "                'Cholinergic, monoaminergic and peptidergic neurons', #2\n",
    "                'Di/Mesencephalon neurons', #3\n",
    "                'Astrocyte', #4\n",
    "                'Oligodendrocyte', #5\n",
    "                'Oligodendrocytes precursor cell', #6\n",
    "                'Microglia', #7\n",
    "                'Vascular cells', #8\n",
    "                'Astroependymal cells', #9\n",
    "                'Perivascular macrophages', #10   \n",
    "                 'Mix'\n",
    "]\n",
    "\n",
    "\n",
    "level_3_order = [\n",
    "    'Astro1',\n",
    "    'Astro2',\n",
    "    'Astro3',\n",
    "    'Astro4',\n",
    "    'CHOR',\n",
    "    'DECHO',\n",
    "    'DEGLU 1',\n",
    "    'DEGLU 2',\n",
    "    'DGGRC',\n",
    "    'EPEN',\n",
    "    'HYPEP',\n",
    "    'Inh Pvalb 1',\n",
    "    'Inh Pvalb 2',\n",
    "    'Inh Sst',\n",
    "    'MSN',\n",
    "    'Micro',\n",
    "    'Mix',\n",
    "    'OPC',\n",
    "    'Oligo1',\n",
    "    'Oligo2',\n",
    "    'PVM1',\n",
    "    'PVM2',\n",
    "    'Peri/VEC1',\n",
    "    'Peri/VEC2',\n",
    "    'TECHO 1',\n",
    "    'TECHO 2',\n",
    "    'TEGLU COA',\n",
    "    'TEGLU CA1',\n",
    "    'TEGLU CA2',\n",
    "    'TEGLU CA3',\n",
    "    'TEGLU L1/2/3',\n",
    "    'TEGLU L2/3',\n",
    "    'TEGLU L4/5',\n",
    "    'TEGLU L6',\n",
    "    'TEGLU L6a',\n",
    "    'TEGLU Mix',\n",
    "    'TEGLU PIR',\n",
    "    'VLMC',\n",
    "    'VSMC',\n",
    "]\n",
    "\n",
    "adata.obs['level_1'] = adata.obs['level_1'].astype('category')\n",
    "adata.obs['level_1'].cat.reorder_categories(level_1_order, inplace=True)\n",
    "\n",
    "adata.obs['level_2'] = adata.obs['level_2'].astype('category')\n",
    "adata.obs['level_2'].cat.reorder_categories(level_2_order, inplace=True)\n",
    "\n",
    "adata.obs['level_3'] = adata.obs['level_3'].astype('category')\n",
    "adata.obs['level_3'].cat.reorder_categories(level_3_order, inplace=True)"
   ]
  },
  {
   "cell_type": "code",
   "execution_count": null,
   "id": "09f5f382-5017-462e-b7ba-59d6bcfe7b39",
   "metadata": {},
   "outputs": [],
   "source": [
    "# Check color legend\n",
    "level_1_pl = sns.color_palette(['#e8486d', '#4873e8', '#ebebeb'])\n",
    "sns.palplot(level_1_pl, size=3)\n",
    "plt.xticks(range(len(level_1_order)), level_1_order, size=10, rotation=45)\n",
    "plt.tight_layout()\n",
    "# plt.savefig(f'./figures/color_legend_top.png')\n",
    "plt.show()"
   ]
  },
  {
   "cell_type": "code",
   "execution_count": null,
   "id": "61941778-a477-4b55-893f-e355e3b8e377",
   "metadata": {},
   "outputs": [],
   "source": [
    "# Check color legend (old coloring scheme)\n",
    "level_2_colors = ['#256b00', \n",
    "                  '#ee750a', \n",
    "                  '#f280cf', \n",
    "                  '#f24f4b', \n",
    "                  '#e8e879', \n",
    "                  '#a8e1eb', \n",
    "                  '#667872', \n",
    "                  '#23ccb8', \n",
    "                  '#395ba8', \n",
    "                  '#697491',\n",
    "                  '#8803fc',\n",
    "                  '#ebebeb'\n",
    "                 ]\n",
    "level_2_pl = sns.color_palette(level_2_colors)\n",
    "sns.palplot(level_2_pl, size=3)\n",
    "plt.xticks(range(len(level_2_order)), level_2_order, size=10, rotation=45)\n",
    "plt.tight_layout()\n",
    "# plt.savefig(f'./figures/color_legend_top.png')\n",
    "plt.show()\n",
    "\n",
    "adata.obs['level_2'] = adata.obs['level_2'].cat.reorder_categories(level_2_order)"
   ]
  },
  {
   "cell_type": "code",
   "execution_count": null,
   "id": "6b75ddc9-a1a0-47f5-811d-8e7192418a26",
   "metadata": {},
   "outputs": [],
   "source": [
    "# Check color legend (old coloring scheme)\n",
    "level_3_colors = [\n",
    "    \n",
    "'#eaeaa2',\n",
    "'#bcbc5e',\n",
    "'#a6a64d',\n",
    "'#737337',\n",
    "'#7f52a9',\n",
    "'#b5368e',\n",
    "'#fa8380',\n",
    "'#ed5e5b',\n",
    "'#295029',\n",
    "'#c4b0d4',\n",
    "'#96066a',\n",
    "'#ee750a',\n",
    "'#b76319',\n",
    "'#fead65',\n",
    "'#7aecf8',\n",
    "'#8597c6',\n",
    "'#cccccc',\n",
    "'#667872',\n",
    "'#a8e1eb',\n",
    "'#9ed9e4',\n",
    "'#b274e8',\n",
    "'#501087',\n",
    "'#d3a59c',\n",
    "'#c49c94',\n",
    "'#f29ed8',\n",
    "'#e883c9',\n",
    "'#317531',\n",
    "'#77ed8f',\n",
    "'#28330b',\n",
    "'#ffd438',\n",
    "'#c4ff45',\n",
    "'#9ee800',\n",
    "'#32a630',\n",
    "'#316e10',\n",
    "'#406e27',\n",
    "'#c5fcc5',\n",
    "'#82ad2d',\n",
    "'#1f76b3',\n",
    "'#774d44',\n",
    "                 ]\n",
    "level_3_pl = sns.color_palette(level_3_colors)\n",
    "sns.palplot(level_3_pl, size=3)\n",
    "plt.xticks(range(len(level_3_order)), level_3_order, size=10, rotation=45)\n",
    "plt.tight_layout()\n",
    "# plt.savefig(f'./figures/color_legend_top.png')\n",
    "plt.show()\n",
    "\n",
    "adata.obs['level_3'] = adata.obs['level_3'].cat.reorder_categories(level_3_order)"
   ]
  },
  {
   "cell_type": "code",
   "execution_count": null,
   "id": "4820fba5-2de3-4fb3-905b-6a270980aab7",
   "metadata": {},
   "outputs": [],
   "source": [
    "sc.pl.umap(adata, color='level_3', legend_loc='right margin',\n",
    "           legend_fontsize=12, legend_fontoutline=2, frameon=False, \n",
    "           title=f'Level 3', palette=level_3_pl, save=False)"
   ]
  },
  {
   "cell_type": "code",
   "execution_count": null,
   "id": "291d6ebb-b9e9-4b1f-83aa-938d20d9dcea",
   "metadata": {},
   "outputs": [],
   "source": [
    "sc.pl.umap(adata, color='level_2', legend_loc='right margin',\n",
    "           legend_fontsize=12, legend_fontoutline=2, frameon=False, \n",
    "           title=f'Level 2', palette=level_2_pl, save=False)"
   ]
  },
  {
   "cell_type": "code",
   "execution_count": null,
   "id": "4abe361c-813d-432c-a608-bc099fdadf9e",
   "metadata": {},
   "outputs": [],
   "source": [
    "sc.pl.umap(adata, color='level_1', legend_loc='right margin',\n",
    "           legend_fontsize=12, legend_fontoutline=2, frameon=False, \n",
    "           title=f'Level 1', palette=level_1_pl, save=False)"
   ]
  },
  {
   "cell_type": "code",
   "execution_count": null,
   "id": "43d6c0dc-c60b-40b1-8fcc-16759f36743a",
   "metadata": {},
   "outputs": [],
   "source": [
    "sdata = adata[adata.obs['protocol-replicate'] == 'STARmap-rep2', ]\n",
    "\n",
    "reads_per_gene_df = pd.DataFrame(index=sdata.var.index)\n",
    "for current_type in sdata.obs.level_2.cat.categories:\n",
    "    \n",
    "    current_vec = sdata[sdata.obs['level_2'] == current_type, ].layers['raw'].sum(axis=0)\n",
    "    reads_per_gene_df[f'{current_type}'] = current_vec\n",
    "    "
   ]
  },
  {
   "cell_type": "code",
   "execution_count": null,
   "id": "58f1ffd0-08e4-4892-ab79-896c75e5b83e",
   "metadata": {},
   "outputs": [],
   "source": [
    "reads_per_gene_df.loc['Ctss', :]"
   ]
  },
  {
   "cell_type": "code",
   "execution_count": null,
   "id": "c0f0726a-d1ec-4c1b-ad5d-5ec881b9a81d",
   "metadata": {},
   "outputs": [],
   "source": [
    "reads_per_gene_df.to_csv(os.path.join(out_path, f'{date}-Brain-STARmap-gene-total-count-level2.csv'))"
   ]
  },
  {
   "cell_type": "code",
   "execution_count": null,
   "id": "3c7ff07f-260c-4645-b433-438d69e86614",
   "metadata": {},
   "outputs": [],
   "source": []
  }
 ],
 "metadata": {
  "kernelspec": {
   "display_name": "Python 3 (ipykernel)",
   "language": "python",
   "name": "python3"
  },
  "language_info": {
   "codemirror_mode": {
    "name": "ipython",
    "version": 3
   },
   "file_extension": ".py",
   "mimetype": "text/x-python",
   "name": "python",
   "nbconvert_exporter": "python",
   "pygments_lexer": "ipython3",
   "version": "3.8.12"
  }
 },
 "nbformat": 4,
 "nbformat_minor": 5
}
