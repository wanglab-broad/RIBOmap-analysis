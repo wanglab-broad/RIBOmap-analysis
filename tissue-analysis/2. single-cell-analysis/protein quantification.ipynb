{
 "cells": [
  {
   "cell_type": "markdown",
   "id": "cb6069f1-2889-4ca1-b70e-e577f8205e43",
   "metadata": {},
   "source": [
    "# Protein quantification"
   ]
  },
  {
   "cell_type": "code",
   "execution_count": null,
   "id": "5ac60a48-d389-45a1-8686-ef1434eec61f",
   "metadata": {},
   "outputs": [],
   "source": [
    "# Import packages \n",
    "import sys\n",
    "import numpy as np\n",
    "import pandas as pd\n",
    "import seaborn as sns\n",
    "from natsort import natsorted\n",
    "from scipy.io import loadmat, savemat\n",
    "from skimage.filters import threshold_otsu\n",
    "from skimage.color import label2rgb\n",
    "from tqdm.notebook import tqdm\n",
    "\n",
    "import anndata as ad\n",
    "import scanpy as sc\n",
    "# Customized packages \n",
    "from starmap.sequencing import *"
   ]
  },
  {
   "cell_type": "markdown",
   "id": "f09bf2ce-39c0-453c-b97d-1c7f240e84e8",
   "metadata": {},
   "source": [
    "## Path"
   ]
  },
  {
   "cell_type": "code",
   "execution_count": null,
   "id": "d6065ba7-353f-4704-8249-af1fb98f7b02",
   "metadata": {
    "tags": []
   },
   "outputs": [],
   "source": [
    "# IO path \n",
    "base_path = 'Z:/Data/Analyzed/2022-09-05-Hu-Tissue/'\n",
    "\n",
    "in_path = os.path.join(base_path, 'input')\n",
    "if not os.path.exists(in_path):\n",
    "    os.mkdir(in_path)\n",
    "    \n",
    "out_path = os.path.join(base_path, 'output')\n",
    "if not os.path.exists(out_path):\n",
    "    os.mkdir(out_path)\n",
    "    \n",
    "seg_path = os.path.join(in_path, \"rep2/protein/\")\n",
    "if not os.path.exists(seg_path):\n",
    "    os.mkdir(seg_path)\n",
    "    \n",
    "grid_path = os.path.join(seg_path, 'grid')\n",
    "if not os.path.exists(grid_path):\n",
    "    os.mkdir(grid_path)"
   ]
  },
  {
   "cell_type": "code",
   "execution_count": null,
   "id": "8cbb6916-e748-4d5b-b082-ca1913714b3a",
   "metadata": {},
   "outputs": [],
   "source": [
    "current_sample = 'STAR'"
   ]
  },
  {
   "cell_type": "code",
   "execution_count": null,
   "id": "578e9ad9-d883-4ab9-9a1e-e3d2796fe03d",
   "metadata": {},
   "outputs": [],
   "source": [
    "# load h5ad object with cell locations \n",
    "cdata = sc.read_h5ad(os.path.join(out_path, '2022-11-20-Brain-combined-3mad-ct-final.h5ad'))\n",
    "cdata"
   ]
  },
  {
   "cell_type": "markdown",
   "id": "50a215a2-c6a5-4275-aa26-b2750fe756d4",
   "metadata": {},
   "source": [
    "## Segmentation"
   ]
  },
  {
   "cell_type": "code",
   "execution_count": null,
   "id": "a4029734-48f6-4e5d-9b67-b98302bdd766",
   "metadata": {},
   "outputs": [],
   "source": [
    "# get centroids\n",
    "df = cdata.obs.loc[cdata.obs['protocol-replicate'] == f'{current_sample}map-rep2' , :].copy()\n",
    "df['column_scaled'] = df['column'] * 0.25\n",
    "df['row_scaled'] = df['row'] * 0.25\n",
    "centroids = df.loc[:, ['column_scaled', 'row_scaled']].to_numpy()\n",
    "centroids"
   ]
  },
  {
   "cell_type": "code",
   "execution_count": null,
   "id": "cbc115d1-85bf-4930-bd48-49e2e51a8e2f",
   "metadata": {},
   "outputs": [],
   "source": [
    "# load overlay image \n",
    "overlay = load_nissl_image(os.path.join(seg_path, 'segmentation'), fname=f\"{current_sample}_overlay.tif\")\n",
    "# overlay = load_nissl_image(os.path.join(seg_path,), fname=f\"test.tif\")"
   ]
  },
  {
   "cell_type": "code",
   "execution_count": null,
   "id": "b4c43a46-ce0b-447b-93db-c2410cf8054b",
   "metadata": {},
   "outputs": [],
   "source": [
    "figsize=(overlay.shape[1] / 1000 * 5, overlay.shape[0] / 1000 * 5)"
   ]
  },
  {
   "cell_type": "code",
   "execution_count": null,
   "id": "1be66b21-4192-4992-9819-cd54b5ee0ce0",
   "metadata": {},
   "outputs": [],
   "source": [
    "# Plot dots on segmentation mask\n",
    "plt.figure(figsize=figsize)\n",
    "plt.imshow(overlay, cmap='gray')\n",
    "plt.plot(centroids[:, 0], centroids[:, 1], '.', color='red', markersize=3)\n",
    "plt.axis('off')\n",
    "# plt.show()\n",
    "points_seg_path = os.path.join(seg_path, f\"{current_sample}_centroid.png\")\n",
    "print(f\"Saving points_seg.png\")\n",
    "plt.savefig(points_seg_path)\n",
    "# plt.clf()\n",
    "# plt.close()"
   ]
  },
  {
   "cell_type": "code",
   "execution_count": null,
   "id": "73e93040-c95e-403e-ab2f-8f82f2737eea",
   "metadata": {},
   "outputs": [],
   "source": [
    "%%time\n",
    "# Segmentation\n",
    "\n",
    "print(\"Gaussian & Thresholding\")\n",
    "blurred_overlay_seg = gaussian(overlay.astype(np.float), 2)\n",
    "threhold = 32\n",
    "\n",
    "# manual threshold \n",
    "blurred_overlay_seg = blurred_overlay_seg > threhold\n",
    "\n",
    "# dialation  \n",
    "blurred_overlay_seg = binary_dilation(blurred_overlay_seg, selem=disk(3))\n",
    "\n",
    "print(\"Assigning markers\")\n",
    "centroids = centroids.astype(int)\n",
    "markers = np.zeros(blurred_overlay_seg.shape, dtype=np.uint8)\n",
    "for i in range(centroids.shape[0]):\n",
    "    y, x = centroids[i, :]\n",
    "    if x < blurred_overlay_seg.shape[0] and y < blurred_overlay_seg.shape[1]:\n",
    "        markers[x-1, y-1] = 1\n",
    "markers = ndi.label(markers)[0]\n",
    "\n",
    "print(\"Watershed\")\n",
    "labels = watershed(blurred_overlay_seg, markers, mask=blurred_overlay_seg)\n",
    "labels_line = watershed(blurred_overlay_seg, markers, mask=blurred_overlay_seg, watershed_line=True)\n",
    "\n",
    "print(f\"Labeled {len(np.unique(labels)) - 1} cells\")\n",
    "plt.figure(figsize=(10,20))\n",
    "plt.imshow(label2rgb(labels_line, bg_label=0))\n",
    "\n",
    "print(f\"Saving files to {seg_path}\")\n",
    "tifffile.imsave(os.path.join(seg_path, f\"{current_sample}_labeled_cells_line.tif\"), labels_line.astype(np.uint16))\n",
    "tifffile.imsave(os.path.join(seg_path, f\"{current_sample}_labeled_cells.tif\"), labels.astype(np.uint16))"
   ]
  },
  {
   "cell_type": "code",
   "execution_count": null,
   "id": "c519141c-7199-4b7c-ba8b-c7645de856da",
   "metadata": {},
   "outputs": [],
   "source": [
    "centroids.shape"
   ]
  },
  {
   "cell_type": "markdown",
   "id": "715d8296-fd2a-4ffb-abb4-137cd8608c6f",
   "metadata": {},
   "source": [
    "## Quantification"
   ]
  },
  {
   "cell_type": "code",
   "execution_count": null,
   "id": "230e80dd-e871-42fa-af78-6d151c62f95d",
   "metadata": {},
   "outputs": [],
   "source": [
    "current_sample = 'STAR'\n",
    "current_df = cdata.obs.loc[cdata.obs['protocol-replicate'] == f'{current_sample}map-rep2' , :].copy()\n",
    "centroids = current_df.loc[:, ['column', 'row']].to_numpy()\n",
    "centroids.max(axis=0)"
   ]
  },
  {
   "cell_type": "code",
   "execution_count": null,
   "id": "d9451ca3-1665-43b8-acef-d53cf1e28159",
   "metadata": {},
   "outputs": [],
   "source": [
    "# Load pre-defined cell segmentation \n",
    "labels = load_label_image(os.path.join(seg_path, \"segmentation\"), fname=f'{current_sample}_labeled_cells_org.tif')\n",
    "labels.shape"
   ]
  },
  {
   "cell_type": "code",
   "execution_count": null,
   "id": "54460ae3-3409-4aa3-8a28-bcd2c3d80c38",
   "metadata": {},
   "outputs": [],
   "source": [
    "# load overlay image \n",
    "gfap = load_nissl_image(os.path.join(seg_path, 'raw'), fname=f\"{current_sample}_Gfap.tif\")\n",
    "neun = load_nissl_image(os.path.join(seg_path, 'raw'), fname=f\"{current_sample}_NeuN.tif\")\n",
    "\n",
    "gfap_mask = load_nissl_image(os.path.join(seg_path, 'mask_test'), fname=f\"{current_sample}_Gfap.tif\")\n",
    "neun_mask = load_nissl_image(os.path.join(seg_path, 'mask_test'), fname=f\"{current_sample}_NeuN.tif\")\n",
    "\n",
    "neun.shape"
   ]
  },
  {
   "cell_type": "code",
   "execution_count": null,
   "id": "f35835e5-3784-4c5c-ae90-ab503a7a4dc1",
   "metadata": {},
   "outputs": [],
   "source": [
    "gfap_mask = gfap_mask > 0\n",
    "neun_mask = neun_mask > 0 "
   ]
  },
  {
   "cell_type": "code",
   "execution_count": null,
   "id": "4cb406f5-df89-4c6b-9087-c7cb1f61fe5e",
   "metadata": {},
   "outputs": [],
   "source": [
    "# get reads assignment \n",
    "reads_assignment = labels[centroids[:, 1], centroids[:, 0]]\n",
    "reads_assignment"
   ]
  },
  {
   "cell_type": "code",
   "execution_count": null,
   "id": "99e89542-f8c8-4d0a-a29b-25dd04b28677",
   "metadata": {},
   "outputs": [],
   "source": [
    "%%time\n",
    "        \n",
    "areas = [0, ]\n",
    "neun_intensity = [0, ]\n",
    "gfap_intensity = [0, ]\n",
    "\n",
    "neun_pixel = [0, ]\n",
    "gfap_pixel = [0, ]\n",
    "\n",
    "region_label = [0, ]\n",
    "\n",
    "# Iterate through cells\n",
    "print('Iterate cells...')\n",
    "for i, region in enumerate(tqdm(regionprops(labels))):\n",
    "      # print(region.label)\n",
    "    region_label.append(region.label)\n",
    "    areas.append(region.area)\n",
    "    \n",
    "    # neun intensity\n",
    "    curr_intensity = np.sum(neun[region.coords[:, 0], region.coords[:, 1]])\n",
    "    curr_pixel = np.sum(neun_mask[region.coords[:, 0], region.coords[:, 1]])\n",
    "    \n",
    "    neun_intensity.append(round(curr_intensity, 2))\n",
    "    neun_pixel.append(round(curr_pixel, 2))\n",
    "        \n",
    "    # gfap intensity\n",
    "    curr_intensity = np.sum(gfap[region.coords[:, 0], region.coords[:, 1]])\n",
    "    curr_pixel = np.sum(gfap_mask[region.coords[:, 0], region.coords[:, 1]])\n",
    "    \n",
    "    gfap_intensity.append(round(curr_intensity, 2))\n",
    "    gfap_pixel.append(round(curr_pixel, 2))"
   ]
  },
  {
   "cell_type": "code",
   "execution_count": null,
   "id": "92cbade0-cb85-432a-8a58-c5ff77074e00",
   "metadata": {},
   "outputs": [],
   "source": [
    "neun_intensity = np.array(neun_intensity)\n",
    "neun_pixel = np.array(neun_pixel)\n",
    "gfap_intensity = np.array(gfap_intensity)\n",
    "gfap_pixel = np.array(gfap_pixel)\n",
    "region_label = np.array(region_label)\n",
    "areas = np.array(areas)"
   ]
  },
  {
   "cell_type": "code",
   "execution_count": null,
   "id": "97cd0d6e-7caa-4fa3-bda5-368713a00e75",
   "metadata": {},
   "outputs": [],
   "source": [
    "# find duplicate assignment \n",
    "from collections import Counter\n",
    "dup_assignment = [item for item, count in Counter(reads_assignment).items() if count > 1]\n",
    "\n",
    "for i in dup_assignment:\n",
    "    reads_assignment[reads_assignment == i] = 0"
   ]
  },
  {
   "cell_type": "code",
   "execution_count": null,
   "id": "fca529f4-e2bb-4e56-b4f5-eca75bd1c521",
   "metadata": {},
   "outputs": [],
   "source": [
    "indexes = np.array([np.where(region_label == i)[0][0] for i in reads_assignment])"
   ]
  },
  {
   "cell_type": "code",
   "execution_count": null,
   "id": "34ae4e6a-4687-4940-9705-ff1441095961",
   "metadata": {},
   "outputs": [],
   "source": [
    "current_df['seg_label'] = reads_assignment\n",
    "current_df['area'] = areas[indexes]\n",
    "current_df['Gfap'] = gfap_intensity[indexes]\n",
    "current_df['NeuN'] = neun_intensity[indexes]\n",
    "current_df['Gfap_pixel'] = gfap_pixel[indexes]\n",
    "current_df['NeuN_pixel'] = neun_pixel[indexes]"
   ]
  },
  {
   "cell_type": "code",
   "execution_count": null,
   "id": "a4564a0c-987d-47d7-9f6b-03510e669d19",
   "metadata": {},
   "outputs": [],
   "source": [
    "cdata.obs.loc[cdata.obs['protocol-replicate'] == f'{current_sample}map-rep2' , 'seg_label'] = current_df['seg_label']\n",
    "cdata.obs.loc[cdata.obs['protocol-replicate'] == f'{current_sample}map-rep2' , 'area'] = current_df['area']\n",
    "cdata.obs.loc[cdata.obs['protocol-replicate'] == f'{current_sample}map-rep2' , 'Gfap_intensity'] = current_df['Gfap']\n",
    "cdata.obs.loc[cdata.obs['protocol-replicate'] == f'{current_sample}map-rep2' , 'NeuN_intensity'] = current_df['NeuN']\n",
    "cdata.obs.loc[cdata.obs['protocol-replicate'] == f'{current_sample}map-rep2' , 'Gfap_pixel'] = current_df['Gfap_pixel']\n",
    "cdata.obs.loc[cdata.obs['protocol-replicate'] == f'{current_sample}map-rep2' , 'NeuN_pixel'] = current_df['NeuN_pixel']"
   ]
  },
  {
   "cell_type": "code",
   "execution_count": null,
   "id": "a39f4766-0323-4f91-816e-7ecfb00a6ad4",
   "metadata": {},
   "outputs": [],
   "source": [
    "from datetime import datetime\n",
    "date = datetime.today().strftime('%Y-%m-%d')\n",
    "cdata.write_h5ad(f\"{out_path}/{date}-Brain-combined-3mad-ct-final.h5ad\")"
   ]
  }
 ],
 "metadata": {
  "kernelspec": {
   "display_name": "Python 3 (ipykernel)",
   "language": "python",
   "name": "python3"
  },
  "language_info": {
   "codemirror_mode": {
    "name": "ipython",
    "version": 3
   },
   "file_extension": ".py",
   "mimetype": "text/x-python",
   "name": "python",
   "nbconvert_exporter": "python",
   "pygments_lexer": "ipython3",
   "version": "3.8.12"
  }
 },
 "nbformat": 4,
 "nbformat_minor": 5
}
