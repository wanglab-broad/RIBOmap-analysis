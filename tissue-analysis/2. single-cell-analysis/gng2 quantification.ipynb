{
 "cells": [
  {
   "cell_type": "markdown",
   "id": "3400743e-d882-4d52-929d-faf723395b2f",
   "metadata": {},
   "source": [
    "# Gng2 quantification"
   ]
  },
  {
   "cell_type": "code",
   "execution_count": null,
   "id": "5f38ffbf-e1a0-444e-a3cd-b249218957d3",
   "metadata": {},
   "outputs": [],
   "source": [
    "# Import packages \n",
    "import sys\n",
    "import numpy as np\n",
    "import pandas as pd\n",
    "import seaborn as sns\n",
    "from natsort import natsorted\n",
    "from scipy.io import loadmat, savemat\n",
    "from skimage.filters import threshold_otsu\n",
    "from skimage.color import label2rgb\n",
    "from tqdm.notebook import tqdm\n",
    "from skimage.feature import peak_local_max\n",
    "from skimage.morphology import binary_dilation, disk\n",
    "from skimage.util import regular_seeds, img_as_ubyte\n",
    "from skimage.segmentation import watershed\n",
    "from skimage.measure import regionprops_table\n",
    "\n",
    "import anndata as ad\n",
    "import scanpy as sc\n",
    "# Customized packages \n",
    "from starmap.sequencing import *"
   ]
  },
  {
   "cell_type": "code",
   "execution_count": null,
   "id": "ce9f22af-a3d8-45f3-9d97-9bd63c8f16c3",
   "metadata": {},
   "outputs": [],
   "source": [
    "import matplotlib\n",
    "matplotlib.rcParams['pdf.fonttype'] = 42"
   ]
  },
  {
   "cell_type": "markdown",
   "id": "75d3756f-7570-4e94-868b-fc9046f452ad",
   "metadata": {},
   "source": [
    "## Path"
   ]
  },
  {
   "cell_type": "code",
   "execution_count": null,
   "id": "24e1f85f-8a9b-4ca5-a3fd-892d833078cc",
   "metadata": {
    "tags": []
   },
   "outputs": [],
   "source": [
    "# IO path \n",
    "base_path = 'Z:/Data/Analyzed/2022-09-05-Hu-Tissue/'\n",
    "# input_path = os.path.join(base_path, 'other-datasets/Gng2_protein_quantification')\n",
    "input_path = os.path.join(base_path, 'other-datasets/Gng2_ISH_quantification')\n",
    "fig_path = os.path.join(base_path, 'figures')"
   ]
  },
  {
   "cell_type": "markdown",
   "id": "42a43bf5-ce7d-4a98-9c2d-fd5a5d535f03",
   "metadata": {
    "tags": []
   },
   "source": [
    "## Input"
   ]
  },
  {
   "cell_type": "code",
   "execution_count": null,
   "id": "0546e22b-8f0b-4423-9d1f-ab9150621608",
   "metadata": {},
   "outputs": [],
   "source": [
    "# load protein image \n",
    "# protein = load_nissl_image(input_path, fname=f\"Gng2_uint8.tif\")\n",
    "protein = load_nissl_image(input_path, fname=f\"Gng2_ISH_quant_ref.tif\")\n",
    "protein.shape"
   ]
  },
  {
   "cell_type": "code",
   "execution_count": null,
   "id": "c0152be6-c915-4789-b3fd-a87f5c0d30e5",
   "metadata": {},
   "outputs": [],
   "source": [
    "# # load segmentation image (protein)\n",
    "# seg = load_nissl_image(input_path, fname=f\"ref-labels.tif\")\n",
    "# # seg[seg == 1] = 0\n",
    "# seg = seg[:2810, :2161]\n",
    "\n",
    "# load segmentation image (ish)\n",
    "seg = load_nissl_image(input_path, fname=f\"Gng2_ISH_seg_ref-labels.tif\")\n",
    "\n",
    "\n",
    "seg.shape"
   ]
  },
  {
   "cell_type": "code",
   "execution_count": null,
   "id": "8ec54cbc-1151-48ae-8088-27e883b53eff",
   "metadata": {},
   "outputs": [],
   "source": [
    "%%time\n",
    "\n",
    "labels = []\n",
    "protein_intensity = []\n",
    "areas = []\n",
    "# protein_pixel = []\n",
    "# rna = []\n",
    "\n",
    "# Iterate through cells\n",
    "print('Iterate cells...')\n",
    "for i, region in enumerate(tqdm(regionprops(seg))):\n",
    "      # print(region.label)\n",
    "    labels.append(region.label)\n",
    "    areas.append(region.area)\n",
    "    \n",
    "    # protein intensity\n",
    "    curr_intensity = np.sum(protein[region.coords[:, 0], region.coords[:, 1]])\n",
    "    protein_intensity.append(round(curr_intensity, 2))\n",
    "    \n",
    "#     # protein pixel\n",
    "#     curr_pixel = np.sum(protein_mask[region.coords[:, 0], region.coords[:, 1]])\n",
    "#     protein_pixel.append(round(curr_pixel, 2))\n",
    "        \n",
    "#     # rna\n",
    "#     curr_pixel = np.sum(dots_img[region.coords[:, 0], region.coords[:, 1]])\n",
    "#     rna.append(round(curr_pixel, 2))\n",
    "\n",
    "sns.histplot(areas)"
   ]
  },
  {
   "cell_type": "code",
   "execution_count": null,
   "id": "69393002-93fa-46b7-b83f-64193769e211",
   "metadata": {},
   "outputs": [],
   "source": [
    "# # protein quantification df\n",
    "# quantification_df = pd.DataFrame({\"region_label\": labels, \"area\": areas,  \"protein_intensity\": protein_intensity})\n",
    "# quantification_df['protein_intensity_norm'] = quantification_df['protein_intensity'] / quantification_df['area']\n",
    "\n",
    "# # ISH quantification df\n",
    "quantification_df = pd.DataFrame({\"region_label\": labels, \"area\": areas,  \"ish_intensity\": protein_intensity})\n",
    "quantification_df['ish_intensity_norm'] = quantification_df['ish_intensity'] / quantification_df['area']\n",
    "quantification_df"
   ]
  },
  {
   "cell_type": "code",
   "execution_count": null,
   "id": "23886e20-91ea-4f4f-ad15-2e0f2cf9854e",
   "metadata": {},
   "outputs": [],
   "source": [
    "# map region\n",
    "label_dict = {1: 'Isocortex', 2: 'HIP', 3: 'TH', 4: 'HY', \n",
    "             5: 'Fiber tracts', 6: 'CNU', 7: 'CTXsp', 8: 'OLF'}"
   ]
  },
  {
   "cell_type": "code",
   "execution_count": null,
   "id": "cc5ce19d-e80a-4d36-b6ee-597bf2465515",
   "metadata": {},
   "outputs": [],
   "source": [
    "quantification_df['region_name'] = quantification_df['region_label']\n",
    "quantification_df['region_name'] = quantification_df['region_name'].map(label_dict)\n",
    "quantification_df"
   ]
  },
  {
   "cell_type": "code",
   "execution_count": null,
   "id": "36d9238e-8f76-46de-b952-cc5918af8f76",
   "metadata": {},
   "outputs": [],
   "source": [
    "from sklearn.preprocessing import StandardScaler\n",
    "std_scaler = StandardScaler()\n",
    "df_scaled = std_scaler.fit_transform(quantification_df.ish_intensity_norm.to_numpy().reshape([8, 1]))\n",
    "# df_scaled = pd.DataFrame(df_scaled, columns=df_te.index, index=df_te.columns)\n",
    "quantification_df['ish_intensity_scaled'] = df_scaled\n",
    "quantification_df"
   ]
  },
  {
   "cell_type": "code",
   "execution_count": null,
   "id": "96c3db20-0225-4acf-acf8-831150e01616",
   "metadata": {},
   "outputs": [],
   "source": [
    "seg_scaled = seg.copy()\n",
    "seg_scaled = seg_scaled.astype('float')\n",
    "\n",
    "for i, current_label in enumerate(quantification_df['region_label']):\n",
    "    print(current_label)\n",
    "    seg_scaled[np.where(seg == current_label)] = quantification_df.loc[i, 'ish_intensity_scaled']"
   ]
  },
  {
   "cell_type": "code",
   "execution_count": null,
   "id": "2c8510c2-4a52-4cdb-8ae9-018ecc37d265",
   "metadata": {},
   "outputs": [],
   "source": [
    "vmin = quantification_df['ish_intensity_norm'].min()\n",
    "vmin"
   ]
  },
  {
   "cell_type": "code",
   "execution_count": null,
   "id": "8b7d7619-5f5b-4593-83c9-fafae067544d",
   "metadata": {},
   "outputs": [],
   "source": [
    "fig, ax = plt.subplots(figsize=(28, 21))\n",
    "plt.imshow(seg_scaled, cmap='bwr',)\n",
    "plt.axis('off')\n",
    "plt.colorbar()\n",
    "# plt.savefig(os.path.join(fig_path, 'heatmap_Gng2_ish_quantification_manual.pdf'))"
   ]
  },
  {
   "cell_type": "code",
   "execution_count": null,
   "id": "d1d9ca5f-5fd7-4143-a544-4c47c0ebe46e",
   "metadata": {},
   "outputs": [],
   "source": [
    "from datetime import datetime\n",
    "out_path = 'Z:/Data/Analyzed/2022-09-05-Hu-Tissue/output'\n",
    "date = datetime.today().strftime('%Y-%m-%d')\n",
    "quantification_df.to_csv(os.path.join(out_path, f\"{date}-Gng2-ish-quantification.csv\"))"
   ]
  }
 ],
 "metadata": {
  "kernelspec": {
   "display_name": "Python 3 (ipykernel)",
   "language": "python",
   "name": "python3"
  },
  "language_info": {
   "codemirror_mode": {
    "name": "ipython",
    "version": 3
   },
   "file_extension": ".py",
   "mimetype": "text/x-python",
   "name": "python",
   "nbconvert_exporter": "python",
   "pygments_lexer": "ipython3",
   "version": "3.8.12"
  }
 },
 "nbformat": 4,
 "nbformat_minor": 5
}
