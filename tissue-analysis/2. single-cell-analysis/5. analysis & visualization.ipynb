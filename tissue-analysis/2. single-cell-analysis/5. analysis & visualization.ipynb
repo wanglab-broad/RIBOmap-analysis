{
 "cells": [
  {
   "cell_type": "markdown",
   "id": "0b76da78-64de-4f7d-b3a1-c80a2ef86260",
   "metadata": {},
   "source": [
    "# Analysis & Visualization"
   ]
  },
  {
   "cell_type": "markdown",
   "id": "6f89785c-bb49-4961-8a1e-59fecf8e7ece",
   "metadata": {},
   "source": [
    "2023-05-05"
   ]
  },
  {
   "cell_type": "code",
   "execution_count": null,
   "id": "572f46fa-4cc8-423a-864f-8daa333d73a4",
   "metadata": {},
   "outputs": [],
   "source": [
    "# Import Packages\n",
    "\n",
    "%load_ext autoreload\n",
    "%autoreload 2\n",
    "\n",
    "import os\n",
    "import warnings \n",
    "warnings.filterwarnings('ignore')\n",
    "import numpy as np\n",
    "import pandas as pd\n",
    "import scanpy as sc\n",
    "import seaborn as sns\n",
    "import matplotlib.pyplot as plt\n",
    "import matplotlib.patches as patches\n",
    "from skimage.filters import threshold_otsu, gaussian\n",
    "from skimage.morphology import remove_small_objects\n",
    "from matplotlib.colors import ListedColormap, LinearSegmentedColormap\n",
    "from anndata import AnnData, concat\n",
    "from tqdm.notebook import tqdm\n",
    "from statannotations.Annotator import Annotator\n",
    "\n",
    "# Customized packages\n",
    "from starmap.utilities import *\n",
    "from starmap.sequencing import *\n",
    "# from starmap.obj import STARMapDataset, load_data\n",
    "# import starmap.analyze as anz\n",
    "# import starmap.viz as viz\n",
    "\n",
    "import starmap.sc_util as su\n",
    "\n",
    "# test()"
   ]
  },
  {
   "cell_type": "code",
   "execution_count": null,
   "id": "5b5b47f7-d72d-460a-9f0d-8e1c9b273003",
   "metadata": {},
   "outputs": [],
   "source": [
    "from datetime import datetime\n",
    "date = datetime.today().strftime('%Y-%m-%d')"
   ]
  },
  {
   "cell_type": "code",
   "execution_count": null,
   "id": "2b256b34-d13b-45c9-8762-8656fd003e35",
   "metadata": {},
   "outputs": [],
   "source": [
    "# sc.settings.figdir = fig_path\n",
    "sc.set_figure_params(dpi=300)"
   ]
  },
  {
   "cell_type": "code",
   "execution_count": null,
   "id": "f1fb84b9-3983-4c9c-a5f8-827b07a05e09",
   "metadata": {},
   "outputs": [],
   "source": [
    "import matplotlib\n",
    "matplotlib.rcParams['pdf.fonttype'] = 42"
   ]
  },
  {
   "cell_type": "markdown",
   "id": "ebe170bd-4ca2-4ffc-a45b-f25d16e247b8",
   "metadata": {
    "tags": []
   },
   "source": [
    "## Set path"
   ]
  },
  {
   "cell_type": "code",
   "execution_count": null,
   "id": "d9f97758-169b-4b69-aa95-b85825272e00",
   "metadata": {},
   "outputs": [],
   "source": [
    "# Set path\n",
    "base_path = 'path/to/dataset/folder'\n",
    "\n",
    "input_path = os.path.join(base_path, 'input')\n",
    "\n",
    "out_path = os.path.join(base_path, 'output')\n",
    "if not os.path.exists(out_path):\n",
    "    os.mkdir(out_path)\n",
    "    \n",
    "fig_path = os.path.join(base_path, 'figures')\n",
    "if not os.path.exists(fig_path):\n",
    "    os.mkdir(fig_path)\n",
    "\n",
    "sc.settings.figdir = fig_path"
   ]
  },
  {
   "cell_type": "markdown",
   "id": "edc41400-6e4c-405c-b6e9-f0b55d472935",
   "metadata": {},
   "source": [
    "## Input data"
   ]
  },
  {
   "cell_type": "code",
   "execution_count": null,
   "id": "420315d4-d371-4dec-8c35-33def17e064d",
   "metadata": {},
   "outputs": [],
   "source": [
    "# load h5ad object of RIBOmap sections \n",
    "rdata = sc.read_h5ad(os.path.join(out_path, '2023-05-05-Brain-RIBOmap.h5ad'))\n",
    "rdata"
   ]
  },
  {
   "cell_type": "code",
   "execution_count": null,
   "id": "ba34d12a-db64-49b8-826e-a124d83fbe83",
   "metadata": {},
   "outputs": [],
   "source": [
    "# load h5ad object of all sections \n",
    "cdata = sc.read_h5ad(os.path.join(out_path, '2023-05-05-Brain-combined.h5ad'))\n",
    "cdata"
   ]
  },
  {
   "cell_type": "markdown",
   "id": "ae6b3718-446e-4123-958e-020d16c58cdd",
   "metadata": {},
   "source": [
    "## Matrix for gene clustering"
   ]
  },
  {
   "cell_type": "markdown",
   "id": "006ec5b4-23f8-404d-a171-d5827f5e0539",
   "metadata": {},
   "source": [
    "### 1e4"
   ]
  },
  {
   "cell_type": "code",
   "execution_count": null,
   "id": "b37d70d7-1ea9-44f9-a9f7-5c37c158d735",
   "metadata": {
    "tags": []
   },
   "outputs": [],
   "source": [
    "# only use rep2\n",
    "current_level = 'level_3'\n",
    "sdata = cdata[(cdata.obs['replicate'] == 'rep2') & (cdata.obs['region'] != 'other'), :].copy()\n",
    "sdata.X = sdata.layers['raw']\n",
    "sc.pp.normalize_total(sdata, target_sum=1e4)\n",
    "\n",
    "# use norm \n",
    "current_df = pd.DataFrame(sdata.X, index=sdata.obs.index, columns=sdata.var.index)\n",
    "current_df['protocol'] = sdata.obs['protocol'].values\n",
    "current_df[current_level] = sdata.obs[current_level].values\n",
    "\n",
    "star_df = current_df.loc[current_df['protocol'] == 'STARmap', :]\n",
    "ribo_df = current_df.loc[current_df['protocol'] == 'RIBOmap', :]\n",
    "\n",
    "star_res_df = star_df.groupby(current_level).mean()\n",
    "star_res_df.loc['All_ctype', :] = star_df.mean(axis=0)\n",
    "\n",
    "ribo_res_df = ribo_df.groupby(current_level).mean()\n",
    "ribo_res_df.loc['All_ctype', :] = ribo_df.mean(axis=0)"
   ]
  },
  {
   "cell_type": "code",
   "execution_count": null,
   "id": "272c8e60-383a-4ff7-b4c5-87e6264a2115",
   "metadata": {},
   "outputs": [],
   "source": [
    "with pd.ExcelWriter(os.path.join(fig_path, f'{date}-averaged-gene-expression-{current_level}-1e4.xlsx'), mode='w') as writer:  \n",
    "    ribo_res_df.to_excel(writer, sheet_name=f'RIBOmap')\n",
    "    star_res_df.to_excel(writer, sheet_name=f'STARmap')"
   ]
  },
  {
   "cell_type": "markdown",
   "id": "da389c9d-a000-45e3-870b-9212161abb23",
   "metadata": {},
   "source": [
    "## UMAP"
   ]
  },
  {
   "cell_type": "code",
   "execution_count": null,
   "id": "51f5f197-ce46-4557-8de3-cf43dffe319d",
   "metadata": {},
   "outputs": [],
   "source": [
    "level_2_pl = sns.color_palette(cdata.uns['level_2_color'])\n",
    "level_3_pl = sns.color_palette(cdata.uns['level_3_color'])"
   ]
  },
  {
   "cell_type": "markdown",
   "id": "8f9f3fb3-4975-42ae-8d49-2480be2c8c67",
   "metadata": {},
   "source": [
    "### level-2"
   ]
  },
  {
   "cell_type": "code",
   "execution_count": null,
   "id": "97ab6e8b-4d4e-4b4d-b15a-4bb6b512fa8d",
   "metadata": {},
   "outputs": [],
   "source": [
    "sc.set_figure_params(dpi_save=300)\n",
    "sc.settings.figdir = fig_path"
   ]
  },
  {
   "cell_type": "code",
   "execution_count": null,
   "id": "a78f7764-a776-4d15-b14c-04c0598637ae",
   "metadata": {},
   "outputs": [],
   "source": [
    "fig, ax = plt.subplots(figsize=(9, 7))\n",
    "sc.pl.umap(rdata, color='level_2', legend_loc=None, frameon=False, ax=ax, size=3, \n",
    "           title='', palette=level_2_pl, save='_level_2_no_legend_large.png')"
   ]
  },
  {
   "cell_type": "markdown",
   "id": "8dd87c5a-33d6-4b3a-bf61-a3216f7a220d",
   "metadata": {},
   "source": [
    "### level-3"
   ]
  },
  {
   "cell_type": "code",
   "execution_count": null,
   "id": "69ca702a-1aa7-4406-b164-33fe05e82f8a",
   "metadata": {},
   "outputs": [],
   "source": [
    "# Save plots\n",
    "# Plot UMAP with cluster labels w/ new color\n",
    "sc.pl.umap(rdata, color='level_3', legend_loc='right margin',\n",
    "           legend_fontsize=12, legend_fontoutline=2, frameon=False, \n",
    "           title='', palette=level_3_pl, save='_level_3.pdf')\n",
    "\n",
    "sc.pl.umap(rdata, color='level_3', legend_loc=None, frameon=False, \n",
    "           title='', palette=level_3_pl, save='_level_3_no_legend.pdf')\n",
    "\n",
    "sc.pl.umap(rdata, color='level_3', legend_loc=None, frameon=False, \n",
    "           title='', palette=level_3_pl, save='_level_3_no_legend.png')\n",
    "\n",
    "rdata.obs['level_3_code'] = rdata.obs['level_3'].cat.codes\n",
    "rdata.obs['level_3_code'] = rdata.obs['level_3_code'].astype('category')\n",
    "sc.pl.umap(rdata, color='level_3_code', legend_loc='on data',\n",
    "           legend_fontsize=8, legend_fontoutline=2, frameon=False, \n",
    "           title='', palette=level_3_pl, save='_level_3_code.pdf')"
   ]
  },
  {
   "cell_type": "code",
   "execution_count": null,
   "id": "b10a9998-9d6c-485a-bb57-d3a8a9a1531d",
   "metadata": {},
   "outputs": [],
   "source": [
    "fig, ax = plt.subplots(figsize=(9, 7))\n",
    "sc.pl.umap(rdata, color='level_3', legend_loc=None, frameon=False, ax=ax, size=3, \n",
    "           title='', palette=level_3_pl, save='_level_3_no_legend_large.png')"
   ]
  },
  {
   "cell_type": "code",
   "execution_count": null,
   "id": "7a9d772e-aba5-42ab-8ed6-78b88154e09f",
   "metadata": {},
   "outputs": [],
   "source": [
    "pdata = cdata[cdata.obs['protocol'] == 'STARmap', ]\n",
    "fig, ax = plt.subplots(figsize=(9, 7))\n",
    "sc.pl.umap(pdata, color='level_3', legend_loc=None, frameon=False, ax=ax, size=3, \n",
    "           title='', palette=level_3_pl, save='_level_3_no_legend_large_STARmap-rep2.png')"
   ]
  },
  {
   "cell_type": "markdown",
   "id": "0b2c03e3-6b50-4826-b8b9-3f0e88fb5e45",
   "metadata": {},
   "source": [
    "### other"
   ]
  },
  {
   "cell_type": "code",
   "execution_count": null,
   "id": "d2abc26f-d0fa-4e58-b691-4b0973d9718d",
   "metadata": {},
   "outputs": [],
   "source": [
    "fig, ax = plt.subplots(figsize=(9, 7))\n",
    "sc.pl.umap(rdata, color='replicate', legend_loc=None, frameon=False, ax=ax, size=3, \n",
    "           title='', save='_protocol_no_legend_large.png')"
   ]
  },
  {
   "cell_type": "markdown",
   "id": "e34c7ca4-5167-49b2-afbf-723514b39ec9",
   "metadata": {},
   "source": [
    "## Spatial map"
   ]
  },
  {
   "cell_type": "markdown",
   "id": "6c50e3b7-47ae-4ceb-ae79-cdd6e616bef8",
   "metadata": {},
   "source": [
    "### polygon map"
   ]
  },
  {
   "cell_type": "code",
   "execution_count": null,
   "id": "022a14f4-2e8f-416e-888d-07fe778a6db1",
   "metadata": {},
   "outputs": [],
   "source": [
    "temp_path = 'path/to/processed/data/folder'\n",
    "cdata.obs['sample'] = cdata.obs['protocol-replicate']"
   ]
  },
  {
   "cell_type": "code",
   "execution_count": null,
   "id": "7de07841-4e9c-4c8a-9c0c-fef22366b3c7",
   "metadata": {},
   "outputs": [],
   "source": [
    "# load segmentation ribomap-rep2\n",
    "current_seg_path = os.path.join(temp_path, 'segmentation-mask-for-visualization', 'labeled_cells_RIBOmap_rep2.tif')\n",
    "current_img = tifffile.imread(current_seg_path)\n",
    "\n",
    "# Store the images to adata object\n",
    "current_key = f\"RIBOmap-rep2_morph\"\n",
    "cdata.uns[current_key] = {}\n",
    "cdata.uns[current_key]['label_img'] = current_img\n",
    "\n",
    "# Contruct polygon\n",
    "cdata.uns[current_key]['qhulls'], cdata.uns[current_key]['coords'], cdata.uns[current_key]['centroids'] = su.get_qhulls_test(cdata.uns[current_key]['label_img'])"
   ]
  },
  {
   "cell_type": "code",
   "execution_count": null,
   "id": "922b461a-db1f-4025-8d87-a8255584851d",
   "metadata": {},
   "outputs": [],
   "source": [
    "# load segmentation starmap-rep2\n",
    "current_seg_path = os.path.join(temp_path, 'segmentation-mask-for-visualization', 'labeled_cells_STARmap_rep2.tif')\n",
    "current_img = tifffile.imread(current_seg_path)\n",
    "\n",
    "# Store the images to adata object\n",
    "current_key = f\"STARmap-rep2_morph\"\n",
    "cdata.uns[current_key] = {}\n",
    "cdata.uns[current_key]['label_img'] = current_img\n",
    "\n",
    "# Contruct polygon\n",
    "cdata.uns[current_key]['qhulls'], cdata.uns[current_key]['coords'], cdata.uns[current_key]['centroids'] = su.get_qhulls_test(cdata.uns[current_key]['label_img'])"
   ]
  },
  {
   "cell_type": "code",
   "execution_count": null,
   "id": "8d6eae29-563d-43d3-abc2-a3f774c35430",
   "metadata": {},
   "outputs": [],
   "source": [
    "# load segmentation ribomap-rep1\n",
    "current_seg_path = os.path.join(temp_path, 'segmentation-mask-for-visualization', 'labeled_cells_RIBOmap_rep1.tif')\n",
    "current_img = tifffile.imread(current_seg_path)\n",
    "\n",
    "# Store the images to adata object\n",
    "current_key = f\"RIBOmap-rep1_morph\"\n",
    "cdata.uns[current_key] = {}\n",
    "cdata.uns[current_key]['label_img'] = current_img\n",
    "\n",
    "# Contruct polygon\n",
    "cdata.uns[current_key]['qhulls'], cdata.uns[current_key]['coords'], cdata.uns[current_key]['centroids'] = su.get_qhulls_test(cdata.uns[current_key]['label_img'])"
   ]
  },
  {
   "cell_type": "markdown",
   "id": "dcbd7c18-94c2-4daf-b16e-ab10f5b55c77",
   "metadata": {},
   "source": [
    "#### level-2"
   ]
  },
  {
   "cell_type": "code",
   "execution_count": null,
   "id": "f8d8edec-0400-4086-9992-dac145eb511c",
   "metadata": {},
   "outputs": [],
   "source": [
    "# Check color legend\n",
    "level_2_pl = sns.color_palette(cdata.uns['level_2_color'])\n",
    "level_2_cmap = ListedColormap(level_2_pl.as_hex())\n",
    "level_2_order = cdata.uns['level_2_order']\n",
    "sns.palplot(level_2_pl, size=3)\n",
    "plt.xticks(range(len(level_2_order)), level_2_order, size=10, rotation=45)\n",
    "plt.tight_layout()\n",
    "# plt.savefig(os.path.join(fig_path, 'level_2_palette.pdf'))\n",
    "plt.show()"
   ]
  },
  {
   "cell_type": "code",
   "execution_count": null,
   "id": "c40b499d-8ca3-4366-92d8-c3cac8103a58",
   "metadata": {},
   "outputs": [],
   "source": [
    "# Add data ribomap-rep2\n",
    "current_key = f\"RIBOmap-rep2_morph\"\n",
    "cdata.uns[current_key]['good_cells'] = cdata.obs.loc[cdata.obs['sample'] == 'RIBOmap-rep2', 'orig_index'].astype(int).values\n",
    "cdata.uns[current_key]['colors'] = cdata.obs.loc[cdata.obs['sample'] == 'RIBOmap-rep2', 'level_2'].cat.codes.values\n",
    "\n",
    "# Plot\n",
    "su.plot_poly_cells_cluster_by_sample(cdata, 'RIBOmap-rep2', level_2_cmap, show_plaque=False, show_tau=False, linewidth=0.4,\n",
    "                                        figscale=3, width=10, height=10, bg_color='#a8a8a8', save_as_real_size=True,\n",
    "                                         save=True, show=False, output_dir=fig_path)"
   ]
  },
  {
   "cell_type": "code",
   "execution_count": null,
   "id": "bcfd9998-acd7-4134-bc2f-8629498e8845",
   "metadata": {},
   "outputs": [],
   "source": [
    "# Add data starmap-rep2\n",
    "current_key = f\"STARmap-rep2_morph\"\n",
    "cdata.uns[current_key]['good_cells'] = cdata.obs.loc[cdata.obs['sample'] == 'STARmap-rep2', 'orig_index'].astype(int).values\n",
    "cdata.uns[current_key]['colors'] = cdata.obs.loc[cdata.obs['sample'] == 'STARmap-rep2', 'level_2'].cat.codes.values\n",
    "\n",
    "# Plot\n",
    "su.plot_poly_cells_cluster_by_sample(cdata, 'STARmap-rep2', level_2_cmap, show_plaque=False, show_tau=False, linewidth=0.4,\n",
    "                                        figscale=3, width=10, height=10, bg_color='#a8a8a8', save_as_real_size=True,\n",
    "                                         save=True, show=False, output_dir=fig_path)"
   ]
  },
  {
   "cell_type": "code",
   "execution_count": null,
   "id": "edb591aa-e756-4536-908c-5574f1bbe676",
   "metadata": {},
   "outputs": [],
   "source": [
    "# Add data ribomap-rep1\n",
    "current_key = f\"RIBOmap-rep1_morph\"\n",
    "cdata.uns[current_key]['good_cells'] = cdata.obs.loc[cdata.obs['sample'] == 'RIBOmap-rep1', 'orig_index'].astype(int).values\n",
    "cdata.uns[current_key]['colors'] = cdata.obs.loc[cdata.obs['sample'] == 'RIBOmap-rep1', 'level_2'].cat.codes.values\n",
    "\n",
    "# Plot\n",
    "su.plot_poly_cells_cluster_by_sample(cdata, 'RIBOmap-rep1', level_2_cmap, show_plaque=False, show_tau=False, linewidth=0.4,\n",
    "                                        figscale=3, width=10, height=10, bg_color='#a8a8a8', save_as_real_size=True,\n",
    "                                         save=True, show=False, output_dir=fig_path)"
   ]
  },
  {
   "cell_type": "markdown",
   "id": "86d62ac8-d7dc-499a-bbe2-246c4cbba0b7",
   "metadata": {},
   "source": [
    "#### level-3"
   ]
  },
  {
   "cell_type": "code",
   "execution_count": null,
   "id": "f61c86e8-4df3-4cab-9637-64bd32692d32",
   "metadata": {},
   "outputs": [],
   "source": [
    "# Check color legend\n",
    "level_3_pl = sns.color_palette(cdata.uns['level_3_color'])\n",
    "level_3_cmap = ListedColormap(level_3_pl.as_hex())\n",
    "level_3_order = cdata.uns['level_3_order']\n",
    "sns.palplot(level_3_pl, size=3)\n",
    "plt.xticks(range(len(level_3_order)), level_3_order, size=10, rotation=45)\n",
    "plt.tight_layout()\n",
    "# plt.savefig(os.path.join(fig_path, 'level_2_palette.pdf'))\n",
    "plt.show()"
   ]
  },
  {
   "cell_type": "code",
   "execution_count": null,
   "id": "449be541-47b6-4cc3-adfe-e603bca1b72b",
   "metadata": {},
   "outputs": [],
   "source": [
    "# Add data ribomap-rep2\n",
    "current_key = f\"RIBOmap-rep2_morph\"\n",
    "cdata.uns[current_key]['good_cells'] = cdata.obs.loc[cdata.obs['sample'] == 'RIBOmap-rep2', 'orig_index'].astype(int).values\n",
    "cdata.uns[current_key]['colors'] = cdata.obs.loc[cdata.obs['sample'] == 'RIBOmap-rep2', 'level_3'].cat.codes.values\n",
    "\n",
    "# Plot\n",
    "su.plot_poly_cells_cluster_by_sample(cdata, 'RIBOmap-rep2', level_3_cmap, show_plaque=False, show_tau=False, linewidth=0.4,\n",
    "                                        figscale=3, width=10, height=10, bg_color='#a8a8a8', save_as_real_size=True,\n",
    "                                         save=True, show=False, output_dir=fig_path)"
   ]
  },
  {
   "cell_type": "code",
   "execution_count": null,
   "id": "dd79f289-3565-42ee-9bf0-e5866242ecd2",
   "metadata": {},
   "outputs": [],
   "source": [
    "# Add data starmap-rep2\n",
    "current_key = f\"STARmap-rep2_morph\"\n",
    "cdata.uns[current_key]['good_cells'] = cdata.obs.loc[cdata.obs['sample'] == 'STARmap-rep2', 'orig_index'].astype(int).values\n",
    "cdata.uns[current_key]['colors'] = cdata.obs.loc[cdata.obs['sample'] == 'STARmap-rep2', 'level_3'].cat.codes.values\n",
    "\n",
    "# Plot\n",
    "su.plot_poly_cells_cluster_by_sample(cdata, 'STARmap-rep2', level_3_cmap, show_plaque=False, show_tau=False, linewidth=0.4,\n",
    "                                        figscale=3, width=10, height=10, bg_color='#a8a8a8', save_as_real_size=True,\n",
    "                                         save=True, show=False, output_dir=fig_path)"
   ]
  },
  {
   "cell_type": "code",
   "execution_count": null,
   "id": "de1e674f-706f-4d7e-b9a5-41b253686701",
   "metadata": {},
   "outputs": [],
   "source": [
    "# Add data ribomap-rep1\n",
    "current_key = f\"RIBOmap-rep1_morph\"\n",
    "cdata.uns[current_key]['good_cells'] = cdata.obs.loc[cdata.obs['sample'] == 'RIBOmap-rep1', 'orig_index'].astype(int).values\n",
    "cdata.uns[current_key]['colors'] = cdata.obs.loc[cdata.obs['sample'] == 'RIBOmap-rep1', 'level_3'].cat.codes.values\n",
    "\n",
    "# Plot\n",
    "su.plot_poly_cells_cluster_by_sample(cdata, 'RIBOmap-rep1', level_3_cmap, show_plaque=False, show_tau=False, linewidth=0.1,\n",
    "                                        figscale=3, width=10, height=10, bg_color='#a8a8a8', save_as_real_size=True,\n",
    "                                         save=True, show=False, output_dir=fig_path)"
   ]
  },
  {
   "cell_type": "markdown",
   "id": "d5353447-ed22-4e6e-8a22-459266a69448",
   "metadata": {},
   "source": [
    "#### level-3 groupby level-2"
   ]
  },
  {
   "cell_type": "code",
   "execution_count": null,
   "id": "a308c649-83dc-47ab-b8e1-da06318fe178",
   "metadata": {},
   "outputs": [],
   "source": [
    "temp_list = ['Telencephalon projecting neurons',\n",
    "       'Cholinergic, monoaminergic and peptidergic neurons',\n",
    "       'Di/Mesencephalon neurons', 'Astrocyte', 'Oligodendrocyte',\n",
    "       'Vascular cells']\n",
    "\n",
    "level_3_color = cdata.uns['level_3_color']"
   ]
  },
  {
   "cell_type": "code",
   "execution_count": null,
   "id": "bbc00e49-5c35-4020-b1c9-a3bdc131f863",
   "metadata": {},
   "outputs": [],
   "source": [
    "temp_list = ['Telencephalon interneurons', 'Oligodendrocytes precursor cell', 'Microglia', 'Astroependymal cells', 'Perivascular macrophages']\n",
    "temp_colors = ['#1f78b4', '#33a02c', '#e31a1c', '#ff7f00', '#6a3d9a', '#a6cee3', '#b2df8a', '#fb9a99', '#fdbf6f']\n",
    "\n",
    "sns.palplot(sns.color_palette(temp_colors), size=3)"
   ]
  },
  {
   "cell_type": "code",
   "execution_count": null,
   "id": "aaacdfeb-b9d4-4b6a-90c7-af4d953b9430",
   "metadata": {},
   "outputs": [],
   "source": [
    "# for i, current_type in enumerate(adata.obs.level_2.cat.categories):\n",
    "for i, current_type in enumerate(temp_list):\n",
    "    print(current_type)\n",
    "    \n",
    "    pdata = cdata[(cdata.obs['level_2'] == current_type) & (cdata.obs['protocol-replicate'] == 'RIBOmap-rep1'), ]\n",
    "    \n",
    "    # use level_3 color\n",
    "    current_order = []\n",
    "    current_colors = []\n",
    "\n",
    "    for j, plot_type in enumerate(level_3_order):\n",
    "        if plot_type in pdata.obs['level_3'].unique():\n",
    "            current_order.append(plot_type)\n",
    "            current_colors.append(level_3_color[j])\n",
    "\n",
    "#     # use temp color\n",
    "#     current_order = []\n",
    "#     current_colors = []\n",
    "\n",
    "#     for j, plot_type in enumerate(level_3_order):\n",
    "#         if plot_type in pdata.obs['level_3'].unique():\n",
    "#             current_order.append(plot_type)\n",
    "\n",
    "#     print(current_order)\n",
    "#     for z in current_order:\n",
    "#         current_colors.append(temp_colors.pop(0))\n",
    "        \n",
    "    print(current_colors)\n",
    "\n",
    "        \n",
    "    current_pl = sns.color_palette(current_colors)\n",
    "    current_cmap = ListedColormap(current_pl.as_hex())\n",
    "    \n",
    "    current_type = current_type.replace('/', '_')\n",
    "    current_fig_path = os.path.join(fig_path, f'{current_type}-sct-level3-color')\n",
    "    if not os.path.exists(current_fig_path):\n",
    "        os.mkdir(current_fig_path)\n",
    "    \n",
    "#     # Add data ribomap-rep2\n",
    "#     current_key = f\"RIBOmap-rep2_morph\"\n",
    "#     pdata.uns[current_key]['good_cells'] = pdata.obs.loc[pdata.obs['sample'] == 'RIBOmap-rep2', 'orig_index'].astype(int).values\n",
    "#     pdata.uns[current_key]['colors'] = pdata.obs.loc[pdata.obs['sample'] == 'RIBOmap-rep2', 'level_3'].cat.codes.values\n",
    "\n",
    "#     # Plot\n",
    "#     su.plot_poly_cells_cluster_by_sample(pdata, 'RIBOmap-rep2', current_cmap, show_plaque=False, show_tau=False, linewidth=0.4,\n",
    "#                                             figscale=3, width=10, height=10, bg_color='#ebebeb', save_as_real_size=True,\n",
    "#                                              save=True, show=False, output_dir=current_fig_path)\n",
    "    \n",
    "    # Add data ribomap-rep1\n",
    "    current_key = f\"RIBOmap-rep1_morph\"\n",
    "    pdata.uns[current_key]['good_cells'] = pdata.obs.loc[pdata.obs['sample'] == 'RIBOmap-rep1', 'orig_index'].astype(int).values\n",
    "    pdata.uns[current_key]['colors'] = pdata.obs.loc[pdata.obs['sample'] == 'RIBOmap-rep1', 'level_3'].cat.codes.values\n",
    "\n",
    "    # Plot\n",
    "    su.plot_poly_cells_cluster_by_sample(pdata, 'RIBOmap-rep1', current_cmap, show_plaque=False, show_tau=False, linewidth=0.4,\n",
    "                                            figscale=3, width=10, height=10, bg_color='#ebebeb', save_as_real_size=True,\n",
    "                                             save=True, show=False, output_dir=current_fig_path)\n",
    "    \n",
    "    \n",
    "#     # Add data starmap-rep2\n",
    "#     current_key = f\"STARmap-rep3_morph\"\n",
    "#     pdata.uns[current_key]['good_cells'] = pdata.obs.loc[pdata.obs['sample'] == 'STARmap-rep3', 'orig_index'].astype(int).values\n",
    "#     pdata.uns[current_key]['colors'] = pdata.obs.loc[pdata.obs['sample'] == 'STARmap-rep3', 'level_3'].cat.codes.values\n",
    "\n",
    "#     # Plot\n",
    "#     su.plot_poly_cells_cluster_by_sample(pdata, 'STARmap-rep3', current_cmap, show_plaque=False, show_tau=False, linewidth=0.4,\n",
    "#                                             figscale=3, width=10, height=10, bg_color='#ebebeb', save_as_real_size=True,\n",
    "#                                              save=True, show=False, output_dir=current_fig_path)"
   ]
  },
  {
   "cell_type": "markdown",
   "id": "e5a8e6b2-2f56-499e-bac5-10174a9d59e8",
   "metadata": {},
   "source": [
    "### with protein"
   ]
  },
  {
   "cell_type": "code",
   "execution_count": null,
   "id": "dac48772-c1b7-4f24-bfd2-8ad70e3ecf59",
   "metadata": {},
   "outputs": [],
   "source": [
    "cdata.obs['level_2_code'].cat.categories"
   ]
  },
  {
   "cell_type": "code",
   "execution_count": null,
   "id": "492dc436-3bf3-4625-9827-e5afa5ce371c",
   "metadata": {},
   "outputs": [],
   "source": [
    "pdata = cdata[(cdata.obs['seg_label'] != 0) & (cdata.obs['replicate'] == 'rep2') & (cdata.obs['level_2_code'].isin(['TEPN', 'INH', 'CHO_PEP', 'DE_MEN', 'AC']))]\n",
    "pdata"
   ]
  },
  {
   "cell_type": "markdown",
   "id": "61083f54-9c45-476d-ab93-6d72cf0e7512",
   "metadata": {},
   "source": [
    "#### RIBOmap"
   ]
  },
  {
   "cell_type": "code",
   "execution_count": null,
   "id": "ef20b197-6001-43aa-9d37-6d75b472f636",
   "metadata": {},
   "outputs": [],
   "source": [
    "# load segmentation ribomap-rep2\n",
    "current_seg_path = os.path.join(temp_path, 'protein-images/visualization', 'RIBO_labeled_cells.tif')\n",
    "current_img = tifffile.imread(current_seg_path)\n",
    "\n",
    "# Load neun image\n",
    "current_neun_path = os.path.join(temp_path, 'protein-images/visualization', 'RIBO_NeuN.tif')\n",
    "current_neun = tifffile.imread(current_neun_path)\n",
    "\n",
    "# Load Gfap image\n",
    "current_gfap_path = os.path.join(temp_path, 'protein-images/visualization', 'RIBO_Gfap.tif')\n",
    "current_gfap = tifffile.imread(current_gfap_path)\n",
    "    \n",
    "# Store the images to adata object\n",
    "current_key = f\"RIBOmap-rep2_morph\"\n",
    "pdata.uns[current_key] = {}\n",
    "pdata.uns[current_key]['label_img'] = current_img\n",
    "pdata.uns[current_key]['tau'] = current_neun\n",
    "pdata.uns[current_key]['Gfap'] = current_gfap\n",
    "    \n",
    "# Contruct polygon\n",
    "pdata.uns[current_key]['qhulls'], pdata.uns[current_key]['coords'], pdata.uns[current_key]['centroids'] = su.get_qhulls_test(pdata.uns[current_key]['label_img'])"
   ]
  },
  {
   "cell_type": "code",
   "execution_count": null,
   "id": "33047ed6-0c49-4502-b08b-cefbe63de12b",
   "metadata": {},
   "outputs": [],
   "source": [
    "# Check color legend (old coloring scheme)\n",
    "sns.reset_orig()\n",
    "temp_order = ['Neuron', 'Astrocyte']\n",
    "temp_colors = ['#e8f00c', '#cb99f7']\n",
    "\n",
    "temp_pl = sns.color_palette(temp_colors)\n",
    "temp_cmap = ListedColormap(temp_pl.as_hex())\n",
    "sns.palplot(temp_pl, size=3)\n",
    "plt.xticks(range(len(temp_order)), temp_order, size=10, rotation=45)\n",
    "plt.tight_layout()\n",
    "# plt.savefig(os.path.join(fig_path, 'level_2_palette.pdf'))\n",
    "plt.show()"
   ]
  },
  {
   "cell_type": "code",
   "execution_count": null,
   "id": "63581fa8-e170-4392-82f4-e959c659d48f",
   "metadata": {},
   "outputs": [],
   "source": [
    "# get new label for plotting \n",
    "pdata.obs['temp_label'] = 'Neuron'\n",
    "pdata.obs.loc[pdata.obs['level_2_code'] == 'AC', 'temp_label'] = 'Astrocyte'\n",
    "\n",
    "pdata.obs['temp_label'] = pdata.obs['temp_label'].astype('category')\n",
    "pdata.obs['temp_label'] = pdata.obs['temp_label'].cat.reorder_categories(temp_order)"
   ]
  },
  {
   "cell_type": "code",
   "execution_count": null,
   "id": "2f5062cb-ca1c-40a0-92d0-1dc6e87f4a11",
   "metadata": {},
   "outputs": [],
   "source": [
    "current_fig_path = os.path.join(fig_path, f'sct-with-protein')\n",
    "if not os.path.exists(current_fig_path):\n",
    "    os.mkdir(current_fig_path)"
   ]
  },
  {
   "cell_type": "code",
   "execution_count": null,
   "id": "b63e3e14-0e2d-46b6-9836-be9a4b285138",
   "metadata": {},
   "outputs": [],
   "source": [
    "# get good cells\n",
    "ribo_seg_labels = []\n",
    "for i, region in enumerate(regionprops(current_img)):\n",
    "    ribo_seg_labels.append(region.label)\n",
    "\n",
    "ribo_seg_labels = np.array(ribo_seg_labels)\n",
    "\n",
    "current_seg_labels = pdata.obs.loc[pdata.obs['protocol-replicate'] == 'RIBOmap-rep2', 'seg_label'].values\n",
    "current_seg_labels = current_seg_labels.astype(int)\n",
    "# current_seg_labels\n",
    "\n",
    "current_good_cells = np.array([np.argwhere(ribo_seg_labels == i)[0][0] for i in current_seg_labels])\n",
    "current_good_cells = current_good_cells.astype(int)\n",
    "pdata.obs.loc[pdata.obs['protocol-replicate'] == 'RIBOmap-rep2', 'good_cells'] = current_good_cells\n",
    "pdata.obs = pdata.obs.sort_values('good_cells')"
   ]
  },
  {
   "cell_type": "code",
   "execution_count": null,
   "id": "3c6ad764-0349-4c94-80d9-cad5f91ca5ae",
   "metadata": {},
   "outputs": [],
   "source": [
    "# Add data ribomap-rep2\n",
    "current_key = f\"RIBOmap-rep2_morph\"\n",
    "pdata.uns[current_key]['good_cells'] = pdata.obs.loc[pdata.obs['sample'] == 'RIBOmap-rep2', 'good_cells'].values\n",
    "pdata.uns[current_key]['colors'] = pdata.obs.loc[pdata.obs['sample'] == 'RIBOmap-rep2', 'temp_label'].cat.codes.values"
   ]
  },
  {
   "cell_type": "code",
   "execution_count": null,
   "id": "22a6075c-7ebe-4e11-b26c-4606a8452b54",
   "metadata": {},
   "outputs": [],
   "source": [
    "# Plot\n",
    "su.plot_poly_cells_cluster_by_sample_test(pdata, 'RIBOmap-rep2', temp_cmap, show_plaque=False, show_tau=True, linewidth=0.1, show_gfap=True,\n",
    "                                        figscale=3, width=10, height=10, bg_color='#d7d7d7', save_as_real_size=True,\n",
    "                                         save=True, show=False, output_dir=current_fig_path)"
   ]
  },
  {
   "cell_type": "markdown",
   "id": "06a7f42e-f5f7-483c-a373-8030aacb73ea",
   "metadata": {},
   "source": [
    "#### STARmap"
   ]
  },
  {
   "cell_type": "code",
   "execution_count": null,
   "id": "fad0895f-cdee-44cb-a782-aa436d42f5d6",
   "metadata": {},
   "outputs": [],
   "source": [
    "# load segmentation ribomap-rep3\n",
    "current_seg_path = os.path.join(temp_path, 'protein-images/visualization', 'STAR_labeled_cells.tif')\n",
    "current_img = tifffile.imread(current_seg_path)\n",
    "\n",
    "# Load neun image\n",
    "current_neun_path = os.path.join(temp_path, 'protein-images/visualization', 'STAR_NeuN.tif')\n",
    "current_neun = tifffile.imread(current_neun_path)\n",
    "\n",
    "# Load Gfap image\n",
    "current_gfap_path = os.path.join(temp_path, 'protein-images/visualization', 'STAR_Gfap.tif')\n",
    "current_gfap = tifffile.imread(current_gfap_path)\n",
    "    \n",
    "# Store the images to adata object\n",
    "current_key = f\"STARmap-rep2_morph\"\n",
    "pdata.uns[current_key] = {}\n",
    "pdata.uns[current_key]['label_img'] = current_img\n",
    "pdata.uns[current_key]['tau'] = current_neun\n",
    "pdata.uns[current_key]['Gfap'] = current_gfap\n",
    "    \n",
    "# Contruct polygon\n",
    "pdata.uns[current_key]['qhulls'], pdata.uns[current_key]['coords'], pdata.uns[current_key]['centroids'] = su.get_qhulls_test(pdata.uns[current_key]['label_img'])"
   ]
  },
  {
   "cell_type": "code",
   "execution_count": null,
   "id": "8cbe16c9-521d-4f8a-b878-95e1c5b7686a",
   "metadata": {},
   "outputs": [],
   "source": [
    "# Check color legend (old coloring scheme)\n",
    "sns.reset_orig()\n",
    "temp_order = ['Neuron', 'Astrocyte']\n",
    "temp_colors = ['#e8f00c', '#cb99f7']\n",
    "\n",
    "temp_pl = sns.color_palette(temp_colors)\n",
    "temp_cmap = ListedColormap(temp_pl.as_hex())\n",
    "sns.palplot(temp_pl, size=3)\n",
    "plt.xticks(range(len(temp_order)), temp_order, size=10, rotation=45)\n",
    "plt.tight_layout()\n",
    "# plt.savefig(os.path.join(fig_path, 'level_2_palette.pdf'))\n",
    "plt.show()"
   ]
  },
  {
   "cell_type": "code",
   "execution_count": null,
   "id": "b3350f25-748b-4469-82c5-c6b23d6c5dde",
   "metadata": {},
   "outputs": [],
   "source": [
    "# get new label for plotting \n",
    "pdata.obs['temp_label'] = 'Neuron'\n",
    "pdata.obs.loc[pdata.obs['level_2_code'] == 'AC', 'temp_label'] = 'Astrocyte'\n",
    "\n",
    "pdata.obs['temp_label'] = pdata.obs['temp_label'].astype('category')\n",
    "pdata.obs['temp_label'] = pdata.obs['temp_label'].cat.reorder_categories(temp_order)"
   ]
  },
  {
   "cell_type": "code",
   "execution_count": null,
   "id": "205cd403-e3e4-402c-acce-a3b218e349a0",
   "metadata": {},
   "outputs": [],
   "source": [
    "current_fig_path = os.path.join(fig_path, f'sct-with-protein')\n",
    "if not os.path.exists(current_fig_path):\n",
    "    os.mkdir(current_fig_path)"
   ]
  },
  {
   "cell_type": "code",
   "execution_count": null,
   "id": "f78f4a83-c8d9-4ded-aab4-b5302f813848",
   "metadata": {},
   "outputs": [],
   "source": [
    "# get good cells\n",
    "ribo_seg_labels = []\n",
    "for i, region in enumerate(regionprops(current_img)):\n",
    "    ribo_seg_labels.append(region.label)\n",
    "\n",
    "ribo_seg_labels = np.array(ribo_seg_labels)\n",
    "\n",
    "current_seg_labels = pdata.obs.loc[pdata.obs['protocol-replicate'] == 'STARmap-rep2', 'seg_label'].values\n",
    "current_seg_labels = current_seg_labels.astype(int)\n",
    "# current_seg_labels\n",
    "\n",
    "current_good_cells = np.array([np.argwhere(ribo_seg_labels == i)[0][0] for i in current_seg_labels])\n",
    "current_good_cells = current_good_cells.astype(int)\n",
    "pdata.obs.loc[pdata.obs['protocol-replicate'] == 'STARmap-rep2', 'good_cells'] = current_good_cells\n",
    "pdata.obs = pdata.obs.sort_values('good_cells')"
   ]
  },
  {
   "cell_type": "code",
   "execution_count": null,
   "id": "f94bb7f0-9840-457e-bbd0-ec7518508d0d",
   "metadata": {},
   "outputs": [],
   "source": [
    "# Add data starmap-rep2\n",
    "current_key = f\"STARmap-rep2_morph\"\n",
    "pdata.uns[current_key]['good_cells'] = pdata.obs.loc[pdata.obs['sample'] == 'STARmap-rep2', 'good_cells'].values\n",
    "pdata.uns[current_key]['colors'] = pdata.obs.loc[pdata.obs['sample'] == 'STARmap-rep2', 'temp_label'].cat.codes.values"
   ]
  },
  {
   "cell_type": "code",
   "execution_count": null,
   "id": "aeeac69a-c94e-473e-a016-0e2306f7b7cf",
   "metadata": {},
   "outputs": [],
   "source": [
    "# Plot\n",
    "su.plot_poly_cells_cluster_by_sample_test(pdata, 'STARmap-rep2', temp_cmap, show_plaque=False, show_tau=True, linewidth=0.1, show_gfap=True,\n",
    "                                        figscale=3, width=10, height=10, bg_color='#d7d7d7', save_as_real_size=True,\n",
    "                                         save=True, show=False, output_dir=current_fig_path)"
   ]
  },
  {
   "cell_type": "markdown",
   "id": "4ea265e7-e90e-441c-b8ad-344e4b36b566",
   "metadata": {},
   "source": [
    "### Oligo & OPC (as dots)"
   ]
  },
  {
   "cell_type": "code",
   "execution_count": null,
   "id": "cc8acf85-4abc-427e-9884-e59748ed1e3e",
   "metadata": {},
   "outputs": [],
   "source": [
    "sdata = cdata[cdata.obs['level_2'].isin(['Oligodendrocyte', 'Oligodendrocytes precursor cell']), :]\n",
    "sdata"
   ]
  },
  {
   "cell_type": "markdown",
   "id": "8106412a-5a90-42a4-a92e-7c94655f3a27",
   "metadata": {},
   "source": [
    "#### single type"
   ]
  },
  {
   "cell_type": "code",
   "execution_count": null,
   "id": "800aaf00-b220-4307-b2d2-ae7b76c8fd10",
   "metadata": {},
   "outputs": [],
   "source": [
    "# color palette\n",
    "# sub_pl = sns.color_palette(['#1568ed', '#FBB040', '#92278F'])\n",
    "sub_pl = sns.color_palette(['#00A651', '#FBB040', '#92278F'])\n",
    "sub_cmap = ListedColormap(sub_pl.as_hex())\n",
    "sns.palplot(sub_pl)"
   ]
  },
  {
   "cell_type": "code",
   "execution_count": null,
   "id": "e6c09327-8336-424f-b360-906ae3e6470f",
   "metadata": {},
   "outputs": [],
   "source": [
    "sns.set(rc={'figure.facecolor':'white', 'axes.facecolor':'white'})\n",
    "colors = ['#00A651', '#FBB040', '#92278F']\n",
    "# get dfs \n",
    "for i, current_type in enumerate(['OPC', 'OLG1', 'OLG2']):\n",
    "    \n",
    "    current_sample = 'RIBOmap-rep2'\n",
    "    current_df = cdata.obs.loc[cdata.obs['protocol-replicate'] == current_sample, :]\n",
    "    current_oo_df = sdata.obs.loc[(sdata.obs['protocol-replicate'] == current_sample) & (sdata.obs['level_3'] == current_type), :].copy()\n",
    "\n",
    "    size = 450\n",
    "\n",
    "    # construct plots\n",
    "    fig, ax = plt.subplots(figsize=(48, 60))\n",
    "\n",
    "    # plot\n",
    "    b1 = sns.scatterplot(x='column', y='row', color='#f0f0f0', \n",
    "                        data=current_df, \n",
    "                        s=size,\n",
    "                        ax=ax)\n",
    "\n",
    "    # b1.invert_yaxis()\n",
    "    b1.axes.xaxis.set_visible(False)\n",
    "    b1.axes.yaxis.set_visible(False)\n",
    "\n",
    "    g1 = sns.scatterplot(x='column', y='row', \n",
    "                        color=colors[i],\n",
    "                        data=current_oo_df,\n",
    "                        marker='o',\n",
    "                        s=size,\n",
    "                        alpha=1,\n",
    "                        linewidth=0,\n",
    "                        legend=False,\n",
    "                        ax=ax)\n",
    "\n",
    "    # g1.set_title(current_sample)\n",
    "    g1.invert_yaxis()\n",
    "    g1.axes.xaxis.set_visible(False)\n",
    "    g1.axes.yaxis.set_visible(False)\n",
    "\n",
    "    plt.tight_layout()\n",
    "    # plt.show()\n",
    "\n",
    "    current_out_path = os.path.join(fig_path)\n",
    "    if not os.path.exists(current_out_path):\n",
    "        os.mkdir(current_out_path)\n",
    "    plt.savefig(os.path.join(current_out_path, f'{current_sample}-{current_type}-s{size}.png'), dpi=300)\n",
    "\n",
    "    # plt.clf()\n",
    "\n",
    "    sns.reset_orig()"
   ]
  },
  {
   "cell_type": "markdown",
   "id": "3a01c92a-eb94-47da-b3a7-61dd4f4d6292",
   "metadata": {},
   "source": [
    "#### single sample"
   ]
  },
  {
   "cell_type": "code",
   "execution_count": null,
   "id": "daa51713-c00b-484c-b4aa-0457fc994d60",
   "metadata": {},
   "outputs": [],
   "source": [
    "# color palette\n",
    "# sub_pl = sns.color_palette(['#1568ed', '#FBB040', '#92278F'])\n",
    "sub_pl = sns.color_palette(['#00A651', '#FBB040', '#92278F'])\n",
    "sub_cmap = ListedColormap(sub_pl.as_hex())\n",
    "sns.palplot(sub_pl)"
   ]
  },
  {
   "cell_type": "code",
   "execution_count": null,
   "id": "3cc0a1b8-f6b0-47b7-9891-20d9c34f39b6",
   "metadata": {},
   "outputs": [],
   "source": [
    "sns.reset_orig()"
   ]
  },
  {
   "cell_type": "code",
   "execution_count": null,
   "id": "a2c938dc-9450-403c-83c9-d903737f42e9",
   "metadata": {},
   "outputs": [],
   "source": [
    "sns.set(rc={'figure.facecolor':'white', 'axes.facecolor':'white'})\n",
    "\n",
    "# get dfs \n",
    "current_sample = 'RIBOmap-rep2'\n",
    "# markers = {'OPC': '^', 'Oligo1': 's', 'Oligo2': 'p'}\n",
    "markers = {'OPC': 'o', 'OLG1': 'o', 'OLG2': 'o'}\n",
    "current_df = cdata.obs.loc[cdata.obs['protocol-replicate'] == current_sample, :]\n",
    "current_oo_df = sdata.obs.loc[sdata.obs['protocol-replicate'] == current_sample, :].copy()\n",
    "current_oo_df['level_3'] = current_oo_df['level_3'].astype(object)\n",
    "current_oo_df = current_oo_df.loc[current_oo_df['level_3'].isin(markers.keys()), :]\n",
    "current_oo_df['level_3'] = current_oo_df['level_3'].astype('category')\n",
    "current_oo_df['level_3'] = current_oo_df['level_3'].cat.reorder_categories(['OPC', 'OLG1', 'OLG2'])\n",
    "\n",
    "# current_vector = sdata[sdata.obs['protocol-replicate'] == current_sample, :].layers['scaled'].mean(axis=1)\n",
    "# vmax = ribo_vector.max()\n",
    "# vmax = vmax * 0.8\n",
    "\n",
    "size = 300\n",
    "\n",
    "# construct plots\n",
    "fig, ax = plt.subplots(figsize=(48, 60))\n",
    "\n",
    "# plot\n",
    "b1 = sns.scatterplot(x='column', y='row', color='#f0f0f0', \n",
    "                    data=current_df, \n",
    "                    s=size,\n",
    "                    ax=ax)\n",
    "\n",
    "# b1.invert_yaxis()\n",
    "b1.axes.xaxis.set_visible(False)\n",
    "b1.axes.yaxis.set_visible(False)\n",
    "\n",
    "g1 = sns.scatterplot(x='column', y='row', hue='level_3', \n",
    "                    palette=sub_pl,\n",
    "                    data=current_oo_df, style='level_3',\n",
    "                    markers=markers,\n",
    "                    s=size,\n",
    "                    alpha=1,\n",
    "                    linewidth=0,\n",
    "                    legend=False,\n",
    "                    ax=ax)\n",
    "\n",
    "# g1.set_title(current_sample)\n",
    "g1.invert_yaxis()\n",
    "g1.axes.xaxis.set_visible(False)\n",
    "g1.axes.yaxis.set_visible(False)\n",
    "\n",
    "plt.tight_layout()\n",
    "# plt.show()\n",
    "\n",
    "current_out_path = os.path.join(fig_path)\n",
    "if not os.path.exists(current_out_path):\n",
    "    os.mkdir(current_out_path)\n",
    "plt.savefig(os.path.join(current_out_path, f'{current_sample}-s{size}.png'), dpi=300)\n",
    "\n",
    "# plt.clf()\n",
    "\n",
    "sns.reset_orig()"
   ]
  },
  {
   "cell_type": "markdown",
   "id": "106a47cc-dbdb-49be-bddd-67f32fc8c91f",
   "metadata": {},
   "source": [
    "#### with gene list"
   ]
  },
  {
   "cell_type": "code",
   "execution_count": null,
   "id": "1a00f910-d694-4d17-beef-30b50d7a2efa",
   "metadata": {},
   "outputs": [],
   "source": [
    "gene_df = pd.read_excel(os.path.join(base_path, \"other-datasets\", \"Oligo_cell_type_6_14_15_20221217.xlsx\"))\n",
    "gene_df"
   ]
  },
  {
   "cell_type": "code",
   "execution_count": null,
   "id": "c987b62a-47c1-441f-a843-f41f511f2ce0",
   "metadata": {},
   "outputs": [],
   "source": [
    "sns.set(rc={'figure.facecolor':'white', 'axes.facecolor':'white'})\n",
    "\n",
    "# get dfs \n",
    "current_sample = 'STARmap-rep3'\n",
    "markers = {'OPC': '^', 'Oligo1': 's', 'Oligo2': 'p'}\n",
    "current_df = adata.obs.loc[adata.obs['protocol-replicate'] == current_sample, :]\n",
    "current_oo_df = sdata.obs.loc[sdata.obs['protocol-replicate'] == current_sample, :].copy()\n",
    "current_oo_df['level_3'] = current_oo_df['level_3'].astype(object)\n",
    "current_oo_df = current_oo_df.loc[current_oo_df['level_3'].isin(markers.keys()), :]\n",
    "current_oo_df['level_3'] = current_oo_df['level_3'].astype('category')\n",
    "current_oo_df['level_3'] = current_oo_df['level_3'].cat.reorder_categories(['OPC', 'Oligo1', 'Oligo2'])\n",
    "\n",
    "current_adata = adata[current_oo_df.index, :]\n",
    "\n",
    "\n",
    "for i, gene in enumerate(tqdm(gene_df['level_3'].to_list())):\n",
    "# for i, gene in enumerate(tqdm(['Mbp'])):\n",
    "    \n",
    "    current_vector = current_adata[:, gene].layers['scaled'].flatten()\n",
    "    vmax = current_vector.max()\n",
    "    vmin = current_vector.min()\n",
    "\n",
    "    # construct plots\n",
    "    fig, ax = plt.subplots(figsize=(48, 60))\n",
    "\n",
    "    # plot\n",
    "    b1 = sns.scatterplot(x='column', y='row', color='#f0f0f0', \n",
    "                        data=current_df, \n",
    "                        s=90,\n",
    "                        ax=ax)\n",
    "\n",
    "    # b1.invert_yaxis()\n",
    "    b1.axes.xaxis.set_visible(False)\n",
    "    b1.axes.yaxis.set_visible(False)\n",
    "\n",
    "    g1 = sns.scatterplot(x='column', y='row', hue=current_vector, \n",
    "                        # palette='Spectral_r',\n",
    "                        palette=cmap,\n",
    "                        data=current_oo_df, style='level_3',\n",
    "                        markers=markers,\n",
    "                        vmin=vmin,\n",
    "                        vmax=vmax,\n",
    "                        s=90,\n",
    "                        alpha=1,\n",
    "                        linewidth=0,\n",
    "                        legend=False,\n",
    "                        ax=ax)\n",
    "\n",
    "    # g1.set_title(current_sample)\n",
    "    g1.invert_yaxis()\n",
    "    g1.axes.xaxis.set_visible(False)\n",
    "    g1.axes.yaxis.set_visible(False)\n",
    "\n",
    "    plt.tight_layout()\n",
    "    # plt.show()\n",
    "    plt.savefig(os.path.join(fig_path, '2022-12-18-OO-gene-spatial-map', f'{current_sample}-{gene}.png'), dpi=300)\n",
    "    plt.clf()\n",
    "\n",
    "    sns.reset_orig()"
   ]
  },
  {
   "cell_type": "code",
   "execution_count": null,
   "id": "ecfb59c6-b853-4668-8d55-c7631314b002",
   "metadata": {},
   "outputs": [],
   "source": [
    "sns.set(rc={'figure.facecolor':'white', 'axes.facecolor':'white'})\n",
    "\n",
    "# get dfs \n",
    "current_sample = 'RIBOmap-rep3'\n",
    "markers = {'OPC': '^', 'Oligo1': 's', 'Oligo2': 'p'}\n",
    "current_df = adata.obs.loc[adata.obs['protocol-replicate'] == current_sample, :]\n",
    "current_oo_df = sdata.obs.loc[sdata.obs['protocol-replicate'] == current_sample, :].copy()\n",
    "current_oo_df['level_3'] = current_oo_df['level_3'].astype(object)\n",
    "current_oo_df = current_oo_df.loc[current_oo_df['level_3'].isin(markers.keys()), :]\n",
    "current_oo_df['level_3'] = current_oo_df['level_3'].astype('category')\n",
    "current_oo_df['level_3'] = current_oo_df['level_3'].cat.reorder_categories(['OPC', 'Oligo1', 'Oligo2'])\n",
    "\n",
    "\n",
    "current_adata = adata[current_oo_df.index, :]\n",
    "\n",
    "\n",
    "for i, gene in enumerate(tqdm(gene_df['level_3'].to_list())):\n",
    "# for i, gene in enumerate(tqdm(['Mbp'])):\n",
    "    \n",
    "    current_vector = current_adata[:, gene].layers['scaled'].flatten()\n",
    "    vmax = current_vector.max()\n",
    "    vmin = current_vector.min()\n",
    "\n",
    "    # construct plots\n",
    "    fig, ax = plt.subplots(figsize=(48, 60))\n",
    "\n",
    "    # plot\n",
    "    b1 = sns.scatterplot(x='column', y='row', color='#f0f0f0', \n",
    "                        data=current_df, \n",
    "                        s=90,\n",
    "                        ax=ax)\n",
    "\n",
    "    # b1.invert_yaxis()\n",
    "    b1.axes.xaxis.set_visible(False)\n",
    "    b1.axes.yaxis.set_visible(False)\n",
    "\n",
    "    g1 = sns.scatterplot(x='column', y='row', hue=current_vector, \n",
    "                        palette=cmap,\n",
    "                        # palette='Spectral_r',\n",
    "                        data=current_oo_df, style='level_3',\n",
    "                        markers=markers,\n",
    "                        vmin=vmin,\n",
    "                        vmax=vmax,\n",
    "                        s=90,\n",
    "                        alpha=1,\n",
    "                        linewidth=0,\n",
    "                        legend=False,\n",
    "                        ax=ax)\n",
    "\n",
    "    # g1.set_title(current_sample)\n",
    "    g1.invert_yaxis()\n",
    "    g1.axes.xaxis.set_visible(False)\n",
    "    g1.axes.yaxis.set_visible(False)\n",
    "\n",
    "    plt.tight_layout()\n",
    "    # plt.show()\n",
    "    plt.savefig(os.path.join(fig_path, '2022-12-18-OO-gene-spatial-map', f'{current_sample}-{gene}.png'), dpi=300)\n",
    "    plt.clf()\n",
    "\n",
    "    sns.reset_orig()"
   ]
  },
  {
   "cell_type": "markdown",
   "id": "74a0166c-ffc4-4f21-b3f6-e4a7c7da472b",
   "metadata": {
    "tags": []
   },
   "source": [
    "## Gene markers"
   ]
  },
  {
   "cell_type": "markdown",
   "id": "6cf2785f-13d1-4b0b-8fb4-cb8cbae86676",
   "metadata": {},
   "source": [
    "### level-2"
   ]
  },
  {
   "cell_type": "code",
   "execution_count": null,
   "id": "854ef9bc-999a-4a30-a571-814e9b3742e0",
   "metadata": {},
   "outputs": [],
   "source": [
    "rdata = rdata[rdata.obs['level_2_code'] != 'Mix', :]"
   ]
  },
  {
   "cell_type": "code",
   "execution_count": null,
   "id": "ce84b6d5-129b-40db-b878-fb2850de1912",
   "metadata": {},
   "outputs": [],
   "source": [
    "rdata.uns['log1p']['base'] = None"
   ]
  },
  {
   "cell_type": "code",
   "execution_count": null,
   "id": "49afadd1-2434-4f90-a1be-c740b03dac53",
   "metadata": {},
   "outputs": [],
   "source": [
    "# Add log layer\n",
    "rdata.layers['log_raw'] = np.log1p(rdata.layers['raw'])\n",
    "sc.pp.normalize_total(rdata, layer='log_raw')\n",
    "\n",
    "# Find gene markers for each cluster\n",
    "sc.tl.rank_genes_groups(rdata, 'level_2_code', method='wilcoxon', layer='log_raw', pts=True, use_raw=False, n_genes=rdata.shape[1])\n",
    "\n",
    "# Filter markers\n",
    "sc.tl.filter_rank_genes_groups(rdata, min_fold_change=.1, min_in_group_fraction=0.2, max_out_group_fraction=0.8)"
   ]
  },
  {
   "cell_type": "code",
   "execution_count": null,
   "id": "0637573d-97e4-4c6e-9210-008c8005e900",
   "metadata": {},
   "outputs": [],
   "source": [
    "# astro\n",
    "marker_genes_dict = {}\n",
    "marker_genes_dict['TEPN'] = ['Slc17a7', 'Atp1a1', 'Ppp3r1', 'Nrgn', 'Mapk1']\n",
    "marker_genes_dict['INH'] = ['Gad1', 'Gad2', 'Sst', 'Pvalb', 'Slc32a1']\n",
    "marker_genes_dict['CHO_PEP'] = ['Resp18', 'Scg2', 'Hap1', 'Pnmal2', 'Ly6h', ]\n",
    "marker_genes_dict['DE_MEN'] = ['Pcp4', 'Prkcd', 'Synpo2', 'Plekhg1', 'Ntng1', ]\n",
    "marker_genes_dict['AC'] = ['Aldoc', 'Gja1', 'Clu', 'Ttyh1', 'Mt2']\n",
    "marker_genes_dict['OLG'] = ['Mbp', 'Mal', 'Fth1', 'Aplp1', 'Plp1']\n",
    "marker_genes_dict['VAS'] = ['Bsg', 'Myh9', 'Flt1', 'Vtn', 'B2m']\n",
    "marker_genes_dict['CHOR_EPEN'] = ['Ttr', 'Enpp2', 'Rarres2', 'Cd24a', 'Prelp']\n",
    "marker_genes_dict['PVM'] = ['Cyp2f2', 'Galm', 'H2-Aa', 'Cd74']\n",
    "marker_genes_dict['MLG'] = ['Csf1r', 'Hexb', 'Ctss', 'C1qb', 'C1qa']\n",
    "marker_genes_dict['OPC'] = ['Pdgfra', 'Cacng4', 'Cspg5', 'Kcnip3']"
   ]
  },
  {
   "cell_type": "code",
   "execution_count": null,
   "id": "cf21fb92-76eb-4c4f-929b-abfab1a55888",
   "metadata": {},
   "outputs": [],
   "source": [
    "# Dot plot logfoldchanges\n",
    "sc.pl.rank_genes_groups_dotplot(rdata, key='rank_genes_groups', var_names=marker_genes_dict, \n",
    "                                values_to_plot='logfoldchanges', min_logfoldchange=1, vmax=5, vmin=-5, cmap='bwr', \n",
    "                                dendrogram=False, swap_axes=True, save='level_2')"
   ]
  },
  {
   "cell_type": "code",
   "execution_count": null,
   "id": "466af2d6-7743-48e5-aa6e-49fd0f0cd694",
   "metadata": {},
   "outputs": [],
   "source": [
    "rep2_adata = cdata[cdata.obs['replicate'] == 'rep2', ]\n",
    "rep2_adata"
   ]
  },
  {
   "cell_type": "code",
   "execution_count": null,
   "id": "e628097b-dfa2-4a62-bfca-629e71af1bba",
   "metadata": {},
   "outputs": [],
   "source": [
    "adata = rep2_adata[(rep2_adata.obs['protocol'] == 'RIBOmap') & (rep2_adata.obs['level_2'] != 'Mix'), ]"
   ]
  },
  {
   "cell_type": "code",
   "execution_count": null,
   "id": "150f7f71-0ef5-471d-9e96-8e2b91fc79e9",
   "metadata": {},
   "outputs": [],
   "source": [
    "adata.uns['log1p']['base'] = None"
   ]
  },
  {
   "cell_type": "code",
   "execution_count": null,
   "id": "1f7afe67-7358-45d3-b628-646cb52184c7",
   "metadata": {},
   "outputs": [],
   "source": [
    "# Add log layer\n",
    "adata.layers['log_raw'] = np.log1p(adata.layers['raw'])\n",
    "sc.pp.normalize_total(adata, layer='log_raw')\n",
    "\n",
    "# Find gene markers for each cluster\n",
    "sc.tl.rank_genes_groups(adata, 'level_2_code', method='wilcoxon', layer='log_raw', pts=True, use_raw=False, n_genes=adata.shape[1])\n",
    "\n",
    "# Filter markers\n",
    "sc.tl.filter_rank_genes_groups(adata, min_fold_change=.1, min_in_group_fraction=0.2, max_out_group_fraction=0.8)"
   ]
  },
  {
   "cell_type": "code",
   "execution_count": null,
   "id": "3c634698-a597-4339-b8b8-89efbefb52d8",
   "metadata": {},
   "outputs": [],
   "source": [
    "# Dot plot logfoldchanges\n",
    "sc.pl.rank_genes_groups_matrixplot(adata, key='rank_genes_groups', var_names=marker_genes_dict, groupby='level_2_code', categories_order=list(marker_genes_dict.keys()), \n",
    "                                values_to_plot='logfoldchanges', min_logfoldchange=1, vmax=5, vmin=-5, cmap='bwr',\n",
    "                                dendrogram=False, swap_axes=False, save='rep2_ribo_level_2')"
   ]
  },
  {
   "cell_type": "markdown",
   "id": "0fa4f85e-18f2-4e99-b7a1-749a86a388b3",
   "metadata": {},
   "source": [
    "### level-3"
   ]
  },
  {
   "cell_type": "code",
   "execution_count": null,
   "id": "ada87390-56a6-4c5b-971d-14d86ba74ccb",
   "metadata": {},
   "outputs": [],
   "source": [
    "# Find gene markers for each cluster\n",
    "sc.tl.rank_genes_groups(rdata, 'level_3', method='wilcoxon', layer='log_raw', pts=True, use_raw=False, n_genes=rdata.shape[1])\n",
    "\n",
    "# Filter markers\n",
    "sc.tl.filter_rank_genes_groups(rdata, min_fold_change=.1, min_in_group_fraction=0.2, max_out_group_fraction=0.8)"
   ]
  },
  {
   "cell_type": "code",
   "execution_count": null,
   "id": "4010b031-faba-4aa1-9ee2-8e07292eb464",
   "metadata": {},
   "outputs": [],
   "source": [
    "# astro\n",
    "marker_genes_dict = {}\n",
    "marker_genes_dict['TEGLU COA'] = ['Synpr', 'Nr2f2'] # \n",
    "marker_genes_dict['TEGLU CA1'] = ['Tmsb4x', 'Ppp3r1'] # \n",
    "marker_genes_dict['TEGLU CA2'] = ['Sv2b',] # \n",
    "marker_genes_dict['TEGLU CA3'] = ['Chgb', 'Nell2'] #\n",
    "\n",
    "marker_genes_dict['TEGLU L2_3'] = ['Slc17a7', 'Cplx2'] #\n",
    "marker_genes_dict['TEGLU L4_5'] = ['Rgs4', 'Dkk3'] #\n",
    "marker_genes_dict['TEGLU L5'] = ['Snca',] # \n",
    "marker_genes_dict['TEGLU L6'] = ['Sncb', 'Nr4a2',] # \n",
    "marker_genes_dict['TEGLU L6a'] = ['Pcp4',] # \n",
    "marker_genes_dict['TEGLU Mix'] = ['Prkcb', 'Diras2'] #\n",
    "marker_genes_dict['TEGLU PIR'] = ['Lmo3', ] #\n",
    "marker_genes_dict['DGGRC'] = ['Rbfox1', 'Ppp3ca'] # \n",
    "marker_genes_dict['MSN'] = ['Phactr1', 'Ppp1r1b', 'Rasd2'] # \n",
    "\n",
    "marker_genes_dict['INH Pvalb1'] = ['Pvalb',] # \n",
    "marker_genes_dict['INH Pvalb2'] = ['Gad2',] # \n",
    "marker_genes_dict['INH Sst'] = ['Sst', 'Gad1', 'Npy'] # \n",
    "\n",
    "marker_genes_dict['DECHO'] = ['Gabbr1', 'Cadps2'] # \n",
    "marker_genes_dict['PEP1'] = ['Resp18',] # \n",
    "marker_genes_dict['PEP2'] = ['Gap43', ] # \n",
    "marker_genes_dict['PEP3'] = ['Scg2', 'Pnmal2', 'Dlk1'] # \n",
    "\n",
    "marker_genes_dict['DEGLU1'] = ['Stmn1', 'Tubb5'] # \n",
    "marker_genes_dict['DEGLU2'] = ['Synpo2', 'Plekhg1'] # \n",
    "\n",
    "marker_genes_dict['AC1'] = ['Mfge8',] # \n",
    "marker_genes_dict['AC2'] = ['Apoe',] # \n",
    "marker_genes_dict['AC3'] = ['Prnp',] # \n",
    "marker_genes_dict['AC4'] = ['Gfap', 'Clu', 'Tspan7'] #\n",
    "\n",
    "marker_genes_dict['OLG1'] = ['Mal', 'Bin1', 'Tubb4a'] # \n",
    "marker_genes_dict['OLG2'] = ['Mbp', ] # \n",
    "\n",
    "marker_genes_dict['Peri_VEC1'] = ['Bsg',] # \n",
    "marker_genes_dict['Peri_VEC2'] = ['Epas1',] # \n",
    "marker_genes_dict['VLMC'] = ['Ptgds', 'Gjb2'] #\n",
    "marker_genes_dict['VSMC'] = ['Myl9', 'Myh11'] # \n",
    "\n",
    "marker_genes_dict['CHOR'] = ['Ttr', 'Enpp2'] # \n",
    "marker_genes_dict['EPEN'] = ['Rarres2', 'Tppp3'] #\n",
    "marker_genes_dict['PVM1'] = ['Cyp2f2', 'Galm'] # \n",
    "marker_genes_dict['PVM2'] = ['H2-Aa', 'Cd74'] # \n",
    "\n",
    "marker_genes_dict['MLG'] = ['Hexb', 'Ctss'] # \n",
    "marker_genes_dict['OPC'] = ['Pdgfra', 'Cacng4'] # "
   ]
  },
  {
   "cell_type": "code",
   "execution_count": null,
   "id": "e0f3661a-9ea0-4b2c-9430-224de75d8d24",
   "metadata": {},
   "outputs": [],
   "source": [
    "# Dot plot logfoldchanges\n",
    "sc.pl.rank_genes_groups_dotplot(rdata, key='rank_genes_groups', var_names=marker_genes_dict, categories_order=list(marker_genes_dict.keys()), \n",
    "                                values_to_plot='logfoldchanges', min_logfoldchange=1, vmax=5, vmin=-5, cmap='bwr', \n",
    "                                dendrogram=False, swap_axes=True, save='level_3')"
   ]
  },
  {
   "cell_type": "code",
   "execution_count": null,
   "id": "1f6e7b9b-9d1b-4a3a-95cc-60324850c605",
   "metadata": {},
   "outputs": [],
   "source": [
    "# Dot plot logfoldchanges\n",
    "sc.pl.rank_genes_groups_matrixplot(rdata, key='rank_genes_groups', var_names=marker_genes_dict, categories_order=list(marker_genes_dict.keys()), \n",
    "                                values_to_plot='logfoldchanges', min_logfoldchange=1, vmax=5, vmin=-5, cmap='bwr', \n",
    "                                dendrogram=False, swap_axes=True, save='level_3')"
   ]
  },
  {
   "cell_type": "markdown",
   "id": "3d15f580-c123-4acb-ad16-ee21481e1760",
   "metadata": {},
   "source": [
    "## Other Analysis"
   ]
  },
  {
   "cell_type": "markdown",
   "id": "528e584c-8b05-40f8-ad9e-446ea590f096",
   "metadata": {},
   "source": [
    "### Gfap/NeuN signal comparison"
   ]
  },
  {
   "cell_type": "code",
   "execution_count": null,
   "id": "a399d827-ccc3-4d23-9bda-80eb55cebab9",
   "metadata": {},
   "outputs": [],
   "source": [
    "# add comparison label \n",
    "cdata.obs['comparison_label'] = 'NA'\n",
    "cdata.obs.loc[cdata.obs['level_2_code'].isin(['TEPN', 'INH', 'CHO_PEP', 'DE_MEN']), 'comparison_label'] = 'Neuron'\n",
    "cdata.obs.loc[cdata.obs['level_2_code'] == 'AC', 'comparison_label'] = 'Astro'"
   ]
  },
  {
   "cell_type": "code",
   "execution_count": null,
   "id": "008c6ab6-94ad-4a50-9472-64160d6dd944",
   "metadata": {},
   "outputs": [],
   "source": [
    "current_sample = 'STARmap-rep2'\n",
    "current_protein = 'NeuN'\n",
    "current_df = cdata.obs.loc[(cdata.obs['protocol-replicate'] == current_sample) & (cdata.obs['comparison_label'] != 'NA'), :].copy()\n",
    "current_df['comparison_label'] = current_df['comparison_label'].astype(object)\n",
    "current_df['comparison_label'] = current_df['comparison_label'].astype('category')\n",
    "current_df = current_df.loc[current_df[f'{current_protein}_pixel'] != 0, :]"
   ]
  },
  {
   "cell_type": "code",
   "execution_count": null,
   "id": "288a8019-4041-4446-8586-76d2edac5721",
   "metadata": {},
   "outputs": [],
   "source": [
    "# box plot\n",
    "\n",
    "fig, ax = plt.subplots(figsize=(5, 5))\n",
    "ax = sns.boxplot(x=\"comparison_label\", y=f\"{current_protein}_pixel_norm\", data=current_df, showfliers=False, width=.4)\n",
    "\n",
    "plt.xticks(rotation=45)\n",
    "\n",
    "annot = Annotator(ax, [('Neuron', 'Astro')], plot='violinplot', data=current_df, x='comparison_label', y=f\"{current_protein}_pixel_norm\")\n",
    "annot.configure(test='t-test_ind', text_format='star', loc='outside', verbose=2)\n",
    "annot.apply_test(alternative='two-sided').annotate()\n",
    "\n",
    "plt.savefig(os.path.join(fig_path, f'boxplot_{current_sample}_{current_protein}.pdf'))\n",
    "plt.show()"
   ]
  },
  {
   "cell_type": "markdown",
   "id": "ba80fae6-c135-4a98-8f2c-92f73365b1d6",
   "metadata": {},
   "source": [
    "### Oligo & OPC diffusion"
   ]
  },
  {
   "cell_type": "code",
   "execution_count": null,
   "id": "180cd7dd-c598-4009-be21-9fd4f21f08a4",
   "metadata": {},
   "outputs": [],
   "source": [
    "pdata_ribo = cdata[cdata.obs['protocol-replicate'] == 'RIBOmap-rep2', :].copy()\n",
    "pdata_ribo"
   ]
  },
  {
   "cell_type": "markdown",
   "id": "312641ab-27a2-4603-a356-c250bc13d853",
   "metadata": {},
   "source": [
    "#### RIBOmap"
   ]
  },
  {
   "cell_type": "code",
   "execution_count": null,
   "id": "0cd26831-3a0a-4dff-8e2a-358eae5ee49f",
   "metadata": {},
   "outputs": [],
   "source": [
    "# Redo preprocessing\n",
    "pdata_ribo.X = pdata_ribo.layers['raw'].copy()\n",
    "del pdata_ribo.layers\n",
    "\n",
    "pdata_ribo.layers['raw'] = pdata_ribo.X.copy()\n",
    "\n",
    "# # Normalization scaling\n",
    "sc.pp.normalize_total(pdata_ribo)\n",
    "sc.pp.log1p(pdata_ribo)\n",
    "\n",
    "pdata_ribo.layers['norm'] = pdata_ribo.X.copy()\n",
    "pdata_ribo.raw = pdata_ribo\n",
    "\n",
    "# # sc.pp.highly_variable_genes(sdata, min_mean=0.01, max_mean=3, min_disp=0.5)\n",
    "# # sc.pl.highly_variable_genes(sdata)\n",
    "\n",
    "# # Scale data to unit variance and zero mean\n",
    "sc.pp.scale(pdata_ribo)\n",
    "pdata_ribo.layers['scaled'] = pdata_ribo.X.copy()\n",
    "\n",
    "# Batch correction\n",
    "sc.pp.regress_out(pdata_ribo, 'total_counts')\n",
    "pdata_ribo.layers['corrected'] = pdata_ribo.X.copy()"
   ]
  },
  {
   "cell_type": "code",
   "execution_count": null,
   "id": "dbdcf0d7-c627-405d-a4fb-ad0f1327118f",
   "metadata": {},
   "outputs": [],
   "source": [
    "# Subset and Run PCA # 1\n",
    "pdata_ribo = pdata_ribo[pdata_ribo.obs['level_2'].isin(['Oligodendrocyte', 'Oligodendrocytes precursor cell']), ]\n",
    "\n",
    "pdata_ribo.X = pdata_ribo.layers['corrected'].copy()\n",
    "sc.tl.pca(pdata_ribo, svd_solver='full', use_highly_variable=False, zero_center=True)"
   ]
  },
  {
   "cell_type": "code",
   "execution_count": null,
   "id": "f5f30497-49b0-4f15-91bb-d4a4522d897f",
   "metadata": {},
   "outputs": [],
   "source": [
    "n_neighbors = 50\n",
    "n_pcs = 5\n",
    "sc.pp.neighbors(pdata_ribo, n_neighbors=n_neighbors, n_pcs=n_pcs)\n",
    "sc.tl.diffmap(pdata_ribo, n_comps=n_pcs)"
   ]
  },
  {
   "cell_type": "code",
   "execution_count": null,
   "id": "3e48e51f-d6b0-4bce-9b22-0f94ed47dc7a",
   "metadata": {},
   "outputs": [],
   "source": [
    "# sc.pl.diffmap(pdata_ribo, color='level_2_code')\n",
    "sc.pl.diffmap(pdata_ribo, color='level_2', components=[('2, 3')])\n",
    "sc.pl.diffmap(pdata_ribo, color='level_3', components=[('2, 3')])\n",
    "sc.pl.diffmap(pdata_ribo, color='Plp1', components=[('2, 3')])"
   ]
  },
  {
   "cell_type": "code",
   "execution_count": null,
   "id": "33f12486-2dbb-45f7-983e-983d12ba00fa",
   "metadata": {},
   "outputs": [],
   "source": [
    "# save embeddings\n",
    "np.savetxt(f'{fig_path}/embedding_ribomap_oo_diffmap.csv', pdata_ribo.obsm['X_diffmap'], delimiter=\",\")"
   ]
  },
  {
   "cell_type": "code",
   "execution_count": null,
   "id": "c5732f4e-1f0a-46dd-98d1-768720bf7034",
   "metadata": {},
   "outputs": [],
   "source": [
    "# save h5ad\n",
    "pdata_ribo.write_h5ad(os.path.join(out_path, \"2023-05-04-RIBOmap-oo-diffmap.h5ad\"))"
   ]
  },
  {
   "cell_type": "code",
   "execution_count": null,
   "id": "724ea236-73bb-491d-9221-3e0f55c1407c",
   "metadata": {},
   "outputs": [],
   "source": [
    "# set color\n",
    "sub_pl = sns.color_palette(['#00A651', '#FBB040', '#92278F'])\n",
    "sub_cmap = ListedColormap(sub_pl.as_hex())\n",
    "pdata_ribo.obs['level_3'] = pdata_ribo.obs['level_3'].cat.reorder_categories(['OPC', 'OLG1', 'OLG2'])\n",
    "sns.palplot(sub_pl)"
   ]
  },
  {
   "cell_type": "code",
   "execution_count": null,
   "id": "2e0ebcb5-e668-42ea-98da-37a56a5fa902",
   "metadata": {},
   "outputs": [],
   "source": [
    "# sc.settings.figdir = fig_path\n",
    "sc.set_figure_params(dpi_save=300, vector_friendly=False)"
   ]
  },
  {
   "cell_type": "code",
   "execution_count": null,
   "id": "47d34b06-882c-4760-a12f-6d50837b32ce",
   "metadata": {},
   "outputs": [],
   "source": [
    "# Save plots\n",
    "# Plot UMAP with cluster labels w/ new color\n",
    "sc.pl.diffmap(pdata_ribo, color='level_3', legend_loc='right margin', components=[('2, 3')],\n",
    "           legend_fontsize=12, legend_fontoutline=2, frameon=False, \n",
    "           title='', palette=sub_pl, save='_ribo_OO.pdf')\n",
    "\n",
    "sc.pl.diffmap(pdata_ribo, color='level_3', legend_loc=None, frameon=False, components=[('2, 3')],\n",
    "           title='', palette=sub_pl, save='_ribo_OO_no_legend.pdf')\n",
    "\n",
    "sc.pl.diffmap(pdata_ribo, color='level_3', legend_loc=None, frameon=False, components=[('2, 3')],\n",
    "           title='', palette=sub_pl, save='_ribo_OO_no_legend.png')"
   ]
  },
  {
   "cell_type": "code",
   "execution_count": null,
   "id": "212bb3d2-6680-41ae-8d7f-4e0a286cab11",
   "metadata": {},
   "outputs": [],
   "source": [
    "# gene on diffmap\n",
    "genes = ['Pdgfra', 'Vcan', 'Bmp4', 'Klk6', 'Pcdh15', 'Mobp', 'Plp1', 'Mbp']\n",
    "\n",
    "for gene in genes:\n",
    "    fig, ax = plt.subplots(figsize=(7,5))\n",
    "    sc.pl.diffmap(pdata_ribo, color=gene, legend_loc=None, frameon=False, ax=ax, components=[('2, 3')],\n",
    "           title='', palette='viridis', save=f'_{gene}.png')"
   ]
  },
  {
   "cell_type": "code",
   "execution_count": null,
   "id": "bd4982c7-6df1-4906-a74b-bb5a48295e9b",
   "metadata": {},
   "outputs": [],
   "source": [
    "pdata_ribo.obsm['X_diffmap'].shape"
   ]
  },
  {
   "cell_type": "markdown",
   "id": "5e794724-c6da-4a91-ac61-e2e5ff2b99a0",
   "metadata": {},
   "source": [
    "### Oligo type composition (region)"
   ]
  },
  {
   "cell_type": "code",
   "execution_count": null,
   "id": "674e1ed4-1384-4ff4-8ecf-d34658034c93",
   "metadata": {},
   "outputs": [],
   "source": [
    "current_df = cdata.obs.loc[(cdata.obs['replicate'] == 'rep2') & (~cdata.obs['region'].isin(['NA', 'other'])), :].copy()\n",
    "current_df['region'] = current_df['region'].astype(object)\n",
    "current_df['region'] = current_df['region'].astype('category')\n",
    "current_df"
   ]
  },
  {
   "cell_type": "code",
   "execution_count": null,
   "id": "6c3eb95c-5ce9-496f-a71a-18f3d8fc9757",
   "metadata": {},
   "outputs": [],
   "source": [
    "current_df = current_df.loc[(current_df['protocol'] == 'RIBOmap') & (current_df['level_3'].isin(['OLG1', 'OLG2', 'OPC'])), :]\n",
    "current_df['level_3'] = current_df['level_3'].astype(object)\n",
    "current_df['level_3'] = current_df['level_3'].astype('category')"
   ]
  },
  {
   "cell_type": "code",
   "execution_count": null,
   "id": "df699315-c900-42ef-9035-6e66745b871d",
   "metadata": {},
   "outputs": [],
   "source": [
    "count_df = pd.DataFrame(current_df.groupby('level_3')['region'].value_counts())\n",
    "count_df = count_df.reset_index()\n",
    "count_df = count_df.pivot(index='level_3', columns='level_1')\n",
    "# count_df = count_df.div(count_df.sum(axis=1), axis=0)\n",
    "count_df.columns = count_df.columns.droplevel()\n",
    "# count_df = count_df.stack().reset_index()\n",
    "# count_df.columns = ['level_3', 'region', 'counts']\n",
    "count_df"
   ]
  },
  {
   "cell_type": "code",
   "execution_count": null,
   "id": "9709d82b-dd46-4c49-b0e6-c03f884d6a23",
   "metadata": {},
   "outputs": [],
   "source": [
    "count_df.to_csv(os.path.join(fig_path, 'cluster_freq_ribomap_oo.csv'))"
   ]
  },
  {
   "cell_type": "markdown",
   "id": "790c627b-fb37-4e9b-b5a2-7f14b8e35925",
   "metadata": {},
   "source": [
    "### Sankey diagram"
   ]
  },
  {
   "cell_type": "code",
   "execution_count": null,
   "id": "3ace6dd1-f950-4a28-bc0a-25e22841ee46",
   "metadata": {},
   "outputs": [],
   "source": [
    "def contingency(a, b, unique_a, unique_b):\n",
    "    \"\"\"Populate contingency matrix. Rows and columns are not normalized in any way.\n",
    "\n",
    "    Args:\n",
    "        a (np.array): labels\n",
    "        b (np.array): labels\n",
    "        unique_a (np.array): unique list of labels. Can have more entries than np.unique(a)\n",
    "        unique_b (np.array): unique list of labels. Can have more entries than np.unique(b)\n",
    "\n",
    "    Returns:\n",
    "        C (np.array): contingency matrix.\n",
    "    \"\"\"\n",
    "    # assert a.shape == b.shape\n",
    "    C = np.zeros((np.size(unique_a), np.size(unique_b)))\n",
    "    for i, la in enumerate(unique_a):\n",
    "        for j, lb in enumerate(unique_b):\n",
    "            C[i, j] = np.sum(np.logical_and(a == la, b == lb))\n",
    "            \n",
    "    df = pd.DataFrame(C)\n",
    "    df.index = unique_a\n",
    "    df.columns = unique_b\n",
    "\n",
    "    return df"
   ]
  },
  {
   "cell_type": "code",
   "execution_count": null,
   "id": "6d0f0bb5-1afd-4a61-9b98-28fc385a9f49",
   "metadata": {},
   "outputs": [],
   "source": [
    "def generate_nodes(df, key1, key2):\n",
    "    \n",
    "    df_river = {key1: [], key2: [], 'value': []}\n",
    "    for key2_type in df.columns.to_list():\n",
    "        for key1_type in df.index.to_list():\n",
    "            df_river[key1].append(key1_type)\n",
    "            df_river[key2].append(key2_type)\n",
    "            df_river['value'].append(df.loc[key1_type, key2_type])\n",
    "    df_river = pd.DataFrame(df_river)\n",
    "    df_river = df_river.loc[df_river['value'] != 0, :]\n",
    "\n",
    "    all_nodes = df_river[key1].unique().tolist() + df_river[key2].unique().tolist()\n",
    "    source_indices = [all_nodes.index(key1_type) for key1_type in df_river[key1]]\n",
    "    target_indices = [all_nodes.index(key2_type) for key2_type in df_river[key2]]\n",
    "    \n",
    "    return df_river, all_nodes, source_indices, target_indices"
   ]
  },
  {
   "cell_type": "code",
   "execution_count": null,
   "id": "315de3ee-600a-46e8-8ab6-c365cb162146",
   "metadata": {},
   "outputs": [],
   "source": [
    "level_12_df = contingency(rdata.obs['level_1'].values, \n",
    "                   rdata.obs['level_2'].values, \n",
    "                   rdata.obs['level_1'].cat.categories.values, \n",
    "                   rdata.obs['level_2'].cat.categories.values)\n",
    "level_12_df"
   ]
  },
  {
   "cell_type": "code",
   "execution_count": null,
   "id": "bcc1cc26-9830-40db-8bb8-c867dcb38bd6",
   "metadata": {},
   "outputs": [],
   "source": [
    "df_river, all_nodes, source_indices, target_indices = generate_nodes(level_12_df, 'level_1', 'level_2')\n",
    "\n",
    "level_12_colors = list(rdata.uns['level_1_color']) + list(rdata.uns['level_2_color'])\n",
    "node_colors_mappings = dict([(node, level_12_colors[i]) for i, node in enumerate(all_nodes)])\n",
    "node_colors = [node_colors_mappings[node] for node in all_nodes]\n",
    "edge_colors = [node_colors_mappings[node] for node in df_river['level_1']]\n",
    "edge_colors = ['#ebebeb'] * len(all_nodes)\n",
    "\n",
    "import plotly.graph_objects as go\n",
    "save_river = False\n",
    "fig = go.Figure(data=[go.Sankey(\n",
    "        node=dict(\n",
    "            pad=20,\n",
    "            thickness=20,\n",
    "            line=dict(color=\"black\", width=1.0),\n",
    "            label=all_nodes,\n",
    "            color=node_colors,\n",
    "        ),\n",
    "\n",
    "        link=dict(\n",
    "            source=source_indices,\n",
    "            target=target_indices,\n",
    "            value=df_river['value'],\n",
    "            color=edge_colors,\n",
    "        ))])\n",
    "\n",
    "fig.update_layout(title_text=\"level1 to level2\",\n",
    "                  height=600,\n",
    "                  font_size=10)\n",
    "if save_river:\n",
    "    fig.write_image(save_river)\n",
    "fig.show()"
   ]
  },
  {
   "cell_type": "code",
   "execution_count": null,
   "id": "6cb9c344-8cff-4eee-9f01-cb8b8f2ed002",
   "metadata": {},
   "outputs": [],
   "source": [
    "level_23_df = contingency(rdata.obs['level_2'].values, \n",
    "                   rdata.obs['level_3'].values, \n",
    "                   rdata.obs['level_2'].cat.categories.values, \n",
    "                   rdata.obs['level_3'].cat.categories.values)\n",
    "level_23_df"
   ]
  },
  {
   "cell_type": "code",
   "execution_count": null,
   "id": "988a6156-2b61-48f7-a043-c82497ba5d9e",
   "metadata": {},
   "outputs": [],
   "source": [
    "df_river, all_nodes, source_indices, target_indices = generate_nodes(level_23_df, 'level_2', 'level_3')\n",
    "\n",
    "node_x = [0] * 12 + [1] * 39\n",
    "node_y = [i for i in range(12)] + [i*0.05 for i in range(39)]\n",
    "\n",
    "level_12_colors = list(rdata.uns['level_2_color']) + list(rdata.uns['level_3_color'])\n",
    "node_colors_mappings = dict([(node, level_12_colors[i]) for i, node in enumerate(all_nodes)])\n",
    "node_colors = [node_colors_mappings[node] for node in all_nodes]\n",
    "edge_colors = [node_colors_mappings[node] for node in df_river['level_2']]\n",
    "edge_colors = ['#ebebeb'] * len(all_nodes)\n",
    "\n",
    "import plotly.graph_objects as go\n",
    "save_river = False\n",
    "fig = go.Figure(data=[go.Sankey(\n",
    "        node=dict(\n",
    "            pad=10,\n",
    "            thickness=20,\n",
    "            line=dict(color=\"black\", width=1.0),\n",
    "            label=all_nodes,\n",
    "            color=node_colors,\n",
    "            # x=node_x, \n",
    "            # y=node_y,\n",
    "        ),\n",
    "\n",
    "        link=dict(\n",
    "            source=source_indices,\n",
    "            target=target_indices,\n",
    "            value=df_river['value'],\n",
    "            color=edge_colors,\n",
    "        ))])\n",
    "\n",
    "fig.update_layout(\n",
    "                  height=3000,\n",
    "                  font_size=20)\n",
    "if save_river:\n",
    "    fig.write_image(save_river)\n",
    "fig.show()"
   ]
  },
  {
   "cell_type": "markdown",
   "id": "2576795e-c2c2-45d0-bbcd-852f5f923ebf",
   "metadata": {},
   "source": [
    "#### combine"
   ]
  },
  {
   "cell_type": "code",
   "execution_count": null,
   "id": "2fed06dd-ae81-46f1-b23e-da4f82040256",
   "metadata": {},
   "outputs": [],
   "source": [
    "# get tables \n",
    "\n",
    "level_12_df = contingency(rdata.obs['level_1'].values, \n",
    "                   rdata.obs['level_2'].values, \n",
    "                   list(rdata.uns['level_1_order']), \n",
    "                   list(rdata.uns['level_2_order']))\n",
    "\n",
    "level_23_df = contingency(rdata.obs['level_2'].values, \n",
    "                   rdata.obs['level_3'].values, \n",
    "                   list(rdata.uns['level_2_order']), \n",
    "                   list(rdata.uns['level_3_order']))"
   ]
  },
  {
   "cell_type": "code",
   "execution_count": null,
   "id": "4f87f994-42b0-43aa-ba21-35592ae872eb",
   "metadata": {},
   "outputs": [],
   "source": [
    "# get nodes\n",
    "\n",
    "df_river_12, all_nodes_12, source_indices_12, target_indices_12 = generate_nodes(level_12_df, 'level_1', 'level_2')\n",
    "df_river_23, all_nodes_23, source_indices_23, target_indices_23 = generate_nodes(level_23_df, 'level_2', 'level_3')\n",
    "\n",
    "all_nodes = list(rdata.uns['level_1_order']) + list(rdata.uns['level_2_order']) + list(rdata.uns['level_3_order'])\n",
    "source_indices = source_indices_12 + [i+3 for i in source_indices_23]\n",
    "target_indices = target_indices_12 + [i+3 for i in target_indices_23]"
   ]
  },
  {
   "cell_type": "code",
   "execution_count": null,
   "id": "6ae22383-b493-4af4-8585-35e42688396d",
   "metadata": {},
   "outputs": [],
   "source": [
    "# get colors and values \n",
    "all_colors = list(rdata.uns['level_1_color']) + list(rdata.uns['level_2_color']) + list(rdata.uns['level_3_color'])\n",
    "node_colors_mappings = dict([(node, all_colors[i]) for i, node in enumerate(all_nodes)])\n",
    "node_colors = [node_colors_mappings[node] for node in all_nodes]\n",
    "edge_colors = [node_colors_mappings[node] for node in df_river_12['level_1']] + [node_colors_mappings[node] for node in df_river_23['level_2']]\n",
    "edge_colors = ['#ebebeb'] * (df_river_12['level_1'].shape[0] + df_river_23['level_2'].shape[0])\n",
    "\n",
    "link_values = df_river_12['value'].to_list() + df_river_23['value'].to_list()"
   ]
  },
  {
   "cell_type": "code",
   "execution_count": null,
   "id": "06362c5b-9764-4ae1-be3f-58f540ed1323",
   "metadata": {},
   "outputs": [],
   "source": [
    "import plotly.graph_objects as go\n",
    "save_river = False\n",
    "fig = go.Figure(data=[go.Sankey(\n",
    "        node=dict(\n",
    "            pad=30,\n",
    "            thickness=20,\n",
    "            line=dict(color=\"black\", width=1.0),\n",
    "            label=all_nodes,\n",
    "            color=node_colors,\n",
    "        ),\n",
    "\n",
    "        link=dict(\n",
    "            source=source_indices,\n",
    "            target=target_indices,\n",
    "            value=link_values,\n",
    "            color=edge_colors,\n",
    "        ))])\n",
    "\n",
    "fig.update_layout(width=1500, \n",
    "                  height=6000,\n",
    "                  font_size=20)\n",
    "# if save_river:\n",
    "fig.write_image(os.path.join(fig_path, 'sankey-test.pdf'))\n",
    "fig.show()"
   ]
  }
 ],
 "metadata": {
  "kernelspec": {
   "display_name": "Python 3 (ipykernel)",
   "language": "python",
   "name": "python3"
  },
  "language_info": {
   "codemirror_mode": {
    "name": "ipython",
    "version": 3
   },
   "file_extension": ".py",
   "mimetype": "text/x-python",
   "name": "python",
   "nbconvert_exporter": "python",
   "pygments_lexer": "ipython3",
   "version": "3.8.12"
  }
 },
 "nbformat": 4,
 "nbformat_minor": 5
}
