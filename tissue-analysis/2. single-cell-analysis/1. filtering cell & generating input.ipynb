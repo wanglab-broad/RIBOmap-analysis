{
 "cells": [
  {
   "cell_type": "markdown",
   "id": "9bcd765a-f848-4294-8d59-af2b562ba1f7",
   "metadata": {},
   "source": [
    "# 1. Filtering Cells and Generating input"
   ]
  },
  {
   "cell_type": "markdown",
   "id": "c15f28aa-4d8c-42f3-84bd-a0adaf763d76",
   "metadata": {},
   "source": [
    "2022-10-23"
   ]
  },
  {
   "cell_type": "code",
   "execution_count": null,
   "id": "f01cfbb2-c218-45fe-a3ad-5c227307c71d",
   "metadata": {},
   "outputs": [],
   "source": [
    "# Import Packages\n",
    "\n",
    "%load_ext autoreload\n",
    "%autoreload 2\n",
    "\n",
    "import os\n",
    "import warnings \n",
    "warnings.filterwarnings('ignore')\n",
    "import numpy as np\n",
    "import pandas as pd\n",
    "import scanpy as sc\n",
    "import seaborn as sns\n",
    "import anndata as ad\n",
    "import matplotlib.pyplot as plt\n",
    "from matplotlib.colors import ListedColormap\n",
    "from anndata import AnnData\n",
    "from natsort import natsorted\n",
    "\n",
    "# Customized packages\n",
    "import starmap.sc_util as su\n",
    "# test()"
   ]
  },
  {
   "cell_type": "code",
   "execution_count": null,
   "id": "6cf01a31-ec06-400e-b153-802835d66f03",
   "metadata": {},
   "outputs": [],
   "source": [
    "import matplotlib\n",
    "matplotlib.rcParams['pdf.fonttype'] = 42"
   ]
  },
  {
   "cell_type": "markdown",
   "id": "4f8eac60-859a-4bfe-b0f6-6aeb9c58dc03",
   "metadata": {
    "tags": []
   },
   "source": [
    "## Set path"
   ]
  },
  {
   "cell_type": "code",
   "execution_count": null,
   "id": "d122dd12-3a5b-4485-88a2-8707ced3b91f",
   "metadata": {},
   "outputs": [],
   "source": [
    "# Set path\n",
    "base_path = 'Z:/Data/Analyzed/2022-09-05-Hu-Tissue/'\n",
    "\n",
    "input_path = os.path.join(base_path, 'input')\n",
    "\n",
    "out_path = os.path.join(base_path, 'output')\n",
    "if not os.path.exists(out_path):\n",
    "    os.mkdir(out_path)\n",
    "    \n",
    "fig_path = os.path.join(base_path, 'figures')\n",
    "if not os.path.exists(fig_path):\n",
    "    os.mkdir(fig_path)\n",
    "\n",
    "sc.settings.figdir = fig_path"
   ]
  },
  {
   "cell_type": "code",
   "execution_count": null,
   "id": "25a067c1-3186-4696-82da-e523b79994a7",
   "metadata": {},
   "outputs": [],
   "source": [
    "rdata.read_h5ad(os.path.join(input_path, 'rep2/batch2', '2022-10-23-Brain-RIBOmap-raw.h5ad'))\n",
    "rdata"
   ]
  },
  {
   "cell_type": "code",
   "execution_count": null,
   "id": "e67dabc0-9cd9-4cd5-affd-758f2d9ffeff",
   "metadata": {},
   "outputs": [],
   "source": [
    "sdata.read_h5ad(os.path.join(input_path, 'rep2/batch2', '2022-10-23-Brain-STARmap-raw.h5ad'))\n",
    "sdata"
   ]
  },
  {
   "cell_type": "markdown",
   "id": "c6828744-1480-4e87-8363-c2cd0c170160",
   "metadata": {},
   "source": [
    "## Create filtered (cell) input file (rep2)"
   ]
  },
  {
   "cell_type": "markdown",
   "id": "5f23f540-a70b-432e-8966-2896076f7db3",
   "metadata": {
    "tags": []
   },
   "source": [
    "### RIBOmap"
   ]
  },
  {
   "cell_type": "code",
   "execution_count": null,
   "id": "8b80b34f-400c-4d99-8278-a50b7a609833",
   "metadata": {},
   "outputs": [],
   "source": [
    "# Plot top 20 most expressed genes (before qc)\n",
    "sc.pl.highest_expr_genes(rdata, n_top=20)"
   ]
  },
  {
   "cell_type": "code",
   "execution_count": null,
   "id": "80bfcc46-5e67-4926-83e3-90eb98c726b5",
   "metadata": {},
   "outputs": [],
   "source": [
    "# calculate pp metric\n",
    "sc.pp.calculate_qc_metrics(rdata, inplace=True)\n",
    "\n",
    "# Calculate max count for each gene\n",
    "rdata.var['max_counts_sample'] = rdata.X.max(axis=0)"
   ]
  },
  {
   "cell_type": "code",
   "execution_count": null,
   "id": "91792085-119b-4841-a7e9-d6925dade204",
   "metadata": {},
   "outputs": [],
   "source": [
    "# Total counts describe statistics\n",
    "rdata.obs['total_counts'].describe()"
   ]
  },
  {
   "cell_type": "code",
   "execution_count": null,
   "id": "c553677d-9554-4cfa-9fb6-f89eefea0b7c",
   "metadata": {},
   "outputs": [],
   "source": [
    "# max counts describe statistics\n",
    "rdata.var['max_counts_sample'].describe()"
   ]
  },
  {
   "cell_type": "code",
   "execution_count": null,
   "id": "46d8a3e0-faec-4e1f-9df2-a54400168f74",
   "metadata": {},
   "outputs": [],
   "source": [
    "# mad threshold\n",
    "from scipy import stats\n",
    "n = 3\n",
    "mad = stats.median_absolute_deviation(rdata.obs['log1p_total_counts'], scale=1)\n",
    "lower_bd = rdata.obs['log1p_total_counts'].median() - n*mad\n",
    "upper_bd = rdata.obs['log1p_total_counts'].median() + n*mad\n",
    "\n",
    "print(lower_bd)\n",
    "print(upper_bd)\n",
    "print(np.expm1(lower_bd))\n",
    "print(np.expm1(upper_bd))"
   ]
  },
  {
   "cell_type": "code",
   "execution_count": null,
   "id": "37115d31-2e9a-4515-91bd-4b817c1ac24c",
   "metadata": {},
   "outputs": [],
   "source": [
    "# mad threshold\n",
    "fig, axs = plt.subplots(nrows=1, ncols=2, figsize=(12,5))\n",
    "sns.histplot(rdata.obs['total_counts'], ax=axs[0])\n",
    "axs[0].axvline(np.expm1(lower_bd), c='r')\n",
    "axs[0].axvline(np.expm1(upper_bd), c='r')\n",
    "\n",
    "sns.histplot(rdata.obs['log1p_total_counts'], ax=axs[1])\n",
    "axs[1].axvline(lower_bd, c='r')\n",
    "axs[1].axvline(upper_bd, c='r')\n",
    "\n",
    "# plt.savefig(os.path.join(fig_path, 'reads_filtering_threshold.pdf'))\n",
    "plt.show()"
   ]
  },
  {
   "cell_type": "code",
   "execution_count": null,
   "id": "d8d01b82-4617-4d2b-9e08-4291662dc26f",
   "metadata": {},
   "outputs": [],
   "source": [
    "# Total counts describe statistics\n",
    "ncell_left = rdata.obs.loc[(rdata.obs['total_counts'] >= np.expm1(lower_bd)) & (rdata.obs['total_counts'] <= np.expm1(upper_bd)), 'total_counts'].shape\n",
    "median_counts = rdata.obs.loc[(rdata.obs['total_counts'] >= np.expm1(lower_bd)) & (rdata.obs['total_counts'] <= np.expm1(upper_bd)), 'total_counts'].median()\n",
    "\n",
    "print(f'With current threshold, there are {ncell_left[0]} cells left and median counts per cell is {median_counts}')"
   ]
  },
  {
   "cell_type": "code",
   "execution_count": null,
   "id": "f15ac36a-e548-4b15-8dc3-f1e2c2d1ae87",
   "metadata": {},
   "outputs": [],
   "source": [
    "# manual threshold\n",
    "lower_bd_manual = 40\n",
    "upper_bd_manual = 1200\n",
    "\n",
    "fig, axs = plt.subplots(nrows=1, ncols=2, figsize=(12,5))\n",
    "sns.histplot(rdata.obs['total_counts'], ax=axs[0])\n",
    "axs[0].axvline(lower_bd_manual, c='r')\n",
    "axs[0].axvline(upper_bd_manual, c='r')\n",
    "\n",
    "sns.histplot(rdata.obs['log1p_total_counts'], ax=axs[1])\n",
    "axs[1].axvline(np.log1p(lower_bd_manual), c='r')\n",
    "axs[1].axvline(np.log1p(upper_bd_manual), c='r')\n",
    "\n",
    "# plt.savefig(os.path.join(fig_path, 'reads_filtering_threshold.pdf'))\n",
    "plt.show()"
   ]
  },
  {
   "cell_type": "code",
   "execution_count": null,
   "id": "e48b9c51-bcbf-4295-b78f-59f6dc8db5ec",
   "metadata": {},
   "outputs": [],
   "source": [
    "# Total counts describe statistics\n",
    "ncell_left = rdata.obs.loc[(rdata.obs['total_counts'] >= lower_bd_manual) & (rdata.obs['total_counts'] <= upper_bd_manual), 'total_counts'].shape\n",
    "median_counts = rdata.obs.loc[(rdata.obs['total_counts'] >= lower_bd_manual) & (rdata.obs['total_counts'] <= upper_bd_manual), 'total_counts'].median()\n",
    "\n",
    "print(f'With current threshold, there are {ncell_left[0]} cells left and median counts per cell is {median_counts}')"
   ]
  },
  {
   "cell_type": "code",
   "execution_count": null,
   "id": "233bf461-ae9c-4e2c-afbb-c17ec8e64c2a",
   "metadata": {},
   "outputs": [],
   "source": [
    "# Filter gene by max counts \n",
    "rdata.var['detected_sample'] = rdata.var['max_counts_sample'] > 2\n",
    "rdata.var['highly_variable_sample'] = rdata.var['max_counts_sample'] > 2\n",
    "print(rdata.var['detected_sample'].sum())"
   ]
  },
  {
   "cell_type": "code",
   "execution_count": null,
   "id": "4983aec3-b743-4814-9d51-b31881302007",
   "metadata": {},
   "outputs": [],
   "source": [
    "# Filtration (cell)\n",
    "sc.pp.filter_cells(rdata, min_genes=10)\n",
    "sc.pp.filter_cells(rdata, min_counts=np.expm1(lower_bd))\n",
    "sc.pp.filter_cells(rdata, max_counts=np.expm1(upper_bd))\n",
    "\n",
    "rdata.layers['raw'] = rdata.X.copy()\n",
    "rdata.X.shape"
   ]
  },
  {
   "cell_type": "code",
   "execution_count": null,
   "id": "6d386d0b-9248-4289-99a6-480af3655d26",
   "metadata": {},
   "outputs": [],
   "source": [
    "# save combined h5ad\n",
    "from datetime import datetime\n",
    "date = datetime.today().strftime('%Y-%m-%d')\n",
    "rdata.write_h5ad(f\"{out_path}/{date}-Brain-RIBOmap-rep2-3mad-filtered.h5ad\")"
   ]
  },
  {
   "cell_type": "markdown",
   "id": "431c57f2-86de-42c8-bfee-48a93b74f517",
   "metadata": {
    "tags": []
   },
   "source": [
    "### STARmap"
   ]
  },
  {
   "cell_type": "code",
   "execution_count": null,
   "id": "a52a214a-290b-40fd-8082-52fe07ffb982",
   "metadata": {},
   "outputs": [],
   "source": [
    "# Plot top 20 most expressed genes (before qc)\n",
    "sc.pl.highest_expr_genes(sdata, n_top=20)"
   ]
  },
  {
   "cell_type": "code",
   "execution_count": null,
   "id": "a6bb8ea2-6888-45d0-836c-e61389b20e53",
   "metadata": {},
   "outputs": [],
   "source": [
    "# calculate pp metric\n",
    "sc.pp.calculate_qc_metrics(sdata, inplace=True)\n",
    "\n",
    "# Calculate max count for each gene\n",
    "sdata.var['max_counts_sample'] = sdata.X.max(axis=0)"
   ]
  },
  {
   "cell_type": "code",
   "execution_count": null,
   "id": "14416b13-1ff0-4fb9-a968-927f24bccbf6",
   "metadata": {},
   "outputs": [],
   "source": [
    "# Total counts describe statistics\n",
    "sdata.obs['total_counts'].describe()"
   ]
  },
  {
   "cell_type": "code",
   "execution_count": null,
   "id": "e0baa962-603f-4ed9-ab07-6366490643ff",
   "metadata": {},
   "outputs": [],
   "source": [
    "# max counts describe statistics\n",
    "sdata.var['max_counts_sample'].describe()"
   ]
  },
  {
   "cell_type": "code",
   "execution_count": null,
   "id": "d3f78e7a-76cf-4254-b978-1bc2f5b60d1e",
   "metadata": {},
   "outputs": [],
   "source": [
    "# mad threshold\n",
    "from scipy import stats\n",
    "n = 3\n",
    "mad = stats.median_absolute_deviation(sdata.obs['log1p_total_counts'], scale=1)\n",
    "lower_bd = sdata.obs['log1p_total_counts'].median() - n*mad\n",
    "upper_bd = sdata.obs['log1p_total_counts'].median() + n*mad\n",
    "\n",
    "print(lower_bd)\n",
    "print(upper_bd)\n",
    "print(np.expm1(lower_bd))\n",
    "print(np.expm1(upper_bd))"
   ]
  },
  {
   "cell_type": "code",
   "execution_count": null,
   "id": "bb945012-c233-4588-8793-ec85d2b45037",
   "metadata": {},
   "outputs": [],
   "source": [
    "# mad threshold\n",
    "fig, axs = plt.subplots(nrows=1, ncols=2, figsize=(12,5))\n",
    "sns.histplot(sdata.obs['total_counts'], ax=axs[0])\n",
    "axs[0].axvline(np.expm1(lower_bd), c='r')\n",
    "axs[0].axvline(np.expm1(upper_bd), c='r')\n",
    "\n",
    "sns.histplot(sdata.obs['log1p_total_counts'], ax=axs[1])\n",
    "axs[1].axvline(lower_bd, c='r')\n",
    "axs[1].axvline(upper_bd, c='r')\n",
    "\n",
    "# plt.savefig(os.path.join(fig_path, 'reads_filtering_threshold.pdf'))\n",
    "plt.show()"
   ]
  },
  {
   "cell_type": "code",
   "execution_count": null,
   "id": "8ba38996-2ba1-40ae-a9e6-a7e23299f1d7",
   "metadata": {},
   "outputs": [],
   "source": [
    "# Total counts describe statistics\n",
    "ncell_left = sdata.obs.loc[(sdata.obs['total_counts'] >= np.expm1(lower_bd)) & (sdata.obs['total_counts'] <= np.expm1(upper_bd)), 'total_counts'].shape\n",
    "median_counts = sdata.obs.loc[(sdata.obs['total_counts'] >= np.expm1(lower_bd)) & (sdata.obs['total_counts'] <= np.expm1(upper_bd)), 'total_counts'].median()\n",
    "\n",
    "print(f'With current threshold, there are {ncell_left[0]} cells left and median counts per cell is {median_counts}')"
   ]
  },
  {
   "cell_type": "code",
   "execution_count": null,
   "id": "f165534a-2f20-453a-ad3d-47daa31135b3",
   "metadata": {},
   "outputs": [],
   "source": [
    "# manual threshold\n",
    "lower_bd_manual = 40\n",
    "upper_bd_manual = 1200\n",
    "\n",
    "fig, axs = plt.subplots(nrows=1, ncols=2, figsize=(12,5))\n",
    "sns.histplot(sdata.obs['total_counts'], ax=axs[0])\n",
    "axs[0].axvline(lower_bd_manual, c='r')\n",
    "axs[0].axvline(upper_bd_manual, c='r')\n",
    "\n",
    "sns.histplot(sdata.obs['log1p_total_counts'], ax=axs[1])\n",
    "axs[1].axvline(np.log1p(lower_bd_manual), c='r')\n",
    "axs[1].axvline(np.log1p(upper_bd_manual), c='r')\n",
    "\n",
    "# plt.savefig(os.path.join(fig_path, 'reads_filtering_threshold.pdf'))\n",
    "plt.show()"
   ]
  },
  {
   "cell_type": "code",
   "execution_count": null,
   "id": "1a2c13eb-8d03-4444-a8e4-aa26ff95072d",
   "metadata": {},
   "outputs": [],
   "source": [
    "# Total counts describe statistics\n",
    "ncell_left = sdata.obs.loc[(sdata.obs['total_counts'] >= lower_bd_manual) & (sdata.obs['total_counts'] <= upper_bd_manual), 'total_counts'].shape\n",
    "median_counts = sdata.obs.loc[(sdata.obs['total_counts'] >= lower_bd_manual) & (sdata.obs['total_counts'] <= upper_bd_manual), 'total_counts'].median()\n",
    "\n",
    "print(f'With current threshold, there are {ncell_left[0]} cells left and median counts per cell is {median_counts}')"
   ]
  },
  {
   "cell_type": "code",
   "execution_count": null,
   "id": "23c1d53d-ca04-4d1a-925c-7b4af28bb3ed",
   "metadata": {},
   "outputs": [],
   "source": [
    "# Filter gene by max counts \n",
    "sdata.var['detected_sample'] = sdata.var['max_counts_sample'] > 2\n",
    "sdata.var['highly_variable_sample'] = sdata.var['max_counts_sample'] > 2\n",
    "print(sdata.var['detected_sample'].sum())"
   ]
  },
  {
   "cell_type": "code",
   "execution_count": null,
   "id": "29a85d50-f0e6-4432-aed3-49927a47410e",
   "metadata": {},
   "outputs": [],
   "source": [
    "# Filtration (cell)\n",
    "sc.pp.filter_cells(sdata, min_genes=10)\n",
    "sc.pp.filter_cells(sdata, min_counts=np.expm1(lower_bd))\n",
    "sc.pp.filter_cells(sdata, max_counts=np.expm1(upper_bd))\n",
    "\n",
    "sdata.layers['raw'] = sdata.X.copy()\n",
    "sdata.X.shape"
   ]
  },
  {
   "cell_type": "code",
   "execution_count": null,
   "id": "6c5b2a43-48d5-46fa-bdfa-c40a35a1d7c5",
   "metadata": {},
   "outputs": [],
   "source": [
    "# save combined h5ad\n",
    "from datetime import datetime\n",
    "date = datetime.today().strftime('%Y-%m-%d')\n",
    "sdata.write_h5ad(f\"{out_path}/{date}-Brain-STARmap-rep2-3mad-filtered.h5ad\")"
   ]
  },
  {
   "cell_type": "markdown",
   "id": "fa98577f-387c-4f9a-8a0f-c6c65b15358e",
   "metadata": {},
   "source": [
    "### check filtered data"
   ]
  },
  {
   "cell_type": "code",
   "execution_count": null,
   "id": "91b056ca-18c2-4e57-a6c7-878c68d6fa6f",
   "metadata": {},
   "outputs": [],
   "source": [
    "# Correlation between two protocol\n",
    "rdata_vector = np.log2(np.array(rdata.X.sum(axis=0)))\n",
    "sdata_vector = np.log2(np.array(sdata.X.sum(axis=0)))\n",
    "\n",
    "from scipy import stats\n",
    "p_corr = stats.pearsonr(rdata_vector, sdata_vector)\n",
    "\n",
    "corre_df = pd.DataFrame({'RIBOmap': rdata_vector, 'STARmap': sdata_vector})\n",
    "g = sns.lmplot(x='RIBOmap', y='STARmap', data=corre_df, scatter_kws={'s': 1}, line_kws={'color': 'r'})\n",
    "g.set_axis_labels('RIBOmap - log2(total counts)', 'STARmap - log2(total counts)')\n",
    "plt.title(f\"Pearson's correlation coefficient: {round(p_corr[0], 3)}\")\n",
    "plt.savefig(os.path.join(fig_path, 'correlation_ribomap_starmap_rep2_3mad.pdf'))\n",
    "# plt.show()"
   ]
  },
  {
   "cell_type": "markdown",
   "id": "bc9a5a40-3f84-44f7-8da6-4a54241a4c24",
   "metadata": {},
   "source": [
    "## Load filtered (cell) input file (rep1)"
   ]
  },
  {
   "cell_type": "markdown",
   "id": "7d7318df-bb9e-4fe8-a72d-6e9ccb4ce0f8",
   "metadata": {
    "tags": []
   },
   "source": [
    "### RIBOmap"
   ]
  },
  {
   "cell_type": "code",
   "execution_count": null,
   "id": "5b11be61-f0ca-4623-8d72-36c93e80751a",
   "metadata": {},
   "outputs": [],
   "source": [
    "rdata_2 = sc.read_h5ad(os.path.join('Z:/Data/Analyzed/2021-11-23-Hu-MouseBrain/output', '2022-10-23-Hu-TissueRIBOmap-3mad-filtered.h5ad'))\n",
    "rdata_2"
   ]
  },
  {
   "cell_type": "code",
   "execution_count": null,
   "id": "14d0d37e-c322-4651-b471-c90fcea9b4f5",
   "metadata": {},
   "outputs": [],
   "source": [
    "# rename columns \n",
    "rdata_2.var.rename(columns={'max_counts':'max_counts_sample'}, inplace=True)\n",
    "rdata_2.var.rename(columns={'detected':'detected_sample'}, inplace=True)\n",
    "rdata_2.var.rename(columns={'highly_variable':'highly_variable_sample'}, inplace=True)"
   ]
  },
  {
   "cell_type": "code",
   "execution_count": null,
   "id": "dce08bf3-a005-4d44-9eb9-ad8de2ad12bb",
   "metadata": {},
   "outputs": [],
   "source": [
    "# add new metadata\n",
    "rdata_2.obs['replicate'] = 'rep1'\n",
    "rdata_2.obs['orig_index'] = rdata_2.obs.index.to_list()"
   ]
  },
  {
   "cell_type": "code",
   "execution_count": null,
   "id": "87302754-df3f-4dee-81eb-2d6b58dbf0bd",
   "metadata": {},
   "outputs": [],
   "source": [
    "# Total counts describe statistics\n",
    "ncell_left = rdata_2.obs.shape\n",
    "median_counts = rdata_2.obs['total_counts'].median()\n",
    "\n",
    "print(f'In rep1 RIBOmap, there are {ncell_left[0]} cells left and median counts per cell is {median_counts}')"
   ]
  },
  {
   "cell_type": "markdown",
   "id": "899eb231-fce1-4a9b-b124-f269b7222b6a",
   "metadata": {},
   "source": [
    "### check filtered data"
   ]
  },
  {
   "cell_type": "code",
   "execution_count": null,
   "id": "383abb28-427c-4b5e-a5f7-414ebfa982c8",
   "metadata": {},
   "outputs": [],
   "source": [
    "# Correlation between two protocol\n",
    "rdata_vector = np.log2(np.array(rdata.X.sum(axis=0)))\n",
    "rdata_vector_2 = np.log2(np.array(rdata_2.X.sum(axis=0)))\n",
    "\n",
    "from scipy import stats\n",
    "p_corr = stats.pearsonr(rdata_vector, rdata_vector_2)\n",
    "\n",
    "corre_df = pd.DataFrame({'RIBOmap_rep2': rdata_vector, 'RIBOmap_rep1': rdata_vector_2})\n",
    "g = sns.lmplot(x='RIBOmap_rep2', y='RIBOmap_rep1', data=corre_df, scatter_kws={'s': 1}, line_kws={'color': 'r'})\n",
    "g.set_axis_labels('RIBOmap_rep2 - log2(total counts)', 'RIBOmap_rep1 - log2(total counts)')\n",
    "plt.title(f\"Pearson's correlation coefficient: {round(p_corr[0], 3)}\")\n",
    "plt.savefig(os.path.join(fig_path, 'correlation_ribomap_rep1_rep2_3mad.pdf'))\n",
    "# plt.show()"
   ]
  },
  {
   "cell_type": "markdown",
   "id": "778032de-dfb8-46e3-972d-a6bd5c988907",
   "metadata": {},
   "source": [
    "## Combine datasets (n=3)"
   ]
  },
  {
   "cell_type": "code",
   "execution_count": null,
   "id": "ab60f604-2ecb-4a45-ba0b-4bb5df1e1771",
   "metadata": {},
   "outputs": [],
   "source": [
    "# combine three datasets \n",
    "adata = ad.concat([sdata, rdata, rdata_2])\n",
    "adata.obs.index = [str(s) for s in range(adata.obs.shape[0])]\n",
    "adata"
   ]
  },
  {
   "cell_type": "code",
   "execution_count": null,
   "id": "9a21d339-a9ea-495c-97dd-5d5650a33a77",
   "metadata": {},
   "outputs": [],
   "source": [
    "# add var\n",
    "adata.var['max_counts_rep1_RIBOmap'] = rdata_2.var['max_counts_sample'].values\n",
    "adata.var['max_counts_rep2_RIBOmap'] = rdata.var['max_counts_sample'].values\n",
    "adata.var['max_counts_rep2_STARmap'] = sdata.var['max_counts_sample'].values"
   ]
  },
  {
   "cell_type": "code",
   "execution_count": null,
   "id": "2136e5c5-a07c-468c-be88-f328d839e660",
   "metadata": {},
   "outputs": [],
   "source": [
    "# add obs\n",
    "adata.obs['protocol-replicate'] = adata.obs['protocol'].astype(str) + '-' + adata.obs['replicate'].astype(str) \n",
    "adata.obs['protocol-replicate'] = adata.obs['protocol-replicate'].astype('category')"
   ]
  },
  {
   "cell_type": "code",
   "execution_count": null,
   "id": "488b7b6b-19cb-4729-9fbe-020d54afb662",
   "metadata": {},
   "outputs": [],
   "source": [
    "# save a backup file \n",
    "adata.write_h5ad(os.path.join(out_path, '2022-10-23-Brain-combined-3mad-filtered.h5ad'))"
   ]
  },
  {
   "cell_type": "code",
   "execution_count": null,
   "id": "c19f31b2-fb2a-416d-a431-f9bf7ff68d9a",
   "metadata": {},
   "outputs": [],
   "source": [
    "sns.boxplot(data=adata.var[[\"max_counts_rep1_RIBOmap\", \"max_counts_rep2_RIBOmap\", \"max_counts_rep2_STARmap\"]],)\n",
    "# ax = plt.gca()\n",
    "# ax.set_ylim([0, 10])\n",
    "plt.xticks(rotation=45)\n",
    "plt.show()"
   ]
  },
  {
   "cell_type": "code",
   "execution_count": null,
   "id": "16df806a-95ce-4ea6-b098-522cc3093f79",
   "metadata": {},
   "outputs": [],
   "source": [
    "adata.obs['protocol-replicate'].value_counts()"
   ]
  },
  {
   "cell_type": "markdown",
   "id": "9b62078c-ad18-4ff2-9e88-246ec604e404",
   "metadata": {},
   "source": [
    "## Combine datasets (n=2, two RIBOmap sections)"
   ]
  },
  {
   "cell_type": "code",
   "execution_count": null,
   "id": "490b36a5-6ee6-476e-a262-90ad2c2b1be9",
   "metadata": {},
   "outputs": [],
   "source": [
    "# combine three datasets \n",
    "adata = ad.concat([rdata, rdata_2])\n",
    "adata.obs.index = [str(s) for s in range(adata.obs.shape[0])]\n",
    "adata"
   ]
  },
  {
   "cell_type": "code",
   "execution_count": null,
   "id": "60469068-7930-40f6-89c1-ab89b7dcf758",
   "metadata": {},
   "outputs": [],
   "source": [
    "# add var\n",
    "adata.var['max_counts_rep1_RIBOmap'] = rdata_2.var['max_counts_sample'].values\n",
    "adata.var['max_counts_rep2_RIBOmap'] = rdata.var['max_counts_sample'].values"
   ]
  },
  {
   "cell_type": "code",
   "execution_count": null,
   "id": "bbdf83db-6e8b-4b76-b454-c30c61bbefe7",
   "metadata": {},
   "outputs": [],
   "source": [
    "# add obs\n",
    "adata.obs['protocol-replicate'] = adata.obs['protocol'].astype(str) + '-' + adata.obs['replicate'].astype(str) \n",
    "adata.obs['protocol-replicate'] = adata.obs['protocol-replicate'].astype('category')"
   ]
  },
  {
   "cell_type": "code",
   "execution_count": null,
   "id": "75e26e4e-a43c-4229-b2c1-71a160be01c8",
   "metadata": {},
   "outputs": [],
   "source": [
    "# save a backup file \n",
    "adata.write_h5ad(os.path.join(out_path, '2022-10-23-Brain-RIBOmap-combined-3mad-filtered.h5ad'))"
   ]
  },
  {
   "cell_type": "code",
   "execution_count": null,
   "id": "97fc83bb-6622-4c4d-baf1-7f596b06f357",
   "metadata": {},
   "outputs": [],
   "source": [
    "adata.obs['protocol-replicate'].value_counts()"
   ]
  }
 ],
 "metadata": {
  "kernelspec": {
   "display_name": "Python 3 (ipykernel)",
   "language": "python",
   "name": "python3"
  },
  "language_info": {
   "codemirror_mode": {
    "name": "ipython",
    "version": 3
   },
   "file_extension": ".py",
   "mimetype": "text/x-python",
   "name": "python",
   "nbconvert_exporter": "python",
   "pygments_lexer": "ipython3",
   "version": "3.8.12"
  }
 },
 "nbformat": 4,
 "nbformat_minor": 5
}
