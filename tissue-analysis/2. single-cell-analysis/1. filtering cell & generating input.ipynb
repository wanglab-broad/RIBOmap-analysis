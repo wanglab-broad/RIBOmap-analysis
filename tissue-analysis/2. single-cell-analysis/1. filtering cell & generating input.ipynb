{
 "cells": [
  {
   "cell_type": "markdown",
   "id": "9bcd765a-f848-4294-8d59-af2b562ba1f7",
   "metadata": {},
   "source": [
    "# 1. Filtering Cells and Generating input"
   ]
  },
  {
   "cell_type": "markdown",
   "id": "c15f28aa-4d8c-42f3-84bd-a0adaf763d76",
   "metadata": {},
   "source": [
    "2023-05-05"
   ]
  },
  {
   "cell_type": "code",
   "execution_count": null,
   "id": "f01cfbb2-c218-45fe-a3ad-5c227307c71d",
   "metadata": {},
   "outputs": [],
   "source": [
    "# Import Packages\n",
    "\n",
    "%load_ext autoreload\n",
    "%autoreload 2\n",
    "\n",
    "import os\n",
    "import warnings \n",
    "warnings.filterwarnings('ignore')\n",
    "import numpy as np\n",
    "import pandas as pd\n",
    "import scanpy as sc\n",
    "import seaborn as sns\n",
    "import anndata as ad\n",
    "import matplotlib.pyplot as plt\n",
    "from matplotlib.colors import ListedColormap\n",
    "from anndata import AnnData\n",
    "from natsort import natsorted\n",
    "\n",
    "# Customized packages\n",
    "import starmap.sc_util as su\n",
    "# test()"
   ]
  },
  {
   "cell_type": "code",
   "execution_count": null,
   "id": "6cf01a31-ec06-400e-b153-802835d66f03",
   "metadata": {},
   "outputs": [],
   "source": [
    "import matplotlib\n",
    "matplotlib.rcParams['pdf.fonttype'] = 42"
   ]
  },
  {
   "cell_type": "markdown",
   "id": "4f8eac60-859a-4bfe-b0f6-6aeb9c58dc03",
   "metadata": {
    "tags": []
   },
   "source": [
    "## Set path"
   ]
  },
  {
   "cell_type": "code",
   "execution_count": null,
   "id": "d122dd12-3a5b-4485-88a2-8707ced3b91f",
   "metadata": {},
   "outputs": [],
   "source": [
    "# Set path\n",
    "base_path = 'path/to/dataset/folder'\n",
    "\n",
    "input_path = os.path.join(base_path, 'input')\n",
    "\n",
    "out_path = os.path.join(base_path, 'output')\n",
    "if not os.path.exists(out_path):\n",
    "    os.mkdir(out_path)\n",
    "    \n",
    "fig_path = os.path.join(base_path, 'figures')\n",
    "if not os.path.exists(fig_path):\n",
    "    os.mkdir(fig_path)\n",
    "\n",
    "sc.settings.figdir = fig_path"
   ]
  },
  {
   "cell_type": "code",
   "execution_count": null,
   "id": "25a067c1-3186-4696-82da-e523b79994a7",
   "metadata": {},
   "outputs": [],
   "source": [
    "# load RIBOmap rep1 h5ad file generated from ClusterMap output\n",
    "rdata_rep1.read_h5ad(os.path.join(input_path, 'RIBOmap-rep1-raw.h5ad'))\n",
    "rdata_rep1"
   ]
  },
  {
   "cell_type": "code",
   "execution_count": null,
   "id": "ba363bef-44ea-4603-8162-1b20ece96eed",
   "metadata": {},
   "outputs": [],
   "source": [
    "# load RIBOmap rep2 h5ad file generated from ClusterMap output\n",
    "rdata_rep2.read_h5ad(os.path.join(input_path, 'RIBOmap-rep2-raw.h5ad'))\n",
    "rdata_rep2"
   ]
  },
  {
   "cell_type": "code",
   "execution_count": null,
   "id": "e67dabc0-9cd9-4cd5-affd-758f2d9ffeff",
   "metadata": {},
   "outputs": [],
   "source": [
    "# load STARmap rep2 h5ad file generated from ClusterMap output\n",
    "sdata_rep2.read_h5ad(os.path.join(input_path, 'STARmap-rep2-raw.h5ad'))\n",
    "sdata_rep2"
   ]
  },
  {
   "cell_type": "markdown",
   "id": "c6828744-1480-4e87-8363-c2cd0c170160",
   "metadata": {},
   "source": [
    "## Create filtered (cell) input file"
   ]
  },
  {
   "cell_type": "markdown",
   "id": "5f23f540-a70b-432e-8966-2896076f7db3",
   "metadata": {
    "tags": []
   },
   "source": [
    "### RIBOmap-rep1"
   ]
  },
  {
   "cell_type": "code",
   "execution_count": null,
   "id": "8b80b34f-400c-4d99-8278-a50b7a609833",
   "metadata": {},
   "outputs": [],
   "source": [
    "# Plot top 20 most expressed genes (before qc)\n",
    "sc.pl.highest_expr_genes(rdata_rep1, n_top=20)"
   ]
  },
  {
   "cell_type": "code",
   "execution_count": null,
   "id": "80bfcc46-5e67-4926-83e3-90eb98c726b5",
   "metadata": {},
   "outputs": [],
   "source": [
    "# calculate pp metric\n",
    "sc.pp.calculate_qc_metrics(rdata_rep1, inplace=True)\n",
    "\n",
    "# Calculate max count for each gene\n",
    "rdata_rep1.var['max_counts_sample'] = rdata_rep1.X.max(axis=0)"
   ]
  },
  {
   "cell_type": "code",
   "execution_count": null,
   "id": "91792085-119b-4841-a7e9-d6925dade204",
   "metadata": {},
   "outputs": [],
   "source": [
    "# Total counts describe statistics\n",
    "rdata_rep1.obs['total_counts'].describe()"
   ]
  },
  {
   "cell_type": "code",
   "execution_count": null,
   "id": "c553677d-9554-4cfa-9fb6-f89eefea0b7c",
   "metadata": {},
   "outputs": [],
   "source": [
    "# max counts describe statistics\n",
    "rdata_rep1.var['max_counts_sample'].describe()"
   ]
  },
  {
   "cell_type": "code",
   "execution_count": null,
   "id": "46d8a3e0-faec-4e1f-9df2-a54400168f74",
   "metadata": {},
   "outputs": [],
   "source": [
    "# mad threshold\n",
    "from scipy import stats\n",
    "n = 3\n",
    "mad = stats.median_absolute_deviation(rdata_rep1.obs['log1p_total_counts'], scale=1)\n",
    "lower_bd = rdata_rep1.obs['log1p_total_counts'].median() - n*mad\n",
    "upper_bd = rdata_rep1.obs['log1p_total_counts'].median() + n*mad\n",
    "\n",
    "print(lower_bd)\n",
    "print(upper_bd)\n",
    "print(np.expm1(lower_bd))\n",
    "print(np.expm1(upper_bd))"
   ]
  },
  {
   "cell_type": "code",
   "execution_count": null,
   "id": "37115d31-2e9a-4515-91bd-4b817c1ac24c",
   "metadata": {},
   "outputs": [],
   "source": [
    "# mad threshold\n",
    "fig, axs = plt.subplots(nrows=1, ncols=2, figsize=(12,5))\n",
    "sns.histplot(rdata_rep1.obs['total_counts'], ax=axs[0])\n",
    "axs[0].axvline(np.expm1(lower_bd), c='r')\n",
    "axs[0].axvline(np.expm1(upper_bd), c='r')\n",
    "\n",
    "sns.histplot(rdata_rep1.obs['log1p_total_counts'], ax=axs[1])\n",
    "axs[1].axvline(lower_bd, c='r')\n",
    "axs[1].axvline(upper_bd, c='r')\n",
    "\n",
    "# plt.savefig(os.path.join(fig_path, 'reads_filtering_threshold.pdf'))\n",
    "plt.show()"
   ]
  },
  {
   "cell_type": "code",
   "execution_count": null,
   "id": "d8d01b82-4617-4d2b-9e08-4291662dc26f",
   "metadata": {},
   "outputs": [],
   "source": [
    "# Total counts describe statistics\n",
    "ncell_left = rdata_rep1.obs.loc[(rdata_rep1.obs['total_counts'] >= np.expm1(lower_bd)) & (rdata_rep1.obs['total_counts'] <= np.expm1(upper_bd)), 'total_counts'].shape\n",
    "median_counts = rdata_rep1.obs.loc[(rdata_rep1.obs['total_counts'] >= np.expm1(lower_bd)) & (rdata_rep1.obs['total_counts'] <= np.expm1(upper_bd)), 'total_counts'].median()\n",
    "\n",
    "print(f'With current threshold, there are {ncell_left[0]} cells left and median counts per cell is {median_counts}')"
   ]
  },
  {
   "cell_type": "code",
   "execution_count": null,
   "id": "233bf461-ae9c-4e2c-afbb-c17ec8e64c2a",
   "metadata": {},
   "outputs": [],
   "source": [
    "# Filter gene by max counts \n",
    "rdata_rep1.var['detected_sample'] = rdata_rep1.var['max_counts_sample'] > 2\n",
    "rdata_rep1.var['highly_variable_sample'] = rdata_rep1.var['max_counts_sample'] > 2\n",
    "print(rdata_rep1.var['detected_sample'].sum())"
   ]
  },
  {
   "cell_type": "code",
   "execution_count": null,
   "id": "4983aec3-b743-4814-9d51-b31881302007",
   "metadata": {},
   "outputs": [],
   "source": [
    "# Filtration (cell)\n",
    "sc.pp.filter_cells(rdata_rep1, min_genes=10)\n",
    "sc.pp.filter_cells(rdata_rep1, min_counts=np.expm1(lower_bd))\n",
    "sc.pp.filter_cells(rdata_rep1, max_counts=np.expm1(upper_bd))\n",
    "\n",
    "rdata_rep1.layers['raw'] = rdata_rep1.X.copy()\n",
    "rdata_rep1.X.shape"
   ]
  },
  {
   "cell_type": "code",
   "execution_count": null,
   "id": "6d386d0b-9248-4289-99a6-480af3655d26",
   "metadata": {},
   "outputs": [],
   "source": [
    "# save combined h5ad\n",
    "from datetime import datetime\n",
    "date = datetime.today().strftime('%Y-%m-%d')\n",
    "rdata_rep1.write_h5ad(f\"{out_path}/{date}-RIBOmap-rep1-3mad-filtered.h5ad\")"
   ]
  },
  {
   "cell_type": "markdown",
   "id": "453ddbfa-5df4-46f3-84d3-0054bb21387d",
   "metadata": {
    "tags": []
   },
   "source": [
    "### RIBOmap-rep2"
   ]
  },
  {
   "cell_type": "code",
   "execution_count": null,
   "id": "e48cec72-8993-4a8f-9664-befcb965411d",
   "metadata": {},
   "outputs": [],
   "source": [
    "# Plot top 20 most expressed genes (before qc)\n",
    "sc.pl.highest_expr_genes(rdata_rep2, n_top=20)"
   ]
  },
  {
   "cell_type": "code",
   "execution_count": null,
   "id": "eccd56a5-8d72-403c-b0c4-1dbedf180b58",
   "metadata": {},
   "outputs": [],
   "source": [
    "# calculate pp metric\n",
    "sc.pp.calculate_qc_metrics(rdata_rep2, inplace=True)\n",
    "\n",
    "# Calculate max count for each gene\n",
    "rdata_rep2.var['max_counts_sample'] = rdata_rep2.X.max(axis=0)"
   ]
  },
  {
   "cell_type": "code",
   "execution_count": null,
   "id": "83bcdfae-1037-4058-aa73-234360dcc6c5",
   "metadata": {},
   "outputs": [],
   "source": [
    "# Total counts describe statistics\n",
    "rdata_rep2.obs['total_counts'].describe()"
   ]
  },
  {
   "cell_type": "code",
   "execution_count": null,
   "id": "12fdaf82-e84e-491a-a511-b952656015eb",
   "metadata": {},
   "outputs": [],
   "source": [
    "# max counts describe statistics\n",
    "rdata_rep2.var['max_counts_sample'].describe()"
   ]
  },
  {
   "cell_type": "code",
   "execution_count": null,
   "id": "7af52100-f999-4f5e-af75-bbd13567a487",
   "metadata": {},
   "outputs": [],
   "source": [
    "# mad threshold\n",
    "from scipy import stats\n",
    "n = 3\n",
    "mad = stats.median_absolute_deviation(rdata_rep2.obs['log1p_total_counts'], scale=1)\n",
    "lower_bd = rdata_rep2.obs['log1p_total_counts'].median() - n*mad\n",
    "upper_bd = rdata_rep2.obs['log1p_total_counts'].median() + n*mad\n",
    "\n",
    "print(lower_bd)\n",
    "print(upper_bd)\n",
    "print(np.expm1(lower_bd))\n",
    "print(np.expm1(upper_bd))"
   ]
  },
  {
   "cell_type": "code",
   "execution_count": null,
   "id": "4c57aef8-b936-4e0b-8c8c-f0930c54bc1c",
   "metadata": {},
   "outputs": [],
   "source": [
    "# mad threshold\n",
    "fig, axs = plt.subplots(nrows=1, ncols=2, figsize=(12,5))\n",
    "sns.histplot(rdata_rep2.obs['total_counts'], ax=axs[0])\n",
    "axs[0].axvline(np.expm1(lower_bd), c='r')\n",
    "axs[0].axvline(np.expm1(upper_bd), c='r')\n",
    "\n",
    "sns.histplot(rdata_rep2.obs['log1p_total_counts'], ax=axs[1])\n",
    "axs[1].axvline(lower_bd, c='r')\n",
    "axs[1].axvline(upper_bd, c='r')\n",
    "\n",
    "# plt.savefig(os.path.join(fig_path, 'reads_filtering_threshold.pdf'))\n",
    "plt.show()"
   ]
  },
  {
   "cell_type": "code",
   "execution_count": null,
   "id": "2c0fc431-c176-48c1-a1fa-9e8d1bb46ede",
   "metadata": {},
   "outputs": [],
   "source": [
    "# Total counts describe statistics\n",
    "ncell_left = rdata_rep2.obs.loc[(rdata_rep2.obs['total_counts'] >= np.expm1(lower_bd)) & (rdata_rep2.obs['total_counts'] <= np.expm1(upper_bd)), 'total_counts'].shape\n",
    "median_counts = rdata_rep2.obs.loc[(rdata_rep2.obs['total_counts'] >= np.expm1(lower_bd)) & (rdata_rep2.obs['total_counts'] <= np.expm1(upper_bd)), 'total_counts'].median()\n",
    "\n",
    "print(f'With current threshold, there are {ncell_left[0]} cells left and median counts per cell is {median_counts}')"
   ]
  },
  {
   "cell_type": "code",
   "execution_count": null,
   "id": "955a5d7b-7d02-40d0-9db1-fa2aebac2d0e",
   "metadata": {},
   "outputs": [],
   "source": [
    "# Filter gene by max counts \n",
    "rdata_rep2.var['detected_sample'] = rdata_rep2.var['max_counts_sample'] > 2\n",
    "rdata_rep2.var['highly_variable_sample'] = rdata_rep2.var['max_counts_sample'] > 2\n",
    "print(rdata_rep2.var['detected_sample'].sum())"
   ]
  },
  {
   "cell_type": "code",
   "execution_count": null,
   "id": "0f4f3e0d-c5cf-4d9c-a2a5-87c84325880c",
   "metadata": {},
   "outputs": [],
   "source": [
    "# Filtration (cell)\n",
    "sc.pp.filter_cells(rdata_rep2, min_genes=10)\n",
    "sc.pp.filter_cells(rdata_rep2, min_counts=np.expm1(lower_bd))\n",
    "sc.pp.filter_cells(rdata_rep2, max_counts=np.expm1(upper_bd))\n",
    "\n",
    "rdata_rep2.layers['raw'] = rdata_rep2.X.copy()\n",
    "rdata_rep2.X.shape"
   ]
  },
  {
   "cell_type": "code",
   "execution_count": null,
   "id": "a67d3061-b53f-4b61-adda-1fe164ac5720",
   "metadata": {},
   "outputs": [],
   "source": [
    "# save combined h5ad\n",
    "from datetime import datetime\n",
    "date = datetime.today().strftime('%Y-%m-%d')\n",
    "rdata_rep2.write_h5ad(f\"{out_path}/{date}-RIBOmap-rep2-3mad-filtered.h5ad\")"
   ]
  },
  {
   "cell_type": "markdown",
   "id": "24d4aaeb-f6e3-435a-aa80-1b740d1d69de",
   "metadata": {
    "tags": []
   },
   "source": [
    "### STARmap-rep2"
   ]
  },
  {
   "cell_type": "code",
   "execution_count": null,
   "id": "1daa0ac0-d916-4c9f-b96b-c7273de0b698",
   "metadata": {},
   "outputs": [],
   "source": [
    "# Plot top 20 most expressed genes (before qc)\n",
    "sc.pl.highest_expr_genes(sdata_rep2, n_top=20)"
   ]
  },
  {
   "cell_type": "code",
   "execution_count": null,
   "id": "e237ff5d-8d9d-4515-868a-c298dbb94d6e",
   "metadata": {},
   "outputs": [],
   "source": [
    "# calculate pp metric\n",
    "sc.pp.calculate_qc_metrics(sdata_rep2, inplace=True)\n",
    "\n",
    "# Calculate max count for each gene\n",
    "sdata_rep2.var['max_counts_sample'] = sdata_rep2.X.max(axis=0)"
   ]
  },
  {
   "cell_type": "code",
   "execution_count": null,
   "id": "9c056ae0-9303-471d-ab6a-e93b398a77d1",
   "metadata": {},
   "outputs": [],
   "source": [
    "# Total counts describe statistics\n",
    "sdata_rep2.obs['total_counts'].describe()"
   ]
  },
  {
   "cell_type": "code",
   "execution_count": null,
   "id": "cebefd07-faa9-4a13-9812-34027747ee1a",
   "metadata": {},
   "outputs": [],
   "source": [
    "# max counts describe statistics\n",
    "sdata_rep2.var['max_counts_sample'].describe()"
   ]
  },
  {
   "cell_type": "code",
   "execution_count": null,
   "id": "0a2dfed5-06a0-4484-a230-a69cdaf432f7",
   "metadata": {},
   "outputs": [],
   "source": [
    "# mad threshold\n",
    "from scipy import stats\n",
    "n = 3\n",
    "mad = stats.median_absolute_deviation(sdata_rep2.obs['log1p_total_counts'], scale=1)\n",
    "lower_bd = sdata_rep2.obs['log1p_total_counts'].median() - n*mad\n",
    "upper_bd = sdata_rep2.obs['log1p_total_counts'].median() + n*mad\n",
    "\n",
    "print(lower_bd)\n",
    "print(upper_bd)\n",
    "print(np.expm1(lower_bd))\n",
    "print(np.expm1(upper_bd))"
   ]
  },
  {
   "cell_type": "code",
   "execution_count": null,
   "id": "856bd17b-486b-4467-8210-58ac68d3b63f",
   "metadata": {},
   "outputs": [],
   "source": [
    "# mad threshold\n",
    "fig, axs = plt.subplots(nrows=1, ncols=2, figsize=(12,5))\n",
    "sns.histplot(sdata_rep2.obs['total_counts'], ax=axs[0])\n",
    "axs[0].axvline(np.expm1(lower_bd), c='r')\n",
    "axs[0].axvline(np.expm1(upper_bd), c='r')\n",
    "\n",
    "sns.histplot(sdata_rep2.obs['log1p_total_counts'], ax=axs[1])\n",
    "axs[1].axvline(lower_bd, c='r')\n",
    "axs[1].axvline(upper_bd, c='r')\n",
    "\n",
    "# plt.savefig(os.path.join(fig_path, 'reads_filtering_threshold.pdf'))\n",
    "plt.show()"
   ]
  },
  {
   "cell_type": "code",
   "execution_count": null,
   "id": "004440eb-4bf5-4afb-b7f1-18be9cdce184",
   "metadata": {},
   "outputs": [],
   "source": [
    "# Total counts describe statistics\n",
    "ncell_left = sdata_rep2.obs.loc[(sdata_rep2.obs['total_counts'] >= np.expm1(lower_bd)) & (sdata_rep2.obs['total_counts'] <= np.expm1(upper_bd)), 'total_counts'].shape\n",
    "median_counts = sdata_rep2.obs.loc[(sdata_rep2.obs['total_counts'] >= np.expm1(lower_bd)) & (sdata_rep2.obs['total_counts'] <= np.expm1(upper_bd)), 'total_counts'].median()\n",
    "\n",
    "print(f'With current threshold, there are {ncell_left[0]} cells left and median counts per cell is {median_counts}')"
   ]
  },
  {
   "cell_type": "code",
   "execution_count": null,
   "id": "90e581e4-edcc-48be-8fed-0e89152484fb",
   "metadata": {},
   "outputs": [],
   "source": [
    "# Filter gene by max counts \n",
    "sdata_rep2.var['detected_sample'] = sdata_rep2.var['max_counts_sample'] > 2\n",
    "sdata_rep2.var['highly_variable_sample'] = sdata_rep2.var['max_counts_sample'] > 2\n",
    "print(sdata_rep2.var['detected_sample'].sum())"
   ]
  },
  {
   "cell_type": "code",
   "execution_count": null,
   "id": "9bea036a-4309-4c4e-82ab-e197d80e99c9",
   "metadata": {},
   "outputs": [],
   "source": [
    "# Filtration (cell)\n",
    "sc.pp.filter_cells(sdata_rep2, min_genes=10)\n",
    "sc.pp.filter_cells(sdata_rep2, min_counts=np.expm1(lower_bd))\n",
    "sc.pp.filter_cells(sdata_rep2, max_counts=np.expm1(upper_bd))\n",
    "\n",
    "sdata_rep2.layers['raw'] = sdata_rep2.X.copy()\n",
    "sdata_rep2.X.shape"
   ]
  },
  {
   "cell_type": "code",
   "execution_count": null,
   "id": "e2c23c63-947a-4d90-b0de-d6a718897e97",
   "metadata": {},
   "outputs": [],
   "source": [
    "# save combined h5ad\n",
    "from datetime import datetime\n",
    "date = datetime.today().strftime('%Y-%m-%d')\n",
    "sdata_rep2.write_h5ad(f\"{out_path}/{date}-STARmap-rep2-3mad-filtered.h5ad\")"
   ]
  },
  {
   "cell_type": "markdown",
   "id": "fa98577f-387c-4f9a-8a0f-c6c65b15358e",
   "metadata": {},
   "source": [
    "### correlation between RIBOmap and STARmap rep2"
   ]
  },
  {
   "cell_type": "code",
   "execution_count": null,
   "id": "91b056ca-18c2-4e57-a6c7-878c68d6fa6f",
   "metadata": {},
   "outputs": [],
   "source": [
    "# Correlation between two protocol\n",
    "rdata_vector = np.log2(np.array(rdata_rep2.X.sum(axis=0)))\n",
    "sdata_vector = np.log2(np.array(sdata_rep2.X.sum(axis=0)))\n",
    "\n",
    "from scipy import stats\n",
    "p_corr = stats.pearsonr(rdata_vector, sdata_vector)\n",
    "\n",
    "corre_df = pd.DataFrame({'RIBOmap': rdata_vector, 'STARmap': sdata_vector})\n",
    "g = sns.lmplot(x='RIBOmap', y='STARmap', data=corre_df, scatter_kws={'s': 1}, line_kws={'color': 'r'})\n",
    "g.set_axis_labels('RIBOmap - log2(total counts)', 'STARmap - log2(total counts)')\n",
    "plt.title(f\"Pearson's correlation coefficient: {round(p_corr[0], 3)}\")\n",
    "plt.savefig(os.path.join(fig_path, 'correlation_ribomap_starmap_rep2_3mad.pdf'))\n",
    "# plt.show()"
   ]
  },
  {
   "cell_type": "markdown",
   "id": "899eb231-fce1-4a9b-b124-f269b7222b6a",
   "metadata": {},
   "source": [
    "### correlation between two RIBOmap replicates"
   ]
  },
  {
   "cell_type": "code",
   "execution_count": null,
   "id": "383abb28-427c-4b5e-a5f7-414ebfa982c8",
   "metadata": {},
   "outputs": [],
   "source": [
    "# Correlation between two protocol\n",
    "rdata_vector = np.log2(np.array(rdata_rep1.X.sum(axis=0)))\n",
    "rdata_vector_2 = np.log2(np.array(rdata_rep2.X.sum(axis=0)))\n",
    "\n",
    "from scipy import stats\n",
    "p_corr = stats.pearsonr(rdata_vector, rdata_vector_2)\n",
    "\n",
    "corre_df = pd.DataFrame({'RIBOmap_rep2': rdata_vector, 'RIBOmap_rep1': rdata_vector_2})\n",
    "g = sns.lmplot(x='RIBOmap_rep2', y='RIBOmap_rep1', data=corre_df, scatter_kws={'s': 1}, line_kws={'color': 'r'})\n",
    "g.set_axis_labels('RIBOmap_rep2 - log2(total counts)', 'RIBOmap_rep1 - log2(total counts)')\n",
    "plt.title(f\"Pearson's correlation coefficient: {round(p_corr[0], 3)}\")\n",
    "plt.savefig(os.path.join(fig_path, 'correlation_ribomap_rep1_rep2_3mad.pdf'))\n",
    "# plt.show()"
   ]
  },
  {
   "cell_type": "markdown",
   "id": "778032de-dfb8-46e3-972d-a6bd5c988907",
   "metadata": {},
   "source": [
    "## Combine datasets (n=3)"
   ]
  },
  {
   "cell_type": "code",
   "execution_count": null,
   "id": "ab60f604-2ecb-4a45-ba0b-4bb5df1e1771",
   "metadata": {},
   "outputs": [],
   "source": [
    "# combine three datasets \n",
    "adata = ad.concat([sdata_rep2, rdata_rep2, rdata_rep1])\n",
    "adata.obs.index = [str(s) for s in range(adata.obs.shape[0])]\n",
    "adata"
   ]
  },
  {
   "cell_type": "code",
   "execution_count": null,
   "id": "9a21d339-a9ea-495c-97dd-5d5650a33a77",
   "metadata": {},
   "outputs": [],
   "source": [
    "# add var\n",
    "adata.var['max_counts_rep1_RIBOmap'] = rdata_rep1.var['max_counts_sample'].values\n",
    "adata.var['max_counts_rep2_RIBOmap'] = rdata_rep2.var['max_counts_sample'].values\n",
    "adata.var['max_counts_rep2_STARmap'] = sdata_rep1.var['max_counts_sample'].values"
   ]
  },
  {
   "cell_type": "code",
   "execution_count": null,
   "id": "2136e5c5-a07c-468c-be88-f328d839e660",
   "metadata": {},
   "outputs": [],
   "source": [
    "# add obs\n",
    "adata.obs['protocol-replicate'] = adata.obs['protocol'].astype(str) + '-' + adata.obs['replicate'].astype(str) \n",
    "adata.obs['protocol-replicate'] = adata.obs['protocol-replicate'].astype('category')"
   ]
  },
  {
   "cell_type": "code",
   "execution_count": null,
   "id": "488b7b6b-19cb-4729-9fbe-020d54afb662",
   "metadata": {},
   "outputs": [],
   "source": [
    "# save a backup file \n",
    "adata.write_h5ad(os.path.join(out_path, f'{date}-Brain-combined-3mad-filtered.h5ad'))"
   ]
  },
  {
   "cell_type": "code",
   "execution_count": null,
   "id": "c19f31b2-fb2a-416d-a431-f9bf7ff68d9a",
   "metadata": {},
   "outputs": [],
   "source": [
    "sns.boxplot(data=adata.var[[\"max_counts_rep1_RIBOmap\", \"max_counts_rep2_RIBOmap\", \"max_counts_rep2_STARmap\"]],)\n",
    "# ax = plt.gca()\n",
    "# ax.set_ylim([0, 10])\n",
    "plt.xticks(rotation=45)\n",
    "plt.show()"
   ]
  },
  {
   "cell_type": "code",
   "execution_count": null,
   "id": "16df806a-95ce-4ea6-b098-522cc3093f79",
   "metadata": {},
   "outputs": [],
   "source": [
    "adata.obs['protocol-replicate'].value_counts()"
   ]
  },
  {
   "cell_type": "markdown",
   "id": "9b62078c-ad18-4ff2-9e88-246ec604e404",
   "metadata": {},
   "source": [
    "## Combine datasets (n=2, two RIBOmap sections)"
   ]
  },
  {
   "cell_type": "code",
   "execution_count": null,
   "id": "490b36a5-6ee6-476e-a262-90ad2c2b1be9",
   "metadata": {},
   "outputs": [],
   "source": [
    "# combine three datasets \n",
    "adata = ad.concat([rdata_rep2, rdata_rep1])\n",
    "adata.obs.index = [str(s) for s in range(adata.obs.shape[0])]\n",
    "adata"
   ]
  },
  {
   "cell_type": "code",
   "execution_count": null,
   "id": "60469068-7930-40f6-89c1-ab89b7dcf758",
   "metadata": {},
   "outputs": [],
   "source": [
    "# add var\n",
    "adata.var['max_counts_rep1_RIBOmap'] = rdata_rep1.var['max_counts_sample'].values\n",
    "adata.var['max_counts_rep2_RIBOmap'] = rdata_rep2.var['max_counts_sample'].values"
   ]
  },
  {
   "cell_type": "code",
   "execution_count": null,
   "id": "bbdf83db-6e8b-4b76-b454-c30c61bbefe7",
   "metadata": {},
   "outputs": [],
   "source": [
    "# add obs\n",
    "adata.obs['protocol-replicate'] = adata.obs['protocol'].astype(str) + '-' + adata.obs['replicate'].astype(str) \n",
    "adata.obs['protocol-replicate'] = adata.obs['protocol-replicate'].astype('category')"
   ]
  },
  {
   "cell_type": "code",
   "execution_count": null,
   "id": "75e26e4e-a43c-4229-b2c1-71a160be01c8",
   "metadata": {},
   "outputs": [],
   "source": [
    "# save a backup file \n",
    "adata.write_h5ad(os.path.join(out_path, f'{date}-Brain-RIBOmap-combined-3mad-filtered.h5ad'))"
   ]
  },
  {
   "cell_type": "code",
   "execution_count": null,
   "id": "97fc83bb-6622-4c4d-baf1-7f596b06f357",
   "metadata": {},
   "outputs": [],
   "source": [
    "adata.obs['protocol-replicate'].value_counts()"
   ]
  }
 ],
 "metadata": {
  "kernelspec": {
   "display_name": "Python 3 (ipykernel)",
   "language": "python",
   "name": "python3"
  },
  "language_info": {
   "codemirror_mode": {
    "name": "ipython",
    "version": 3
   },
   "file_extension": ".py",
   "mimetype": "text/x-python",
   "name": "python",
   "nbconvert_exporter": "python",
   "pygments_lexer": "ipython3",
   "version": "3.8.12"
  }
 },
 "nbformat": 4,
 "nbformat_minor": 5
}
