{
 "cells": [
  {
   "cell_type": "markdown",
   "id": "9eaf3efc-40b5-473f-b368-f8e9207dd491",
   "metadata": {},
   "source": [
    "# 4. Label transfer of STARmap"
   ]
  },
  {
   "cell_type": "markdown",
   "id": "23bcf0f6-6a1f-4266-b1fd-65f59d92e8e1",
   "metadata": {},
   "source": [
    "2023-05-05"
   ]
  },
  {
   "cell_type": "code",
   "execution_count": null,
   "id": "de797fa6-6a61-461b-9f9e-28ba0ffc2879",
   "metadata": {},
   "outputs": [],
   "source": [
    "# Import Packages\n",
    "\n",
    "%load_ext autoreload\n",
    "%autoreload 2\n",
    "\n",
    "import os\n",
    "import warnings \n",
    "warnings.filterwarnings('ignore')\n",
    "import numpy as np\n",
    "import pandas as pd\n",
    "import scanpy as sc\n",
    "import seaborn as sns\n",
    "import anndata as ad\n",
    "import matplotlib.pyplot as plt\n",
    "from matplotlib.colors import ListedColormap\n",
    "from anndata import AnnData\n",
    "from natsort import natsorted\n",
    "from tqdm.notebook import tqdm\n",
    "from statannotations.Annotator import Annotator\n",
    "\n",
    "# Customized packages\n",
    "import starmap.sc_util as su\n",
    "# test()"
   ]
  },
  {
   "cell_type": "code",
   "execution_count": null,
   "id": "8fbcf56d-39e0-4052-aa06-0e0fb162621e",
   "metadata": {},
   "outputs": [],
   "source": [
    "import matplotlib\n",
    "matplotlib.rcParams['pdf.fonttype'] = 42"
   ]
  },
  {
   "cell_type": "markdown",
   "id": "fce4ea10-7c32-47b7-bc40-880aa278b7f8",
   "metadata": {
    "tags": []
   },
   "source": [
    "## Set path"
   ]
  },
  {
   "cell_type": "code",
   "execution_count": null,
   "id": "ebe674cf-aafb-4b4c-b7e0-620c64b266f3",
   "metadata": {},
   "outputs": [],
   "source": [
    "# Set path\n",
    "base_path = 'path/to/dataset/folder'\n",
    "\n",
    "input_path = os.path.join(base_path, 'input')\n",
    "\n",
    "out_path = os.path.join(base_path, 'output')\n",
    "if not os.path.exists(out_path):\n",
    "    os.mkdir(out_path)\n",
    "    \n",
    "fig_path = os.path.join(base_path, 'figures')\n",
    "if not os.path.exists(fig_path):\n",
    "    os.mkdir(fig_path)\n",
    "\n",
    "sc.settings.figdir = fig_path"
   ]
  },
  {
   "cell_type": "code",
   "execution_count": null,
   "id": "177180fd-b5d6-4a29-b5ae-29c58e805332",
   "metadata": {},
   "outputs": [],
   "source": [
    "# laod combined file\n",
    "rdata = sc.read_h5ad(os.path.join(out_path, 'Brain-RIBOmap-ct-bk.h5ad'))\n",
    "rdata"
   ]
  },
  {
   "cell_type": "code",
   "execution_count": null,
   "id": "749cab08-99c8-4596-a006-78c5e3ae52a4",
   "metadata": {},
   "outputs": [],
   "source": [
    "# laod Combined file\n",
    "cdata = sc.read_h5ad(os.path.join(out_path, 'Brain-combined-harmony.h5ad'))\n",
    "cdata"
   ]
  },
  {
   "cell_type": "code",
   "execution_count": null,
   "id": "0e4aed1d-dff1-44e5-99b7-bc42f55995c1",
   "metadata": {},
   "outputs": [],
   "source": [
    "# copy annotations of ribomap cells \n",
    "cdata.obs.loc[cdata.obs['protocol'] == 'RIBOmap', 'level_2'] = rdata.obs['level_2'].values\n",
    "cdata.obs.loc[cdata.obs['protocol'] == 'RIBOmap', 'level_3'] = rdata.obs['level_3'].values"
   ]
  },
  {
   "cell_type": "markdown",
   "id": "3ea43971-6c38-413c-8706-749f79913e8e",
   "metadata": {},
   "source": [
    "## label transfer (cosine distance with harmony pcs)"
   ]
  },
  {
   "cell_type": "code",
   "execution_count": null,
   "id": "1e8475cf-c3ff-484d-8ecb-962f209e5e66",
   "metadata": {},
   "outputs": [],
   "source": [
    "def label_transfer(adata, embedding='umap', field='level_2_code', metric='cosine', n_neighbors=100):\n",
    "    \n",
    "    # reclassify starmap cells \n",
    "    ref_cells = adata.obs.loc[adata.obs['protocol'] == 'RIBOmap', :].index\n",
    "    query_cells = adata.obs.loc[adata.obs['protocol'] == 'STARmap', :].index\n",
    "\n",
    "    # cdhp\n",
    "    ref_cell_loc = adata[ref_cells, :].obsm[f'X_{embedding}']\n",
    "    query_cell_loc = adata[query_cells, :].obsm[f'X_{embedding}']\n",
    "\n",
    "    # ref annotation\n",
    "    ref_cell_annot = adata.obs.loc[ref_cells, field].values\n",
    "    \n",
    "    from sklearn.neighbors import KNeighborsClassifier\n",
    "    neigh = KNeighborsClassifier(n_neighbors=n_neighbors, metric=metric)\n",
    "    neigh.fit(ref_cell_loc, ref_cell_annot)\n",
    "    query_cell_predicted = neigh.predict(query_cell_loc)\n",
    "    \n",
    "    return query_cell_predicted"
   ]
  },
  {
   "cell_type": "markdown",
   "id": "8bbff18b-a967-46ce-987f-4343dc11f88a",
   "metadata": {},
   "source": [
    "### level_2"
   ]
  },
  {
   "cell_type": "code",
   "execution_count": null,
   "id": "4369e4f4-f229-49c4-ae2e-e80f2091c1ad",
   "metadata": {},
   "outputs": [],
   "source": [
    "# parameters\n",
    "n_neighbors = 50"
   ]
  },
  {
   "cell_type": "code",
   "execution_count": null,
   "id": "07aeda5a-4ad9-4514-957d-05e1d5a9d8c0",
   "metadata": {},
   "outputs": [],
   "source": [
    "# create new label columns \n",
    "cdata.obs['level_2_code_cdhp'] = cdata.obs['level_2_code'].values"
   ]
  },
  {
   "cell_type": "code",
   "execution_count": null,
   "id": "b478a0e5-4dda-4d33-bffc-20a27e8e8184",
   "metadata": {},
   "outputs": [],
   "source": [
    "# conduct label transfer\n",
    "predicted_label_cdhp = label_transfer(cdata, embedding='pca_harmony', field='level_2_code', metric='cosine', n_neighbors=n_neighbors)"
   ]
  },
  {
   "cell_type": "code",
   "execution_count": null,
   "id": "26423031-d41e-4405-913e-c256e6f118c2",
   "metadata": {},
   "outputs": [],
   "source": [
    "# update to cdata\n",
    "query_cells = cdata.obs.loc[cdata.obs['protocol'] == 'STARmap', :].index\n",
    "\n",
    "cdata.obs.loc[query_cells, 'level_2_code_cdhp'] = predicted_label_cdhp"
   ]
  },
  {
   "cell_type": "code",
   "execution_count": null,
   "id": "7d4a8ff8-2409-4169-a809-e1c84343ce96",
   "metadata": {},
   "outputs": [],
   "source": [
    "# update category and color map\n",
    "cdata.obs['level_2_code_cdhp'] = cdata.obs['level_2_code_cdhp'].astype('category')\n",
    "cdata.obs['level_2_code_cdhp'] = cdata.obs['level_2_code_cdhp'].cat.reorder_categories(cdata.obs['level_2_code'].cat.categories)\n",
    "\n",
    "current_cpl = sns.color_palette(cdata.uns['level_2_color'])"
   ]
  },
  {
   "cell_type": "code",
   "execution_count": null,
   "id": "69c97124-7db2-46d9-8794-ba248045f82b",
   "metadata": {},
   "outputs": [],
   "source": [
    "fig, axs = plt.subplots(nrows=1, ncols=3, figsize=(21, 4))\n",
    "axs = axs.flatten()\n",
    "for i, sample in enumerate(cdata.obs['protocol-replicate'].cat.categories):\n",
    "    current_data = cdata[cdata.obs[\"protocol-replicate\"] == sample, :]\n",
    "    ax = sc.pl.umap(cdata, show=False, size=(120000 / cdata.n_obs), ax=axs[i])\n",
    "    sc.pl.umap(current_data, color='level_2_code_cdhp', frameon=False, ax=ax, size=(120000 / cdata.n_obs), title=f\"{sample}\", legend_loc=None,\n",
    "               palette=current_cpl, save=False, show=False)\n",
    "    \n",
    "plt.show()"
   ]
  },
  {
   "cell_type": "markdown",
   "id": "8fcd3b55-f51c-4117-b792-0c8dff317803",
   "metadata": {},
   "source": [
    "### level_3"
   ]
  },
  {
   "cell_type": "code",
   "execution_count": null,
   "id": "48327940-fe4a-4913-aa34-3461255a1a43",
   "metadata": {},
   "outputs": [],
   "source": [
    "# parameters\n",
    "n_neighbors = 50"
   ]
  },
  {
   "cell_type": "code",
   "execution_count": null,
   "id": "f76d46fd-6b15-4d23-9faa-03155eb06f71",
   "metadata": {},
   "outputs": [],
   "source": [
    "# create new label columns \n",
    "cdata.obs['level_3_cdhp'] = cdata.obs['level_3'].values"
   ]
  },
  {
   "cell_type": "code",
   "execution_count": null,
   "id": "2985a095-d8cd-4d0f-aaac-39e4b349069f",
   "metadata": {},
   "outputs": [],
   "source": [
    "# conduct label transfer\n",
    "predicted_label_cdhp = label_transfer(cdata, embedding='pca_harmony', field='level_3', metric='cosine', n_neighbors=n_neighbors)"
   ]
  },
  {
   "cell_type": "code",
   "execution_count": null,
   "id": "c97321a1-9d9a-4eda-aca7-55fa80d7ebe2",
   "metadata": {},
   "outputs": [],
   "source": [
    "# update to cdata\n",
    "cdata.obs.loc[query_cells, 'level_3_cdhp'] = predicted_label_cdhp"
   ]
  },
  {
   "cell_type": "code",
   "execution_count": null,
   "id": "aff4594b-3313-4d74-8ada-2d2a4602a213",
   "metadata": {},
   "outputs": [],
   "source": [
    "# update category and color map\n",
    "cdata.obs['level_3_cdhp'] = cdata.obs['level_3_cdhp'].astype('category')\n",
    "cdata.obs['level_3_cdhp'] = cdata.obs['level_3_cdhp'].cat.reorder_categories(cdata.obs['level_3'].cat.categories)\n",
    "\n",
    "current_cpl = sns.color_palette(cdata.uns['level_3_color'])"
   ]
  },
  {
   "cell_type": "code",
   "execution_count": null,
   "id": "162e7df5-4590-4fc9-b966-07fd294f8533",
   "metadata": {},
   "outputs": [],
   "source": [
    "fig, axs = plt.subplots(nrows=1, ncols=3, figsize=(21, 4))\n",
    "axs = axs.flatten()\n",
    "for i, sample in enumerate(cdata.obs['protocol-replicate'].cat.categories):\n",
    "    current_data = cdata[cdata.obs[\"protocol-replicate\"] == sample, :]\n",
    "    ax = sc.pl.umap(cdata, show=False, size=(120000 / cdata.n_obs), ax=axs[i])\n",
    "    sc.pl.umap(current_data, color='level_3_cdhp', frameon=False, ax=ax, size=(120000 / cdata.n_obs), title=f\"{sample}\", legend_loc=None,\n",
    "               palette=current_cpl, save=False, show=False)\n",
    "    \n",
    "plt.show()"
   ]
  },
  {
   "cell_type": "markdown",
   "id": "f4369ce8-d805-453c-bff3-c984b78bffa9",
   "metadata": {},
   "source": [
    "### label cells with inconsistent label between level 2 and level 3 as mix"
   ]
  },
  {
   "cell_type": "code",
   "execution_count": null,
   "id": "717a1c8b-33ab-414e-86d9-094b01fbd311",
   "metadata": {},
   "outputs": [],
   "source": [
    "# create reference dict \n",
    "h_dict = {}\n",
    "for current_type in cdata.obs.level_2_code.cat.categories:\n",
    "    # print(f\"===={current_type}====\")\n",
    "    current_subtypes = cdata.obs.loc[(cdata.obs['protocol'] == 'RIBOmap') & (cdata.obs['level_2_code'] == current_type), 'level_3'].unique().to_list()\n",
    "    h_dict[current_type] = current_subtypes\n",
    "    \n",
    "h_dict"
   ]
  },
  {
   "cell_type": "code",
   "execution_count": null,
   "id": "9d4e6b30-f8f7-4c59-bf01-de60e993f839",
   "metadata": {},
   "outputs": [],
   "source": [
    "# change annotation to mix if level2 and level3 cannot match \n",
    "for current_type in cdata.obs.level_2_code.cat.categories:\n",
    "    # print(f\"===={current_type}====\")\n",
    "    current_obs = cdata.obs.loc[(cdata.obs['protocol'] == 'STARmap') & (cdata.obs['level_2_code'] == current_type), :]\n",
    "    current_subtypes = h_dict[current_type]\n",
    "    current_mix = current_obs.loc[~current_obs.level_3.isin(current_subtypes), :]\n",
    "    print(current_mix.shape)\n",
    "    \n",
    "    # modify cell annotations \n",
    "    cdata.obs.loc[current_mix.index, 'level_1'] = 'Mix'\n",
    "    cdata.obs.loc[current_mix.index, 'level_2'] = 'Mix'\n",
    "    cdata.obs.loc[current_mix.index, 'level_3'] = 'Mix'\n",
    "    cdata.obs.loc[current_mix.index, 'level_2_code'] = 'Mix'\n",
    "    # print(current_mix)"
   ]
  },
  {
   "cell_type": "code",
   "execution_count": null,
   "id": "252172d3-afa0-455f-902a-c62cce96b20e",
   "metadata": {},
   "outputs": [],
   "source": [
    "# change annotation to mix if level2 and level3 cannot match \n",
    "for current_type in cdata.obs.level_2_code.cat.categories:\n",
    "    # print(f\"===={current_type}====\")\n",
    "    current_obs = cdata.obs.loc[(cdata.obs['protocol'] == 'STARmap') & (cdata.obs['level_2_code'] == current_type), :]\n",
    "    current_subtypes = h_dict[current_type]\n",
    "    current_mix = current_obs.loc[~current_obs.level_3.isin(current_subtypes), :]\n",
    "    print(current_mix.shape)"
   ]
  }
 ],
 "metadata": {
  "kernelspec": {
   "display_name": "Python 3 (ipykernel)",
   "language": "python",
   "name": "python3"
  },
  "language_info": {
   "codemirror_mode": {
    "name": "ipython",
    "version": 3
   },
   "file_extension": ".py",
   "mimetype": "text/x-python",
   "name": "python",
   "nbconvert_exporter": "python",
   "pygments_lexer": "ipython3",
   "version": "3.8.12"
  }
 },
 "nbformat": 4,
 "nbformat_minor": 5
}
