{
 "cells": [
  {
   "cell_type": "markdown",
   "id": "0ab5f006-98d0-4b08-bc05-7333bb50d95c",
   "metadata": {},
   "source": [
    "# Process and soma reads enrichment"
   ]
  },
  {
   "cell_type": "code",
   "execution_count": null,
   "id": "43785815-79d5-49dd-ade9-a3ec314ef55a",
   "metadata": {},
   "outputs": [],
   "source": [
    "# Import Packages\n",
    "\n",
    "%load_ext autoreload\n",
    "%autoreload 2\n",
    "\n",
    "import os\n",
    "import warnings \n",
    "warnings.filterwarnings('ignore')\n",
    "import numpy as np\n",
    "import pandas as pd\n",
    "import scanpy as sc\n",
    "import seaborn as sns\n",
    "import matplotlib.pyplot as plt\n",
    "from matplotlib.colors import ListedColormap\n",
    "\n",
    "# test()"
   ]
  },
  {
   "cell_type": "markdown",
   "id": "3bc860da-b94c-49a2-b978-228c30bafad4",
   "metadata": {
    "tags": []
   },
   "source": [
    "## IO"
   ]
  },
  {
   "cell_type": "code",
   "execution_count": null,
   "id": "2efaefa3-2885-4d6d-80ab-a136dad32f96",
   "metadata": {},
   "outputs": [],
   "source": [
    "# Set path\n",
    "base_path = 'path/to/dataset/folder'\n",
    "\n",
    "input_path = os.path.join(base_path, 'input')\n",
    "\n",
    "out_path = os.path.join(base_path, 'output')\n",
    "if not os.path.exists(out_path):\n",
    "    os.mkdir(out_path)\n",
    "    \n",
    "fig_path = os.path.join(base_path, 'figures')\n",
    "if not os.path.exists(fig_path):\n",
    "    os.mkdir(fig_path)\n",
    "\n",
    "sc.settings.figdir = fig_path"
   ]
  },
  {
   "cell_type": "markdown",
   "id": "1cbfd539-9b29-44db-ac3c-d9066aafb833",
   "metadata": {
    "tags": []
   },
   "source": [
    "## Reads distribution (RIBO combined)"
   ]
  },
  {
   "cell_type": "markdown",
   "id": "264e6968-0fff-4ee4-9dbb-fedb3f885d9d",
   "metadata": {},
   "source": [
    "### RIBO - rep1"
   ]
  },
  {
   "cell_type": "code",
   "execution_count": null,
   "id": "a8315cb0-6164-43fd-8531-7a7861f8686e",
   "metadata": {},
   "outputs": [],
   "source": [
    "# load reads \n",
    "ribo_rep1_assigned_reads_df = pd.read_csv(os.path.join(\"path/to/assigned_amplicons_RIBOmap_rep1.csv\"), index_col=0)\n",
    "ribo_rep1_unassigned_reads_df = pd.read_csv(os.path.join(\"path/to/unassigned_amplicons_RIBOmap_rep1.csv\"), index_col=0)"
   ]
  },
  {
   "cell_type": "code",
   "execution_count": null,
   "id": "feb5c30a-b800-4e76-bbbc-a3120d08ddcd",
   "metadata": {},
   "outputs": [],
   "source": [
    "# counts\n",
    "ribo_rep1_assigned_counts_df = pd.DataFrame(ribo_rep1_assigned_reads_df['gene_name'].value_counts())\n",
    "ribo_rep1_assigned_counts_df.columns = ['soma reads']\n",
    "\n",
    "ribo_rep1_unassigned_counts_df = pd.DataFrame(ribo_rep1_unassigned_reads_df['gene_name'].value_counts())\n",
    "ribo_rep1_unassigned_counts_df.columns = ['non-soma reads']\n",
    "\n",
    "ribo_rep1_reads_df = pd.concat([ribo_rep1_assigned_counts_df, ribo_rep1_unassigned_counts_df], axis=1)\n",
    "ribo_rep1_reads_df['all reads'] = ribo_rep1_reads_df.sum(axis=1)"
   ]
  },
  {
   "cell_type": "code",
   "execution_count": null,
   "id": "befbdc77-1806-4ed1-9ebe-3e985de6d449",
   "metadata": {
    "tags": []
   },
   "outputs": [],
   "source": [
    "ribo_rep1_reads_df"
   ]
  },
  {
   "cell_type": "markdown",
   "id": "fb450e0d-3368-48d8-8a0f-0440ab223374",
   "metadata": {},
   "source": [
    "### RIBO - rep2"
   ]
  },
  {
   "cell_type": "code",
   "execution_count": null,
   "id": "bfa3a0c1-63bd-4706-8bad-602989b9df5b",
   "metadata": {},
   "outputs": [],
   "source": [
    "# reads (ribo - rep2)\n",
    "ribo_rep2_assigned_reads_df = pd.read_csv(os.path.join(\"path/to/assigned_amplicons_RIBOmap_rep2.csv\"), index_col=0)\n",
    "ribo_rep2_unassigned_reads_df = pd.read_csv(os.path.join(\"path/to/unassigned_amplicons_RIBOmap_rep2.csv\"), index_col=0)"
   ]
  },
  {
   "cell_type": "code",
   "execution_count": null,
   "id": "e28b1321-6cc7-4d60-8176-f8e69d7b825e",
   "metadata": {},
   "outputs": [],
   "source": [
    "# counts\n",
    "ribo_rep2_assigned_counts_df = pd.DataFrame(ribo_rep2_assigned_reads_df['gene_name'].value_counts())\n",
    "ribo_rep2_assigned_counts_df.columns = ['soma reads']\n",
    "\n",
    "ribo_rep2_unassigned_counts_df = pd.DataFrame(ribo_rep2_unassigned_reads_df['gene_name'].value_counts())\n",
    "ribo_rep2_unassigned_counts_df.columns = ['non-soma reads']\n",
    "\n",
    "ribo_rep2_reads_df = pd.concat([ribo_rep2_assigned_counts_df, ribo_rep2_unassigned_counts_df], axis=1)\n",
    "ribo_rep2_reads_df['all reads'] = ribo_rep2_reads_df.sum(axis=1)"
   ]
  },
  {
   "cell_type": "code",
   "execution_count": null,
   "id": "a2029ba4-c397-4937-9d6f-538889840340",
   "metadata": {},
   "outputs": [],
   "source": [
    "ribo_rep2_reads_df"
   ]
  },
  {
   "cell_type": "markdown",
   "id": "d21b14c5-25ad-4fab-9c6b-ef8f564a5c64",
   "metadata": {},
   "source": [
    "### Combined"
   ]
  },
  {
   "cell_type": "code",
   "execution_count": null,
   "id": "970d08b6-1c04-4718-be31-4cbb2e284290",
   "metadata": {},
   "outputs": [],
   "source": [
    "ribo_rep1_reads_df = ribo_rep1_reads_df.sort_index()\n",
    "ribo_rep2_reads_df = ribo_rep2_reads_df.sort_index() \n",
    "ribo_combined_df = ribo_rep1_reads_df + ribo_rep2_reads_df\n",
    "ribo_combined_df"
   ]
  },
  {
   "cell_type": "code",
   "execution_count": null,
   "id": "711c9153-9ede-4cbf-ac5a-a465a2cad38e",
   "metadata": {},
   "outputs": [],
   "source": [
    "ribo_combined_df['soma reads percentage'] = ribo_combined_df['soma reads'] / ribo_combined_df['all reads']\n",
    "ribo_combined_df['non-soma reads percentage'] = ribo_combined_df['non-soma reads'] / ribo_combined_df['all reads']"
   ]
  },
  {
   "cell_type": "code",
   "execution_count": null,
   "id": "4e469b60-a27f-4dca-afba-6b64f67f3138",
   "metadata": {},
   "outputs": [],
   "source": [
    "# plot distribution\n",
    "sns.set_style('white')\n",
    "fig, axs = plt.subplots(figsize=(10, 4), ncols=2)\n",
    "sns.histplot(ribo_combined_df['soma reads percentage'], ax=axs[0])\n",
    "axs[0].axvline(x=ribo_combined_df['soma reads percentage'].median(), color='r', linestyle='-')\n",
    "axs[0].set_title('soma reads percentage')\n",
    "\n",
    "sns.histplot(ribo_combined_df['non-soma reads percentage'], ax=axs[1])\n",
    "axs[1].axvline(x=ribo_combined_df['non-soma reads percentage'].median(), color='r', linestyle='-')\n",
    "axs[1].set_title('non-soma reads percentage')\n",
    "# plt.savefig(os.path.join(fig_path, 'reads-distribution.pdf'))\n",
    "plt.show()"
   ]
  },
  {
   "cell_type": "code",
   "execution_count": null,
   "id": "aedda438-fd53-4b0c-a7ef-c869ada1d1c4",
   "metadata": {},
   "outputs": [],
   "source": [
    "# determine threshold\n",
    "ns_thres = ribo_combined_df['non-soma reads percentage'].quantile(0.90) # compare w/ list_1\n",
    "s_thres = ribo_combined_df['soma reads percentage'].quantile(0.90) # compare w/ list_4\n",
    "\n",
    "ribo_combined_df['top soma gene'] = ribo_combined_df['soma reads percentage'] > s_thres\n",
    "ribo_combined_df['top non-soma gene'] = ribo_combined_df['non-soma reads percentage'] > ns_thres"
   ]
  },
  {
   "cell_type": "code",
   "execution_count": null,
   "id": "c129bce8-22a8-4c4f-957f-6c8cd67b13bd",
   "metadata": {},
   "outputs": [],
   "source": [
    "# set class\n",
    "ribo_combined_df['class'] = 0\n",
    "ribo_combined_df.loc[ribo_combined_df['top soma gene'] == True, 'class'] = 1\n",
    "ribo_combined_df.loc[ribo_combined_df['top non-soma gene'] == True, 'class'] = 2\n",
    "ribo_combined_df['class'] = ribo_combined_df['class'].astype('category')\n",
    "\n",
    "ribo_combined_df = ribo_combined_df.sort_values('soma reads percentage')\n",
    "ribo_combined_df['gene'] = ribo_combined_df.index.values\n",
    "ribo_combined_df = ribo_combined_df.reset_index(drop=True)\n",
    "ribo_combined_df['order'] = ribo_combined_df.index.values\n",
    "ribo_combined_df = ribo_combined_df.sort_values('gene')\n",
    "ribo_combined_df = ribo_combined_df.reset_index(drop=True)\n",
    "ribo_combined_df"
   ]
  },
  {
   "cell_type": "code",
   "execution_count": null,
   "id": "addbe8c8-19d6-4b28-971f-b8f51638f159",
   "metadata": {},
   "outputs": [],
   "source": [
    "cpl_colors = ['#bfbfbf', '#1d43cf', '#cf1d1d']\n",
    "cpl = sns.color_palette(cpl_colors)\n",
    "cmap = ListedColormap(cpl.as_hex())\n",
    "\n",
    "sns.set_style(\"ticks\")\n",
    "fig, ax = plt.subplots(figsize=(6,5))\n",
    "\n",
    "sns.scatterplot(y='non-soma reads percentage', x='order', hue='class', data=ribo_combined_df, s=12, edgecolor=None, palette=cpl, legend=False)    \n",
    "   \n",
    "# plt.savefig(os.path.join(fig_path, 'neuropil_reads.pdf'))\n",
    "\n",
    "plt.show()"
   ]
  },
  {
   "cell_type": "code",
   "execution_count": null,
   "id": "c2de0d71-37fc-4b68-8435-141939f14bac",
   "metadata": {},
   "outputs": [],
   "source": [
    "sns.set_style(\"ticks\")\n",
    "fig, ax = plt.subplots(figsize=(6,5))\n",
    "\n",
    "sns.scatterplot(y='non-soma reads percentage', x='order', hue='class', data=ribo_combined_df, s=18, edgecolor=None, palette=cpl, legend=False)\n",
    "\n",
    "annotate_genes = ['Shank1', 'Eef2', 'Kif5a', 'Calm1', 'Gfap', 'Mbp', 'App', 'Atp1a1', 'Mal']\n",
    "for gene in annotate_genes:\n",
    "    x = ribo_combined_df.loc[ribo_combined_df['gene'] == gene, 'order'].values[0]\n",
    "    y = ribo_combined_df.loc[ribo_combined_df['gene'] == gene, 'non-soma reads percentage'].values[0]\n",
    "    print(gene, x, y)\n",
    "    \n",
    "sns.scatterplot(y='non-soma reads percentage', x='order', hue='class', data=ribo_combined_df.loc[ribo_combined_df['gene'].isin(annotate_genes), :], s=12, edgecolor='k', linewidth=1, palette=cpl, legend=False)\n",
    "    \n",
    "ax.annotate('Shank1', (1, 0.3747586069121662), xytext=(1000, 0.37), size=7,\n",
    "            bbox=dict(boxstyle=\"round\", alpha=0.1), \n",
    "            arrowprops = dict(arrowstyle='-', connectionstyle=\"arc3\", facecolor='black', edgecolor='black', lw=1)\n",
    "           )\n",
    "\n",
    "ax.annotate('Mbp', (11, 0.33414947607388434), xytext=(1000, 0.34), size=7,\n",
    "            bbox=dict(boxstyle=\"round\", alpha=0.1), \n",
    "            arrowprops = dict(arrowstyle='-', connectionstyle=\"arc3\", facecolor='black', edgecolor='black', lw=1)\n",
    "           )\n",
    "\n",
    "ax.annotate('Eef2', (46, 0.30670992572800865), xytext=(1000, 0.32), size=7,\n",
    "            bbox=dict(boxstyle=\"round\", alpha=0.1), \n",
    "            arrowprops = dict(arrowstyle='-', connectionstyle=\"arc3\", facecolor='black', edgecolor='black', lw=1)\n",
    "           )\n",
    "\n",
    "ax.annotate('Kif5a', (52, 0.304207745967859), xytext=(1000, 0.30), size=7,\n",
    "            bbox=dict(boxstyle=\"round\", alpha=0.1), \n",
    "            arrowprops = dict(arrowstyle='-', connectionstyle=\"arc3\", facecolor='black', edgecolor='black', lw=1)\n",
    "           )\n",
    "\n",
    "ax.annotate('Calm1', (113, 0.285176315137501), xytext=(1000, 0.28), size=7,\n",
    "            bbox=dict(boxstyle=\"round\", alpha=0.1), \n",
    "            arrowprops = dict(arrowstyle='-', connectionstyle=\"arc3\", facecolor='black', edgecolor='black', lw=1)\n",
    "           )\n",
    "\n",
    "ax.annotate('Gfap', (119, 0.2847781448084992), xytext=(1000, 0.26), size=7,\n",
    "            bbox=dict(boxstyle=\"round\", alpha=0.1), \n",
    "            arrowprops = dict(arrowstyle='-', connectionstyle=\"arc3\", facecolor='black', edgecolor='black', lw=1)\n",
    "           )\n",
    "\n",
    "\n",
    "ax.annotate('App', (4928, 0.13463226687475616), xytext=(4000, 0.11), size=7,\n",
    "            bbox=dict(boxstyle=\"round\", alpha=0.1), \n",
    "            arrowprops = dict(arrowstyle='-', connectionstyle=\"arc3\", facecolor='black', edgecolor='black', lw=1)\n",
    "           )\n",
    "\n",
    "ax.annotate('Atp1a1', (5279, 0.11071260662233864), xytext=(4000, 0.09), size=7,\n",
    "            bbox=dict(boxstyle=\"round\", alpha=0.1), \n",
    "            arrowprops = dict(arrowstyle='-', connectionstyle=\"arc3\", facecolor='black', edgecolor='black', lw=1)\n",
    "           )\n",
    "\n",
    "ax.annotate('Mal', (5399, 0.0752002397881871), xytext=(4000, 0.07), size=7,\n",
    "            bbox=dict(boxstyle=\"round\", alpha=0.1), \n",
    "            arrowprops = dict(arrowstyle='-', connectionstyle=\"arc3\", facecolor='black', edgecolor='black', lw=1)\n",
    "           )\n",
    "\n",
    "# plt.savefig(os.path.join(fig_path, 'neuropil_reads.pdf'))\n",
    "\n",
    "plt.show()"
   ]
  },
  {
   "cell_type": "code",
   "execution_count": null,
   "id": "079c2a62-7f30-4275-b9ab-ae200553be81",
   "metadata": {},
   "outputs": [],
   "source": []
  }
 ],
 "metadata": {
  "kernelspec": {
   "display_name": "Python 3 (ipykernel)",
   "language": "python",
   "name": "python3"
  },
  "language_info": {
   "codemirror_mode": {
    "name": "ipython",
    "version": 3
   },
   "file_extension": ".py",
   "mimetype": "text/x-python",
   "name": "python",
   "nbconvert_exporter": "python",
   "pygments_lexer": "ipython3",
   "version": "3.8.12"
  }
 },
 "nbformat": 4,
 "nbformat_minor": 5
}
