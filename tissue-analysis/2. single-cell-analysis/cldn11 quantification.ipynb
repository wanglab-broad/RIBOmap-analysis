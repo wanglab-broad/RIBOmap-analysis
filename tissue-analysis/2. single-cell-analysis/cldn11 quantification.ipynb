{
 "cells": [
  {
   "cell_type": "markdown",
   "id": "51511e8e-c276-4af8-b8f4-d2285991b7f8",
   "metadata": {},
   "source": [
    "# Cldn11 quantification"
   ]
  },
  {
   "cell_type": "code",
   "execution_count": null,
   "id": "c9309755-8451-4099-b4f7-a311e9fa8717",
   "metadata": {},
   "outputs": [],
   "source": [
    "# Import packages \n",
    "import sys\n",
    "import numpy as np\n",
    "import pandas as pd\n",
    "import seaborn as sns\n",
    "from natsort import natsorted\n",
    "from scipy.io import loadmat, savemat\n",
    "from skimage.filters import threshold_otsu\n",
    "from skimage.color import label2rgb\n",
    "from tqdm.notebook import tqdm\n",
    "from skimage.feature import peak_local_max\n",
    "from skimage.morphology import binary_dilation, disk\n",
    "from skimage.util import regular_seeds, img_as_ubyte\n",
    "from skimage.segmentation import watershed\n",
    "from skimage.measure import regionprops_table\n",
    "\n",
    "import anndata as ad\n",
    "import scanpy as sc\n",
    "# Customized packages \n",
    "from starmap.sequencing import *"
   ]
  },
  {
   "cell_type": "code",
   "execution_count": null,
   "id": "0b28b128-1cc4-4fb5-828a-2c3484d93b97",
   "metadata": {},
   "outputs": [],
   "source": [
    "import matplotlib\n",
    "matplotlib.rcParams['pdf.fonttype'] = 42"
   ]
  },
  {
   "cell_type": "markdown",
   "id": "38eba7cc-ee52-4db5-b2a8-69b6dcca30e3",
   "metadata": {
    "toc-hr-collapsed": true
   },
   "source": [
    "## Path"
   ]
  },
  {
   "cell_type": "code",
   "execution_count": null,
   "id": "e2d55835-39c6-4a12-8acb-0ec067b31447",
   "metadata": {},
   "outputs": [],
   "source": [
    "current_sample = 'ribomap'"
   ]
  },
  {
   "cell_type": "code",
   "execution_count": null,
   "id": "04c43c46-5898-44fd-9412-5e339b2ede38",
   "metadata": {
    "tags": []
   },
   "outputs": [],
   "source": [
    "# IO path \n",
    "base_path = 'Z:/Data/Processed/2022-11-28-Hu-Cldn11/output/'\n",
    "    \n",
    "seg_path = os.path.join(base_path, current_sample, 'segmentation')\n",
    "if not os.path.exists(seg_path):\n",
    "    os.mkdir(seg_path)\n",
    "    \n",
    "out_path = 'Z:/Data/Analyzed/2022-09-05-Hu-Tissue/output'\n",
    "# star_path = os.path.join(base_path, \"rep2/protein/\")\n",
    "# if not os.path.exists(seg_path):\n",
    "#     os.mkdir(seg_path)\n",
    "    \n",
    "# grid_path = os.path.join(seg_path, 'grid')\n",
    "# if not os.path.exists(grid_path):\n",
    "#     os.mkdir(grid_path)"
   ]
  },
  {
   "cell_type": "markdown",
   "id": "233f698e-f16f-4547-80f1-8d3ce19e947b",
   "metadata": {},
   "source": [
    "## Input"
   ]
  },
  {
   "cell_type": "code",
   "execution_count": null,
   "id": "bf1983d3-c11c-47e7-afb8-89890f446ce0",
   "metadata": {},
   "outputs": [],
   "source": [
    "# load sample image \n",
    "temp = load_nissl_image(os.path.join(base_path, current_sample, 'stitched_images'), fname=f\"DAPI.tif\")\n",
    "temp.shape"
   ]
  },
  {
   "cell_type": "markdown",
   "id": "662bf872-3071-46af-9d32-60a4e65f0d18",
   "metadata": {},
   "source": [
    "## Grid segmentation"
   ]
  },
  {
   "cell_type": "markdown",
   "id": "b730acb7-b476-42d2-9bf7-fdf9e03c0c12",
   "metadata": {},
   "source": [
    "0.284 micron per pixel"
   ]
  },
  {
   "cell_type": "code",
   "execution_count": null,
   "id": "0e349449-f4e5-4cdb-9180-afce1faaf487",
   "metadata": {},
   "outputs": [],
   "source": [
    "grid_interval = 30 # micron\n",
    "\n",
    "read_dim = (temp.shape[0] * 0.284, temp.shape[1] * 0.284)\n",
    "read_area = read_dim[0] * read_dim[1]\n",
    "grid_area = grid_interval**2\n",
    "n_seeds = int(read_area / grid_area)\n",
    "n_seeds"
   ]
  },
  {
   "cell_type": "code",
   "execution_count": null,
   "id": "e6be9eec-e437-4fbf-9f08-cc082f13dbbb",
   "metadata": {},
   "outputs": [],
   "source": [
    "scaled_dim = (round(temp.shape[0] * 0.25), round(temp.shape[1] * 0.25))\n",
    "img = np.ones(scaled_dim, dtype=int)\n",
    "img = img_as_ubyte(img * 255)\n",
    "seeds = regular_seeds(scaled_dim, n_seeds)\n",
    "w1 = watershed(img, seeds, compactness=0.01)"
   ]
  },
  {
   "cell_type": "code",
   "execution_count": null,
   "id": "44669c37-9196-43fa-997f-2d34dc227167",
   "metadata": {},
   "outputs": [],
   "source": [
    "plt.imshow(w1, cmap='Greys')"
   ]
  },
  {
   "cell_type": "code",
   "execution_count": null,
   "id": "dcf47688-f73c-4fc1-8bf3-9c39884ef632",
   "metadata": {},
   "outputs": [],
   "source": [
    "tifffile.imsave(os.path.join(seg_path, f\"{current_sample}_grid_{grid_interval}.tif\"), w1.astype(np.uint16))"
   ]
  },
  {
   "cell_type": "markdown",
   "id": "63f29daf-6b63-4e10-8333-883b9de3550a",
   "metadata": {},
   "source": [
    "## Grid quantification"
   ]
  },
  {
   "cell_type": "code",
   "execution_count": null,
   "id": "fd7da387-7a99-4080-9917-a2aaebff26e9",
   "metadata": {},
   "outputs": [],
   "source": [
    "grid_interval = 30\n",
    "grid_seg = load_label_image(seg_path, fname=f\"{current_sample}_grid_{grid_interval}_org.tif\")"
   ]
  },
  {
   "cell_type": "code",
   "execution_count": null,
   "id": "83790028-1921-4b0e-a4f9-ccf92b3497bd",
   "metadata": {},
   "outputs": [],
   "source": [
    "# load overlay image \n",
    "raw_path = os.path.join(base_path, current_sample, 'stitched_images')\n",
    "\n",
    "amplicon = load_nissl_image(raw_path, fname=f\"amplicon.tif\")\n",
    "protein = load_nissl_image(raw_path, fname=f\"protein.tif\")\n",
    "protein_mask = load_nissl_image(raw_path, fname=f\"protein_mask.tif\")\n",
    "protein_mask = protein_mask > 0"
   ]
  },
  {
   "cell_type": "markdown",
   "id": "edde5c4d-ba9b-4f43-b354-dee8857c1693",
   "metadata": {},
   "source": [
    "RIBO: 0.4, STAR: 0.7"
   ]
  },
  {
   "cell_type": "code",
   "execution_count": null,
   "id": "7e55bbbd-df85-4a99-abfe-1cd3275087c8",
   "metadata": {},
   "outputs": [],
   "source": [
    "# identify points \n",
    "coordinates = peak_local_max(amplicon, min_distance=3, threshold_rel=0.4)\n",
    "coordinates.shape"
   ]
  },
  {
   "cell_type": "code",
   "execution_count": null,
   "id": "0e92baa4-b4db-4f80-88ac-f8e0160ad6d4",
   "metadata": {},
   "outputs": [],
   "source": [
    "# save dot images\n",
    "dots_img = np.zeros(amplicon.shape)\n",
    "dots_img[coordinates[:, 0], coordinates[:, 1]] = 1\n",
    "dots_img_out = binary_dilation(dots_img, disk(2))\n",
    "dots_img_out = img_as_ubyte(dots_img_out)\n",
    "\n",
    "tifffile.imsave(os.path.join(seg_path, f\"{current_sample}_dots.tif\"), dots_img_out)"
   ]
  },
  {
   "cell_type": "code",
   "execution_count": null,
   "id": "831bfd1a-645d-4eec-85dc-9fd401296919",
   "metadata": {},
   "outputs": [],
   "source": [
    "%%time\n",
    "        \n",
    "protein_intensity = []\n",
    "protein_pixel = []\n",
    "rna = []\n",
    "rna_intensity = []\n",
    "\n",
    "# Iterate through cells\n",
    "print('Iterate cells...')\n",
    "for i, region in enumerate(tqdm(regionprops(grid_seg))):\n",
    "      # print(region.label)\n",
    "    \n",
    "    # protein intensity\n",
    "    curr_intensity = np.sum(protein[region.coords[:, 0], region.coords[:, 1]])\n",
    "    protein_intensity.append(round(curr_intensity, 2))\n",
    "    \n",
    "    # protein pixel\n",
    "    curr_pixel = np.sum(protein_mask[region.coords[:, 0], region.coords[:, 1]])\n",
    "    protein_pixel.append(round(curr_pixel, 2))\n",
    "        \n",
    "    # rna intensity\n",
    "    curr_intensity = np.sum(amplicon[region.coords[:, 0], region.coords[:, 1]])\n",
    "    rna_intensity.append(round(curr_intensity, 2))\n",
    "    \n",
    "    # rna\n",
    "    curr_pixel = np.sum(dots_img[region.coords[:, 0], region.coords[:, 1]])\n",
    "    rna.append(round(curr_pixel, 2))"
   ]
  },
  {
   "cell_type": "code",
   "execution_count": null,
   "id": "345abd71-b6fc-4936-8ffd-50eff8de2aa4",
   "metadata": {},
   "outputs": [],
   "source": [
    "quantification_df = pd.DataFrame({\"RNA\": rna, \"rna_intensity\": rna_intensity, \"protein_pixel\": protein_pixel, \"protein_intensity\": protein_intensity, })\n",
    "quantification_df"
   ]
  },
  {
   "cell_type": "markdown",
   "id": "9b18320a-d6bc-4c7c-9f48-9f386ad079c3",
   "metadata": {},
   "source": [
    "## Analysis"
   ]
  },
  {
   "cell_type": "markdown",
   "id": "6208117a-9b98-4f29-abf0-cdbe69261c33",
   "metadata": {},
   "source": [
    "### grid"
   ]
  },
  {
   "cell_type": "code",
   "execution_count": null,
   "id": "5b5dce46-e826-4446-b817-d7964f7478e5",
   "metadata": {},
   "outputs": [],
   "source": [
    "ribo_grid = pd.read_csv(os.path.join(out_path, '2023-01-10-ribomap-Cldn11-grid-quantification.csv'), index_col=0)\n",
    "ribo_grid['RNA_norm'] = ribo_grid['RNA'] / ribo_grid['RNA'].max()\n",
    "ribo_grid['rna_intensity_norm'] = ribo_grid['rna_intensity'] / ribo_grid['rna_intensity'].max()\n",
    "ribo_grid['protein_intensity_norm'] = ribo_grid['protein_intensity'] / ribo_grid['protein_intensity'].max()\n",
    "ribo_grid['protein_pixel_norm'] = ribo_grid['protein_pixel'] / ribo_grid['protein_pixel'].max()\n",
    "ribo_grid"
   ]
  },
  {
   "cell_type": "code",
   "execution_count": null,
   "id": "eb516ad1-d048-42be-95cf-b02b11e659f8",
   "metadata": {},
   "outputs": [],
   "source": [
    "star_grid = pd.read_csv(os.path.join(out_path, '2023-01-10-starmap-Cldn11-grid-quantification.csv'), index_col=0)\n",
    "star_grid['RNA_norm'] = star_grid['RNA'] / star_grid['RNA'].max()\n",
    "star_grid['rna_intensity_norm'] = star_grid['rna_intensity'] / star_grid['rna_intensity'].max()\n",
    "star_grid['protein_intensity_norm'] = star_grid['protein_intensity'] / star_grid['protein_intensity'].max()\n",
    "star_grid['protein_pixel_norm'] = star_grid['protein_pixel'] / star_grid['protein_pixel'].max()\n",
    "star_grid"
   ]
  },
  {
   "cell_type": "code",
   "execution_count": null,
   "id": "fbaa0119-d470-4138-8ede-9f47dfd6f105",
   "metadata": {},
   "outputs": [],
   "source": [
    "grid_interval = 30\n",
    "ribo_grid_seg = load_label_image(os.path.join(base_path, 'ribomap', 'segmentation'), fname=f\"ribomap_grid_{grid_interval}_org.tif\")\n",
    "star_grid_seg = load_label_image(os.path.join(base_path, 'starmap', 'segmentation'), fname=f\"starmap_grid_{grid_interval}_org.tif\")"
   ]
  },
  {
   "cell_type": "code",
   "execution_count": null,
   "id": "2102a9b2-0c59-4736-b919-526fa2d1947f",
   "metadata": {},
   "outputs": [],
   "source": [
    "print(np.unique(ribo_grid_seg[:, 0]).shape, np.unique(ribo_grid_seg[0, :]).shape)"
   ]
  },
  {
   "cell_type": "code",
   "execution_count": null,
   "id": "98c50f5e-692f-4bb8-a720-b4ca63228323",
   "metadata": {},
   "outputs": [],
   "source": [
    "fig, axs = plt.subplots(figsize=(33, 13), ncols=3)\n",
    "ribo_grid_img = np.reshape(ribo_grid['rna_intensity_norm'].values, (243, 178)) # rna_intensity_norm\n",
    "sns.heatmap(ribo_grid_img, cmap='jet', ax=axs[0])\n",
    "ribo_grid_img = np.reshape(ribo_grid['protein_pixel_norm'].values, (243, 178))\n",
    "sns.heatmap(ribo_grid_img, cmap='jet', ax=axs[1])\n",
    "ribo_grid_img = np.reshape(ribo_grid['protein_intensity_norm'].values, (243, 178))\n",
    "sns.heatmap(ribo_grid_img, cmap='jet', ax=axs[2])\n",
    "axs[0].set_title('RNA')\n",
    "axs[1].set_title('protein_pixel')\n",
    "axs[2].set_title('protein_intensity')\n",
    "\n",
    "axs[0].axis('off')\n",
    "axs[1].axis('off')\n",
    "axs[2].axis('off')\n",
    "fig.suptitle('RIBOmap')\n",
    "plt.show()"
   ]
  },
  {
   "cell_type": "code",
   "execution_count": null,
   "id": "916dfabf-07f4-4a32-b27c-a6e49fe20c78",
   "metadata": {},
   "outputs": [],
   "source": [
    "fig, axs = plt.subplots(figsize=(11, 13))\n",
    "ribo_grid_img = np.reshape(ribo_grid['protein_intensity_norm'].values, (243, 178))\n",
    "sns.heatmap(ribo_grid_img, cmap='viridis', vmin=0, vmax=0.85)\n",
    "\n",
    "axs.axis('off')\n",
    "plt.savefig(os.path.join(fig_path, 'heatmap_ribomap_cldn11_grid.pdf'))\n",
    "plt.show()"
   ]
  },
  {
   "cell_type": "code",
   "execution_count": null,
   "id": "39a7fd6c-18de-411a-903c-1891b310f4b9",
   "metadata": {},
   "outputs": [],
   "source": [
    "fig, axs = plt.subplots(figsize=(33, 13), ncols=3)\n",
    "star_grid_img = np.reshape(star_grid['rna_intensity_norm'].values, (246, 190)) # rna_intensity_norm\n",
    "sns.heatmap(star_grid_img, cmap='jet', ax=axs[0])\n",
    "star_grid_img = np.reshape(star_grid['protein_pixel_norm'].values, (246, 190))\n",
    "sns.heatmap(star_grid_img, cmap='jet', ax=axs[1])\n",
    "star_grid_img = np.reshape(star_grid['protein_intensity_norm'].values, (246, 190))\n",
    "sns.heatmap(star_grid_img, cmap='jet', ax=axs[2])\n",
    "axs[0].set_title('RNA')\n",
    "axs[1].set_title('protein_pixel')\n",
    "axs[2].set_title('protein_intensity')\n",
    "\n",
    "axs[0].axis('off')\n",
    "axs[1].axis('off')\n",
    "axs[2].axis('off')\n",
    "fig.suptitle('STARmap')\n",
    "plt.show()"
   ]
  },
  {
   "cell_type": "code",
   "execution_count": null,
   "id": "020aaea0-4139-4f14-a73e-bf5f60f27812",
   "metadata": {},
   "outputs": [],
   "source": [
    "fig_path = 'Z:/Data/Analyzed/2022-09-05-Hu-Tissue/figures'"
   ]
  },
  {
   "cell_type": "code",
   "execution_count": null,
   "id": "aeb1c4b2-8e7d-444f-b54b-463f0041b703",
   "metadata": {},
   "outputs": [],
   "source": [
    "# def reject_outliers(sr, iq_range=0.8):\n",
    "#     pcnt = (1 - iq_range) / 2\n",
    "#     qlow, median, qhigh = sr.dropna().quantile([pcnt, 0.50, 1-pcnt])\n",
    "#     iqr = qhigh - qlow\n",
    "#     return sr[ (sr - median).abs() <= iqr]"
   ]
  },
  {
   "cell_type": "code",
   "execution_count": null,
   "id": "196eb9d9-2c6d-46cb-b819-1b9a3ff79a66",
   "metadata": {
    "tags": []
   },
   "outputs": [],
   "source": [
    "rna_slot = 'rna_intensity_norm' # RNA\n",
    "protein_slot = 'protein_intensity_norm' # protein_pixel\n",
    "\n",
    "ribo_grid_filtered = ribo_grid.copy()\n",
    "star_grid_filtered = star_grid.copy()\n",
    "\n",
    "ribo_protein_quantile = ribo_grid_filtered['protein_intensity_norm'].quantile(0.999)\n",
    "ribo_rna_quantile = ribo_grid_filtered['rna_intensity_norm'].quantile(0.999)\n",
    "ribo_grid_filtered = ribo_grid_filtered.loc[(ribo_grid_filtered['protein_intensity_norm'] < ribo_protein_quantile) & (ribo_grid_filtered['rna_intensity_norm'] < ribo_rna_quantile), :]\n",
    "\n",
    "star_protein_quantile = star_grid_filtered['protein_intensity_norm'].quantile(0.999)\n",
    "star_rna_quantile = star_grid_filtered['rna_intensity_norm'].quantile(0.999)\n",
    "star_grid_filtered = star_grid_filtered.loc[(star_grid_filtered['protein_intensity_norm'] < star_protein_quantile) & (star_grid_filtered['rna_intensity_norm'] < star_rna_quantile), :]\n",
    "\n",
    "ribo_grid_filtered['rna_intensity_norm'] = ribo_grid_filtered['rna_intensity'] / ribo_grid_filtered['rna_intensity'].max()\n",
    "star_grid_filtered['rna_intensity_norm'] = star_grid_filtered['rna_intensity'] / star_grid_filtered['rna_intensity'].max()\n",
    "\n",
    "\n",
    "ribo_grid_filtered['protein_intensity_norm'] = ribo_grid_filtered['protein_intensity'] / ribo_grid_filtered['protein_intensity'].max()\n",
    "star_grid_filtered['protein_intensity_norm'] = star_grid_filtered['protein_intensity'] / star_grid_filtered['protein_intensity'].max()\n",
    "\n",
    "# ribo_grid_filtered = ribo_grid.loc[(ribo_grid[rna_slot] != 0) & (ribo_grid[protein_slot] != 0)].copy()\n",
    "# star_grid_filtered = star_grid.loc[(star_grid[rna_slot] != 0) & (star_grid[protein_slot] != 0)].copy()\n",
    "\n",
    "ribo_protein_vector = ribo_grid_filtered[protein_slot].values\n",
    "star_protein_vector = star_grid_filtered[protein_slot].values\n",
    "ribo_expr_vector = ribo_grid_filtered[rna_slot].values\n",
    "star_expr_vector = star_grid_filtered[rna_slot].values\n",
    "\n",
    "# ribo_protein_vector = reject_outliers(ribo_grid_filtered[protein_slot]).values\n",
    "# star_protein_vector = reject_outliers(star_grid_filtered[protein_slot]).values\n",
    "# ribo_expr_vector = reject_outliers(ribo_grid_filtered[rna_slot]).values\n",
    "# star_expr_vector = reject_outliers(star_grid_filtered[rna_slot]).values\n",
    "\n",
    "# ribo_protein_vector = np.log1p(ribo_protein_vector)\n",
    "# star_protein_vector = np.log1p(star_protein_vector)\n",
    "# ribo_expr_vector = np.log1p(ribo_expr_vector)\n",
    "# star_expr_vector = np.log1p(star_expr_vector)\n",
    "\n",
    "from scipy import stats\n",
    "ribo_p_corr = stats.pearsonr(ribo_protein_vector, ribo_expr_vector)\n",
    "ribo_corre_df = pd.DataFrame({'Cldn11_protein': ribo_protein_vector, 'RIBOmap': ribo_expr_vector})\n",
    "\n",
    "star_p_corr = stats.pearsonr(star_protein_vector, star_expr_vector)\n",
    "star_corre_df = pd.DataFrame({'Cldn11_protein': star_protein_vector, 'STARmap': star_expr_vector})\n",
    "\n",
    "fig, axs = plt.subplots(figsize=(10, 5), ncols=2)\n",
    "g1 = sns.regplot(x='Cldn11_protein', y='RIBOmap', data=ribo_corre_df, scatter_kws={'s': 1}, line_kws={'color': 'r'}, ax=axs[0])\n",
    "# axs[0].set_axis_labels('Gfap_protein', 'RIBOmap')\n",
    "# g1.set(ylim=(None, 0.85))\n",
    "# g1.set(xlim=(0, 0.8))\n",
    "axs[0].set_title(f\"Pearson's correlation coefficient: {round(ribo_p_corr[0], 3)}\")\n",
    "\n",
    "g2 = sns.regplot(x='Cldn11_protein', y='STARmap', data=star_corre_df, scatter_kws={'s': 1}, line_kws={'color': 'r'}, ax=axs[1])\n",
    "# g2.set(ylim=(None, 0.85))\n",
    "# g2.set_axis_labels('Gfap_protein', 'STARmap')\n",
    "axs[1].set_title(f\"Pearson's correlation coefficient: {round(star_p_corr[0], 3)}\")\n",
    "\n",
    "plt.savefig(os.path.join(fig_path, '2023-01-11-correlation_rna_protein_cldn11_grid.pdf'))\n",
    "plt.show()"
   ]
  },
  {
   "cell_type": "markdown",
   "id": "cc15cccb-4a73-4a15-97da-0f84483806ea",
   "metadata": {},
   "source": [
    "### manual"
   ]
  },
  {
   "cell_type": "code",
   "execution_count": null,
   "id": "c1f12b4f-9616-4fa9-b179-7ae94b31a495",
   "metadata": {},
   "outputs": [],
   "source": [
    "# load segmentation image \n",
    "seg = load_nissl_image(seg_path, fname=f\"ccf_zf_labels_org.tif\")\n",
    "seg.shape"
   ]
  },
  {
   "cell_type": "code",
   "execution_count": null,
   "id": "5af1e1f0-b5ef-49e4-bc15-4c574010fc04",
   "metadata": {},
   "outputs": [],
   "source": [
    "%%time\n",
    "\n",
    "labels = []\n",
    "protein_intensity = []\n",
    "areas = []\n",
    "# protein_pixel = []\n",
    "rna = []\n",
    "\n",
    "# Iterate through cells\n",
    "print('Iterate cells...')\n",
    "for i, region in enumerate(tqdm(regionprops(seg))):\n",
    "      # print(region.label)\n",
    "    labels.append(region.label)\n",
    "    areas.append(region.area)\n",
    "    \n",
    "    # protein intensity\n",
    "    curr_intensity = np.sum(protein[region.coords[:, 0], region.coords[:, 1]])\n",
    "    protein_intensity.append(round(curr_intensity, 2))\n",
    "    \n",
    "#     # protein pixel\n",
    "#     curr_pixel = np.sum(protein_mask[region.coords[:, 0], region.coords[:, 1]])\n",
    "#     protein_pixel.append(round(curr_pixel, 2))\n",
    "        \n",
    "    # rna\n",
    "    curr_pixel = np.sum(amplicon[region.coords[:, 0], region.coords[:, 1]])\n",
    "    rna.append(round(curr_pixel, 2))\n",
    "\n",
    "sns.histplot(areas)"
   ]
  },
  {
   "cell_type": "code",
   "execution_count": null,
   "id": "8396f101-eec2-4fa0-9b11-aeaabd504c44",
   "metadata": {},
   "outputs": [],
   "source": [
    "quantification_df = pd.DataFrame({\"region_label\": labels, \"area\": areas,  \"protein_intensity\": protein_intensity, 'rna_intensity': rna})\n",
    "quantification_df['protein_intensity_norm'] = quantification_df['protein_intensity'] / quantification_df['area']\n",
    "quantification_df['protein_intensity_norm'] = quantification_df['protein_intensity_norm'] / quantification_df['protein_intensity_norm'].max()\n",
    "quantification_df['rna_intensity_norm'] = quantification_df['rna_intensity'] / quantification_df['area']\n",
    "quantification_df"
   ]
  },
  {
   "cell_type": "code",
   "execution_count": null,
   "id": "c16b1385-dd0d-4814-95b9-8c9567dc75df",
   "metadata": {},
   "outputs": [],
   "source": [
    "# map region\n",
    "label_dict = {1: 'Isocortex', 2: 'HIP', 3: 'TH', 4: 'HY', \n",
    "             5: 'Fiber tracts', 6: 'CNU', 7: 'CTXsp', 8: 'OLF'}"
   ]
  },
  {
   "cell_type": "code",
   "execution_count": null,
   "id": "b81f3094-cc4d-4e4e-a965-549f7ef914ae",
   "metadata": {},
   "outputs": [],
   "source": [
    "quantification_df['region_name'] = quantification_df['region_label']\n",
    "quantification_df['region_name'] = quantification_df['region_name'].map(label_dict)\n",
    "quantification_df"
   ]
  },
  {
   "cell_type": "code",
   "execution_count": null,
   "id": "65432bee-7edc-4c13-bd36-528d9c31604a",
   "metadata": {},
   "outputs": [],
   "source": [
    "from sklearn.preprocessing import StandardScaler\n",
    "std_scaler = StandardScaler()\n",
    "df_scaled = std_scaler.fit_transform(quantification_df.protein_intensity_norm.to_numpy().reshape([8, 1]))\n",
    "# df_scaled = pd.DataFrame(df_scaled, columns=df_te.index, index=df_te.columns)\n",
    "quantification_df['protein_intensity_scaled'] = df_scaled\n",
    "quantification_df"
   ]
  },
  {
   "cell_type": "code",
   "execution_count": null,
   "id": "37754997-0b7e-470e-89d7-eafd7b274768",
   "metadata": {},
   "outputs": [],
   "source": [
    "plt.imshow(protein)"
   ]
  },
  {
   "cell_type": "code",
   "execution_count": null,
   "id": "67fb1ca9-3b20-4d86-ab57-4067d4589390",
   "metadata": {},
   "outputs": [],
   "source": [
    "seg_scaled = seg.copy()\n",
    "seg_scaled = seg_scaled.astype('float')\n",
    "\n",
    "for i, current_label in enumerate(quantification_df['region_label']):\n",
    "    print(current_label)\n",
    "    seg_scaled[np.where(seg == current_label)] = quantification_df.loc[i, 'protein_intensity_norm']"
   ]
  },
  {
   "cell_type": "code",
   "execution_count": null,
   "id": "982bbe97-d0c6-40e8-8b17-ee3cb26b3f49",
   "metadata": {},
   "outputs": [],
   "source": [
    "vmin = quantification_df['protein_intensity_norm'].min()"
   ]
  },
  {
   "cell_type": "code",
   "execution_count": null,
   "id": "8b639153-2c85-4f28-af58-e5352342499b",
   "metadata": {},
   "outputs": [],
   "source": [
    "fig, ax = plt.subplots(figsize=(28, 21))\n",
    "plt.imshow(seg_scaled, cmap='viridis', vmin=vmin)\n",
    "plt.axis('off')\n",
    "plt.colorbar()\n",
    "plt.savefig(os.path.join(fig_path, 'heatmap_Cldn11_quantification_vmin.pdf'))"
   ]
  },
  {
   "cell_type": "code",
   "execution_count": null,
   "id": "4c38fa35-aa14-43eb-b290-27c9a34d667d",
   "metadata": {},
   "outputs": [],
   "source": [
    "from datetime import datetime\n",
    "out_path = 'Z:/Data/Analyzed/2022-09-05-Hu-Tissue/output'\n",
    "date = datetime.today().strftime('%Y-%m-%d')\n",
    "quantification_df.to_csv(os.path.join(out_path, f\"{date}-Cldn11-protein-quantification.csv\"))"
   ]
  },
  {
   "cell_type": "code",
   "execution_count": null,
   "id": "860c4463-aa74-45ae-983f-458aec2fb7c1",
   "metadata": {},
   "outputs": [],
   "source": []
  }
 ],
 "metadata": {
  "kernelspec": {
   "display_name": "Python 3 (ipykernel)",
   "language": "python",
   "name": "python3"
  },
  "language_info": {
   "codemirror_mode": {
    "name": "ipython",
    "version": 3
   },
   "file_extension": ".py",
   "mimetype": "text/x-python",
   "name": "python",
   "nbconvert_exporter": "python",
   "pygments_lexer": "ipython3",
   "version": "3.8.12"
  }
 },
 "nbformat": 4,
 "nbformat_minor": 5
}
