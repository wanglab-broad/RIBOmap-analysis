{
 "cells": [
  {
   "cell_type": "markdown",
   "id": "bae781ac-510c-4660-b2c4-17704b544a29",
   "metadata": {},
   "source": [
    "# 2. Preprocessing and Integration"
   ]
  },
  {
   "cell_type": "markdown",
   "id": "e8ffbd92-6b1c-463f-bb17-49ac5b4c9edf",
   "metadata": {},
   "source": [
    "2023-05-05"
   ]
  },
  {
   "cell_type": "code",
   "execution_count": null,
   "id": "72340f76-3ddd-4d41-9b2e-d4c358f6012a",
   "metadata": {},
   "outputs": [],
   "source": [
    "# Import Packages\n",
    "\n",
    "%load_ext autoreload\n",
    "%autoreload 2\n",
    "\n",
    "import os\n",
    "import warnings \n",
    "warnings.filterwarnings('ignore')\n",
    "import numpy as np\n",
    "import pandas as pd\n",
    "import scanpy as sc\n",
    "import seaborn as sns\n",
    "import anndata as ad\n",
    "import matplotlib.pyplot as plt\n",
    "from matplotlib.colors import ListedColormap\n",
    "from anndata import AnnData\n",
    "from natsort import natsorted\n",
    "\n",
    "# Customized packages\n",
    "import starmap.sc_util as su\n",
    "# test()"
   ]
  },
  {
   "cell_type": "markdown",
   "id": "43c8d7be-839b-4adf-ad54-dce7c7645608",
   "metadata": {
    "tags": []
   },
   "source": [
    "## Set path"
   ]
  },
  {
   "cell_type": "code",
   "execution_count": null,
   "id": "a1467c18-6f25-4eda-bfbd-eb39caf380b5",
   "metadata": {},
   "outputs": [],
   "source": [
    "# Set path\n",
    "base_path = 'path/to/dataset/folder'\n",
    "\n",
    "input_path = os.path.join(base_path, 'input')\n",
    "\n",
    "out_path = os.path.join(base_path, 'output')\n",
    "if not os.path.exists(out_path):\n",
    "    os.mkdir(out_path)\n",
    "    \n",
    "fig_path = os.path.join(base_path, 'figures')\n",
    "if not os.path.exists(fig_path):\n",
    "    os.mkdir(fig_path)\n",
    "\n",
    "sc.settings.figdir = fig_path"
   ]
  },
  {
   "cell_type": "code",
   "execution_count": null,
   "id": "1c7596b8-74ad-4e7c-8e7b-fd87f6bf2df8",
   "metadata": {
    "tags": []
   },
   "outputs": [],
   "source": [
    "# laod combined file\n",
    "# adata = sc.read_h5ad(os.path.join(out_path, 'Brain-RIBOmap-combined-3mad-filtered.h5ad'))\n",
    "adata = sc.read_h5ad(os.path.join(out_path, 'Brain-combined-3mad-filtered.h5ad'))\n",
    "adata"
   ]
  },
  {
   "cell_type": "markdown",
   "id": "35e3c23e-b09f-4e90-b074-ded631302f36",
   "metadata": {
    "tags": []
   },
   "source": [
    "## Filtering genes"
   ]
  },
  {
   "cell_type": "code",
   "execution_count": null,
   "id": "26baacae-8ec4-4d2e-acc2-dddd26ef4d69",
   "metadata": {},
   "outputs": [],
   "source": [
    "thres = 2\n",
    "# passed = (adata.var['max_counts_rep1_RIBOmap'] > thres) & (adata.var['max_counts_rep2_RIBOmap'] > thres) # two ribomap combined\n",
    "passed = (adata.var['max_counts_rep1_RIBOmap'] > thres) & (adata.var['max_counts_rep2_RIBOmap'] > thres) & (adata.var['max_counts_rep2_STARmap'] > thres) # all three sections\n",
    "\n",
    "print(adata.var.loc[passed, :].shape[0])\n",
    "\n",
    "adata.var['detected'] = passed\n",
    "adata.var['highly_variable'] = passed"
   ]
  },
  {
   "cell_type": "markdown",
   "id": "487dedcd-ada6-4b9d-9273-ca988f06dd60",
   "metadata": {},
   "source": [
    "## Normalization & scaling"
   ]
  },
  {
   "cell_type": "code",
   "execution_count": null,
   "id": "5cd0f85f-18eb-4c0c-9a9c-041ba6e2993c",
   "metadata": {},
   "outputs": [],
   "source": [
    "# Per-cell Stats Plot\n",
    "su.plot_stats_per_cell(adata, color='protocol-replicate')"
   ]
  },
  {
   "cell_type": "code",
   "execution_count": null,
   "id": "b37185e5-b668-449c-8362-0c542752e62c",
   "metadata": {},
   "outputs": [],
   "source": [
    "# Get quantiles of reads\n",
    "su.show_reads_quantile(adata)"
   ]
  },
  {
   "cell_type": "code",
   "execution_count": null,
   "id": "f94e91ba-6c1b-4c4a-a5a2-ad97a78ed888",
   "metadata": {},
   "outputs": [],
   "source": [
    "# Normalization scaling\n",
    "sc.pp.normalize_total(adata)\n",
    "sc.pp.log1p(adata)\n",
    "\n",
    "adata.raw = adata"
   ]
  },
  {
   "cell_type": "code",
   "execution_count": null,
   "id": "87404976-c21c-4a2b-9576-853201061329",
   "metadata": {},
   "outputs": [],
   "source": [
    "# Scale data to unit variance and zero mean\n",
    "sc.pp.scale(adata)\n",
    "adata.layers['scaled'] = adata.X.copy()"
   ]
  },
  {
   "cell_type": "code",
   "execution_count": null,
   "id": "2da33f8b-408c-4f6f-95d9-dfd0060e7ef9",
   "metadata": {},
   "outputs": [],
   "source": [
    "# Regress out unwanted variance \n",
    "sc.pp.regress_out(adata, ['total_counts'])\n",
    "adata.layers['corrected'] = adata.X.copy()"
   ]
  },
  {
   "cell_type": "code",
   "execution_count": null,
   "id": "dbfac9e8-624e-4e4a-826f-3aa313f2659d",
   "metadata": {},
   "outputs": [],
   "source": [
    "# Combat (only for the dataset with all three sections)\n",
    "sc.pp.combat(adata, 'protocol-replicate')\n",
    "adata.layers['combat'] = adata.X.copy()"
   ]
  },
  {
   "cell_type": "markdown",
   "id": "7f38fc14-5d60-441a-97ff-cb5afc5826ad",
   "metadata": {},
   "source": [
    "## Dimensionality reduction"
   ]
  },
  {
   "cell_type": "code",
   "execution_count": null,
   "id": "90b5cfd3-ce42-4512-b868-46e95b324018",
   "metadata": {},
   "outputs": [],
   "source": [
    "# Run PCA\n",
    "sc.tl.pca(adata, svd_solver='full', use_highly_variable=True)\n",
    "\n",
    "# Plot explained variance \n",
    "sc.pl.pca_variance_ratio(adata, log=False)"
   ]
  },
  {
   "cell_type": "code",
   "execution_count": null,
   "id": "14089bf4-8d25-403f-843e-8a92e32d1308",
   "metadata": {},
   "outputs": [],
   "source": [
    "# Plot PCA\n",
    "sc.pl.pca(adata, color='total_counts')\n",
    "sc.pl.pca(adata, color='n_genes')\n",
    "sc.pl.pca(adata, color='protocol-replicate')"
   ]
  },
  {
   "cell_type": "code",
   "execution_count": null,
   "id": "f1c40c54-4637-475f-9f31-9e9318b9d594",
   "metadata": {},
   "outputs": [],
   "source": [
    "g = sns.jointplot(x=adata.obsm['X_pca'][:, 0], y=adata.obsm['X_pca'][:, 1], hue=adata.obs['protocol-replicate'],\n",
    "                 s=1)\n",
    "g.set_axis_labels('PC1', 'PC2')\n",
    "plt.show()"
   ]
  },
  {
   "cell_type": "markdown",
   "id": "52424aa0-bd21-4b87-ad8c-08c86309c0a6",
   "metadata": {},
   "source": [
    "## Integration with Harmony"
   ]
  },
  {
   "cell_type": "code",
   "execution_count": null,
   "id": "bffb4eb4-78b0-4bf5-b338-6349461034ba",
   "metadata": {},
   "outputs": [],
   "source": [
    "%%time\n",
    "\n",
    "import scanpy.external as sce\n",
    "\n",
    "sce.pp.harmony_integrate(adata, 'protocol-replicate')"
   ]
  },
  {
   "cell_type": "code",
   "execution_count": null,
   "id": "f29dbc9d-1e06-434e-8b1e-0057c8136be2",
   "metadata": {},
   "outputs": [],
   "source": [
    "g = sns.jointplot(x=adata.obsm['X_pca_harmony'][:, 0], y=adata.obsm['X_pca_harmony'][:, 1], hue=adata.obs['protocol-replicate'],\n",
    "                 s=1)\n",
    "g.set_axis_labels('PC1', 'PC2')\n",
    "plt.show()"
   ]
  },
  {
   "cell_type": "code",
   "execution_count": null,
   "id": "5d0e3b8b-4aff-49b5-98a9-b666e398d762",
   "metadata": {},
   "outputs": [],
   "source": [
    "%%time\n",
    "# Computing the neighborhood graph\n",
    "n_neighbors = 50\n",
    "n_pcs = 50\n",
    "    \n",
    "sc.pp.neighbors(adata, n_neighbors=n_neighbors, n_pcs=n_pcs, use_rep='X_pca_harmony')\n",
    "\n",
    "# Run UMAP\n",
    "sc.tl.umap(adata, min_dist=.0001, spread=5)"
   ]
  },
  {
   "cell_type": "code",
   "execution_count": null,
   "id": "fd4c0950-f137-4d91-b769-d29b7f1274e8",
   "metadata": {},
   "outputs": [],
   "source": [
    "sc.pl.umap(adata, color='total_counts')\n",
    "sc.pl.umap(adata, color='n_genes')\n",
    "sc.pl.umap(adata, color='protocol-replicate')\n",
    "sc.pl.umap(adata, color='protocol')"
   ]
  },
  {
   "cell_type": "code",
   "execution_count": null,
   "id": "a85bad86-2320-4282-bbd8-495d92952b58",
   "metadata": {},
   "outputs": [],
   "source": [
    "g = sns.jointplot(x=adata.obsm['X_umap'][:, 0], y=adata.obsm['X_umap'][:, 1], hue=adata.obs['protocol-replicate'],\n",
    "                 s=1, alpha=.5)\n",
    "g.set_axis_labels('UMAP1', 'UMAP2')\n",
    "plt.show()"
   ]
  },
  {
   "cell_type": "code",
   "execution_count": null,
   "id": "ef1e43b5-9465-4038-9884-fc8de311de36",
   "metadata": {},
   "outputs": [],
   "source": [
    "# save integrated h5ad\n",
    "from datetime import datetime\n",
    "date = datetime.today().strftime('%Y-%m-%d')\n",
    "# adata.write_h5ad(f\"{out_path}/{date}-Brain-RIBOmap-harmony.h5ad\")\n",
    "adata.write_h5ad(f\"{out_path}/{date}-Brain-combined-harmony.h5ad\")"
   ]
  }
 ],
 "metadata": {
  "kernelspec": {
   "display_name": "Python 3 (ipykernel)",
   "language": "python",
   "name": "python3"
  },
  "language_info": {
   "codemirror_mode": {
    "name": "ipython",
    "version": 3
   },
   "file_extension": ".py",
   "mimetype": "text/x-python",
   "name": "python",
   "nbconvert_exporter": "python",
   "pygments_lexer": "ipython3",
   "version": "3.8.12"
  }
 },
 "nbformat": 4,
 "nbformat_minor": 5
}
