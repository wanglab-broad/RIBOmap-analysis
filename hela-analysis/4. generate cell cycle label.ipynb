{
 "cells": [
  {
   "cell_type": "markdown",
   "metadata": {},
   "source": [
    "# 4. Generate cell cycle label\n",
    "\n",
    "This notebook is for cell cycle related analysis, which includes     \n",
    "1. cell cycle identification via both gene expression and fluorescence    \n",
    "2. comparison between STARmap and RIBOmap "
   ]
  },
  {
   "cell_type": "code",
   "execution_count": null,
   "metadata": {},
   "outputs": [],
   "source": [
    "# Load libraries\n",
    "\n",
    "import os\n",
    "import scanpy as sc\n",
    "import numpy as np\n",
    "import pandas as pd\n",
    "import seaborn as sns\n",
    "import matplotlib.pyplot as plt\n",
    "import plotly.express as px\n",
    "from spatial_funcs import *\n",
    "from scipy.stats import *\n",
    "from skimage.measure import regionprops"
   ]
  },
  {
   "cell_type": "markdown",
   "metadata": {},
   "source": [
    "# Input"
   ]
  },
  {
   "cell_type": "code",
   "execution_count": null,
   "metadata": {},
   "outputs": [],
   "source": [
    "fpath = 'path_to_preprocessed_dataset'\n",
    "rpath = 'output_path'\n",
    "adata = sc.read_h5ad(rpath+'/adata/FUCCI_cell_&_gene_filter_02-15-22.h5ad')\n",
    "genes = adata.var.index\n",
    "sample_list = ['RIBOmap', 'STARmap']"
   ]
  },
  {
   "cell_type": "markdown",
   "metadata": {},
   "source": [
    "# Cell cycle identification"
   ]
  },
  {
   "cell_type": "markdown",
   "metadata": {},
   "source": [
    "## marker gene expression "
   ]
  },
  {
   "cell_type": "code",
   "execution_count": null,
   "metadata": {},
   "outputs": [],
   "source": [
    "# Load markers \n",
    "base_path = 'Z:/Connie/RIBOmap'\n",
    "s_genes = pd.read_excel(os.path.join(base_path, 'gene_modules/cell_cycle_markers.xlsx'), sheet_name='G1_S', header=None)[0].to_list()\n",
    "g2m_genes = pd.read_excel(os.path.join(base_path, 'gene_modules/cell_cycle_markers.xlsx'), sheet_name='G2_M', header=None)[0].to_list()\n",
    "cell_cycle_genes = s_genes + g2m_genes"
   ]
  },
  {
   "cell_type": "code",
   "execution_count": null,
   "metadata": {},
   "outputs": [],
   "source": [
    "# Get cell cycle genes \n",
    "missed_genes = [x for x in cell_cycle_genes if x not in adata.var_names]\n",
    "cell_cycle_genes = [x for x in cell_cycle_genes if x in adata.var_names]\n",
    "s_genes_true = [x for x in s_genes if x in adata.var_names]\n",
    "g2m_genes_true = [x for x in g2m_genes if x in adata.var_names]\n",
    "\n",
    "print('cell cycle genes: ', len(cell_cycle_genes), '\\nmissed genes: ', len(missed_genes))\n",
    "print(f\"G1/S genes: {len(s_genes)} - G2/M genes: {len(g2m_genes)}\")\n",
    "print(f\"G1/S genes in our dataest: {len(s_genes_true)} - G2/M genes in our dataest: {len(g2m_genes_true)}\")"
   ]
  },
  {
   "cell_type": "code",
   "execution_count": null,
   "metadata": {},
   "outputs": [],
   "source": [
    "adata_ribo = separate_adata_by_sample(adata, 'RIBOmap')\n",
    "adata_star = separate_adata_by_sample(adata, 'STARmap')"
   ]
  },
  {
   "cell_type": "markdown",
   "metadata": {},
   "source": [
    "### RIBOmap"
   ]
  },
  {
   "cell_type": "code",
   "execution_count": null,
   "metadata": {},
   "outputs": [],
   "source": [
    "sc.pp.normalize_total(adata_ribo)\n",
    "sc.pp.log1p(adata_ribo)\n",
    "sc.pp.scale(adata_ribo)"
   ]
  },
  {
   "cell_type": "code",
   "execution_count": null,
   "metadata": {},
   "outputs": [],
   "source": [
    "# Compute gene set score\n",
    "sc.tl.score_genes_cell_cycle(adata_ribo, s_genes=s_genes_true, g2m_genes=g2m_genes_true)\n",
    "adata_ribo_cc_genes = adata_ribo[:, cell_cycle_genes]\n",
    "sc.tl.pca(adata_ribo_cc_genes)\n",
    "sc.pl.pca_scatter(adata_ribo_cc_genes, color='phase', title='RIBOmap -- pca by cc_genes')"
   ]
  },
  {
   "cell_type": "code",
   "execution_count": null,
   "metadata": {},
   "outputs": [],
   "source": [
    "sc.tl.pca(adata_ribo)\n",
    "sc.pl.pca(adata_ribo, color=['Fluo', 'mKO2', 'phase'], vmax=[0.9*1e6, 0.5*1e7])"
   ]
  },
  {
   "cell_type": "code",
   "execution_count": null,
   "metadata": {},
   "outputs": [],
   "source": [
    "adata_ribo.obs.loc[:, 'phase_new'] = adata_ribo.obs['phase'].values\n",
    "# adata.write_h5ad(rpath+'/adata/FUCCI_ribomap_cc_02-22-22.h5ad')"
   ]
  },
  {
   "cell_type": "markdown",
   "metadata": {},
   "source": [
    "### STARmap"
   ]
  },
  {
   "cell_type": "code",
   "execution_count": null,
   "metadata": {},
   "outputs": [],
   "source": [
    "sc.pp.normalize_total(adata_star)\n",
    "sc.pp.log1p(adata_star)\n",
    "sc.pp.scale(adata_star)"
   ]
  },
  {
   "cell_type": "code",
   "execution_count": null,
   "metadata": {},
   "outputs": [],
   "source": [
    "# Compute gene set score\n",
    "sc.tl.score_genes_cell_cycle(adata_star, s_genes=s_genes_true, g2m_genes=g2m_genes_true)\n",
    "adata_star_cc_genes = adata_star[:, cell_cycle_genes]\n",
    "sc.tl.pca(adata_star_cc_genes)\n",
    "sc.pl.pca_scatter(adata_star_cc_genes, color='phase', title='STARmap -- pca by cc_genes')"
   ]
  },
  {
   "cell_type": "code",
   "execution_count": null,
   "metadata": {},
   "outputs": [],
   "source": [
    "sc.tl.pca(adata_star)\n",
    "sc.pl.pca(adata_star, color=['Fluo', 'mKO2', 'phase'], vmax=[0.9*1e6, 0.5*1e7])"
   ]
  },
  {
   "cell_type": "code",
   "execution_count": null,
   "metadata": {},
   "outputs": [],
   "source": [
    "adata_star.obs.loc[:, 'phase_new'] = adata_star.obs['phase'].values\n",
    "# adata.write_h5ad(rpath+'/adata/FUCCI_starmap_cc_02-22-22.h5ad')"
   ]
  },
  {
   "cell_type": "code",
   "execution_count": null,
   "metadata": {},
   "outputs": [],
   "source": [
    "# adata.write_h5ad(rpath+'/adata/FUCCI_cc_02-22-22.h5ad')"
   ]
  },
  {
   "cell_type": "markdown",
   "metadata": {},
   "source": [
    "## FUCCI fluorescence"
   ]
  },
  {
   "cell_type": "code",
   "execution_count": null,
   "metadata": {},
   "outputs": [],
   "source": [
    "adata = sc.read_h5ad(rpath+'/adata/FUCCI_cc_02-22-22.h5ad')"
   ]
  },
  {
   "cell_type": "code",
   "execution_count": null,
   "metadata": {},
   "outputs": [],
   "source": [
    "# after filtering\n",
    "fig = sns.scatterplot(data=adata.obs[adata.obs['pass_all_filters']], x='Fluo', y='mKO2', hue='sample', alpha=0.5)\n",
    "fig.set_xscale('log'), fig.set_yscale('log')\n",
    "fig.set_title('fluoresence after filtering')"
   ]
  },
  {
   "cell_type": "code",
   "execution_count": null,
   "metadata": {},
   "outputs": [],
   "source": [
    "fig, ax = plt.subplots(1,2,figsize=(12,5))\n",
    "for i, s in enumerate(sample_list):\n",
    "    sns.scatterplot(data=adata.obs[np.logical_and(adata.obs['pass_all_filters'], adata.obs['sample']==s)], x='Fluo', y='mKO2', hue='phase_new', alpha=0.5, ax=ax[i])\n",
    "    ax[i].set_xscale('log'), ax[i].set_yscale('log')\n",
    "    ax[i].set_xlim(5*1e4), ax[i].set_ylim(1e5)\n",
    "    ax[i].set_title(s)"
   ]
  },
  {
   "cell_type": "markdown",
   "metadata": {},
   "source": [
    "### normalization"
   ]
  },
  {
   "cell_type": "code",
   "execution_count": null,
   "metadata": {},
   "outputs": [],
   "source": [
    "sample = 'starmap'\n",
    "adata = sc.read_h5ad(rpath+'/adata/FUCCI_{}_cc_02-22-22.h5ad'.format(sample))"
   ]
  },
  {
   "cell_type": "code",
   "execution_count": null,
   "metadata": {},
   "outputs": [],
   "source": [
    "# cytosol intensity -- substract or not \n",
    "nuclei = tifffile.imread(os.path.join(fpath, 'segmentation', sample, 'nuclei.tif'))\n",
    "rp_nuclei = regionprops(nuclei)"
   ]
  },
  {
   "cell_type": "code",
   "execution_count": null,
   "metadata": {},
   "outputs": [],
   "source": [
    "nuclei_vol = []\n",
    "for r in tqdm(rp_nuclei):\n",
    "    nuclei_vol.append(r.area)\n",
    "adata.obs['nuclei_vol'] = nuclei_vol\n",
    "sns.histplot(adata[adata.obs['pass_all_filters']].obs['nuclei_vol'])"
   ]
  },
  {
   "cell_type": "code",
   "execution_count": null,
   "metadata": {},
   "outputs": [],
   "source": [
    "# normalize by volume\n",
    "adata.obs['mAG_norm'] = adata.obs['Fluo'] / adata.obs['nuclei_vol']\n",
    "adata.obs['mKO2_norm'] = adata.obs['mKO2'] / adata.obs['nuclei_vol']"
   ]
  },
  {
   "cell_type": "code",
   "execution_count": null,
   "metadata": {},
   "outputs": [],
   "source": [
    "# z score\n",
    "adata.obs['mAG_norm_zscore'] = zscore(adata.obs['mAG_norm'])\n",
    "adata.obs['mKO2_norm_zscore'] = zscore(adata.obs['mKO2_norm'])"
   ]
  },
  {
   "cell_type": "code",
   "execution_count": null,
   "metadata": {},
   "outputs": [],
   "source": [
    "adata.write_h5ad(rpath+'/adata/{}_fucci_norm_03-07.h5ad'.format(sample))"
   ]
  },
  {
   "cell_type": "markdown",
   "metadata": {},
   "source": [
    "# Diffusion map embedding"
   ]
  },
  {
   "cell_type": "code",
   "execution_count": null,
   "metadata": {},
   "outputs": [],
   "source": [
    "sample = 'starmap' # pseudotime constructed based on STARmap\n",
    "adata = sc.read_h5ad(rpath+'/adata/{}_fucci_norm_03-07.h5ad'.format(sample))"
   ]
  },
  {
   "cell_type": "code",
   "execution_count": null,
   "metadata": {},
   "outputs": [],
   "source": [
    "# diffusion map constructed from cell cycle expression\n",
    "adata_cc = adata[adata.obs['pass_all_filters'], cell_cycle_genes]\n",
    "sc.pp.neighbors(adata_cc, n_neighbors=30, method='umap', knn=True, metric='cosine') \n",
    "sc.tl.diffmap(adata_cc, n_comps=4) \n",
    "sc.pl.diffmap(adata_cc, color=['phase_new'], cmap='Spectral')"
   ]
  },
  {
   "cell_type": "code",
   "execution_count": null,
   "metadata": {},
   "outputs": [],
   "source": [
    "# fig = sc.pl.diffmap(adata_cc, color='phase_new', palette=['#F781BF', '#00BFC4', '#FA4B0E'], return_fig=True)\n",
    "# fig.savefig(rpath+'/figures/cell_cycle/starmap_cc2.pdf')"
   ]
  },
  {
   "cell_type": "code",
   "execution_count": null,
   "metadata": {},
   "outputs": [],
   "source": [
    "adataSTAR_with_meta = copy(adata)"
   ]
  },
  {
   "cell_type": "code",
   "execution_count": null,
   "metadata": {},
   "outputs": [],
   "source": [
    "def align(value_vec, filter_vec):\n",
    "    '''return a vec same length as filter_vec with value_vec's value'''\n",
    "    res = []\n",
    "    p = 0\n",
    "    for i in filter_vec:\n",
    "        if i:\n",
    "            res.append(value_vec[p])\n",
    "            p += 1\n",
    "        else: res.append('None')\n",
    "    return res"
   ]
  },
  {
   "cell_type": "code",
   "execution_count": null,
   "metadata": {},
   "outputs": [],
   "source": [
    "diffmap_with_filtering = []\n",
    "p = 0\n",
    "for i in adataSTAR_with_meta.obs['pass_all_filters']: \n",
    "    if i:\n",
    "        diffmap_with_filtering.append(adata_cc.obsm['X_diffmap'][p, 1:3])\n",
    "        p += 1\n",
    "    else: diffmap_with_filtering.append(np.array(['None', 'None']))\n",
    "adataSTAR_with_meta.obsm['X_diffmap'] = np.array(diffmap_with_filtering)"
   ]
  },
  {
   "cell_type": "code",
   "execution_count": null,
   "metadata": {},
   "outputs": [],
   "source": [
    "# pd.DataFrame(adata_cc.obsm['X_diffmap'][:, 1:3]).to_excel(f'{rpath}/temp.xlsx')"
   ]
  },
  {
   "cell_type": "markdown",
   "metadata": {},
   "source": [
    "### using this manifold"
   ]
  },
  {
   "cell_type": "code",
   "execution_count": null,
   "metadata": {},
   "outputs": [],
   "source": [
    "# zscored fluo\n",
    "fig, ax = plt.subplots(1,2,figsize=(10,4))\n",
    "sc.pl.diffmap(adata_cc, color='mAG_norm_zscore', components=['1,2'], vmax=2, cmap='Greens', ax=ax[0], show=False)\n",
    "sc.pl.diffmap(adata_cc, color='mKO2_norm_zscore', components=['1,2'], vmax=2, cmap='Reds', ax=ax[1], show=False)"
   ]
  },
  {
   "cell_type": "code",
   "execution_count": null,
   "metadata": {},
   "outputs": [],
   "source": [
    "# merge two fluo\n",
    "mKO2_neg = -adata_cc.obs['mKO2_norm_zscore']\n",
    "mAG_mKO2 = adata_cc.obs['mAG_norm_zscore'] + mKO2_neg\n",
    "adata_cc.obs['mAG_mKO2'] = mAG_mKO2\n",
    "fig = sc.pl.diffmap(adata_cc, color='mAG_mKO2', components=['1,2'], vmin=-1, vmax=2, cmap='RdYlGn', return_fig=True)\n",
    "# fig.savefig(rpath+'/figures/cell_cycle/fluo_combined_starmap.pdf')"
   ]
  },
  {
   "cell_type": "code",
   "execution_count": null,
   "metadata": {},
   "outputs": [],
   "source": [
    "# cc marker gene expression\n",
    "fig = sc.pl.diffmap(adata_cc, color=['PCNA', 'UNG', 'MCM6', 'MCM2', 'CDK1', 'TOP2A'], \n",
    "                components=['1,2'], cmap='viridis', ncols=3,\n",
    "                show=True, return_fig=True)\n",
    "# plt.savefig(rpath+'/figures/cell_cycle/marker_expr_starmap.pdf')"
   ]
  },
  {
   "cell_type": "code",
   "execution_count": null,
   "metadata": {},
   "outputs": [],
   "source": [
    "sample = 'ribomap'\n",
    "adata_ribo = sc.read_h5ad(rpath+'/adata/{}_fucci_norm_03-07.h5ad'.format(sample))\n",
    "adata_ribo_cc = adata_ribo[adata_ribo.obs['pass_all_filters'], cell_cycle_genes]"
   ]
  },
  {
   "cell_type": "code",
   "execution_count": null,
   "metadata": {},
   "outputs": [],
   "source": [
    "adata_ribo_cc = adata_ribo[adata_ribo.obs['pass_all_filters'], cell_cycle_genes]\n",
    "\n",
    "sc.pp.neighbors(adata_ribo_cc, n_neighbors=30, method='umap', knn=True, metric='cosine') \n",
    "sc.tl.diffmap(adata_ribo_cc, n_comps=4)\n",
    "# for rotation purposes..\n",
    "adata_ribo_cc.obsm['X_diffmap'] = np.concatenate((adata_ribo_cc.obsm['X_diffmap'], -adata_ribo_cc.obsm['X_diffmap'][:,1].reshape(-1,1), -adata_ribo_cc.obsm['X_diffmap'][:,3].reshape(-1,1)), axis=1)\n",
    "fig = sc.pl.diffmap(adata_ribo_cc, color=['phase_new'], components=['4,5'], cmap='Oranges', return_fig=True)\n",
    "# fig.savefig(rpath+'/figures/cell_cycle/transferred_pt_phase_ribomap.pdf')"
   ]
  },
  {
   "cell_type": "code",
   "execution_count": null,
   "metadata": {},
   "outputs": [],
   "source": [
    "# organize for metadata\n",
    "adataRIBO_with_meta = copy(adata_ribo)\n",
    "\n",
    "diffmap_with_filtering_ribo = []\n",
    "p = 0\n",
    "for i in adataRIBO_with_meta.obs['pass_all_filters']: \n",
    "    if i:\n",
    "        diffmap_with_filtering_ribo.append(adata_ribo_cc.obsm['X_diffmap'][p, 4:])\n",
    "        p += 1\n",
    "    else: diffmap_with_filtering_ribo.append(np.array(['None', 'None']))\n",
    "adataRIBO_with_meta.obsm['X_diffmap'] = np.array(diffmap_with_filtering_ribo)"
   ]
  },
  {
   "cell_type": "code",
   "execution_count": null,
   "metadata": {},
   "outputs": [],
   "source": [
    "with pd.ExcelWriter(rpath+'/diffmap.xlsx') as writer:  \n",
    "    pd.DataFrame(adata_cc.obsm['X_diffmap'][:,:2]).to_excel(writer, sheet_name='STARmap')\n",
    "    pd.DataFrame(adata_ribo_cc.obsm['X_diffmap'][:,4:]).to_excel(writer, sheet_name='RIBOmap')"
   ]
  },
  {
   "cell_type": "code",
   "execution_count": null,
   "metadata": {},
   "outputs": [],
   "source": [
    "m6A_labels = pd.read_excel('Z:/Connie/RIBOmap/gene_modules/m6A new label.xlsx')\n",
    "m6A_RIBO = [m6A_labels[m6A_labels['Gene']==g]['m6A label'].values[0] for g in adataSTAR_with_meta.var.index]"
   ]
  },
  {
   "cell_type": "code",
   "execution_count": null,
   "metadata": {},
   "outputs": [],
   "source": [
    "adataSTAR_with_meta.var['m6A'] = m6A_RIBO\n",
    "adataRIBO_with_meta.var['m6A'] = m6A_RIBO"
   ]
  },
  {
   "cell_type": "code",
   "execution_count": null,
   "metadata": {},
   "outputs": [],
   "source": [
    "dr_STAR = pd.read_excel(f'{rpath}/FUCCI_expr_dr.xlsx', sheet_name='RIBOmap')\n",
    "dr_RIBO = pd.read_excel(f'{rpath}/FUCCI_expr_dr.xlsx', sheet_name='STARmap')"
   ]
  },
  {
   "cell_type": "code",
   "execution_count": null,
   "metadata": {},
   "outputs": [],
   "source": [
    "adataSTAR_with_meta.var['DR'] = dr_STAR.DR.values\n",
    "adataRIBO_with_meta.var['DR'] = dr_RIBO.DR.values"
   ]
  },
  {
   "cell_type": "code",
   "execution_count": null,
   "metadata": {},
   "outputs": [],
   "source": [
    "adataSTAR_with_meta.write_h5ad(rpath+'/adata/star_meta.h5ad')\n",
    "adataRIBO_with_meta.write_h5ad(rpath+'/adata/ribo_meta.h5ad')"
   ]
  },
  {
   "cell_type": "code",
   "execution_count": null,
   "metadata": {},
   "outputs": [],
   "source": [
    "# cc marker gene expression\n",
    "fig = sc.pl.diffmap(adata_ribo_cc, color=['PCNA', 'UNG', 'MCM6', 'MCM2', 'CDK1', 'TOP2A'], \n",
    "                components=['4,5'], cmap='viridis', ncols=3,\n",
    "                show=True, return_fig=True)\n",
    "# plt.savefig(rpath+'/figures/cell_cycle/marker_expr_ribomap.pdf')"
   ]
  },
  {
   "cell_type": "code",
   "execution_count": null,
   "metadata": {},
   "outputs": [],
   "source": [
    "# merge two fluo\n",
    "mKO2_neg = -adata_ribo_cc.obs['mKO2_norm_zscore']\n",
    "mAG_mKO2 = adata_ribo_cc.obs['mAG_norm_zscore'] + mKO2_neg\n",
    "adata_ribo_cc.obs['mAG_mKO2'] = mAG_mKO2\n",
    "fig = sc.pl.diffmap(adata_ribo_cc, color='mAG_mKO2', components=['1,3'], vmin=-1, vmax=2, cmap='RdYlGn', return_fig=True)\n",
    "# fig.savefig(rpath+'/figures/cell_cycle/fluo_combined_ribomap.pdf')"
   ]
  },
  {
   "cell_type": "code",
   "execution_count": null,
   "metadata": {},
   "outputs": [],
   "source": [
    "fig, ax = plt.subplots(1,3, figsize=(12,4))\n",
    "for i, phase in enumerate(['G1', 'S', 'G2M']):\n",
    "    sns.violinplot(data=[adata_star.obs[adata_star.obs['phase_new']==phase]['mAG_norm_zscore'],\n",
    "                adata_ribo.obs[adata_ribo.obs['phase_new']==phase]['mAG_norm_zscore']], ax=ax[i], element='step').set_xlabel(phase)\n",
    "    ax[i].set_xticklabels(['STARmap', 'RIBOmap'])\n",
    "    ax[i].set_title('p_value = {:.2f}'.format(ranksums(adata_star.obs[adata_star.obs['phase_new']==phase]['mAG_norm_zscore'],\n",
    "                adata_ribo.obs[adata_ribo.obs['phase_new']==phase]['mAG_norm_zscore'])[1]))"
   ]
  },
  {
   "cell_type": "code",
   "execution_count": null,
   "metadata": {},
   "outputs": [],
   "source": []
  }
 ],
 "metadata": {
  "kernelspec": {
   "display_name": "Python 3 (ipykernel)",
   "language": "python",
   "name": "python3"
  },
  "language_info": {
   "codemirror_mode": {
    "name": "ipython",
    "version": 3
   },
   "file_extension": ".py",
   "mimetype": "text/x-python",
   "name": "python",
   "nbconvert_exporter": "python",
   "pygments_lexer": "ipython3",
   "version": "3.8.12"
  },
  "vscode": {
   "interpreter": {
    "hash": "31f2aee4e71d21fbe5cf8b01ff0e069b9275f58929596ceb00d14d90e3e16cd6"
   }
  }
 },
 "nbformat": 4,
 "nbformat_minor": 4
}
