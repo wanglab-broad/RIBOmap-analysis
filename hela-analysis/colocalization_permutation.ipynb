{
 "cells": [
  {
   "cell_type": "markdown",
   "metadata": {},
   "source": [
    "# Colocalization permutation"
   ]
  },
  {
   "cell_type": "code",
   "execution_count": null,
   "metadata": {},
   "outputs": [],
   "source": [
    "# Load libraries\n",
    "import sys, os\n",
    "import numpy as np\n",
    "import pandas as pd\n",
    "from copy import copy, deepcopy\n",
    "from tqdm import tqdm\n",
    "import random\n",
    "import math\n",
    "import scanpy as sc\n",
    "\n",
    "import seaborn as sns\n",
    "import matplotlib.pyplot as plt\n",
    "import plotly.express as px\n",
    "\n",
    "# Load starmap python library \n",
    "from starmap.sequencing import *"
   ]
  },
  {
   "cell_type": "code",
   "execution_count": null,
   "metadata": {},
   "outputs": [],
   "source": [
    "# IO path\n",
    "fpath = '/stanley/WangLab/Data/Analyzed/2022-02-02-Hu-Hela_FUCCI'\n",
    "rpath = '/stanley/WangLab/Connie/01.RIBOmap/result/FUCCI data'\n",
    "result_path = '/stanley/WangLab/Connie/01.RIBOmap/result/revision/discrete_bulk'\n",
    "sample = 'starmap'"
   ]
  },
  {
   "cell_type": "markdown",
   "metadata": {},
   "source": [
    "# Input"
   ]
  },
  {
   "cell_type": "code",
   "execution_count": null,
   "metadata": {},
   "outputs": [],
   "source": [
    "# adata\n",
    "adata = sc.read_h5ad(rpath+'/adata/FUCCI_{}_cc_02-22-22.h5ad'.format(sample))"
   ]
  },
  {
   "cell_type": "code",
   "execution_count": null,
   "metadata": {},
   "outputs": [],
   "source": [
    "# genes\n",
    "genes = adata.var.index\n",
    "n_genes = len(genes)"
   ]
  },
  {
   "cell_type": "code",
   "execution_count": null,
   "metadata": {},
   "outputs": [],
   "source": [
    "# points, bases\n",
    "genes2seqs, seqs2genes = load_genes(fpath)\n",
    "mat_bases, mat_points = load_reads_3D(os.path.join(fpath, 'merged_spots', sample), 'merged_goodPoints_max3d.mat')\n",
    "points = mat_points.astype(int)\n",
    "bases = np.array([seqs2genes[x] for x in mat_bases])\n",
    "points_real = np.concatenate(((points[:,0]/30*10.2735).reshape(points.shape[0],1), points[:,1:]/3072*290.7187), axis=1)"
   ]
  },
  {
   "cell_type": "code",
   "execution_count": null,
   "metadata": {},
   "outputs": [],
   "source": [
    "# reads to cell\n",
    "rtc = np.load('rtc_STAR.npy')"
   ]
  },
  {
   "cell_type": "code",
   "execution_count": null,
   "metadata": {},
   "outputs": [],
   "source": [
    "# filter cells\n",
    "cells_flt = adata.obs[adata.obs['pass_all_filters']]['orig_index'].values+1\n",
    "rtc_flt = rtc[np.isin(rtc, adata.obs[adata.obs['pass_all_filters']]['orig_index']+1)]\n",
    "points_real_flt = points_real[np.isin(rtc, adata.obs[adata.obs['pass_all_filters']]['orig_index']+1)]\n",
    "bases_flt = bases[np.isin(rtc, adata.obs[adata.obs['pass_all_filters']]['orig_index']+1)]"
   ]
  },
  {
   "cell_type": "markdown",
   "metadata": {},
   "source": [
    "# Main"
   ]
  },
  {
   "cell_type": "markdown",
   "metadata": {},
   "source": [
    "## check shape of permutation distribution for a single gene-pair"
   ]
  },
  {
   "cell_type": "code",
   "execution_count": null,
   "metadata": {},
   "outputs": [],
   "source": [
    "test_size = 500\n",
    "test_cells = np.random.choice(cells_flt, size=test_size, replace=False)"
   ]
  },
  {
   "cell_type": "code",
   "execution_count": null,
   "metadata": {},
   "outputs": [],
   "source": [
    "def save_each_perm(points, bases, n_genes, rad=1.5, n_perm=1):\n",
    "    count = np.zeros((n_genes, n_genes))\n",
    "    perm = np.zeros((n_perm, n_genes, n_genes))\n",
    "    \n",
    "    # run rnn\n",
    "    rnn = NearestNeighbors(radius=rad)\n",
    "    rnn.fit(points)\n",
    "    I = rnn.radius_neighbors(return_distance=False)\n",
    "\n",
    "    # observed counts\n",
    "    for i, nbrs in enumerate(I):\n",
    "        curr_cell = rtc[i]\n",
    "        nbrs = nbrs[rtc[nbrs] == curr_cell]\n",
    "        for nbr in nbrs:\n",
    "            count[bases[i], bases[nbr]] += 1\n",
    "\n",
    "    # permutation\n",
    "    shuffle_bs = deepcopy(bases)\n",
    "    for p in tqdm(range(n_perm)):\n",
    "        np.random.shuffle(shuffle_bs)\n",
    "        for i, nbrs in enumerate(I):\n",
    "            curr_cell = rtc[i]\n",
    "            nbrs = nbrs[rtc[nbrs] == curr_cell]\n",
    "            for nbr in nbrs:\n",
    "                perm[p, shuffle_bs[i], shuffle_bs[nbr]] += 1\n",
    "    return count, perm"
   ]
  },
  {
   "cell_type": "code",
   "execution_count": null,
   "metadata": {},
   "outputs": [],
   "source": [
    "test_points = points_real_flt[np.isin(rtc_flt, test_cells)]\n",
    "test_bases = bases_flt[np.isin(rtc_flt, test_cells)]\n",
    "genes_ = list(genes)\n",
    "test_bases_ind = np.array([genes_.index(g) for g in test_bases])"
   ]
  },
  {
   "cell_type": "markdown",
   "metadata": {},
   "source": [
    "### radus = 1.5"
   ]
  },
  {
   "cell_type": "code",
   "execution_count": null,
   "metadata": {},
   "outputs": [],
   "source": [
    "radius = 1.5\n",
    "count, perm = save_each_perm(test_points, test_bases_ind, n_genes, rad=radius, n_perm=10000)"
   ]
  },
  {
   "cell_type": "code",
   "execution_count": null,
   "metadata": {},
   "outputs": [],
   "source": [
    "# randomly choose 100 pairs\n",
    "n_pairs = 100\n",
    "n_fig_per_row = 5\n",
    "fig, ax = plt.subplots(math.ceil(n_pairs/n_fig_per_row), n_fig_per_row, figsize=(3*n_fig_per_row, 3*math.ceil(n_pairs/n_fig_per_row)))\n",
    "for pair in range(n_pairs):\n",
    "    g1 = random.choice(range(n_genes))\n",
    "    g2 = random.choice(range(n_genes))\n",
    "    sns.histplot(perm[:,g1,g2], ax=ax[pair//5, pair-pair//5*5]).set_xlabel(f'{genes[g1]} & {genes[g2]}')\n",
    "plt.tight_layout()"
   ]
  },
  {
   "cell_type": "markdown",
   "metadata": {},
   "source": [
    "### radius = 2"
   ]
  },
  {
   "cell_type": "code",
   "execution_count": null,
   "metadata": {},
   "outputs": [],
   "source": [
    "radius = 2\n",
    "count1, perm1 = save_each_perm(test_points, test_bases_ind, n_genes, rad=radius, n_perm=1000)"
   ]
  },
  {
   "cell_type": "code",
   "execution_count": null,
   "metadata": {},
   "outputs": [],
   "source": [
    "n_pairs = 100\n",
    "n_fig_per_row = 5\n",
    "fig, ax = plt.subplots(math.ceil(n_pairs/n_fig_per_row), n_fig_per_row, figsize=(3*n_fig_per_row, 3*math.ceil(n_pairs/n_fig_per_row)))\n",
    "for pair in range(n_pairs):\n",
    "    g1 = random.choice(range(n_genes))\n",
    "    g2 = random.choice(range(n_genes))\n",
    "    sns.histplot(perm1[:,g1,g2], ax=ax[pair//5, pair-pair//5*5]).set_xlabel(f'{genes[g1]} & {genes[g2]}')\n",
    "plt.tight_layout()"
   ]
  },
  {
   "cell_type": "markdown",
   "metadata": {},
   "source": [
    "## result"
   ]
  },
  {
   "cell_type": "markdown",
   "metadata": {},
   "source": [
    "### radius = 1.5"
   ]
  },
  {
   "cell_type": "code",
   "execution_count": null,
   "metadata": {},
   "outputs": [],
   "source": [
    "samples = ['starmap', 'ribomap']\n",
    "data = ['count', 'p_values', 'perm_mean']"
   ]
  },
  {
   "cell_type": "markdown",
   "metadata": {},
   "source": [
    "1. r=1.5 test=300 n_perm=1000"
   ]
  },
  {
   "cell_type": "code",
   "execution_count": null,
   "metadata": {},
   "outputs": [],
   "source": [
    "radius = 1.5\n",
    "test_size = 300\n",
    "n_perm = 1000\n",
    "\n",
    "r1 = dict()\n",
    "for s in samples:\n",
    "    r1[s] = dict()\n",
    "    for d in data:\n",
    "        r1[s][d] = np.load(os.path.join(result_path, \n",
    "                                        f'r{radius}_test{test_size}_perm{n_perm}',\n",
    "                                        'count_pval_perm', \n",
    "                                        f'{d}_{s}_r{radius}_test{test_size}_perm{n_perm}.npy'))"
   ]
  },
  {
   "cell_type": "code",
   "execution_count": null,
   "metadata": {},
   "outputs": [],
   "source": [
    "# quick-look\n",
    "# sns.clustermap(r1['starmap']['count'], figsize=(5,5))\n",
    "# sns.clustermap(r1['ribomap']['count'], figsize=(5,5))\n",
    "# sns.clustermap(r1['starmap']['p_values'], figsize=(5,5))\n",
    "# sns.clustermap(r1['ribomap']['p_values'], figsize=(5,5))\n",
    "# sns.clustermap(r1['starmap']['perm_mean'], figsize=(5,5))\n",
    "# sns.clustermap(r1['ribomap']['perm_mean'], figsize=(5,5))"
   ]
  },
  {
   "cell_type": "code",
   "execution_count": null,
   "metadata": {},
   "outputs": [],
   "source": [
    "# log2FC\n",
    "sample = 'ribomap'\n",
    "r1[sample]['logfc'] = np.log2(r1[sample]['count'] / r1[sample]['perm_mean'] + 1) # NOTE contains both nan and inf (nan because 0/0, inf because pos/0)"
   ]
  },
  {
   "cell_type": "code",
   "execution_count": null,
   "metadata": {},
   "outputs": [],
   "source": [
    "# check nan and inf\n",
    "# np.count_nonzero(np.isnan())\n",
    "r1[sample]['logfc'][np.where(np.isnan(r1[sample]['logfc']))] = 1 # np.log2(1+1) = 1 (take 0/0=1)"
   ]
  },
  {
   "cell_type": "code",
   "execution_count": null,
   "metadata": {},
   "outputs": [],
   "source": [
    "r1[sample]['logfc'][np.where(np.isinf(r1[sample]['logfc']))] = np.NINF\n",
    "r1[sample]['logfc'][np.where(np.isinf(r1[sample]['logfc']))] = np.nanmax(r1[sample]['logfc']) "
   ]
  },
  {
   "cell_type": "code",
   "execution_count": null,
   "metadata": {},
   "outputs": [],
   "source": [
    "# clustering on log2FC\n",
    "g = sns.clustermap(pd.DataFrame(r1[sample]['logfc'], columns=genes, index=genes), figsize=(3,3))\n",
    "# format for plotly\n",
    "order = np.array(g.dendrogram_col.reordered_ind)\n",
    "temp = r1[sample]['logfc'][order]\n",
    "logfc_reorder = temp[:,order]\n",
    "genes_reorder = genes[order]\n",
    "\n",
    "fig = px.imshow(logfc_reorder, x=genes_reorder, y=genes_reorder)\n",
    "fig.write_html(os.path.join(result_path, \n",
    "                            f'r{radius}_test{test_size}_perm{n_perm}',\n",
    "                            sample, \n",
    "                            f'{d}_{s}_r{radius}_test{test_size}_perm{n_perm}_log2fc.html'))\n",
    "pd.DataFrame(genes_reorder).to_excel(os.path.join(result_path, \n",
    "                                    f'r{radius}_test{test_size}_perm{n_perm}',\n",
    "                                    sample, \n",
    "                                    f'genes_ro_{sample}.xlsx'), \n",
    "                                    sheet_name=f'r{radius}_test{test_size}_perm{n_perm}')"
   ]
  },
  {
   "cell_type": "code",
   "execution_count": null,
   "metadata": {},
   "outputs": [],
   "source": [
    "# volcano\n",
    "df = pd.DataFrame(zip(np.repeat(genes, n_genes), np.tile(genes, n_genes), r1[sample]['logfc'].flatten(), -np.log10(r1[sample]['p_values']+1).flatten()), columns=['gene1', 'gene2', 'log2fc', '-log10pval'])\n",
    "fig_ = px.scatter(df, x='log2fc', y='-log10pval', hover_data=['gene1', 'gene2'])\n",
    "fig_.write_html(os.path.join(result_path, \n",
    "                            f'r{radius}_test{test_size}_perm{n_perm}',\n",
    "                            sample, \n",
    "                            f'{d}_{s}_r{radius}_test{test_size}_perm{n_perm}_volcano.html'))"
   ]
  },
  {
   "cell_type": "markdown",
   "metadata": {},
   "source": [
    "3. r=1.5 test=300 n_perm=10000"
   ]
  },
  {
   "cell_type": "code",
   "execution_count": null,
   "metadata": {},
   "outputs": [],
   "source": [
    "radius = 1.5\n",
    "test_size = 500\n",
    "n_perm = 10000\n",
    "\n",
    "r3 = dict()\n",
    "for s in samples:\n",
    "    r3[s] = dict()\n",
    "    for d in data:\n",
    "        r3[s][d] = np.load(os.path.join(result_path, \n",
    "                                        f'r{radius}_test{test_size}_perm{n_perm}',\n",
    "                                        'count_pval_perm', \n",
    "                                        f'{d}_{s}_r{radius}_test{test_size}_perm{n_perm}.npy'))"
   ]
  },
  {
   "cell_type": "code",
   "execution_count": null,
   "metadata": {},
   "outputs": [],
   "source": [
    "# quick-look\n",
    "# sns.clustermap(r3['starmap']['count'], figsize=(5,5))\n",
    "# sns.clustermap(r3['ribomap']['count'], figsize=(5,5))\n",
    "# sns.clustermap(r3['starmap']['p_values'], figsize=(5,5))\n",
    "# sns.clustermap(r3['ribomap']['p_values'], figsize=(5,5))\n",
    "# sns.clustermap(r3['starmap']['perm_mean'], figsize=(5,5))\n",
    "# sns.clustermap(r3['ribomap']['perm_mean'], figsize=(5,5))"
   ]
  },
  {
   "cell_type": "code",
   "execution_count": null,
   "metadata": {},
   "outputs": [],
   "source": [
    "# log2FC\n",
    "sample = 'ribomap'\n",
    "r3[sample]['logfc'] = np.log2(r3[sample]['count'] / r3[sample]['perm_mean'] + 1) # NOTE contains both nan and inf (nan because 0/0, inf because pos/0)"
   ]
  },
  {
   "cell_type": "code",
   "execution_count": null,
   "metadata": {},
   "outputs": [],
   "source": [
    "np.count_nonzero(np.isinf(r3[sample]['logfc'])), np.count_nonzero(np.isnan(r3[sample]['logfc']))"
   ]
  },
  {
   "cell_type": "code",
   "execution_count": null,
   "metadata": {},
   "outputs": [],
   "source": [
    "# clustering on log2FC\n",
    "g = sns.clustermap(pd.DataFrame(r3[sample]['logfc'], columns=genes, index=genes), figsize=(3,3))\n",
    "# format for plotly\n",
    "order = np.array(g.dendrogram_col.reordered_ind)\n",
    "temp = r3[sample]['logfc'][order]\n",
    "logfc_reorder = temp[:,order]\n",
    "genes_reorder = genes[order]\n",
    "\n",
    "fig = px.imshow(logfc_reorder, x=genes_reorder, y=genes_reorder)\n",
    "fig.write_html(os.path.join(result_path, \n",
    "                            f'r{radius}_test{test_size}_perm{n_perm}',\n",
    "                            sample, \n",
    "                            f'{d}_{s}_r{radius}_test{test_size}_perm{n_perm}_log2fc.html'))\n",
    "pd.DataFrame(genes_reorder).to_excel(os.path.join(result_path, \n",
    "                                    f'r{radius}_test{test_size}_perm{n_perm}',\n",
    "                                    sample, \n",
    "                                    f'genes_ro_{sample}.xlsx'), \n",
    "                                    sheet_name=f'r{radius}_test{test_size}_perm{n_perm}')"
   ]
  },
  {
   "cell_type": "code",
   "execution_count": null,
   "metadata": {},
   "outputs": [],
   "source": [
    "# volcano\n",
    "df = pd.DataFrame(zip(np.repeat(genes, n_genes), np.tile(genes, n_genes), r3[sample]['logfc'].flatten(), -np.log10(r3[sample]['p_values']+1).flatten()), columns=['gene1', 'gene2', 'log2fc', '-log10pval'])\n",
    "fig_ = px.scatter(df, x='log2fc', y='-log10pval', hover_data=['gene1', 'gene2'])\n",
    "fig_.write_html(os.path.join(result_path, \n",
    "                            f'r{radius}_test{test_size}_perm{n_perm}',\n",
    "                            sample, \n",
    "                            f'{d}_{s}_r{radius}_test{test_size}_perm{n_perm}_volcano.html'))"
   ]
  }
 ],
 "metadata": {
  "kernelspec": {
   "display_name": "Python 3 (ipykernel)",
   "language": "python",
   "name": "python3"
  },
  "language_info": {
   "codemirror_mode": {
    "name": "ipython",
    "version": 3
   },
   "file_extension": ".py",
   "mimetype": "text/x-python",
   "name": "python",
   "nbconvert_exporter": "python",
   "pygments_lexer": "ipython3",
   "version": "3.8.12"
  },
  "vscode": {
   "interpreter": {
    "hash": "31f2aee4e71d21fbe5cf8b01ff0e069b9275f58929596ceb00d14d90e3e16cd6"
   }
  }
 },
 "nbformat": 4,
 "nbformat_minor": 4
}
