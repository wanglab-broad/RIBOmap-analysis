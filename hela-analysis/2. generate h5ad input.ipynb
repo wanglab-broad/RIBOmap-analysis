{
 "cells": [
  {
   "cell_type": "markdown",
   "id": "chief-arlington",
   "metadata": {},
   "source": [
    "# 2. Generate h5ad Input"
   ]
  },
  {
   "cell_type": "markdown",
   "id": "incomplete-spirituality",
   "metadata": {},
   "source": [
    "2023-03-23"
   ]
  },
  {
   "cell_type": "code",
   "execution_count": null,
   "id": "swiss-physiology",
   "metadata": {},
   "outputs": [],
   "source": [
    "# Load libraries\n",
    "\n",
    "%load_ext autoreload\n",
    "%autoreload 2\n",
    "\n",
    "import os\n",
    "import warnings \n",
    "warnings.filterwarnings('ignore')\n",
    "\n",
    "import numpy as np\n",
    "import pandas as pd\n",
    "import scanpy as sc\n",
    "import seaborn as sns\n",
    "import matplotlib.pyplot as plt\n",
    "from anndata import AnnData\n",
    "\n",
    "# Load starmap python library \n",
    "import starmap.sc_util as su\n",
    "\n",
    "# test()"
   ]
  },
  {
   "cell_type": "markdown",
   "id": "reverse-sydney",
   "metadata": {},
   "source": [
    "## Input"
   ]
  },
  {
   "cell_type": "code",
   "execution_count": null,
   "id": "stuck-guarantee",
   "metadata": {},
   "outputs": [],
   "source": [
    "# IO path\n",
    "base_path = 'path_to_preprocessed_dataset'\n",
    "\n",
    "out_path = os.path.join(base_path, 'output')\n",
    "fig_path = os.path.join(base_path, 'figures')\n",
    "if not os.path.exists(fig_path):\n",
    "    os.mkdir(fig_path)\n",
    "\n",
    "# Load whole cell data\n",
    "primary_dataset = 'whole_cell'\n",
    "expr_path = os.path.join(out_path, primary_dataset, 'complete_cell_barcode_count.csv')\n",
    "var_path = os.path.join(out_path, primary_dataset, 'cell_barcode_names.csv')\n",
    "obs_path = os.path.join(out_path, primary_dataset, 'complete_meta.csv')\n",
    "\n",
    "# Add expression data to the AnnData object \n",
    "expr_x = np.loadtxt(expr_path, delimiter=',')\n",
    "var = pd.read_csv(var_path, header=None)\n",
    "var = pd.DataFrame(index=var.iloc[:,2].to_list())\n",
    "obs = pd.read_csv(obs_path, index_col=0)\n",
    "\n",
    "adata = AnnData(X=expr_x, var=var, obs=obs)\n",
    "adata"
   ]
  },
  {
   "cell_type": "code",
   "execution_count": null,
   "id": "twelve-english",
   "metadata": {},
   "outputs": [],
   "source": [
    "# Load nucleus data\n",
    "primary_dataset = 'nucleus'\n",
    "expr_path = os.path.join(out_path, primary_dataset, 'complete_cell_barcode_count.csv')\n",
    "var_path = os.path.join(out_path, primary_dataset, 'cell_barcode_names.csv')\n",
    "obs_path = os.path.join(out_path, primary_dataset, 'complete_meta.csv')\n",
    "\n",
    "# Add expression data to the AnnData object \n",
    "expr_x = np.loadtxt(expr_path, delimiter=',')\n",
    "var = pd.read_csv(var_path, header=None)\n",
    "var = pd.DataFrame(index=var.iloc[:,2].to_list())\n",
    "obs = pd.read_csv(obs_path, index_col=0)\n",
    "\n",
    "nucdata = AnnData(X=expr_x, var=var, obs=obs)"
   ]
  },
  {
   "cell_type": "code",
   "execution_count": null,
   "id": "funky-ferry",
   "metadata": {
    "tags": []
   },
   "outputs": [],
   "source": [
    "# Load cytoplasm data\n",
    "primary_dataset = 'cytoplasm'\n",
    "expr_path = os.path.join(out_path, primary_dataset, 'complete_cell_barcode_count.csv')\n",
    "var_path = os.path.join(out_path, primary_dataset, 'cell_barcode_names.csv')\n",
    "obs_path = os.path.join(out_path, primary_dataset, 'complete_meta.csv')\n",
    "\n",
    "# Add expression data to the AnnData object \n",
    "expr_x = np.loadtxt(expr_path, delimiter=',')\n",
    "var = pd.read_csv(var_path, header=None)\n",
    "var = pd.DataFrame(index=var.iloc[:,2].to_list())\n",
    "obs = pd.read_csv(obs_path, index_col=0)\n",
    "\n",
    "cytodata = AnnData(X=expr_x, var=var, obs=obs)"
   ]
  },
  {
   "cell_type": "code",
   "execution_count": null,
   "id": "dramatic-powder",
   "metadata": {},
   "outputs": [],
   "source": [
    "# Load outer_cytoplasm data\n",
    "primary_dataset = 'outer_cytoplasm'\n",
    "expr_path = os.path.join(out_path, primary_dataset, 'complete_cell_barcode_count.csv')\n",
    "var_path = os.path.join(out_path, primary_dataset, 'cell_barcode_names.csv')\n",
    "obs_path = os.path.join(out_path, primary_dataset, 'complete_meta.csv')\n",
    "\n",
    "# Add expression data to the AnnData object \n",
    "expr_x = np.loadtxt(expr_path, delimiter=',')\n",
    "var = pd.read_csv(var_path, header=None)\n",
    "var = pd.DataFrame(index=var.iloc[:,2].to_list())\n",
    "obs = pd.read_csv(obs_path, index_col=0)\n",
    "\n",
    "out_cytodata = AnnData(X=expr_x, var=var, obs=obs)"
   ]
  },
  {
   "cell_type": "code",
   "execution_count": null,
   "id": "timely-message",
   "metadata": {},
   "outputs": [],
   "source": [
    "# Load ER data\n",
    "primary_dataset = 'er'\n",
    "expr_path = os.path.join(out_path, primary_dataset, 'complete_cell_barcode_count.csv')\n",
    "var_path = os.path.join(out_path, primary_dataset, 'cell_barcode_names.csv')\n",
    "obs_path = os.path.join(out_path, primary_dataset, 'complete_meta.csv')\n",
    "\n",
    "# Add expression data to the AnnData object \n",
    "expr_x = np.loadtxt(expr_path, delimiter=',')\n",
    "var = pd.read_csv(var_path, header=None)\n",
    "var = pd.DataFrame(index=var.iloc[:,2].to_list())\n",
    "obs = pd.read_csv(obs_path, index_col=0)\n",
    "\n",
    "erdata = AnnData(X=expr_x, var=var, obs=obs)"
   ]
  },
  {
   "cell_type": "markdown",
   "id": "reflected-blade",
   "metadata": {},
   "source": [
    "## QC"
   ]
  },
  {
   "cell_type": "code",
   "execution_count": null,
   "id": "sonic-certificate",
   "metadata": {},
   "outputs": [],
   "source": [
    "# Remove cells without ER structure \n",
    "cells_to_keep = erdata.obs['area'] != 0 \n",
    "\n",
    "# Subset \n",
    "adata = adata[cells_to_keep, ]\n",
    "adata.layers['nucleus'] = nucdata[cells_to_keep, ].X\n",
    "adata.layers['cytoplasm'] = cytodata[cells_to_keep, ].X\n",
    "adata.layers['er'] = erdata[cells_to_keep, ].X\n",
    "adata.layers['outer_cytoplasm'] = out_cytodata[cells_to_keep, ].X"
   ]
  },
  {
   "cell_type": "code",
   "execution_count": null,
   "id": "238616ad-3cd9-43ec-9327-e0d92a9ec5d7",
   "metadata": {},
   "outputs": [],
   "source": [
    "# Remove cells out of focus in Hela STARmap (tile_51, y=27, x=9121) (2075, 11169)\n",
    "temp_df = adata.obs.copy()\n",
    "cells_to_remove = temp_df.loc[(temp_df.x > 27) & (temp_df.x < 2075) & (temp_df.y > 9121) & (temp_df.y < 11169), ].index\n",
    "adata = adata[~adata.obs.index.isin(cells_to_remove), ]"
   ]
  },
  {
   "cell_type": "code",
   "execution_count": null,
   "id": "classified-surgery",
   "metadata": {},
   "outputs": [],
   "source": [
    "adata"
   ]
  },
  {
   "cell_type": "code",
   "execution_count": null,
   "id": "desirable-algorithm",
   "metadata": {},
   "outputs": [],
   "source": [
    "# Plot top 20 most expressed genes \n",
    "sc.pl.highest_expr_genes(adata, n_top=20)"
   ]
  },
  {
   "cell_type": "markdown",
   "id": "finite-lemon",
   "metadata": {},
   "source": [
    "## Regular Filtration"
   ]
  },
  {
   "cell_type": "code",
   "execution_count": null,
   "id": "likely-webcam",
   "metadata": {},
   "outputs": [],
   "source": [
    "# Calculate QC metrics\n",
    "sc.pp.calculate_qc_metrics(adata, percent_top=None, inplace=True)\n",
    "\n",
    "# Calculate max count for each gene\n",
    "adata.var['max_counts'] = adata.X.max(axis=0)"
   ]
  },
  {
   "cell_type": "code",
   "execution_count": null,
   "id": "little-working",
   "metadata": {
    "tags": []
   },
   "outputs": [],
   "source": [
    "# Filter cell by area \n",
    "# adata = su.filter_cells_by_area(adata, min_area=1000, max_area=100000, save=False)"
   ]
  },
  {
   "cell_type": "code",
   "execution_count": null,
   "id": "reported-struggle",
   "metadata": {},
   "outputs": [],
   "source": [
    "# Per-cell stats plot\n",
    "su.plot_stats_per_cell(adata, save=False)"
   ]
  },
  {
   "cell_type": "code",
   "execution_count": null,
   "id": "lightweight-extent",
   "metadata": {},
   "outputs": [],
   "source": [
    "# Per-cell stats violin plot\n",
    "sc.pl.violin(adata, ['total_counts', 'n_genes_by_counts', 'area'],\n",
    "             jitter=0.4, multi_panel=True)"
   ]
  },
  {
   "cell_type": "code",
   "execution_count": null,
   "id": "quiet-villa",
   "metadata": {},
   "outputs": [],
   "source": [
    "# Check reads per cell interactively \n",
    "import pandas_bokeh\n",
    "adata.obs.loc[:, ['total_counts']].plot_bokeh.hist(\n",
    "    bins=np.linspace(0, 8000, 500),\n",
    "    vertical_xlabel=True,\n",
    "    hovertool=True,\n",
    "    line_color=\"black\")"
   ]
  },
  {
   "cell_type": "code",
   "execution_count": null,
   "id": "improving-anthony",
   "metadata": {},
   "outputs": [],
   "source": [
    "# Get quantiles of reads\n",
    "su.show_reads_quantile(adata)"
   ]
  },
  {
   "cell_type": "code",
   "execution_count": null,
   "id": "equal-terrace",
   "metadata": {},
   "outputs": [],
   "source": [
    "# Filtration \n",
    "sc.pp.filter_cells(adata, min_genes=10)\n",
    "sc.pp.filter_genes(adata, min_cells=10)\n",
    "\n",
    "# Filter gene by max counts \n",
    "# adata = adata[:, adata.var['max_counts'] > 2]\n",
    "# adata.var['detected'] = adata.var['max_counts'] > 2\n",
    "# adata.var['highly_variable'] = adata.var['max_counts'] > 2\n",
    "\n",
    "# sc.pp.filter_cells(adata, min_counts=300)\n",
    "# sc.pp.filter_cells(adata, max_counts=4000)\n",
    "\n",
    "adata"
   ]
  },
  {
   "cell_type": "markdown",
   "id": "cordless-guarantee",
   "metadata": {},
   "source": [
    "## Output"
   ]
  },
  {
   "cell_type": "code",
   "execution_count": null,
   "id": "front-resolution",
   "metadata": {},
   "outputs": [],
   "source": [
    "from datetime import datetime\n",
    "date = datetime.today().strftime('%Y-%m-%d')\n",
    "adata.write_h5ad(f\"{base_path}output/{date}-FUCCI-raw.h5ad\")"
   ]
  },
  {
   "cell_type": "markdown",
   "id": "5e114b86",
   "metadata": {},
   "source": [
    "## FUCCI protein quantification"
   ]
  },
  {
   "cell_type": "code",
   "execution_count": null,
   "id": "bb2464d4-12d0-46be-a8bd-47bf7627de44",
   "metadata": {},
   "outputs": [],
   "source": [
    "# adata = sc.read_h5ad(os.path.join(out_path, '2022-02-05-Hu-FUCCI-raw.h5ad'))\n",
    "adata.obs['Fluo'] = 0\n",
    "adata.obs['mKO2'] = 0\n",
    "adata"
   ]
  },
  {
   "cell_type": "code",
   "execution_count": null,
   "id": "5425c5fe-a053-41a7-9fb5-e355d0bf1447",
   "metadata": {},
   "outputs": [],
   "source": [
    "from starmap.sequencing import *\n",
    "from tqdm.notebook import tqdm\n",
    "\n",
    "current_sample = 'starmap'\n",
    "\n",
    "index_list = adata.obs.loc[adata.obs['sample'] == 'STARmap', 'orig_index'].to_list()\n",
    "\n",
    "# Path\n",
    "seg_path = os.path.join(base_path, 'segmentation', current_sample)\n",
    "img_path = os.path.join(base_path, 'images', current_sample)\n",
    "\n",
    "# Load segmentation\n",
    "current_seg = load_label_image(seg_path, fname='nuclei.tif')\n",
    "\n",
    "# Load fluro image\n",
    "fluro_ch01 = load_label_image(img_path, fname='fluro_ch01.tif')\n",
    "fluro_ch02 = load_label_image(img_path, fname='fluro_ch02.tif')\n",
    "\n",
    "# Get region information \n",
    "print('Getting region information...')\n",
    "intensity_ch01 = []\n",
    "intensity_ch02 = []\n",
    "for i, region in enumerate(tqdm(regionprops(current_seg))):\n",
    "    orig_index = region.label-1\n",
    "    if orig_index in index_list:\n",
    "        adata.obs.loc[(adata.obs['orig_index'] == orig_index) & (adata.obs['sample'] == 'STARmap'), 'Fluo'] = (fluro_ch01[region.coords[:, 0], region.coords[:, 1], region.coords[:, 2]]).sum()\n",
    "        adata.obs.loc[(adata.obs['orig_index'] == orig_index) & (adata.obs['sample'] == 'STARmap'), 'mKO2'] = (fluro_ch02[region.coords[:, 0], region.coords[:, 1], region.coords[:, 2]]).sum()\n",
    "\n",
    "# Output"
   ]
  },
  {
   "cell_type": "code",
   "execution_count": null,
   "id": "b45c11f6-7ce0-493b-b8c9-0a300ff34f3e",
   "metadata": {},
   "outputs": [],
   "source": [
    "from datetime import datetime\n",
    "date = datetime.today().strftime('%Y-%m-%d')\n",
    "adata.write_h5ad(f\"{base_path}output/{date}-FUCCI-raw.h5ad\")"
   ]
  },
  {
   "cell_type": "code",
   "execution_count": null,
   "id": "9f649d27-7070-4a81-9a7d-08d79ed8430d",
   "metadata": {},
   "outputs": [],
   "source": []
  }
 ],
 "metadata": {
  "kernelspec": {
   "display_name": "Python 3 (ipykernel)",
   "language": "python",
   "name": "python3"
  },
  "language_info": {
   "codemirror_mode": {
    "name": "ipython",
    "version": 3
   },
   "file_extension": ".py",
   "mimetype": "text/x-python",
   "name": "python",
   "nbconvert_exporter": "python",
   "pygments_lexer": "ipython3",
   "version": "3.8.12"
  },
  "vscode": {
   "interpreter": {
    "hash": "31f2aee4e71d21fbe5cf8b01ff0e069b9275f58929596ceb00d14d90e3e16cd6"
   }
  }
 },
 "nbformat": 4,
 "nbformat_minor": 5
}
