{
 "cells": [
  {
   "cell_type": "markdown",
   "metadata": {},
   "source": [
    "# 3. Preprocessing and filtering"
   ]
  },
  {
   "cell_type": "markdown",
   "metadata": {},
   "source": [
    "This notebook checks quality of data; applys filtering on cells and then genes; export exploratory statstics results and AnnData with filters"
   ]
  },
  {
   "cell_type": "code",
   "execution_count": null,
   "metadata": {},
   "outputs": [],
   "source": [
    "# Load libraries\n",
    "\n",
    "import sys, os\n",
    "import scanpy as sc\n",
    "import matplotlib.pyplot as plt\n",
    "import seaborn as sns\n",
    "import numpy as np\n",
    "import pandas as pd"
   ]
  },
  {
   "cell_type": "markdown",
   "metadata": {},
   "source": [
    "# Input"
   ]
  },
  {
   "cell_type": "code",
   "execution_count": null,
   "metadata": {},
   "outputs": [],
   "source": [
    "fpath = 'path_to_preprocessed_dataset'\n",
    "rpath = 'output_path'\n",
    "adata = sc.read_h5ad(os.path.join(fpath, 'output/2022-02-21-Hu-FUCCI-raw.h5ad'))\n",
    "genes = adata.var.index\n",
    "sample_list = ['RIBOmap', 'STARmap']"
   ]
  },
  {
   "cell_type": "markdown",
   "metadata": {},
   "source": [
    "# QC"
   ]
  },
  {
   "cell_type": "markdown",
   "metadata": {},
   "source": [
    "## cells"
   ]
  },
  {
   "cell_type": "code",
   "execution_count": null,
   "metadata": {},
   "outputs": [],
   "source": [
    "adata.obs"
   ]
  },
  {
   "cell_type": "code",
   "execution_count": null,
   "metadata": {},
   "outputs": [],
   "source": [
    "# voluume & total counts\n",
    "sns.jointplot(data=adata.obs, x='area', y='total_counts', hue='sample', alpha=0.7)\n",
    "# sns.violinplot(data=adata.obs, x='sample', y='area')\n",
    "# sns.violinplot(data=adata.obs, x='sample', y='total_counts')"
   ]
  },
  {
   "cell_type": "code",
   "execution_count": null,
   "metadata": {},
   "outputs": [],
   "source": [
    "# n_genes in cell\n",
    "sns.violinplot(data=adata.obs, x='sample', y='log1p_n_genes_by_counts')"
   ]
  },
  {
   "cell_type": "code",
   "execution_count": null,
   "metadata": {},
   "outputs": [],
   "source": [
    "adata.obs['density'] = adata.obs['total_counts'] / adata.obs['area']"
   ]
  },
  {
   "cell_type": "markdown",
   "metadata": {},
   "source": [
    "## genes\n",
    "added sample specific attributes"
   ]
  },
  {
   "cell_type": "code",
   "execution_count": null,
   "metadata": {},
   "outputs": [],
   "source": [
    "# mean counts, n cells by counts, max counts\n",
    "sample_list = ['RIBOmap', 'STARmap']\n",
    "for s in sample_list:\n",
    "    mean_counts = np.mean(adata.X[adata.obs['sample']==s], axis=0)\n",
    "    max_counts = np.amax(adata.X[adata.obs['sample']==s], axis=0)\n",
    "    n_cells_by_counts = np.count_nonzero(adata.X[adata.obs['sample']==s], axis=0)\n",
    "    adata.var['mean_counts_'+s] = mean_counts\n",
    "    adata.var['max_counts_'+s] = max_counts\n",
    "    adata.var['n_cells_by_counts_'+s] = n_cells_by_counts\n",
    "adata.var"
   ]
  },
  {
   "cell_type": "code",
   "execution_count": null,
   "metadata": {},
   "outputs": [],
   "source": [
    "# genes mean expression\n",
    "plt.hist([adata.var['mean_counts_RIBOmap'], adata.var['mean_counts_STARmap']], bins=50, log=True, label=sample_list, histtype='step', rwidth=1)\n",
    "plt.xlabel('mean expression'), plt.legend()"
   ]
  },
  {
   "cell_type": "code",
   "execution_count": null,
   "metadata": {},
   "outputs": [],
   "source": [
    "# gene n_cells_by_counts\n",
    "plt.hist([adata.var['n_cells_by_counts_RIBOmap'], adata.var['n_cells_by_counts_STARmap']], bins=50, label=sample_list, histtype='step')\n",
    "plt.xlabel('n_cells_by_counts_'), plt.legend()"
   ]
  },
  {
   "cell_type": "markdown",
   "metadata": {},
   "source": [
    "# Filtering"
   ]
  },
  {
   "cell_type": "markdown",
   "metadata": {},
   "source": [
    "### filter cells\n",
    "volume, total_reads, density"
   ]
  },
  {
   "cell_type": "code",
   "execution_count": null,
   "metadata": {},
   "outputs": [],
   "source": [
    "# filter by volume\n",
    "sns.histplot(data=adata.obs, hue='sample', x='area', linewidth=0)\n",
    "thres_vol_lower = 0.5e6\n",
    "thres_vol_higher = 2e6\n",
    "plt.axvline(x=thres_vol_lower, c='slategrey')\n",
    "plt.axvline(x=thres_vol_higher, c='slategrey')\n",
    "\n",
    "pass_vol = [1 if area<thres_vol_higher and area>thres_vol_lower else 0 for area in adata.obs['area']]\n",
    "adata.obs['pass_volume_filter'] = pass_vol"
   ]
  },
  {
   "cell_type": "code",
   "execution_count": null,
   "metadata": {},
   "outputs": [],
   "source": [
    "# filter by total_reads\n",
    "sns.histplot(data=adata.obs, hue='sample', x='total_counts', linewidth=0)\n",
    "thres_tr_lower_RIBO = 300\n",
    "thres_tr_higher_RIBO = 3500\n",
    "plt.axvline(x=thres_tr_lower_RIBO, c='lightskyblue')\n",
    "plt.axvline(x=thres_tr_higher_RIBO, c='lightskyblue')\n",
    "\n",
    "thres_tr_lower_STAR = 500\n",
    "thres_tr_higher_STAR = 6000\n",
    "plt.axvline(x=thres_tr_lower_STAR, c='orange')\n",
    "plt.axvline(x=thres_tr_higher_STAR, c='orange')\n",
    "\n",
    "pass_tr_RIBO = [1 if area<thres_tr_higher_RIBO and area>thres_tr_lower_RIBO else 0 for area in adata.obs[adata.obs['sample']=='RIBOmap']['total_counts']]\n",
    "pass_tr_STAR = [1 if area<thres_tr_higher_STAR and area>thres_tr_lower_STAR else 0 for area in adata.obs[adata.obs['sample']=='STARmap']['total_counts']]\n",
    "pass_tr = pass_tr_RIBO + pass_tr_STAR\n",
    "adata.obs['pass_counts_filter'] = pass_tr"
   ]
  },
  {
   "cell_type": "code",
   "execution_count": null,
   "metadata": {},
   "outputs": [],
   "source": [
    "adata.obs['pass_two_filters'] = np.logical_and(adata.obs['pass_volume_filter'], adata.obs['pass_counts_filter'])"
   ]
  },
  {
   "cell_type": "code",
   "execution_count": null,
   "metadata": {},
   "outputs": [],
   "source": [
    "# check density after filtering\n",
    "sns.histplot(data=adata.obs[adata.obs['pass_two_filters']], x='sample', y='density', hue='sample')\n",
    "star_dens_thres = 0.00055\n",
    "plt.axhline(y=star_dens_thres, c='slategray')\n",
    "pass_dens = [1 if dens > star_dens_thres else 0 for dens in adata.obs['density']]\n",
    "adata.obs['pass_density_filter'] = pass_dens"
   ]
  },
  {
   "cell_type": "code",
   "execution_count": null,
   "metadata": {},
   "outputs": [],
   "source": [
    "adata.obs['pass_all_filters'] = np.logical_and(adata.obs['pass_two_filters'], adata.obs['pass_density_filter'])"
   ]
  },
  {
   "cell_type": "code",
   "execution_count": null,
   "metadata": {},
   "outputs": [],
   "source": [
    "# sns.violinplot(data=adata.obs[adata.obs['pass_all_filters']], x='sample', y='total_counts', legend=False).set_title('after filtering')\n",
    "# sns.despine()\n",
    "# plt.savefig(rpath+'/figures/expl_stats/total_counts.pdf')"
   ]
  },
  {
   "cell_type": "markdown",
   "metadata": {},
   "source": [
    "### filter genes\n",
    "% cells expressed + max_count"
   ]
  },
  {
   "cell_type": "code",
   "execution_count": null,
   "metadata": {},
   "outputs": [],
   "source": [
    "# low abundance genes\n",
    "plt.hist([np.mean(adata.X[np.logical_and(adata.obs['sample']=='RIBOmap', adata.obs['pass_all_filters'])], axis=0), \n",
    "            np.mean(adata.X[np.logical_and(adata.obs['sample']=='STARmap', adata.obs['pass_all_filters'])], axis=0)], \n",
    "            range=(0,8), bins=50, log=True, label=sample_list, histtype='step', rwidth=1)\n",
    "plt.xlabel('mean expression (lower end, after cell filtering)'), plt.legend()"
   ]
  },
  {
   "cell_type": "code",
   "execution_count": null,
   "metadata": {},
   "outputs": [],
   "source": [
    "sample_list = ['RIBOmap', 'STARmap']\n",
    "test_thres_expr = [0.5, 1]\n",
    "for s in sample_list:\n",
    "    print(s, ': ')\n",
    "    X_s = adata.X[np.logical_and(adata.obs['sample']==s, adata.obs['pass_all_filters'])]\n",
    "    mean_ct = np.mean(X_s, axis=0)  \n",
    "    for thres in test_thres_expr:\n",
    "        below = np.count_nonzero(mean_ct<thres)\n",
    "        print('n_genes mean_counts < {0}: {1}'.format(thres, below))"
   ]
  },
  {
   "cell_type": "code",
   "execution_count": null,
   "metadata": {},
   "outputs": [],
   "source": [
    "sample_list = ['RIBOmap', 'STARmap']\n",
    "pct_cell = [0.1, 0.1]\n",
    "ct_thres = [2, 4] \n",
    "for i, s in enumerate(sample_list):\n",
    "    X_s = adata.X[np.logical_and(adata.obs['sample']==s, adata.obs['pass_all_filters'])] # filter based on filtered cells\n",
    "    f1 = np.count_nonzero(X_s, axis=0) > pct_cell[i]*X_s.shape[0]  # filter-1\n",
    "    f2 = np.amax(X_s, axis=0) > ct_thres[i] # filter-2\n",
    "    f = np.logical_and(f1, f2)\n",
    "    print('{0} threshold: expressed in at least {1}%% cells AND max expression in a cell greater than {2}'.format(s, pct_cell[i]*100, ct_thres[i]))\n",
    "    print('filtered out: {0} genes -- {1: .2f}%'.format(adata.n_vars - np.count_nonzero(f), (adata.n_vars - np.count_nonzero(f))/adata.n_vars))\n",
    "    adata.var['filter_'+s] = f\n",
    "adata.var['filter'] = np.logical_and(adata.var['filter_RIBOmap'], adata.var['filter_STARmap'])\n",
    "print('All together filtered out: {0} genes -- {1: .2f}%'.format(adata.n_vars - np.count_nonzero(adata.var['filter']), (adata.n_vars - np.count_nonzero(adata.var['filter']))/adata.n_vars))"
   ]
  },
  {
   "cell_type": "code",
   "execution_count": null,
   "metadata": {},
   "outputs": [],
   "source": [
    "# adata.write_h5ad(rpath+'/adata/FUCCI_cell_&_gene_filter_02-22-22.h5ad')"
   ]
  },
  {
   "cell_type": "markdown",
   "metadata": {},
   "source": [
    "# After filtering"
   ]
  },
  {
   "cell_type": "code",
   "execution_count": null,
   "metadata": {},
   "outputs": [],
   "source": [
    "adata = sc.read_h5ad(rpath+'/adata/FUCCI_cell_&_gene_filter_02-22-22.h5ad')\n",
    "adata"
   ]
  },
  {
   "cell_type": "code",
   "execution_count": null,
   "metadata": {},
   "outputs": [],
   "source": [
    "# cell volume, counts\n",
    "sns.jointplot(data=adata.obs, x='area', y='total_counts', hue='sample', alpha=0.7)"
   ]
  },
  {
   "cell_type": "code",
   "execution_count": null,
   "metadata": {},
   "outputs": [],
   "source": [
    "# genes mean expression\n",
    "plt.hist([adata.var['mean_counts_RIBOmap'], adata.var['mean_counts_STARmap']], bins=50, log=True, label=sample_list, histtype='step', rwidth=1)\n",
    "plt.xlabel('mean expression'), plt.legend()"
   ]
  },
  {
   "cell_type": "code",
   "execution_count": null,
   "metadata": {},
   "outputs": [],
   "source": [
    "# gene n_cells_by_counts\n",
    "plt.hist([adata.var['n_cells_by_counts_RIBOmap'], adata.var['n_cells_by_counts_STARmap']], bins=50, label=sample_list, histtype='step')\n",
    "plt.xlabel('n_cells_by_counts_'), plt.legend()"
   ]
  }
 ],
 "metadata": {
  "kernelspec": {
   "display_name": "Python 3 (ipykernel)",
   "language": "python",
   "name": "python3"
  },
  "language_info": {
   "codemirror_mode": {
    "name": "ipython",
    "version": 3
   },
   "file_extension": ".py",
   "mimetype": "text/x-python",
   "name": "python",
   "nbconvert_exporter": "python",
   "pygments_lexer": "ipython3",
   "version": "3.8.12"
  },
  "vscode": {
   "interpreter": {
    "hash": "31f2aee4e71d21fbe5cf8b01ff0e069b9275f58929596ceb00d14d90e3e16cd6"
   }
  }
 },
 "nbformat": 4,
 "nbformat_minor": 4
}
